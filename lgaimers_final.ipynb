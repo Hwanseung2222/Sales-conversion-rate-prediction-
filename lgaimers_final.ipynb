{
 "cells": [
  {
   "cell_type": "markdown",
   "id": "017e9265",
   "metadata": {},
   "source": [
    "# ***💕영업 성공 여부 분류 경진대회💕***"
   ]
  },
  {
   "cell_type": "markdown",
   "id": "734ac8ea",
   "metadata": {},
   "source": [
    "* [0. Install Library](#0.-Install-Library)\n",
    "* [1. Read Data](#1.-Read-Data)\n",
    "* [2. EDA & Data Preprocessing](#2.-EDA-&-Data-Preprocessing)\n",
    "* [3. Feature Engineering](#3.-Feature-Engineering)\n",
    "<!-- * [4. Model Tuning (Hyperparameter Optimization)](#4.-Model-Tuning-(Hyperparameter-Optimization))\n",
    "* [5. Model Ensemble](#5.-Model-Ensemble)\n",
    "* [6. Deployment](#6.-Deployment) -->"
   ]
  },
  {
   "cell_type": "markdown",
   "id": "15f984a0",
   "metadata": {},
   "source": [
    "***\n",
    "***"
   ]
  },
  {
   "cell_type": "markdown",
   "id": "bb4f19f0",
   "metadata": {},
   "source": [
    "# 0. Install Library"
   ]
  },
  {
   "cell_type": "code",
   "execution_count": 1,
   "id": "6c8e6e94",
   "metadata": {},
   "outputs": [],
   "source": [
    "#!pip install lightgbm\n",
    "#!pip install pycountry"
   ]
  },
  {
   "cell_type": "code",
   "execution_count": 2,
   "id": "d1426e34",
   "metadata": {},
   "outputs": [],
   "source": [
    "#!pip install lightgbm==3.3.3"
   ]
  },
  {
   "cell_type": "code",
   "execution_count": 3,
   "id": "4d53f5b7",
   "metadata": {},
   "outputs": [],
   "source": [
    "from tqdm import tqdm\n",
    "import re\n",
    "import gc\n",
    "import pandas as pd\n",
    "import numpy as np\n",
    "import warnings\n",
    "\n",
    "from sklearn.cluster import KMeans\n",
    "from kmodes.kmodes import KModes\n",
    "from sklearn.metrics import (\n",
    "    accuracy_score,\n",
    "    confusion_matrix,\n",
    "    f1_score,\n",
    "    precision_score,\n",
    "    recall_score,\n",
    ")\n",
    "\n",
    "import lightgbm as lgb\n",
    "\n",
    "from sklearn.model_selection import KFold, StratifiedKFold\n",
    "from sklearn.model_selection import train_test_split\n",
    "from sklearn.tree import DecisionTreeClassifier\n",
    "from catboost import CatBoostClassifier\n",
    "\n",
    "import matplotlib.pyplot as plt\n",
    "import seaborn as sns"
   ]
  },
  {
   "cell_type": "code",
   "execution_count": 4,
   "id": "d50c4dde",
   "metadata": {},
   "outputs": [
    {
     "name": "stdout",
     "output_type": "stream",
     "text": [
      "3.3.3\n"
     ]
    }
   ],
   "source": [
    "print(lgb.__version__)"
   ]
  },
  {
   "cell_type": "code",
   "execution_count": 5,
   "id": "8c12f07f",
   "metadata": {},
   "outputs": [],
   "source": [
    "import os\n",
    "import random\n",
    "def seed_everything(seed):\n",
    "    random.seed(seed)\n",
    "    os.environ['PYTHONHASHSEED'] = str(seed)\n",
    "    np.random.seed(seed)\n",
    "    \n",
    "seed_everything(42) # Seed 고정"
   ]
  },
  {
   "cell_type": "code",
   "execution_count": 6,
   "id": "c079ec3f",
   "metadata": {},
   "outputs": [],
   "source": [
    "pd.set_option('mode.chained_assignment', None)\n",
    "warnings.filterwarnings(action='ignore')"
   ]
  },
  {
   "cell_type": "markdown",
   "id": "83ad7ec9",
   "metadata": {},
   "source": [
    "***\n",
    "***"
   ]
  },
  {
   "cell_type": "markdown",
   "id": "acdab431",
   "metadata": {},
   "source": [
    "# 1. Read Data"
   ]
  },
  {
   "cell_type": "markdown",
   "id": "412f98cc",
   "metadata": {},
   "source": [
    "### 데이터 셋 읽어오기"
   ]
  },
  {
   "cell_type": "code",
   "execution_count": 7,
   "id": "73f4c64c",
   "metadata": {},
   "outputs": [
    {
     "name": "stdout",
     "output_type": "stream",
     "text": [
      "train : 59299  / test : 5271\n",
      "중복 값 : 3519\n",
      "중복 제거 후 : 55780\n"
     ]
    }
   ],
   "source": [
    "df_train = pd.read_csv(\"train.csv\") # 학습용 데이터\n",
    "df_test = pd.read_csv(\"submission.csv\") # 테스트 데이터(제출파일의 데이터)\n",
    "print('train :',len(df_train), ' / test :',len(df_test))\n",
    "print('중복 값 :',len(df_train[df_train.duplicated()]))\n",
    "df_train = df_train.drop_duplicates()\n",
    "df_train = df_train.reset_index(drop=True)\n",
    "print('중복 제거 후 :',len(df_train))"
   ]
  },
  {
   "cell_type": "markdown",
   "id": "28cbba2a",
   "metadata": {},
   "source": [
    "모든 컬럼 동일하지만 타겟 값이 다른 값 이상치 판단."
   ]
  },
  {
   "cell_type": "code",
   "execution_count": 8,
   "id": "d6003dad",
   "metadata": {},
   "outputs": [
    {
     "name": "stdout",
     "output_type": "stream",
     "text": [
      "중복 값 : 38\n",
      "중복 제거 후 : 55742\n"
     ]
    }
   ],
   "source": [
    "print('중복 값 :',len(df_train[df_train.drop(columns = 'is_converted').duplicated(keep=False)]))\n",
    "df_train = df_train.drop(df_train[df_train.drop(columns = 'is_converted').duplicated(keep=False)].index)\n",
    "df_train = df_train.reset_index(drop=True)\n",
    "print('중복 제거 후 :',len(df_train))"
   ]
  },
  {
   "cell_type": "code",
   "execution_count": 9,
   "id": "086bd7f2",
   "metadata": {},
   "outputs": [],
   "source": [
    "df_raw = df_train.copy()\n",
    "df_test_raw = pd.read_csv(\"submission.csv\")"
   ]
  },
  {
   "cell_type": "markdown",
   "id": "26d9a03d",
   "metadata": {},
   "source": [
    "***\n",
    "***"
   ]
  },
  {
   "cell_type": "markdown",
   "id": "e6f2236f",
   "metadata": {},
   "source": [
    "# 2. EDA & Data Preprocessing"
   ]
  },
  {
   "cell_type": "markdown",
   "id": "c8fbbdf5",
   "metadata": {},
   "source": [
    "* [1. bant_submit](#1.-bant_submit)\n",
    "* [2. customer_country](#2.-customer_country)\n",
    "* [3. business_unit](#3.-business_unit)\n",
    "* [4. com_reg_ver_win_rate](#4.-com_reg_ver_win_rate)\n",
    "* [5. customer_idx](#5.-customer_idx)\n",
    "* [6. customer_type](#6.-customer_type)\n",
    "* [7. enterprise](#7.-enterprise)\n",
    "* [8. historical_existing_cnt](#8.-historical_existing_cnt)\n",
    "* [9. id_strategic_ver](#9.-id_strategic_ver)\n",
    "* [10. it_strategic_ver](#10.-it_strategic_ver)\n",
    "* [11. idit_strategic_ver](#11.-idit_strategic_ver)\n",
    "* [12. customer_job](#12.-customer_job)\n",
    "* [13. lead_desc_length](#13.-lead_desc_length)\n",
    "* [14. inquiry_type](#14.-inquiry_type)\n",
    "* [15. product_category](#15.-product_category)\n",
    "* [16. product_subcategory](#16.-product_subcategory)\n",
    "* [17. product_modelname](#17.-product_modelname)\n",
    "* [18. customer_country.1](#18.-customer_country.1)\n",
    "* [19. customer_position](#19.-customer_position)\n",
    "* [20. response_corporate](#20.-response_corporate)\n",
    "* [21. expected_timeline](#21.-expected_timeline)\n",
    "* [22. ver_cus](#22.-ver_cus)\n",
    "* [23. ver_pro](#23.-ver_pro)\n",
    "* [24. ver_win_rate_x](#24.-ver_win_rate_x)\n",
    "* [25. ver_win_ratio_per_bu](#25.-ver_win_ratio_per_bu)\n",
    "* [26. business_area](#26.-business_area)\n",
    "* [27. business_subarea](#27.-business_subarea)\n",
    "* [28. lead_owner](#28.-lead_owner)\n",
    "* [29. is_converted](#29.-is_converted)"
   ]
  },
  {
   "cell_type": "markdown",
   "id": "3cf5ebac",
   "metadata": {},
   "source": [
    "***\n",
    "***"
   ]
  },
  {
   "cell_type": "markdown",
   "id": "0413e4a4",
   "metadata": {},
   "source": [
    "## ***1. bant_submit***\n",
    "MQL 구성 요소들 중 [1]Budget(예산), [2]Title(고객의 직책/직급), [3]Needs(요구사항), [4]Timeline(희망 납기일) 4가지 항목에 대해서 작성된 값의 비율"
   ]
  },
  {
   "cell_type": "code",
   "execution_count": 10,
   "id": "e8808365",
   "metadata": {},
   "outputs": [
    {
     "data": {
      "text/plain": [
       "0"
      ]
     },
     "execution_count": 10,
     "metadata": {},
     "output_type": "execute_result"
    }
   ],
   "source": [
    "df_train['bant_submit'].isnull().sum()"
   ]
  },
  {
   "cell_type": "code",
   "execution_count": 11,
   "id": "71bd1c26",
   "metadata": {},
   "outputs": [
    {
     "data": {
      "text/plain": [
       "bant_submit\n",
       "0.50    16491\n",
       "1.00    16395\n",
       "0.75    11383\n",
       "0.25    10968\n",
       "0.00      505\n",
       "Name: count, dtype: int64"
      ]
     },
     "execution_count": 11,
     "metadata": {},
     "output_type": "execute_result"
    }
   ],
   "source": [
    "df_train['bant_submit'].value_counts()"
   ]
  },
  {
   "cell_type": "markdown",
   "id": "6d134e0d",
   "metadata": {},
   "source": [
    "***\n",
    "***"
   ]
  },
  {
   "cell_type": "markdown",
   "id": "9ecfc8ab",
   "metadata": {},
   "source": [
    "## ***2. customer_country***\n",
    "고객의 국적"
   ]
  },
  {
   "cell_type": "markdown",
   "id": "e453c4b6",
   "metadata": {},
   "source": [
    "결측값 대체 불가 -> 'unknown'으로 지정  \n",
    "type str로 수정"
   ]
  },
  {
   "cell_type": "code",
   "execution_count": 12,
   "id": "79e74124",
   "metadata": {},
   "outputs": [],
   "source": [
    "df_train['customer_country'] = df_train['customer_country'].apply(lambda x: re.sub(r'\\s+', ' ', x) if isinstance(x, str) else x)\n",
    "df_test['customer_country'] = df_test['customer_country'].apply(lambda x: re.sub(r'\\s+', ' ', x) if isinstance(x, str) else x)"
   ]
  },
  {
   "cell_type": "code",
   "execution_count": 13,
   "id": "7248a557",
   "metadata": {},
   "outputs": [],
   "source": [
    "df_train['customer_country'] = df_train['customer_country'].apply(lambda x: re.sub(r'\\s*/\\s*', '/', x) if isinstance(x, str) else x)\n",
    "df_test['customer_country'] = df_test['customer_country'].apply(lambda x: re.sub(r'\\s*/\\s*', '/', x) if isinstance(x, str) else x)"
   ]
  },
  {
   "cell_type": "markdown",
   "id": "5c2cff83",
   "metadata": {},
   "source": [
    "  "
   ]
  },
  {
   "cell_type": "code",
   "execution_count": 14,
   "id": "f5bf9e4f",
   "metadata": {},
   "outputs": [],
   "source": [
    "df_train['customer_country2'] = df_train['customer_country'].copy()\n",
    "df_test['customer_country2'] = df_test['customer_country'].copy()"
   ]
  },
  {
   "cell_type": "code",
   "execution_count": 15,
   "id": "4dfab890",
   "metadata": {},
   "outputs": [
    {
     "data": {
      "text/plain": [
       "974"
      ]
     },
     "execution_count": 15,
     "metadata": {},
     "output_type": "execute_result"
    }
   ],
   "source": [
    "df_train['customer_country'].isnull().sum()"
   ]
  },
  {
   "cell_type": "code",
   "execution_count": 16,
   "id": "4cb36687",
   "metadata": {},
   "outputs": [],
   "source": [
    "#customer_country NAN\n",
    "df_train['customer_country'] = df_train['customer_country'].fillna('Unknown')\n",
    "df_test['customer_country'] = df_test['customer_country'].fillna('Unknown')\n",
    "\n",
    "df_train['customer_country'] = df_train['customer_country'].astype(str)\n",
    "df_test['customer_country'] = df_test['customer_country'].astype(str)"
   ]
  },
  {
   "cell_type": "markdown",
   "id": "3763cbc5",
   "metadata": {},
   "source": [
    "* Email 정리."
   ]
  },
  {
   "cell_type": "code",
   "execution_count": 17,
   "id": "31e835b9",
   "metadata": {},
   "outputs": [],
   "source": [
    "df_train.loc[(df_train['customer_country'].str.contains('@', case=True, na=False)) & (df_train['customer_country'].str.contains('India', case=True, na=False)),'customer_country'] = 'India'\n",
    "df_train.loc[(df_train['customer_country'].str.contains('@', case=True, na=False)) & (df_train['customer_country'].str.contains('Brazil', case=True, na=False)),'customer_country'] = 'Brazil'\n",
    "df_train.loc[(df_train['customer_country'].str.contains('@', case=True, na=False)) & (df_train['customer_country'].str.contains('Chile', case=True, na=False)),'customer_country'] = 'Chile'\n",
    "df_train.loc[(df_train['customer_country'].str.contains('@', case=True, na=False)) & (df_train['customer_country'].str.contains('Colombia', case=True, na=False)),'customer_country'] = 'Colombia'\n",
    "df_train.loc[(df_train['customer_country'].str.contains('@', case=True, na=False)) & (df_train['customer_country'].str.contains('Italy', case=True, na=False)),'customer_country'] = 'Italy'\n",
    "df_train.loc[(df_train['customer_country'].str.contains('@', case=True, na=False)) & (df_train['customer_country'].str.contains('Mexico', case=True, na=False)),'customer_country'] = 'Mexico'"
   ]
  },
  {
   "cell_type": "code",
   "execution_count": 18,
   "id": "d6ca275e",
   "metadata": {},
   "outputs": [],
   "source": [
    "df_test.loc[(df_test['customer_country'].str.contains('@', case=True, na=False)) & (df_test['customer_country'].str.contains('India', case=True, na=False)),'customer_country'] = 'India'\n",
    "df_test.loc[(df_test['customer_country'].str.contains('@', case=True, na=False)) & (df_test['customer_country'].str.contains('Brazil', case=True, na=False)),'customer_country'] = 'Brazil'\n",
    "df_test.loc[(df_test['customer_country'].str.contains('@', case=True, na=False)) & (df_test['customer_country'].str.contains('Chile', case=True, na=False)),'customer_country'] = 'Chile'\n",
    "df_test.loc[(df_test['customer_country'].str.contains('@', case=True, na=False)) & (df_test['customer_country'].str.contains('Colombia', case=True, na=False)),'customer_country'] = 'Colombia'\n",
    "df_test.loc[(df_test['customer_country'].str.contains('@', case=True, na=False)) & (df_test['customer_country'].str.contains('Italy', case=True, na=False)),'customer_country'] = 'Italy'\n",
    "df_test.loc[(df_test['customer_country'].str.contains('@', case=True, na=False)) & (df_test['customer_country'].str.contains('Mexico', case=True, na=False)),'customer_country'] = 'Mexico'"
   ]
  },
  {
   "cell_type": "code",
   "execution_count": 19,
   "id": "ece3d8b8",
   "metadata": {},
   "outputs": [],
   "source": [
    "df_train.loc[df_train['customer_country'].str.contains('@', case=True, na=False), 'customer_country'] = 'Egypt'\n",
    "df_test.loc[df_test['customer_country'].str.contains('@', case=True, na=False), 'customer_country'] = 'Egypt'"
   ]
  },
  {
   "cell_type": "markdown",
   "id": "76f16e71",
   "metadata": {},
   "source": [
    "* 국가명으로 정리."
   ]
  },
  {
   "cell_type": "code",
   "execution_count": 20,
   "id": "e34de28f",
   "metadata": {},
   "outputs": [],
   "source": [
    "import pycountry\n",
    "\n",
    "# 모든 국가 정보 얻기\n",
    "all_countries = list(pycountry.countries)\n",
    "country_names_lst = [country.name for country in all_countries]\n",
    "\n",
    "country_names_lst = [name.replace('Türkiye', 'Turkey') for name in country_names_lst]\n",
    "country_names_lst = [name.replace('Viet Nam', 'VietNam') for name in country_names_lst]\n",
    "country_names_lst = [name.replace('Tanzania, United Republic of', 'Tanzania') for name in country_names_lst]\n",
    "country_names_lst = [name.replace(\"Korea, Republic of\", 'Korea') for name in country_names_lst]\n",
    "country_names_lst = [name.replace(\"Czechia\", 'Czech') for name in country_names_lst]\n",
    "country_names_lst = [name.replace('Bolivia, Plurinational State of', 'Bolivia') for name in country_names_lst]\n",
    "# virgin island 는 통일\n",
    "country_names_lst.remove('Virgin Islands, British')\n",
    "country_names_lst.remove('Virgin Islands, U.S.')\n",
    "country_names_lst.remove('Niger')\n",
    "country_names_lst.remove('Dominican Republic')\n",
    "country_names_lst.append('Virgin Islands')\n",
    "###\n",
    "country_names_lst = [name.replace(\"Venezuela, Bolivarian Republic of\", 'Venezuela') for name in country_names_lst]\n",
    "country_names_lst = [name.replace(\"Iran, Islamic Republic of\", 'Iran') for name in country_names_lst]\n",
    "country_names_lst = [name.replace(\"Taiwan, Province of China\", 'Taiwan') for name in country_names_lst]\n",
    "country_names_lst = [name.replace(\"Russian Federation\", 'Russia') for name in country_names_lst]\n",
    "country_names_lst = [name.replace(\"Côte d'Ivoire\", 'Ivory Coast') for name in country_names_lst]\n",
    "country_names_lst = [name.replace(\"North Macedonia\", 'Macedonia') for name in country_names_lst]\n",
    "country_names_lst = [name.replace(\"Brunei Darussalam\", 'Brunei') for name in country_names_lst]\n",
    "country_names_lst = [name.replace(\"Palestine, State of\", 'Palestine') for name in country_names_lst]\n",
    "country_names_lst = [name.replace(\"Antigua and Barbuda\", 'Antigua') for name in country_names_lst]\n",
    "country_names_lst = [name.replace(\"Syrian Arab Republic\", 'Syria') for name in country_names_lst]\n",
    "country_names_lst = [name.replace(\"Lao People's Democratic Republic\", 'Laos') for name in country_names_lst]\n",
    "country_names_lst = [name.replace(\"Saint Kitts and Nevis\", 'Saint Kitts') for name in country_names_lst]\n",
    "country_names_lst = [name.replace(\"Saint Martin (French part)\", 'Saint Martin') for name in country_names_lst]\n",
    "country_names_lst.append('Kosovo')\n",
    "country_names_lst.append('Swaziland')"
   ]
  },
  {
   "cell_type": "code",
   "execution_count": 21,
   "id": "914c480d",
   "metadata": {},
   "outputs": [
    {
     "name": "stderr",
     "output_type": "stream",
     "text": [
      "100%|██████████| 248/248 [00:05<00:00, 42.46it/s]\n"
     ]
    }
   ],
   "source": [
    "for country_name in tqdm(country_names_lst):\n",
    "    condition = df_train['customer_country'].str.contains(country_name, case=False, na=False)\n",
    "    df_train.loc[condition, 'customer_country'] = country_name\n",
    "\n",
    "    condition = df_test['customer_country'].str.contains(country_name, case=False, na=False)\n",
    "    df_test.loc[condition, 'customer_country'] = country_name"
   ]
  },
  {
   "cell_type": "markdown",
   "id": "4617e7e2",
   "metadata": {},
   "source": [
    "### *주요도시 기반 cleansing*"
   ]
  },
  {
   "cell_type": "code",
   "execution_count": 22,
   "id": "0b694672",
   "metadata": {},
   "outputs": [],
   "source": [
    "# 튀르키예\n",
    "df_train.loc[df_train['customer_country'].str.contains('Türkiye', case=False, na=False), 'customer_country'] = 'Turkey'\n",
    "df_test.loc[df_test['customer_country'].str.contains('Türkiye', case=False, na=False), 'customer_country'] = 'Turkey'\n",
    "\n",
    "# 미국 EE. UU. 로 표기\n",
    "df_train.loc[df_train['customer_country'].str.contains('EE. UU.', case=True, na=False), 'customer_country'] = 'United States'\n",
    "df_test.loc[df_test['customer_country'].str.contains('EE. UU.', case=True, na=False), 'customer_country'] = 'United States'\n",
    "\n",
    "# 발렌수엘라 (필리핀 섬)\n",
    "df_train.loc[df_train['customer_country'].str.contains('Valenzuela', case=True, na=False), 'customer_country'] = 'Philippines'\n",
    "df_test.loc[df_test['customer_country'].str.contains('Valenzuela', case=True, na=False), 'customer_country'] = 'Philippines'\n",
    "\n",
    "# 중국 상해\n",
    "df_train.loc[df_train['customer_country'].str.contains('上海', case=True, na=False), 'customer_country'] = 'China'\n",
    "df_test.loc[df_test['customer_country'].str.contains('上海', case=True, na=False), 'customer_country'] = 'China'\n",
    "\n",
    "# 아랍에미리트\n",
    "df_train.loc[df_train['customer_country'].str.contains('U\\.A\\.E', case=True, na=False), 'customer_country'] = 'United Arab Emirates'\n",
    "df_test.loc[df_test['customer_country'].str.contains('U\\.A\\.E', case=True, na=False), 'customer_country'] = 'United Arab Emirates'\n",
    "\n",
    "#코트디부아르\n",
    "df_train.loc[df_train['customer_country'].str.contains(\"Cote d'Ivoire\", case=True, na=False), 'customer_country'] = 'Ivory Coast'\n",
    "df_test.loc[df_test['customer_country'].str.contains(\"Cote d'Ivoire\", case=True, na=False), 'customer_country'] = 'Ivory Coast'\n",
    "\n",
    "#세인트루시아\n",
    "df_train.loc[df_train['customer_country'].str.contains(\"Soufriere\", case=True, na=False), 'customer_country'] = 'Saint Lucia'\n",
    "df_test.loc[df_test['customer_country'].str.contains(\"Soufriere\", case=True, na=False), 'customer_country'] = 'Saint Lucia'\n",
    "\n",
    "# 대만\n",
    "df_train.loc[df_train['customer_country'].str.contains(\"Taipei\", case=True, na=False), 'customer_country'] = 'Taiwan'\n",
    "df_test.loc[df_test['customer_country'].str.contains(\"Taipei\", case=True, na=False), 'customer_country'] = 'Taiwan'\n",
    "\n",
    "#세인트키츠\n",
    "df_train.loc[df_train['customer_country'].str.contains(\"St Kitts\", case=True, na=False), 'customer_country'] = 'Saint Kitts'\n",
    "df_test.loc[df_test['customer_country'].str.contains(\"St Kitts\", case=True, na=False), 'customer_country'] = 'Saint Kitts'\n",
    "\n",
    "#세인트 마르턴\n",
    "df_train.loc[df_train['customer_country'].str.contains(\"St Maarten\", case=True, na=False), 'customer_country'] = 'Saint Martin'\n",
    "df_test.loc[df_test['customer_country'].str.contains(\"St Maarten\", case=True, na=False), 'customer_country'] = 'Saint Martin'\n",
    "\n",
    "# Australia\n",
    "df_train.loc[df_train['customer_country'].str.contains(\"Daydream Island\", case=True, na=False), 'customer_country'] = 'Australia'\n",
    "df_test.loc[df_test['customer_country'].str.contains(\"Daydream Island\", case=True, na=False), 'customer_country'] = 'Australia'\n",
    "\n",
    "df_train.loc[df_train['customer_country'].str.contains(\"Kelvin Grove\", case=True, na=False), 'customer_country'] = 'Australia'\n",
    "df_test.loc[df_test['customer_country'].str.contains(\"Kelvin Grove\", case=True, na=False), 'customer_country'] = 'Australia'\n",
    "\n",
    "# Fiji\n",
    "df_train.loc[df_train['customer_country'].str.contains(\"Suva\", case=True, na=False), 'customer_country'] = 'Fiji'\n",
    "df_test.loc[df_test['customer_country'].str.contains(\"Suva\", case=True, na=False), 'customer_country'] = 'Fiji'\n",
    "\n",
    "# Hungary\n",
    "df_train.loc[df_train['customer_country'].str.contains(\"Budapest\", case=True, na=False), 'customer_country'] = 'Hungary'\n",
    "df_test.loc[df_test['customer_country'].str.contains(\"Budapest\", case=True, na=False), 'customer_country'] = 'Hungary'\n",
    "\n",
    "# Armenia\n",
    "df_train.loc[df_train['customer_country'].str.contains(\"AVAN\", case=True, na=False), 'customer_country'] = 'Armenia'\n",
    "df_test.loc[df_test['customer_country'].str.contains(\"AVAN\", case=True, na=False), 'customer_country'] = 'Armenia'\n",
    "\n",
    "# Singapore\n",
    "df_train.loc[df_train['customer_country'].str.contains(\"Kallang Place\", case=True, na=False), 'customer_country'] = 'Singapore'\n",
    "df_test.loc[df_test['customer_country'].str.contains(\"Kallang Place\", case=True, na=False), 'customer_country'] = 'Singapore'\n",
    "\n",
    "# Jojia\n",
    "df_train.loc[df_train['customer_country'].str.contains(\"rbilisi\", case=True, na=False), 'customer_country'] = 'Jojia'\n",
    "df_test.loc[df_test['customer_country'].str.contains(\"rbilisi\", case=True, na=False), 'customer_country'] = 'Jojia'\n",
    "\n",
    "# VietNam\n",
    "df_train.loc[df_train['customer_country'].str.contains('Ha Noi', case=True, na=False), 'customer_country'] = 'VietNam'\n",
    "df_test.loc[df_test['customer_country'].str.contains('Ha Noi', case=True, na=False), 'customer_country'] = 'VietNam'\n",
    "\n",
    "# Colombia\n",
    "df_train.loc[df_train['customer_country'].str.contains('Cartagena', case=True, na=False), 'customer_country'] = 'Colombia'\n",
    "df_test.loc[df_test['customer_country'].str.contains('Cartagena', case=True, na=False), 'customer_country'] = 'Colombia'\n",
    "\n",
    "df_train.loc[df_train['customer_country'].str.contains('Bucaramanga', case=True, na=False), 'customer_country'] = 'Colombia'\n",
    "df_test.loc[df_test['customer_country'].str.contains('Bucaramanga', case=True, na=False), 'customer_country'] = 'Colombia'\n",
    "\n",
    "# Greece\n",
    "df_train.loc[df_train['customer_country'].str.contains('Θέση', case=True, na=False), 'customer_country'] = 'Greece'\n",
    "df_test.loc[df_test['customer_country'].str.contains('Θέση', case=True, na=False), 'customer_country'] = 'Greece'\n",
    "\n",
    "# UAE\n",
    "df_train.loc[df_train['customer_country'].str.contains(\"Dubai\", case=True, na=False), 'customer_country'] = 'United Arab Emirates'\n",
    "df_test.loc[df_test['customer_country'].str.contains(\"Dubai\", case=True, na=False), 'customer_country'] = 'United Arab Emirates'\n",
    "\n",
    "df_train.loc[df_train['customer_country'].str.contains(\"DUBAI\", case=True, na=False), 'customer_country'] = 'United Arab Emirates'\n",
    "df_test.loc[df_test['customer_country'].str.contains(\"DUBAI\", case=True, na=False), 'customer_country'] = 'United Arab Emirates'\n",
    "\n",
    "# Namibia\n",
    "df_train.loc[df_train['customer_country'].str.contains(\"Windhoek\", case=True, na=False), 'customer_country'] = 'Namibia'\n",
    "df_test.loc[df_test['customer_country'].str.contains(\"Windhoek\", case=True, na=False), 'customer_country'] = 'Namibia'\n",
    "\n",
    "# China\n",
    "df_train.loc[df_train['customer_country'].str.contains(\"shenzhen\", case=True, na=False), 'customer_country'] = 'China'\n",
    "df_test.loc[df_test['customer_country'].str.contains(\"shenzhen\", case=True, na=False), 'customer_country'] = 'China'\n",
    "\n",
    "# Japan\n",
    "df_train.loc[df_train['customer_country'].str.contains(\"Tokyo\", case=True, na=False), 'customer_country'] = 'Japan'\n",
    "df_test.loc[df_test['customer_country'].str.contains(\"Tokyo\", case=True, na=False), 'customer_country'] = 'Japan'\n",
    "\n",
    "# Switzerland\n",
    "df_train.loc[df_train['customer_country'].str.contains(\"Bergdietikon\", case=True, na=False), 'customer_country'] = 'Switzerland'\n",
    "df_test.loc[df_test['customer_country'].str.contains(\"Bergdietikon\", case=True, na=False), 'customer_country'] = 'Switzerland'\n",
    "\n",
    "# South Africa\n",
    "df_train.loc[df_train['customer_country'].str.contains(\"Midrand\", case=True, na=False), 'customer_country'] = 'South Africa'\n",
    "df_test.loc[df_test['customer_country'].str.contains(\"Midrand\", case=True, na=False), 'customer_country'] = 'South Africa'\n",
    "\n",
    "# Egypt\n",
    "df_train.loc[df_train['customer_country'].str.contains(\"Mohandessein\", case=True, na=False), 'customer_country'] = 'Egypt'\n",
    "df_test.loc[df_test['customer_country'].str.contains(\"Mohandessein\", case=True, na=False), 'customer_country'] = 'Egypt'\n",
    "\n",
    "df_train.loc[df_train['customer_country'].str.contains(\"Cairo\", case=True, na=False), 'customer_country'] = 'Egypt'\n",
    "df_test.loc[df_test['customer_country'].str.contains(\"Cairo\", case=True, na=False), 'customer_country'] = 'Egypt'\n",
    "\n",
    "# Indonesia\n",
    "df_train.loc[df_train['customer_country'].str.contains(\"Jakarta\", case=True, na=False), 'customer_country'] = 'Indonesia'\n",
    "df_test.loc[df_test['customer_country'].str.contains(\"Jakarta\", case=True, na=False), 'customer_country'] = 'Indonesia'\n",
    "\n",
    "# Nigeria\n",
    "df_train.loc[df_train['customer_country'].str.contains(\"Ikoyi\", case=True, na=False), 'customer_country'] = 'Nigeria'\n",
    "df_test.loc[df_test['customer_country'].str.contains(\"Ikoyi\", case=True, na=False), 'customer_country'] = 'Nigeria'\n",
    "\n",
    "df_train.loc[df_train['customer_country'].str.contains(\"Abuja\", case=True, na=False), 'customer_country'] = 'Nigeria'\n",
    "df_test.loc[df_test['customer_country'].str.contains(\"Abuja\", case=True, na=False), 'customer_country'] = 'Nigeria'\n",
    "\n",
    "# Luxembourg\n",
    "df_train.loc[df_train['customer_country'].str.contains(\"Esch-sur-Alzette\", case=True, na=False), 'customer_country'] = 'Luxembourg'\n",
    "df_test.loc[df_test['customer_country'].str.contains(\"Esch-sur-Alzette\", case=True, na=False), 'customer_country'] = 'Luxembourg'\n",
    "\n",
    "# Dominica\n",
    "df_train.loc[df_train['customer_country'].str.contains(\"Arroyo Hondo Viejo\", case=True, na=False), 'customer_country'] = 'Dominica'\n",
    "df_test.loc[df_test['customer_country'].str.contains(\"Arroyo Hondo Viejo\", case=True, na=False), 'customer_country'] = 'Dominica'\n",
    "\n",
    "df_train.loc[df_train['customer_country'].str.contains(\"Santo Domingo\", case=True, na=False), 'customer_country'] = 'Dominica'\n",
    "df_test.loc[df_test['customer_country'].str.contains(\"Santo Domingo\", case=True, na=False), 'customer_country'] = 'Dominica'\n",
    "\n",
    "# Poland\n",
    "df_train.loc[df_train['customer_country'].str.contains(\"Olsztyn\", case=True, na=False), 'customer_country'] = 'Poland'\n",
    "df_test.loc[df_test['customer_country'].str.contains(\"Olsztyn\", case=True, na=False), 'customer_country'] = 'Poland'\n",
    "\n",
    "df_train.loc[df_train['customer_country'].str.contains(\"Kielce\", case=True, na=False), 'customer_country'] = 'Poland'\n",
    "df_test.loc[df_test['customer_country'].str.contains(\"Kielce\", case=True, na=False), 'customer_country'] = 'Poland'\n",
    "\n",
    "df_train.loc[df_train['customer_country'].str.contains(\"Stalowa Wola\", case=True, na=False), 'customer_country'] = 'Poland'\n",
    "df_test.loc[df_test['customer_country'].str.contains(\"Stalowa Wola\", case=True, na=False), 'customer_country'] = 'Poland'\n",
    "\n",
    "df_train.loc[df_train['customer_country'].str.contains(\"Warszawska\", case=True, na=False), 'customer_country'] = 'Poland'\n",
    "df_test.loc[df_test['customer_country'].str.contains(\"Warszawska\", case=True, na=False), 'customer_country'] = 'Poland'\n",
    "\n",
    "# Norway\n",
    "df_train.loc[df_train['customer_country'].str.contains(\"Oslo\", case=True, na=False), 'customer_country'] = 'Norway'\n",
    "df_test.loc[df_test['customer_country'].str.contains(\"Oslo\", case=True, na=False), 'customer_country'] = 'Norway'\n",
    "\n",
    "# Jamaica\n",
    "df_train.loc[df_train['customer_country'].str.contains(\"Portmore\", case=True, na=False), 'customer_country'] = 'Jamaica'\n",
    "df_test.loc[df_test['customer_country'].str.contains(\"Portmore\", case=True, na=False), 'customer_country'] = 'Jamaica'\n",
    "\n",
    "# Mongolia\n",
    "df_train.loc[df_train['customer_country'].str.contains(\"Ulaanbaatar\", case=True, na=False), 'customer_country'] = 'Mongolia'\n",
    "df_test.loc[df_test['customer_country'].str.contains(\"Ulaanbaatar\", case=True, na=False), 'customer_country'] = 'Mongolia'\n",
    "\n",
    "# Germany\n",
    "df_train.loc[df_train['customer_country'].str.contains(\"Berlin\", case=True, na=False), 'customer_country'] = 'Germany'\n",
    "df_test.loc[df_test['customer_country'].str.contains(\"Berlin\", case=True, na=False), 'customer_country'] = 'Germany'\n",
    "\n",
    "df_train.loc[df_train['customer_country'].str.contains(\"Hamburg\", case=True, na=False), 'customer_country'] = 'Germany'\n",
    "df_test.loc[df_test['customer_country'].str.contains(\"Hamburg\", case=True, na=False), 'customer_country'] = 'Germany'\n",
    "\n",
    "df_train.loc[df_train['customer_country'].str.contains(\"Herdwangen-Schönach\", case=True, na=False), 'customer_country'] = 'Germany'\n",
    "df_test.loc[df_test['customer_country'].str.contains(\"Herdwangen-Schönach\", case=True, na=False), 'customer_country'] = 'Germany'\n",
    "\n",
    "df_train.loc[df_train['customer_country'].str.contains(\"Weikersheim\", case=True, na=False), 'customer_country'] = 'Germany'\n",
    "df_test.loc[df_test['customer_country'].str.contains(\"Weikersheim\", case=True, na=False), 'customer_country'] = 'Germany'\n",
    "\n",
    "# Bahamas\n",
    "df_train.loc[df_train['customer_country'].str.contains(\"Nassau\", case=True, na=False), 'customer_country'] = 'Bahamas'\n",
    "df_test.loc[df_test['customer_country'].str.contains(\"Nassau\", case=True, na=False), 'customer_country'] = 'Bahamas'\n",
    "\n",
    "# Uzbekistan\n",
    "df_train.loc[df_train['customer_country'].str.contains(\"Tashkent\", case=True, na=False), 'customer_country'] = 'Uzbekistan'\n",
    "df_test.loc[df_test['customer_country'].str.contains(\"Tashkent\", case=True, na=False), 'customer_country'] = 'Uzbekistan'\n",
    "\n",
    "# Qatar\n",
    "df_train.loc[df_train['customer_country'].str.contains(\"Almirqab\", case=True, na=False), 'customer_country'] = 'Qatar'\n",
    "df_test.loc[df_test['customer_country'].str.contains(\"Almirqab\", case=True, na=False), 'customer_country'] = 'Qatar'\n",
    "\n",
    "df_train.loc[df_train['customer_country'].str.contains(\"Doha\", case=True, na=False), 'customer_country'] = 'Qatar'\n",
    "df_test.loc[df_test['customer_country'].str.contains(\"Doha\", case=True, na=False), 'customer_country'] = 'Qatar'\n",
    "\n",
    "# Czech\n",
    "df_train.loc[df_train['customer_country'].str.contains(\"Králův Dvůr Levín\", case=True, na=False), 'customer_country'] = 'Czech'\n",
    "df_test.loc[df_test['customer_country'].str.contains(\"Králův Dvůr Levín\", case=True, na=False), 'customer_country'] = 'Czech'\n",
    "\n",
    "# Thailand\n",
    "df_train.loc[df_train['customer_country'].str.contains(\"Buengkum\", case=True, na=False), 'customer_country'] = 'Thailand'\n",
    "df_test.loc[df_test['customer_country'].str.contains(\"Buengkum\", case=True, na=False), 'customer_country'] = 'Thailand'\n",
    "\n",
    "# Iceland\n",
    "df_train.loc[df_train['customer_country'].str.contains(\"Gardabaer\", case=True, na=False), 'customer_country'] = 'Iceland'\n",
    "df_test.loc[df_test['customer_country'].str.contains(\"Gardabaer\", case=True, na=False), 'customer_country'] = 'Iceland'\n",
    "\n",
    "# Malaysia\n",
    "df_train.loc[df_train['customer_country'].str.contains(\"Shah Alam\", case=True, na=False), 'customer_country'] = 'Malaysia'\n",
    "df_test.loc[df_test['customer_country'].str.contains(\"Shah Alam\", case=True, na=False), 'customer_country'] = 'Malaysia'\n",
    "\n",
    "df_train.loc[df_train['customer_country'].str.contains(\"Kuala Lumpur\", case=True, na=False), 'customer_country'] = 'Malaysia'\n",
    "df_test.loc[df_test['customer_country'].str.contains(\"Kuala Lumpur\", case=True, na=False), 'customer_country'] = 'Malaysia'\n",
    "\n",
    "# Lesotho\n",
    "df_train.loc[df_train['customer_country'].str.contains(\"Maseru\", case=True, na=False), 'customer_country'] = 'Lesotho'\n",
    "df_test.loc[df_test['customer_country'].str.contains(\"Maseru\", case=True, na=False), 'customer_country'] = 'Lesotho'\n",
    "\n",
    "# Sri Lanka\n",
    "df_train.loc[df_train['customer_country'].str.contains(\"Colombo 03\", case=True, na=False), 'customer_country'] = 'Sri Lanka'\n",
    "df_test.loc[df_test['customer_country'].str.contains(\"Colombo 03\", case=True, na=False), 'customer_country'] = 'Sri Lanka'\n",
    "\n",
    "# Austria\n",
    "df_train.loc[df_train['customer_country'].str.contains(\"Klagenfurt\", case=True, na=False), 'customer_country'] = 'Austria'\n",
    "df_test.loc[df_test['customer_country'].str.contains(\"Klagenfurt\", case=True, na=False), 'customer_country'] = 'Austria'\n",
    "\n",
    "# Netherlands\n",
    "df_train.loc[df_train['customer_country'].str.contains(\"Den Haag\", case=True, na=False), 'customer_country'] = 'Netherlands'\n",
    "df_test.loc[df_test['customer_country'].str.contains(\"Den Haag\", case=True, na=False), 'customer_country'] = 'Netherlands'\n",
    "\n",
    "# Uganda\n",
    "df_train.loc[df_train['customer_country'].str.contains(\"Kampala\", case=True, na=False), 'customer_country'] = 'Uganda'\n",
    "df_test.loc[df_test['customer_country'].str.contains(\"Kampala\", case=True, na=False), 'customer_country'] = 'Uganda'\n",
    "\n",
    "# Aruba\n",
    "df_train.loc[df_train['customer_country'].str.contains(\"Paradera\", case=True, na=False), 'customer_country'] = 'Aruba'\n",
    "df_test.loc[df_test['customer_country'].str.contains(\"Paradera\", case=True, na=False), 'customer_country'] = 'Aruba'"
   ]
  },
  {
   "cell_type": "markdown",
   "id": "56341a0e",
   "metadata": {},
   "source": [
    "### *각국 도시 기반 Cleansing*"
   ]
  },
  {
   "cell_type": "code",
   "execution_count": 23,
   "id": "a22f38b2",
   "metadata": {},
   "outputs": [],
   "source": [
    "# Brazil 도시\n",
    "Brazil_lst = ['Sao Paulo', 'São Paulo', 'João Pessoa', 'Capão da canoa', 'Cuiabá', 'Buzios', 'Aparecida',\n",
    "             'Manaus', 'Foz de Iguaçu', 'Dourados', 'Recife', 'Rio de Janeiro']\n",
    "for i in Brazil_lst:\n",
    "    df_train.loc[df_train['customer_country'].str.contains(i, case=True, na=False), 'customer_country'] = 'Brazil'\n",
    "    df_test.loc[df_test['customer_country'].str.contains(i, case=True, na=False), 'customer_country'] = 'Brazil'\n",
    "    \n",
    "# Spain 도시\n",
    "Spain_lst = ['Madrid', 'MADRID', 'Barrio Viejo De Callosa De Segura', 'CACERES', 'VALENCIA', 'GRAN CANARIAS PLAYA DEL INGLES',\n",
    "             'ALICANTE'\n",
    "            ]\n",
    "for i in Spain_lst:\n",
    "    df_train.loc[df_train['customer_country'].str.contains(i, case=True, na=False), 'customer_country'] = 'Spain'\n",
    "    df_test.loc[df_test['customer_country'].str.contains(i, case=True, na=False), 'customer_country'] = 'Spain'\n",
    "    \n",
    "# Saudi Arabia 도시\n",
    "Saudi_Arabia_lst = ['Riyadh', 'riyadh', 'Makkah', 'Qatif'\n",
    "            ]\n",
    "for i in Saudi_Arabia_lst:\n",
    "    df_train.loc[df_train['customer_country'].str.contains(i, case=True, na=False), 'customer_country'] = 'Saudi Arabia'\n",
    "    df_test.loc[df_test['customer_country'].str.contains(i, case=True, na=False), 'customer_country'] = 'Saudi Arabia'\n",
    "    \n",
    "# Canada 도시\n",
    "Canada_lst = ['Dubreuilville', 'Port Renfrew', 'Alliston', 'Montreal', 'Etobicoke', 'Hamilton', 'Sandford'\n",
    "            ]\n",
    "for i in Canada_lst:\n",
    "    df_train.loc[df_train['customer_country'].str.contains(i, case=True, na=False), 'customer_country'] = 'Canada'\n",
    "    df_test.loc[df_test['customer_country'].str.contains(i, case=True, na=False), 'customer_country'] = 'Canada'\n",
    "    \n",
    "# VietNam 도시\n",
    "VietNam_lst = ['Hai Duong','Thai Binh'\n",
    "            ]\n",
    "for i in VietNam_lst:\n",
    "    df_train.loc[df_train['customer_country'].str.contains(i, case=True, na=False), 'customer_country'] = 'VietNam'\n",
    "    df_test.loc[df_test['customer_country'].str.contains(i, case=True, na=False), 'customer_country'] = 'VietNam'\n",
    "    \n",
    "# India 도시\n",
    "India_lst = ['Mumbai','mumbai','ROURKELA','udupi','bhilai','Ajmer','Satana','Jodhpur City','Bangalore','surat','BANGALORE','Ammanabrolu',\n",
    "             'Mysore','Muzaffarpur','Lucknow','Bemetara','Buldana','sangli','Kanpur','ahemdabad','Davangere','raipur','Dhanbad',\n",
    "             'bathinda','Jalgaon','namakkal', 'Guna mp', 'Hosapete','indore','Noida','hyderabad','Ludhiana', 'GUWAHATI','Delhi',\n",
    "             'Ahmedabad', 'Madurai', 'SOLAN', 'Bengaluru', 'Kanchipuram', 'Sangamner', 'Rajkot', 'Raichur', 'Bhubaneswar', 'Malur',\n",
    "             'Faridabad', 'Mathura', 'Vasai', 'kanpur', 'Ballia','MADURAI'\n",
    "            ]\n",
    "for i in India_lst:\n",
    "    df_train.loc[df_train['customer_country'].str.contains(i, case=True, na=False), 'customer_country'] = 'India'\n",
    "    df_test.loc[df_test['customer_country'].str.contains(i, case=True, na=False), 'customer_country'] = 'India'\n",
    "    \n",
    "# Philippines 도시\n",
    "Philippines_lst = ['Angeles City','Paranaque','Cavite','CITY OF MARIKINA', 'San Juan', 'Quezon City', 'Qc', 'QUEZON CITY',\n",
    "                   'Bulacan', 'Makati', 'manila', 'Cebu', 'Pasig', 'CALOOCAN CITY', 'dasmarinas city', 'Mandaluyong', 'makati', 'Bataan', 'TAYTAY', 'Las Piñas - Muntinlupa', 'PASIG CITY', 'Manila', 'San Fernando City, La Union',\n",
    "                   'Parañaque','Rizal','CITY OF IMUS','San Pedro', 'Camarines Sur'\n",
    "            ]\n",
    "for i in Philippines_lst:\n",
    "    df_train.loc[df_train['customer_country'].str.contains(i, case=True, na=False), 'customer_country'] = 'Philippines'\n",
    "    df_test.loc[df_test['customer_country'].str.contains(i, case=True, na=False), 'customer_country'] = 'Philippines'\n",
    "    \n",
    "# Jordan 도시\n",
    "Jordan_lst = ['Amman']\n",
    "\n",
    "for i in Jordan_lst:\n",
    "    df_train.loc[df_train['customer_country'].str.contains(i, case=True, na=False), 'customer_country'] = 'Jordan'\n",
    "    df_test.loc[df_test['customer_country'].str.contains(i, case=True, na=False), 'customer_country'] = 'Jordan'\n",
    "    \n",
    "# UK 도시\n",
    "UK_lst = ['Liss','Manchester','Providencaies','buckley', 'Newport', 'Windermere'\n",
    "            ]\n",
    "for i in UK_lst:\n",
    "    df_train.loc[df_train['customer_country'].str.contains(i, case=True, na=False), 'customer_country'] = 'United Kingdom'\n",
    "    df_test.loc[df_test['customer_country'].str.contains(i, case=True, na=False), 'customer_country'] = 'United Kingdom'"
   ]
  },
  {
   "cell_type": "markdown",
   "id": "718302d3",
   "metadata": {},
   "source": [
    "### *미국 따로 처리*"
   ]
  },
  {
   "cell_type": "code",
   "execution_count": 24,
   "id": "995bdcc0",
   "metadata": {},
   "outputs": [],
   "source": [
    "us_cities = [\n",
    "    \"New York City\", \"New York\", \"Los Angeles\", \"California\", \"Chicago\", \"Illinois\", \"Houston\", \"Texas\", \"Philadelphia\", \"Pennsylvania\",    \"Phoenix\", \"Arizona\", \"San Antonio\", \"Texas\", \"San Francisco\", \"California\", \"Boston\", \"Massachusetts\", \"Washington, D.C.\", \"Dallas\", \"Texas\", \"Atlanta\", \"Georgia\", \"Miami\", \"Florida\",\"Seattle\", \"Washington\",\"Denver\", \"Colorado\",\"Austin\", \"Texas\",\"Detroit\", \"Michigan\",\"Charlotte\", \"North Carolina\",\"San Diego\", \"California\",    \"Minneapolis\", \"Minnesota\",\"Tampa\", \"Florida\",\"Orlando\", \"Florida\",\"Portland\", \"Oregon\",\"St. Louis\", \"Missouri\",\"Pittsburgh\", \"Pennsylvania\",\n",
    "    \"Sacramento\", \"California\",\"Las Vegas\", \"Nevada\",\"Cincinnati\", \"Ohio\",\"Kansas City\", \"Missouri\",\"Cleveland\", \"Ohio\",\"San Jose\", \"California\",\"Nashville\", \"Tennessee\",\"Indianapolis\", \"Indiana\",\"Columbus\", \"Ohio\"]\n",
    "us_cities += [\n",
    "    \"Phoenix\",\"CARPINTERIA\",\"BROOKLYN\",\"COLUMBUS\", \"Arizona\",\"San Antonio\", \"Texas\",\"San Diego\", \"California\",\"Dallas\", \"Texas\",\"San Jose\", \"California\",\"Austin\", \"Texas\",\"Jacksonville\", \"Florida\",\"Fort Worth\", \"Texas\",\"Columbus\", \"Ohio\",\"Charlotte\", \"North Carolina\",\"Indianapolis\", \"Indiana\",\"San Francisco\", \"California\",    \"Seattle\", \"Washington\",\"Denver\", \"Colorado\",\"Washington\", \"Boston\", \"Massachusetts\",\"El Paso\", \"Texas\",\"Nashville\", \"Tennessee\",\"Portland\", \"Oregon\",\"Oklahoma City\", \"Oklahoma\",\"Las Vegas\", \"Nevada\",\"Baltimore\", \"Maryland\",\"Louisville\", \"Kentucky\", \"Milwaukee\", \"Wisconsin\",\"Albuquerque\", \"New Mexico\",\"Tucson\", \"Arizona\",\"Fresno\", \"California\",\"Sacramento\", \"California\",\"Kansas City\", \"Missouri\",\"Long Beach\", \"California\",\"Mesa\", \"Arizona\",\"Atlanta\", \"Georgia\",\"Colorado Springs\", \"Colorado\",\"Raleigh\", \"North Carolina\", \"Miami\", \"Florida\",\"Oakland\", \"California\",\"Tulsa\", \"Oklahoma\",\"Cleveland\", \"Ohio\",\"Wichita\", \"Kansas\",\"Arlington\", \"Texas\",\"New Orleans\", \"Louisiana\",\"Bakersfield\", \"California\",\"Tampa\", \"Florida\",\"Honolulu\", \"Hawaii\",\"Aurora\", \"Colorado\", \"Anaheim\", \"California\",\"Santa Ana\", \"California\",\"St. Louis\", \"Missouri\",\"Riverside\", \"California\",\"Corpus Christi\", \"Texas\",\"Lexington\", \"Kentucky\",\"Pittsburgh\", \"Pennsylvania\",\"Anchorage\", \"Alaska\",\"Stockton\", \"California\",\"Cincinnati\", \"Ohio\",\"St. Paul\", \"Minnesota\",\n",
    "    \"Toledo\", \"Ohio\",\"Greensboro\", \"North Carolina\",\"Newark\", \"New Jersey\",\"Plano\", \"Texas\",\"Henderson\", \"Nevada\",\"Lincoln\", \"Nebraska\",\"Buffalo\", \"New York\",\"Fort Wayne\", \"Indiana\",\"Jersey City\", \"New Jersey\",\"Chula Vista\", \"California\",\"Orlando\", \"Florida\", \"St. Petersburg\", \"Florida\",\"Norfolk\", \"Virginia\",\"Chandler\", \"Arizona\",\"Laredo\", \"Texas\",\"Madison\", \"Wisconsin\",\"Durham\", \"North Carolina\",\"Lubbock\", \"Texas\",\"Winston-Salem\", \"North Carolina\",\"Garland\", \"Texas\",\"Glendale\", \"Arizona\",\"Hialeah\", \"Florida\",\"Reno\", \"Nevada\",\"Baton Rouge\", \"Louisiana\",\"Irvine\", \"California\",]\n",
    "us_cities += [\n",
    "    \"Chesapeake\", \"Virginia\",\"Irving\", \"Texas\",\"Scottsdale\", \"Arizona\",\"North Las Vegas\", \"Nevada\",\"Fremont\", \"California\",\"Gilbert\", \"Arizona\",\"San Bernardino\", \"California\",\"Boise\", \"Idaho\",\"Birmingham\", \"Alabama\",\"Rochester\", \"New York\",\"Richmond\", \"Virginia\",\"Spokane\", \"Washington\", \"Des Moines\", \"Iowa\",\"Montgomery\", \"Alabama\",\"Modesto\", \"California\",\"Fayetteville\", \"North Carolina\",\"Tacoma\", \"Washington\",\"Shreveport\", \"Louisiana\",\"Fontana\", \"California\",\"Oxnard\", \"California\",\"Aurora\", \"Illinois\",\"Moreno Valley\", \"California\",\"Akron\", \"Ohio\", \"Yonkers\", \"New York\",\"Columbus\", \"Georgia\",\"Little Rock\", \"Arkansas\",\"Augusta\", \"Georgia\",\"Amarillo\", \"Texas\",\"Mobile\", \"Alabama\",\"Huntington Beach\", \"California\",\"Glendale\", \"California\",\"Grand Rapids\", \"Michigan\",\"Salt Lake City\", \"Utah\",\"Tallahassee\", \"Florida\", \"Huntsville\", \"Alabama\",\"Grand Prairie\", \"Texas\",\"Overland Park\", \"Kansas\",\"Knoxville\", \"Tennessee\",\"Worcester\", \"Massachusetts\",\"Brownsville\", \"Texas\",\"Newport News\", \"Virginia\",\"Santa Clarita\", \"California\",\"Port St. Lucie\", \"Florida\",\"Providence\", \"Rhode Island\",\"Fort Lauderdale\", \"Florida\",\n",
    "    \"Chattanooga\", \"Tennessee\",\"Tempe\", \"Arizona\",\"Oceanside\", \"California\",\"Garden Grove\", \"California\",\"Rancho Cucamonga\", \"California\",\"Cape Coral\", \"Florida\",\"Santa Rosa\", \"California\",\"Vancouver\", \"Washington\",\"Sioux Falls\", \"South Dakota\",\"Peoria\", \"Arizona\",\"Ontario\", \"California\", \"Jackson\", \"Mississippi\",\"Elk Grove\", \"California\",\"Springfield\", \"Missouri\",\"Pembroke Pines\", \"Florida\",\"Salem\", \"Oregon\",\"Corona\", \"California\",\"Eugene\", \"Oregon\",\"McKinney\", \"Texas\",\"Fort Collins\", \"Colorado\",\"Lancaster\", \"California\",\"Cary\", \"North Carolina\",\"Palmdale\", \"California\",\"Hayward\", \"California\",\"Salinas\", \"California\",\"Frisc\", \"Texas\",]\n",
    "us_cities += [\n",
    "    \"Philadelphia\", \"Pittsburgh\",\"Allentown\",\"Erie\",\"Reading\",\"Scranton\",\"Bethlehem\",\"Lancaster\",\"Harrisburg\",\"Altoona\",\"York\",\"Wilkes-Barre\",\"Chester\",\"Williamsport\",\"Easton\",\"Lebanon\",\"Hazleton\",\"New Castle\",\"Johnstown\",\"McKeesport\",\"Pottstown\",\"Sharon\",\"West Chester\", \"Norristown\",\"Hermitage\",\"Monroeville\",\"Plum\",\"State College\",\"Easton\",\"Baldwin\",\"Wilkinsburg\",\"Hanover\",\"Bethel Park\",\"Franklin Park\",\"Levittown\",\"Phoenixville\",\"Lansdale\",\"Warminster\",\"Butler\",\"Murrysville\",\"Carlisle\",\"Greensburg\",\"West Mifflin\",\"Chambersburg\", \"McKees Rocks\",\"Pottsville\",\"Wilkins\",\"King of Prussia\",\"Shaler\",\"McKeesport\",\"Meadville\",\"New Kensington\",\"Stowe\",\"Nanticoke\",\"Uniontown\", \"Ellwood City\",\"Montgomeryville\",\"Jeannette\",\"South Park\",\"Limerick\",\"Fernway\",\"Haverford\",\"Bristol\",\"Brentwood\",\"Whitehall\",\"Leacock\", \"Yeadon\",\"Cranberry\",\"Baldwin\",\"Lower Burrell\",\"Bristol\",\"West Norriton\",\"Moon\",\"Bloomsburg\",\"Horsham\",\"East Hempfield\",\"Wayne\",\"Bethel\",\"Monessen\",\"Elizabethtown\",\"Ephrata\",\"Willow Grove\",\"Kingston\",\"Kennett\",\"Coraopolis\",\"Exeter\",\"Northampton\", \"North Huntingdon\",\"Millcreek\",\"South Williamsport\",\"Springfield\",\"Bristol\",\"Westtown\",\"Warren\",\"South Middleton\",\"Upper Providence\",\"McCandless\",\"Hanover\", \"South Whitehall\",\"Manheim\",\"Lancaster\",\"East Hempfield\",\"Upper Darby\",\"West Goshen\",\"Newtown\",\"Upper Merion\",\"Whitehall\",\"Whitemarsh\",\"West Lampeter\",\"Lower Macungie\",\"North Huntingdon\",\"Concord\",\"Upper Southampton\",\"Radnor\",\"Middletown\",\"East Bradford\",\"Springfield\",\"West Whiteland\",\"Whitpain\", \"East Brandywine\",\"West Hempfield\",\"Upper Providence\",\"East Cocalico\",\"Lower Southampton\",\"East Norriton\",\"Whitfield\",\"Lower Merion\",\"Murrysville\",\"Springfield\",\"Newtown\",\"Lower Paxton\",\"West Manchester\",\"East Lampeter\",\"Warminster\",\"Hampden\",\"Lower Providence\",\"Lower Makefield\",\"Spring Garden\",\"Lebanon\",\"North Middleton\",\n",
    "    \"Swatara\",\"Palmer\",\"Manheim\",\"Upper Macungie\",\"Springettsbury\",\"West Hanover\",\"South Fayette\",\"East Hempfield\",\"Marple\",\"East Pikeland\",\"Upper Dublin\",\"West Earl\",\"East Marlborough\",\"Lower Southampton\",\"South Middleton\",\"Horsham\",\"Lower Saucon\",\"North Strabane\",\"Warwick\",\"Spring\",\"South Whitehall\", \"West Vincent\",\"West Hempfield\",\"Hempfield\",\"North Fayette\",\"Upper Makefield\",\"Plumstead\",\"Springfield\",\"Robeson\",\"Whitemarsh\",\"West Manchester\",\"Londonderry\",\"North Lebanon\",\"East Goshen\",\"Middletown\",\"West Brandywine\",\"Susquehanna\",\"Lebanon\",\"Warrington\",\"Sadsbury\",\"Mount Joy\",\"Lower Gwynedd\", \"Richland\",\"East Pennsboro\",\"West Whiteland\",\"Plumstead\",\"South Park\",\"Warminster\",\"East Vincent\",\"Newberry\",\"Springfield\",\"Tredyffrin\",\"Westtown\",\"North Codorus\",\"Silver Spring\",\"Franklin\",\"Whitehall\",\"Windsor\",\"Cranberry\",\"West Cocalico\",\"Ferguson\",\"North Middleton\",\"Mount Lebanon\",\"East Bradford\",\"Richland\",\"Easttown\", \"Springfield\",\"East Norriton\",\"Concord\",\"West Bradford\",\"Manheim\",\"Spring Garden\",\"Hanover\",\"West Goshen\",\"Lower Makefield\",\"North Lebanon\",\"Exeter\",\"West Donegal\",\"Economy\",\"Cranberry\",\"Upper Uwchlan\",\"Londonderry\",\"West Nantmeal\",\"North Cornwall\",\"Springfield\",\"East Brandywine\",\"New Hanover\",\"Lebanon\",\"West Pikeland\",\"Upper Providence\",\"Palmer\",\"Sadsbury\",\"South Londonderry\"]\n",
    "us_cities += [\n",
    "    'San Francisco', ' US', ' USA', 'Boston', 'Chicago', 'U.S.', 'Southfield', 'San Diego', 'New York', 'Los Angeles','Washington DC', 'Houston', 'St. Louis', 'Newton', 'Harrisburg', 'SOUTH SAN FRANCISCO','Hollywood', 'HOUSTON', 'Los Angelos', 'Greenville', 'Clinton', 'Charleston','Batavi', 'Omaha', 'Rockleigh', 'Spirit Lake', 'Draper', 'Hot Springs', 'Schaumburg','Kenner', 'Plainfield', 'Mentor', 'Monterey', 'Stowe', 'Hawthorne', 'Encino', 'Fargo','Elysburg', 'Newberry Springs', 'Ashland', 'Newark', 'Waukegan', 'Ocean Shores', 'Phoenix', 'Sterling', 'Fairfax', 'Garden Grove', 'DRAPER', 'NEWARK', 'Silver Spring',\n",
    "    'Manhattan', 'utica', 'Mashantucket', 'phoenix', 'Houghton', 'Cambridge', 'Topeka', 'Richland', 'chicago','Dexter', 'Danbury', 'ocean shores', 'Hyannis', 'Kihei', 'Mountville', 'Frederick', 'Naperville', 'Malvern', 'Palo Alto', 'Bellevue', 'Mooresville', 'Norwalk', 'Leesburg', 'Cicero', 'Coffeyville', 'garden grove', 'Orrville', 'Fair Oaks', 'ANAHEIM', 'Kuna', 'Not Hispanic or Latino', 'washington', 'Westfield', 'san antonio', 'Dayton', 'miami', 'Shawnee', 'Slidell','Swink', 'Reston', 'Los banos', 'Salida', 'Marina Del Rey', 'APO', 'PHOENIX', 'Houlton','miami','Durango', 'El paso', 'Beloit', 'Fort Bragg', 'Latham','Snellville','Davison', 'Lewisville', 'Sierra Vista','Hemlock','Soda Springs','Godley','Colonty', 'Post Falls', 'Myrtle Beach', 'Monrovia', 'Douglas', 'Bloomington', 'Zip 98433', 'Archbald', 'Twinsburg', 'Woodhaven','Sunnyvale', 'Chico', 'Nogales', 'Morrow','Nicholasville','Bradenton', 'costa mesa','Holly Springs','Carlsbad','Goodland','Reading','Peachtree Corners','Statesville','Upper Saint Clair','Fenton','Ladson','Saint Maries','5503 major blvd','Lander','Wilkes Barre', 'Altamonte Spg', 'Boulder', 'Bowie', 'Santa Barbara', 'Maple Grove', 'Merrifield', 'Sandusky', 'Hacienda Heights', 'Shepherdstown', 'El Segundo', 'Troy', 'Lafayette', 'Versailles','St Augustine Beach', 'Federal Way', 'Santa Monica', 'Independence', 'Offutt AFB', 'Logan', 'Coral Gables', 'Blue Bell', 'Odessa', 'Bloomingdale', 'Andersen AFB', 'Morristown', 'Lenoir City', 'Bridgeville', 'Marietta']\n",
    "us_cities += [\n",
    "    'Federal Way','Federal way', 'Wixom', 'Fort Pierce', 'Boca Raton', 'Mt Laurel Township', 'Stamford', 'Lakewood','Lake Ozark', 'Ann Arbor', 'Uniondale', 'Chuluota', 'CLIFTON', 'East Syracuse', 'Walnut Creek', 'Pasadena', 'Edmond', 'DeKalb', 'Bismarck', 'Torrance','Jefferson', 'Coalgate', 'Schriever Space Force Base', 'Maywood', 'Inglewood', 'South Bend', 'Woodside', 'Smoketown', 'Ellensburg','Agoura Hills', 'Eufaula', 'Randolph', 'Laurel', 'Dublin',\"Diamond Point\",\"Bellevue\",\"Ridgefield\",\"Gallipolis\",\"Liverpool\",'liverpool',\"Eagle Creek\",\"Topeka\",\"Monroe Township\",\"Lake Buena Vista\",\"Otis\",\"Mountainside\",'Olympia', 'topeka', 'pasadena', 'edmond', 'dublin', 'laurel', 'stamford','Prattville','inglewood','Bridgeport','bellevue','mountainside','Lewis Center','Alpharetta','Delray Beach','Ipswich','Ashburn','Largo','Farmers Branch','new york','Keshena','Waunakee','Blackville','Haverhill','Skokie','Carson','Cloverdale','Cypress','Vandenberg SFB','Brooklyn','City of Industry','Wellsboro','gardena','Saipan', 'Friendswood','Canton','Auburn','Wildwood','Maryville','Hapeville','La Jolla','The Colony','Fort Belvoir','Mankato','El Dorado Hills','Pismo Beach','White Plains','Fishkill','Stennis Space Center','Mill Valley','Annapolis','Chantilly','Los Gatos','Camden','Lambertville','Hyattsville','Sunrise','Peachtree City','Saint Petersburg','Basin','College Place','Decatur','phila','Columbs','Covington','Gig Harbor','Watertown','St. Cloud','Lac Du Flambeau','ridgeville','South Burlington','Beavercreek','Marysville','La Grande','Bandon','Normal','Weatherford','Moab','Lowell', 'Midlothian', 'Centerville', 'plymouth meeting', 'El Cajon', 'Gulf Shores', 'Biloxi', 'Lindenhurst', 'Jupiter', 'Grand Canyon','Plainsboro', 'East Rutherford', 'Rexburg', 'Oak Brook', 'Bell Gardens','Woodstock', 'Bensalem', 'Yreka', 'Lenexa', 'Summerfield', 'Burbank','Palm Valley', 'Orange', 'Massapequa', 'Lagrange', 'detroit', 'Laughlin','Danville', 'san rafael', 'Severance', 'Poughkeepsie', 'Danville','Eglin AFB', 'houston', 'Palmetto', 'Connellsville', 'Marion', 'port Orange','Wallace', 'athens', 'Lansing', 'Delavan', 'Niles', 'Goleta', 'Olathe','Joliet', 'Eva', 'woodbury', 'Montecito', 'Riverton', 'springdale','Farmington', 'Norcross', 'Eagan', 'Duncan', 'Rodeville', 'Rockville','Castle Rock', 'La Mirada', 'Manassas', 'Cupertino', 'Arkport','Taunton','Camp Hill','Santa Clara','Humboldt','Pooler','Palm Coast','Hackensack','San Leandro','Mission Hills','debary','austin','14700 Caribbean Way', '3 Nasson Avenue',\n",
    "    'Romulus','Renton','Doral','Kaysville','Meridian','Pompano Beac','Ferndale','St George','Hackensack','Ardmore','Staten Island','Opa-Locka','Great Falls','Champaign','North Babylon','Goldsboro','Kahului','Provo','South bend', 'Mount Juliet','Deptford','Terlingua','Hogansburg','Davenport','Eden Prairie','Morgantown','Oyster Bay','Westwood','Fortuna','Isle Of Palms','Kiawah Island','Eldersburg','Mandeville','Lewiston','Tyerl','Dover','brooklyn','Haltom City','Forney','Kennebunkport','pigeon forge','Cedarville','College Station','Alhambra','Weldon','North Smithfield','Ronkonkoma','barstow','Yuma','Monroe','Cathedral City','Nyack','Glencoe','Andover','Altamont springs','New Bedford','Miramar','Cashmere','Joint Base Lewis McChord','Homestead','Novi','Hunt Valley','Melbourne','Acworth','Nellis AFB','Kent','Kimberly','Mountain Lakes','FT HUACHUCA','Shelbyville','Bothell','montclair','Broken Arrow','Moffett Field','Youngstown','Roseville','Piscataway','Battle Mountain','Roswell','Curtis Bay','laGrange','Sanford','Chilhowie','Amherst','winston','Mahopac','Tinley Park','Kingsville','Manhasset','Abidjan','New Iberia','Holland','Elmsford','Owings mills','Ankeny','Lake Mary','Petersburg','trenton','Oxon Hill','Mableton','Tusayan','Ackerman','Mesquite','Round Rock','North Have','Seagoville','Kingwood','Dyersburg','Oroville','Wheatland','Littleton','League City','Flushing','Dearborn Heights','Speedway','Bell gardens','Lanham','Ft. Myers','Sparta','Stoughton','Charlevoix','Glenndale','Ridgewood','Carthage','Katy','South Shore','Ks','Rehoboth Beach','Bangor','Benbrook','Hastings','Middleburg Heights','Wylie','Edina','Sedona','Missoula','Litleton','lauderhill','Wilton','Flushing','Solana beach','Alameda', '3 Nasson Avenue']"
   ]
  },
  {
   "cell_type": "code",
   "execution_count": 25,
   "id": "c13a0948",
   "metadata": {},
   "outputs": [
    {
     "name": "stderr",
     "output_type": "stream",
     "text": [
      "100%|██████████| 1115/1115 [00:18<00:00, 59.67it/s]\n"
     ]
    }
   ],
   "source": [
    "for i in tqdm(us_cities):\n",
    "    condition = df_train['customer_country'].str.contains(i, case=True, na=False)\n",
    "    df_train.loc[condition, 'customer_country'] = 'United States'\n",
    "\n",
    "    condition = df_test['customer_country'].str.contains(i, case=True, na=False)\n",
    "    df_test.loc[condition, 'customer_country'] = 'United States'"
   ]
  },
  {
   "cell_type": "code",
   "execution_count": 26,
   "id": "f0fd6fe4",
   "metadata": {},
   "outputs": [],
   "source": [
    "df_train.loc[(df_train['customer_country'].str.contains(r'\\d', na=False)) & (df_train['response_corporate'] == 'LGEUS'), 'customer_country'] = 'United States'\n",
    "df_test.loc[(df_test['customer_country'].str.contains(r'\\d', na=False)) & (df_test['response_corporate'] == 'LGEUS'), 'customer_country'] = 'United States'"
   ]
  },
  {
   "cell_type": "code",
   "execution_count": 27,
   "id": "ba5ee400",
   "metadata": {},
   "outputs": [],
   "source": [
    "df_train.loc[(df_train['customer_country'].str.contains(r'\\d', na=False)) & (df_train['response_corporate'] == 'LGEIS'), 'customer_country'] = 'Italy'\n",
    "df_test.loc[(df_test['customer_country'].str.contains(r'\\d', na=False)) & (df_test['response_corporate'] == 'LGEIS'), 'customer_country'] = 'Italy'"
   ]
  },
  {
   "cell_type": "code",
   "execution_count": 28,
   "id": "e9d9d6ae",
   "metadata": {},
   "outputs": [],
   "source": [
    "df_train.loc[(df_train['customer_country'].str.contains(r'\\d', na=False)) & (df_train['response_corporate'] == 'LGEIL'), 'customer_country'] = 'India'\n",
    "df_test.loc[(df_test['customer_country'].str.contains(r'\\d', na=False)) & (df_test['response_corporate'] == 'LGEIL'), 'customer_country'] = 'India'"
   ]
  },
  {
   "cell_type": "code",
   "execution_count": 29,
   "id": "738d2210",
   "metadata": {},
   "outputs": [],
   "source": [
    "df_train.loc[(df_train['customer_country'].str.contains(r'\\d', na=False)) & (df_train['response_corporate'] == 'LGECB'), 'customer_country'] = 'Colombia'\n",
    "df_test.loc[(df_test['customer_country'].str.contains(r'\\d', na=False)) & (df_test['response_corporate'] == 'LGECB'), 'customer_country'] = 'Colombia'"
   ]
  },
  {
   "cell_type": "code",
   "execution_count": 30,
   "id": "2e563823",
   "metadata": {},
   "outputs": [],
   "source": [
    "# '/' 포함되면 unknown으로 간주.\n",
    "df_train.loc[df_train['customer_country'].str.contains(r'\\/', na=False), 'customer_country'] = 'Unknown'\n",
    "df_test.loc[df_test['customer_country'].str.contains(r'\\/', na=False), 'customer_country'] = 'Unknown'"
   ]
  },
  {
   "cell_type": "code",
   "execution_count": 31,
   "id": "20c83a4b",
   "metadata": {},
   "outputs": [],
   "source": [
    "df_tmp = df_train[df_train['customer_country'] != 'Unknown']\n",
    "df_tmp = df_tmp.groupby('lead_owner')['customer_country'].apply(lambda x: x.mode().iloc[0] if not x.mode().empty else None).reset_index()"
   ]
  },
  {
   "cell_type": "code",
   "execution_count": 32,
   "id": "00bfb6a7",
   "metadata": {},
   "outputs": [],
   "source": [
    "for i in range(len(df_tmp)):\n",
    "    lead = df_tmp.loc[i, 'lead_owner']\n",
    "    co = df_tmp.loc[i, 'customer_country']\n",
    "    df_train.loc[(df_train['lead_owner'] == lead) & (df_train['customer_country'] == 'Unknown'), 'customer_country'] = co\n",
    "    df_test.loc[(df_test['lead_owner'] == lead) & (df_test['customer_country'] == 'Unknown'), 'customer_country'] = co"
   ]
  },
  {
   "cell_type": "markdown",
   "id": "04eb6dec",
   "metadata": {},
   "source": [
    "***\n",
    "***"
   ]
  },
  {
   "cell_type": "markdown",
   "id": "9fbdc56e",
   "metadata": {},
   "source": [
    "## ***3. business_unit***\n",
    "MQL 요청 상품에 대응되는 사업부"
   ]
  },
  {
   "cell_type": "code",
   "execution_count": 33,
   "id": "08646706",
   "metadata": {},
   "outputs": [
    {
     "data": {
      "text/plain": [
       "0"
      ]
     },
     "execution_count": 33,
     "metadata": {},
     "output_type": "execute_result"
    }
   ],
   "source": [
    "df_train['business_unit'].isnull().sum()"
   ]
  },
  {
   "cell_type": "code",
   "execution_count": 34,
   "id": "244062de",
   "metadata": {},
   "outputs": [
    {
     "data": {
      "text/plain": [
       "business_unit\n",
       "ID          24849\n",
       "AS          22646\n",
       "IT           7959\n",
       "Solution      287\n",
       "CM              1\n",
       "Name: count, dtype: int64"
      ]
     },
     "execution_count": 34,
     "metadata": {},
     "output_type": "execute_result"
    }
   ],
   "source": [
    "df_train['business_unit'].value_counts()"
   ]
  },
  {
   "cell_type": "code",
   "execution_count": 35,
   "id": "69e2cc6c",
   "metadata": {},
   "outputs": [
    {
     "data": {
      "text/html": [
       "<div>\n",
       "<style scoped>\n",
       "    .dataframe tbody tr th:only-of-type {\n",
       "        vertical-align: middle;\n",
       "    }\n",
       "\n",
       "    .dataframe tbody tr th {\n",
       "        vertical-align: top;\n",
       "    }\n",
       "\n",
       "    .dataframe thead th {\n",
       "        text-align: right;\n",
       "    }\n",
       "</style>\n",
       "<table border=\"1\" class=\"dataframe\">\n",
       "  <thead>\n",
       "    <tr style=\"text-align: right;\">\n",
       "      <th></th>\n",
       "      <th>영업전환_확률</th>\n",
       "      <th>Count</th>\n",
       "    </tr>\n",
       "    <tr>\n",
       "      <th>business_unit</th>\n",
       "      <th></th>\n",
       "      <th></th>\n",
       "    </tr>\n",
       "  </thead>\n",
       "  <tbody>\n",
       "    <tr>\n",
       "      <th>AS</th>\n",
       "      <td>0.060187</td>\n",
       "      <td>22646</td>\n",
       "    </tr>\n",
       "    <tr>\n",
       "      <th>CM</th>\n",
       "      <td>0.000000</td>\n",
       "      <td>1</td>\n",
       "    </tr>\n",
       "    <tr>\n",
       "      <th>ID</th>\n",
       "      <td>0.102902</td>\n",
       "      <td>24849</td>\n",
       "    </tr>\n",
       "    <tr>\n",
       "      <th>IT</th>\n",
       "      <td>0.085187</td>\n",
       "      <td>7959</td>\n",
       "    </tr>\n",
       "    <tr>\n",
       "      <th>Solution</th>\n",
       "      <td>0.010453</td>\n",
       "      <td>287</td>\n",
       "    </tr>\n",
       "  </tbody>\n",
       "</table>\n",
       "</div>"
      ],
      "text/plain": [
       "                영업전환_확률  Count\n",
       "business_unit                 \n",
       "AS             0.060187  22646\n",
       "CM             0.000000      1\n",
       "ID             0.102902  24849\n",
       "IT             0.085187   7959\n",
       "Solution       0.010453    287"
      ]
     },
     "execution_count": 35,
     "metadata": {},
     "output_type": "execute_result"
    }
   ],
   "source": [
    "tmp_df = pd.concat([pd.DataFrame(df_train.groupby('business_unit')['is_converted'].mean()), pd.DataFrame(df_train.groupby('business_unit')['is_converted'].count())], axis=1)\n",
    "tmp_df.columns = ['영업전환_확률', 'Count']\n",
    "tmp_df"
   ]
  },
  {
   "cell_type": "markdown",
   "id": "e75dbbfb",
   "metadata": {},
   "source": [
    "***\n",
    "***"
   ]
  },
  {
   "cell_type": "markdown",
   "id": "10b16ad3",
   "metadata": {},
   "source": [
    "## ***4. com_reg_ver_win_rate***\n",
    "(Vertical Level 1, business unit, region을 기준으로 oppty 비율을 계산)"
   ]
  },
  {
   "cell_type": "code",
   "execution_count": 36,
   "id": "d17c185c",
   "metadata": {},
   "outputs": [
    {
     "data": {
      "text/plain": [
       "41640"
      ]
     },
     "execution_count": 36,
     "metadata": {},
     "output_type": "execute_result"
    }
   ],
   "source": [
    "df_train['com_reg_ver_win_rate'].isnull().sum()"
   ]
  },
  {
   "cell_type": "code",
   "execution_count": 37,
   "id": "46cacc73",
   "metadata": {},
   "outputs": [
    {
     "data": {
      "text/plain": [
       "count    14102.000000\n",
       "mean         0.086132\n",
       "std          0.141022\n",
       "min          0.003788\n",
       "25%          0.019900\n",
       "50%          0.049180\n",
       "75%          0.074949\n",
       "max          1.000000\n",
       "Name: com_reg_ver_win_rate, dtype: float64"
      ]
     },
     "execution_count": 37,
     "metadata": {},
     "output_type": "execute_result"
    }
   ],
   "source": [
    "df_train['com_reg_ver_win_rate'].describe()"
   ]
  },
  {
   "cell_type": "markdown",
   "id": "6494ff09",
   "metadata": {},
   "source": [
    "***\n",
    "***"
   ]
  },
  {
   "cell_type": "markdown",
   "id": "514d0251",
   "metadata": {},
   "source": [
    "## ***5. customer_idx***\n",
    "고객의 회사명"
   ]
  },
  {
   "cell_type": "code",
   "execution_count": 38,
   "id": "8b4e3a96",
   "metadata": {},
   "outputs": [
    {
     "data": {
      "text/plain": [
       "0"
      ]
     },
     "execution_count": 38,
     "metadata": {},
     "output_type": "execute_result"
    }
   ],
   "source": [
    "df_train['customer_idx'].isnull().sum()"
   ]
  },
  {
   "cell_type": "code",
   "execution_count": 39,
   "id": "246ee4c1",
   "metadata": {},
   "outputs": [],
   "source": [
    "tmp_df = pd.concat([pd.DataFrame(df_train.groupby('customer_idx')['is_converted'].mean()), pd.DataFrame(df_train.groupby('customer_idx')['is_converted'].count())], axis=1)\n",
    "tmp_df.columns = ['영업전환_확률', 'Count']"
   ]
  },
  {
   "cell_type": "code",
   "execution_count": 40,
   "id": "c63f1c9a",
   "metadata": {},
   "outputs": [
    {
     "data": {
      "text/html": [
       "<div>\n",
       "<style scoped>\n",
       "    .dataframe tbody tr th:only-of-type {\n",
       "        vertical-align: middle;\n",
       "    }\n",
       "\n",
       "    .dataframe tbody tr th {\n",
       "        vertical-align: top;\n",
       "    }\n",
       "\n",
       "    .dataframe thead th {\n",
       "        text-align: right;\n",
       "    }\n",
       "</style>\n",
       "<table border=\"1\" class=\"dataframe\">\n",
       "  <thead>\n",
       "    <tr style=\"text-align: right;\">\n",
       "      <th></th>\n",
       "      <th>영업전환_확률</th>\n",
       "      <th>Count</th>\n",
       "    </tr>\n",
       "    <tr>\n",
       "      <th>customer_idx</th>\n",
       "      <th></th>\n",
       "      <th></th>\n",
       "    </tr>\n",
       "  </thead>\n",
       "  <tbody>\n",
       "    <tr>\n",
       "      <th>9324</th>\n",
       "      <td>1.0</td>\n",
       "      <td>14</td>\n",
       "    </tr>\n",
       "    <tr>\n",
       "      <th>9857</th>\n",
       "      <td>1.0</td>\n",
       "      <td>11</td>\n",
       "    </tr>\n",
       "    <tr>\n",
       "      <th>25096</th>\n",
       "      <td>1.0</td>\n",
       "      <td>2404</td>\n",
       "    </tr>\n",
       "  </tbody>\n",
       "</table>\n",
       "</div>"
      ],
      "text/plain": [
       "              영업전환_확률  Count\n",
       "customer_idx                \n",
       "9324              1.0     14\n",
       "9857              1.0     11\n",
       "25096             1.0   2404"
      ]
     },
     "execution_count": 40,
     "metadata": {},
     "output_type": "execute_result"
    }
   ],
   "source": [
    "tmp_df[(tmp_df['Count'] > 10) & (tmp_df['영업전환_확률'] > 0.95)].sort_values('영업전환_확률', ascending = False)"
   ]
  },
  {
   "cell_type": "code",
   "execution_count": 41,
   "id": "32f7cacc",
   "metadata": {},
   "outputs": [
    {
     "data": {
      "text/html": [
       "<div>\n",
       "<style scoped>\n",
       "    .dataframe tbody tr th:only-of-type {\n",
       "        vertical-align: middle;\n",
       "    }\n",
       "\n",
       "    .dataframe tbody tr th {\n",
       "        vertical-align: top;\n",
       "    }\n",
       "\n",
       "    .dataframe thead th {\n",
       "        text-align: right;\n",
       "    }\n",
       "</style>\n",
       "<table border=\"1\" class=\"dataframe\">\n",
       "  <thead>\n",
       "    <tr style=\"text-align: right;\">\n",
       "      <th></th>\n",
       "      <th>영업전환_확률</th>\n",
       "      <th>Count</th>\n",
       "    </tr>\n",
       "    <tr>\n",
       "      <th>customer_idx</th>\n",
       "      <th></th>\n",
       "      <th></th>\n",
       "    </tr>\n",
       "  </thead>\n",
       "  <tbody>\n",
       "    <tr>\n",
       "      <th>25309</th>\n",
       "      <td>0.0</td>\n",
       "      <td>86</td>\n",
       "    </tr>\n",
       "    <tr>\n",
       "      <th>29370</th>\n",
       "      <td>0.0</td>\n",
       "      <td>60</td>\n",
       "    </tr>\n",
       "    <tr>\n",
       "      <th>31864</th>\n",
       "      <td>0.0</td>\n",
       "      <td>68</td>\n",
       "    </tr>\n",
       "    <tr>\n",
       "      <th>33350</th>\n",
       "      <td>0.0</td>\n",
       "      <td>97</td>\n",
       "    </tr>\n",
       "    <tr>\n",
       "      <th>33763</th>\n",
       "      <td>0.0</td>\n",
       "      <td>88</td>\n",
       "    </tr>\n",
       "    <tr>\n",
       "      <th>37654</th>\n",
       "      <td>0.0</td>\n",
       "      <td>75</td>\n",
       "    </tr>\n",
       "  </tbody>\n",
       "</table>\n",
       "</div>"
      ],
      "text/plain": [
       "              영업전환_확률  Count\n",
       "customer_idx                \n",
       "25309             0.0     86\n",
       "29370             0.0     60\n",
       "31864             0.0     68\n",
       "33350             0.0     97\n",
       "33763             0.0     88\n",
       "37654             0.0     75"
      ]
     },
     "execution_count": 41,
     "metadata": {},
     "output_type": "execute_result"
    }
   ],
   "source": [
    "tmp_df[(tmp_df['Count'] > 50) & (tmp_df['영업전환_확률'] == 0.00)].sort_values('영업전환_확률', ascending = False)"
   ]
  },
  {
   "cell_type": "markdown",
   "id": "da8405f1",
   "metadata": {},
   "source": [
    "***\n",
    "***"
   ]
  },
  {
   "cell_type": "markdown",
   "id": "5bbd6417",
   "metadata": {},
   "source": [
    "## ***6. customer_type***\n",
    "고객 유형"
   ]
  },
  {
   "cell_type": "code",
   "execution_count": 42,
   "id": "31f5c6b6",
   "metadata": {},
   "outputs": [
    {
     "data": {
      "text/plain": [
       "41354"
      ]
     },
     "execution_count": 42,
     "metadata": {},
     "output_type": "execute_result"
    }
   ],
   "source": [
    "df_train['customer_type'].isnull().sum()"
   ]
  },
  {
   "cell_type": "code",
   "execution_count": 43,
   "id": "1a1a0b87",
   "metadata": {},
   "outputs": [
    {
     "data": {
      "text/plain": [
       "33"
      ]
     },
     "execution_count": 43,
     "metadata": {},
     "output_type": "execute_result"
    }
   ],
   "source": [
    "df_train['customer_type'].nunique()"
   ]
  },
  {
   "cell_type": "code",
   "execution_count": 44,
   "id": "4de5d28a",
   "metadata": {},
   "outputs": [],
   "source": [
    "df_train.loc[df_train['customer_type'].str.contains('end', case=False, na=False), 'customer_type'] = 'End-Customer'\n",
    "df_test.loc[df_test['customer_type'].str.contains('end', case=False, na=False), 'customer_type'] = 'End-Customer'\n",
    "\n",
    "df_train.loc[df_train['customer_type'].str.contains('Specifier', case=False, na=False), 'customer_type'] = 'Specifier/Influencer'\n",
    "df_test.loc[df_test['customer_type'].str.contains('Specifier', case=False, na=False), 'customer_type'] = 'Specifier/Influencer'\n",
    "\n",
    "df_train.loc[df_train['customer_type'].str.contains('other', case=False, na=False), 'customer_type'] = 'other'\n",
    "df_test.loc[df_test['customer_type'].str.contains('other', case=False, na=False), 'customer_type'] = 'other'\n",
    "\n",
    "# df_train.loc[df_train['customer_type'] == \"Etc.\", \"customer_type\"] = 'other'\n",
    "# df_test.loc[df_test['customer_type'] == \"Etc.\", \"customer_type\"] = 'other'\n",
    "\n",
    "df_train.loc[df_train['customer_type'].str.contains('home', case=False, na=False), 'customer_type'] = 'Home Owner'\n",
    "df_test.loc[df_test['customer_type'].str.contains('home', case=False, na=False), 'customer_type'] = 'Home Owner'\n",
    "\n",
    "df_train.loc[df_train['customer_type'].str.contains('Software', case=False, na=False), 'customer_type'] = 'Software/Solution Provider'\n",
    "df_test.loc[df_test['customer_type'].str.contains('Software', case=False, na=False), 'customer_type'] = 'Software/Solution Provider'"
   ]
  },
  {
   "cell_type": "code",
   "execution_count": 45,
   "id": "15448a5a",
   "metadata": {},
   "outputs": [],
   "source": [
    "df_train['customer_type'] = df_train['customer_type'].fillna('Unknown')\n",
    "df_test['customer_type'] = df_test['customer_type'].fillna('Unknown')"
   ]
  },
  {
   "cell_type": "code",
   "execution_count": 46,
   "id": "18c9258a",
   "metadata": {},
   "outputs": [
    {
     "data": {
      "text/plain": [
       "27"
      ]
     },
     "execution_count": 46,
     "metadata": {},
     "output_type": "execute_result"
    }
   ],
   "source": [
    "df_train['customer_type'].nunique()"
   ]
  },
  {
   "cell_type": "markdown",
   "id": "259efeb5",
   "metadata": {},
   "source": [
    "***\n",
    "***"
   ]
  },
  {
   "cell_type": "markdown",
   "id": "d60c7199",
   "metadata": {},
   "source": [
    "## ***7. enterprise***\n",
    "Global 기업인지, Small/Medium 규모의 기업인지"
   ]
  },
  {
   "cell_type": "code",
   "execution_count": 47,
   "id": "123ab0b4",
   "metadata": {},
   "outputs": [
    {
     "data": {
      "text/plain": [
       "0"
      ]
     },
     "execution_count": 47,
     "metadata": {},
     "output_type": "execute_result"
    }
   ],
   "source": [
    "df_train['enterprise'].isnull().sum()"
   ]
  },
  {
   "cell_type": "code",
   "execution_count": 48,
   "id": "35baee90",
   "metadata": {},
   "outputs": [
    {
     "data": {
      "text/plain": [
       "enterprise\n",
       "Enterprise    35626\n",
       "SMB           20116\n",
       "Name: count, dtype: int64"
      ]
     },
     "execution_count": 48,
     "metadata": {},
     "output_type": "execute_result"
    }
   ],
   "source": [
    "df_train['enterprise'].value_counts()"
   ]
  },
  {
   "cell_type": "code",
   "execution_count": 49,
   "id": "b9d85e36",
   "metadata": {},
   "outputs": [
    {
     "data": {
      "text/html": [
       "<div>\n",
       "<style scoped>\n",
       "    .dataframe tbody tr th:only-of-type {\n",
       "        vertical-align: middle;\n",
       "    }\n",
       "\n",
       "    .dataframe tbody tr th {\n",
       "        vertical-align: top;\n",
       "    }\n",
       "\n",
       "    .dataframe thead th {\n",
       "        text-align: right;\n",
       "    }\n",
       "</style>\n",
       "<table border=\"1\" class=\"dataframe\">\n",
       "  <thead>\n",
       "    <tr style=\"text-align: right;\">\n",
       "      <th></th>\n",
       "      <th>영업전환_확률</th>\n",
       "      <th>Count</th>\n",
       "    </tr>\n",
       "    <tr>\n",
       "      <th>enterprise</th>\n",
       "      <th></th>\n",
       "      <th></th>\n",
       "    </tr>\n",
       "  </thead>\n",
       "  <tbody>\n",
       "    <tr>\n",
       "      <th>Enterprise</th>\n",
       "      <td>0.057851</td>\n",
       "      <td>35626</td>\n",
       "    </tr>\n",
       "    <tr>\n",
       "      <th>SMB</th>\n",
       "      <td>0.126268</td>\n",
       "      <td>20116</td>\n",
       "    </tr>\n",
       "  </tbody>\n",
       "</table>\n",
       "</div>"
      ],
      "text/plain": [
       "             영업전환_확률  Count\n",
       "enterprise                 \n",
       "Enterprise  0.057851  35626\n",
       "SMB         0.126268  20116"
      ]
     },
     "execution_count": 49,
     "metadata": {},
     "output_type": "execute_result"
    }
   ],
   "source": [
    "tmp_df = pd.concat([pd.DataFrame(df_train.groupby('enterprise')['is_converted'].mean()), pd.DataFrame(df_train.groupby('enterprise')['is_converted'].count())], axis=1)\n",
    "tmp_df.columns = ['영업전환_확률', 'Count']\n",
    "tmp_df"
   ]
  },
  {
   "cell_type": "markdown",
   "id": "3d62c528",
   "metadata": {},
   "source": [
    "***\n",
    "***"
   ]
  },
  {
   "cell_type": "markdown",
   "id": "9da68182",
   "metadata": {},
   "source": [
    "## ***8. historical_existing_cnt***\n",
    "이전에 Converted(영업 전환) 되었던 횟수"
   ]
  },
  {
   "cell_type": "code",
   "execution_count": 50,
   "id": "cb946894",
   "metadata": {},
   "outputs": [
    {
     "data": {
      "text/plain": [
       "43380"
      ]
     },
     "execution_count": 50,
     "metadata": {},
     "output_type": "execute_result"
    }
   ],
   "source": [
    "df_train['historical_existing_cnt'].isnull().sum()"
   ]
  },
  {
   "cell_type": "code",
   "execution_count": 51,
   "id": "00c280fe",
   "metadata": {},
   "outputs": [
    {
     "data": {
      "text/plain": [
       "count    12362.000000\n",
       "mean        20.189937\n",
       "std         45.482021\n",
       "min          0.000000\n",
       "25%          1.000000\n",
       "50%          4.000000\n",
       "75%         19.000000\n",
       "max       1394.000000\n",
       "Name: historical_existing_cnt, dtype: float64"
      ]
     },
     "execution_count": 51,
     "metadata": {},
     "output_type": "execute_result"
    }
   ],
   "source": [
    "df_train['historical_existing_cnt'].describe()"
   ]
  },
  {
   "cell_type": "markdown",
   "id": "39f8ea11",
   "metadata": {},
   "source": [
    "***\n",
    "***"
   ]
  },
  {
   "cell_type": "markdown",
   "id": "bcff7904",
   "metadata": {},
   "source": [
    "## ***9. id_strategic_ver***\n",
    "(도메인 지식) 특정 사업부(Business Unit이 ID일 때), 특정 사업 영역(Vertical Level1)에 대해 가중치를 부여"
   ]
  },
  {
   "cell_type": "markdown",
   "id": "98d22ea1",
   "metadata": {},
   "source": [
    "> 특정 사업부 -> ID / 특정 사업 영역 -> ['corporate / office', 'hotel & accommodation']"
   ]
  },
  {
   "cell_type": "code",
   "execution_count": 52,
   "id": "80f24642",
   "metadata": {
    "scrolled": true
   },
   "outputs": [
    {
     "data": {
      "text/plain": [
       "52409"
      ]
     },
     "execution_count": 52,
     "metadata": {},
     "output_type": "execute_result"
    }
   ],
   "source": [
    "df_train['id_strategic_ver'].isnull().sum()"
   ]
  },
  {
   "cell_type": "code",
   "execution_count": 53,
   "id": "ac486eae",
   "metadata": {},
   "outputs": [
    {
     "data": {
      "text/plain": [
       "id_strategic_ver\n",
       "1.0    3333\n",
       "Name: count, dtype: int64"
      ]
     },
     "execution_count": 53,
     "metadata": {},
     "output_type": "execute_result"
    }
   ],
   "source": [
    "df_train['id_strategic_ver'].value_counts()"
   ]
  },
  {
   "cell_type": "code",
   "execution_count": 54,
   "id": "95ae2f3c",
   "metadata": {
    "scrolled": true
   },
   "outputs": [
    {
     "data": {
      "text/plain": [
       "array(['corporate / office', 'hotel & accommodation'], dtype=object)"
      ]
     },
     "execution_count": 54,
     "metadata": {},
     "output_type": "execute_result"
    }
   ],
   "source": [
    "df_train[df_train['id_strategic_ver'].notna()]['business_area'].unique()"
   ]
  },
  {
   "cell_type": "markdown",
   "id": "992efb4a",
   "metadata": {},
   "source": [
    "결측치 0으로 대체"
   ]
  },
  {
   "cell_type": "code",
   "execution_count": 55,
   "id": "8fde66e3",
   "metadata": {},
   "outputs": [],
   "source": [
    "df_train['id_strategic_ver'] = df_train['id_strategic_ver'].fillna(0)\n",
    "df_test['id_strategic_ver'] = df_test['id_strategic_ver'].fillna(0)"
   ]
  },
  {
   "cell_type": "markdown",
   "id": "abfd9b70",
   "metadata": {},
   "source": [
    "***\n",
    "***"
   ]
  },
  {
   "cell_type": "markdown",
   "id": "45e7bd20",
   "metadata": {},
   "source": [
    "## ***10. it_strategic_ver***\n",
    "(도메인 지식) 특정 사업부(Business Unit이 IT일 때), 특정 사업 영역(Vertical Level1)에 대해 가중치를 부여"
   ]
  },
  {
   "cell_type": "markdown",
   "id": "06c8f53d",
   "metadata": {},
   "source": [
    "> 특정 사업부 -> IT / 특정 사업 영역 -> ['corporate / office', 'hotel & accommodation']"
   ]
  },
  {
   "cell_type": "code",
   "execution_count": 56,
   "id": "512f3c89",
   "metadata": {
    "scrolled": true
   },
   "outputs": [
    {
     "data": {
      "text/plain": [
       "54634"
      ]
     },
     "execution_count": 56,
     "metadata": {},
     "output_type": "execute_result"
    }
   ],
   "source": [
    "df_train['it_strategic_ver'].isnull().sum()"
   ]
  },
  {
   "cell_type": "code",
   "execution_count": 57,
   "id": "244e9241",
   "metadata": {},
   "outputs": [
    {
     "data": {
      "text/plain": [
       "it_strategic_ver\n",
       "1.0    1108\n",
       "Name: count, dtype: int64"
      ]
     },
     "execution_count": 57,
     "metadata": {},
     "output_type": "execute_result"
    }
   ],
   "source": [
    "df_train['it_strategic_ver'].value_counts()"
   ]
  },
  {
   "cell_type": "code",
   "execution_count": 58,
   "id": "32678b73",
   "metadata": {
    "scrolled": true
   },
   "outputs": [
    {
     "data": {
      "text/plain": [
       "array(['corporate / office', 'hotel & accommodation'], dtype=object)"
      ]
     },
     "execution_count": 58,
     "metadata": {},
     "output_type": "execute_result"
    }
   ],
   "source": [
    "df_train[df_train['it_strategic_ver'].notna()]['business_area'].unique()"
   ]
  },
  {
   "cell_type": "markdown",
   "id": "a1d66a4f",
   "metadata": {},
   "source": [
    "결측치 0으로 대체"
   ]
  },
  {
   "cell_type": "code",
   "execution_count": 59,
   "id": "edd7c991",
   "metadata": {},
   "outputs": [],
   "source": [
    "df_train['it_strategic_ver'] = df_train['it_strategic_ver'].fillna(0)\n",
    "df_test['it_strategic_ver'] = df_test['it_strategic_ver'].fillna(0)"
   ]
  },
  {
   "cell_type": "markdown",
   "id": "180255d0",
   "metadata": {},
   "source": [
    "***\n",
    "***"
   ]
  },
  {
   "cell_type": "markdown",
   "id": "70e23516",
   "metadata": {},
   "source": [
    "## ***11. idit_strategic_ver***\n",
    "Id_strategic_ver이나 it_strategic_ver 값 중 하나라도 1의 값을 가지면 1 값으로 표현"
   ]
  },
  {
   "cell_type": "code",
   "execution_count": 60,
   "id": "b2763cfa",
   "metadata": {
    "scrolled": true
   },
   "outputs": [
    {
     "data": {
      "text/plain": [
       "51301"
      ]
     },
     "execution_count": 60,
     "metadata": {},
     "output_type": "execute_result"
    }
   ],
   "source": [
    "df_train['idit_strategic_ver'].isnull().sum()"
   ]
  },
  {
   "cell_type": "code",
   "execution_count": 61,
   "id": "9cd3a782",
   "metadata": {},
   "outputs": [
    {
     "data": {
      "text/plain": [
       "idit_strategic_ver\n",
       "1.0    4441\n",
       "Name: count, dtype: int64"
      ]
     },
     "execution_count": 61,
     "metadata": {},
     "output_type": "execute_result"
    }
   ],
   "source": [
    "df_train['idit_strategic_ver'].value_counts()"
   ]
  },
  {
   "cell_type": "markdown",
   "id": "7e1240e5",
   "metadata": {},
   "source": [
    "결측치 0으로 대체"
   ]
  },
  {
   "cell_type": "code",
   "execution_count": 62,
   "id": "7ecdea42",
   "metadata": {},
   "outputs": [],
   "source": [
    "df_train['idit_strategic_ver'] = df_train['idit_strategic_ver'].fillna(0)\n",
    "df_test['idit_strategic_ver'] = df_test['idit_strategic_ver'].fillna(0)"
   ]
  },
  {
   "cell_type": "markdown",
   "id": "1d4adf54",
   "metadata": {},
   "source": [
    "***\n",
    "***"
   ]
  },
  {
   "cell_type": "markdown",
   "id": "ac2fb954",
   "metadata": {},
   "source": [
    "## ***12. customer_job***\n",
    "고객의 직업군"
   ]
  },
  {
   "cell_type": "code",
   "execution_count": 63,
   "id": "8e699087",
   "metadata": {
    "scrolled": true
   },
   "outputs": [
    {
     "data": {
      "text/plain": [
       "16776"
      ]
     },
     "execution_count": 63,
     "metadata": {},
     "output_type": "execute_result"
    }
   ],
   "source": [
    "df_train['customer_job'].isnull().sum()"
   ]
  },
  {
   "cell_type": "code",
   "execution_count": 64,
   "id": "eb7472a3",
   "metadata": {
    "scrolled": true
   },
   "outputs": [
    {
     "data": {
      "text/plain": [
       "customer_job\n",
       "engineering                       6021\n",
       "other                             4500\n",
       "administrative                    3282\n",
       "education                         2260\n",
       "sales                             2138\n",
       "                                  ... \n",
       "consultant,cabinet fabricator        1\n",
       "appliance specialist                 1\n",
       "av estimator                         1\n",
       "purchasers                           1\n",
       "exhibition / convention center       1\n",
       "Name: count, Length: 560, dtype: int64"
      ]
     },
     "execution_count": 64,
     "metadata": {},
     "output_type": "execute_result"
    }
   ],
   "source": [
    "df_train['customer_job'].value_counts()"
   ]
  },
  {
   "cell_type": "code",
   "execution_count": 65,
   "id": "bd0e7459",
   "metadata": {},
   "outputs": [
    {
     "data": {
      "text/plain": [
       "560"
      ]
     },
     "execution_count": 65,
     "metadata": {},
     "output_type": "execute_result"
    }
   ],
   "source": [
    "df_train['customer_job'].nunique()"
   ]
  },
  {
   "cell_type": "markdown",
   "id": "07d83af1",
   "metadata": {},
   "source": [
    "결측치 Unknown으로 대체"
   ]
  },
  {
   "cell_type": "code",
   "execution_count": 66,
   "id": "addae8eb",
   "metadata": {},
   "outputs": [],
   "source": [
    "#customer_job NAN\n",
    "df_train['customer_job'] = df_train['customer_job'].fillna('Unknown')\n",
    "df_test['customer_job'] = df_test['customer_job'].fillna('Unknown')"
   ]
  },
  {
   "cell_type": "markdown",
   "id": "a7861184",
   "metadata": {},
   "source": [
    "일부 오탈자 및 비슷한 직업 묶기"
   ]
  },
  {
   "cell_type": "code",
   "execution_count": 67,
   "id": "ec841fe7",
   "metadata": {},
   "outputs": [],
   "source": [
    "# engineering\n",
    "engineering_lst = df_train.loc[df_train['customer_job'].str.contains('engine', case=False, na=False), 'customer_job'].unique()\n",
    "\n",
    "for i in engineering_lst:\n",
    "    df_train.loc[df_train['customer_job'].str.contains(i, case=False, na=False), 'customer_job'] = 'engineering'\n",
    "    df_test.loc[df_test['customer_job'].str.contains(i, case=False, na=False), 'customer_job'] = 'engineering'\n",
    "    \n",
    "# administrative\n",
    "administrative_lst = df_train.loc[df_train['customer_job'].str.contains('admin', case=False, na=False), 'customer_job'].unique()\n",
    "\n",
    "for i in administrative_lst:\n",
    "    df_train.loc[df_train['customer_job'].str.contains(i, case=False, na=False), 'customer_job'] = 'administrative'\n",
    "    df_test.loc[df_test['customer_job'].str.contains(i, case=False, na=False), 'customer_job'] = 'administrative'\n",
    "    \n",
    "#education\n",
    "education_lst = list(df_train.loc[df_train['customer_job'].str.contains('edu', case=False, na=False), 'customer_job'].unique())\n",
    "\n",
    "for i in education_lst:\n",
    "    df_train.loc[df_train['customer_job'].str.contains(i, case=False, na=False), 'customer_job'] = 'education'\n",
    "    df_test.loc[df_test['customer_job'].str.contains(i, case=False, na=False), 'customer_job'] = 'education'\n",
    "    \n",
    "# administrative\n",
    "administrative_lst = df_train.loc[df_train['customer_job'].str.contains('admin', case=False, na=False), 'customer_job'].unique()\n",
    "\n",
    "for i in administrative_lst:\n",
    "    df_train.loc[df_train['customer_job'].str.contains(i, case=False, na=False), 'customer_job'] = 'administrative'\n",
    "    df_test.loc[df_test['customer_job'].str.contains(i, case=False, na=False), 'customer_job'] = 'administrative'\n",
    "\n",
    "#healthcare services\n",
    "healthcare_services_lst = list(df_train.loc[df_train['customer_job'].str.contains('health', case=False, na=False), 'customer_job'].unique())\n",
    "\n",
    "for i in healthcare_services_lst:\n",
    "    df_train.loc[df_train['customer_job'].str.contains(i, case=False, na=False), 'customer_job'] = 'healthcare services'\n",
    "    df_test.loc[df_test['customer_job'].str.contains(i, case=False, na=False), 'customer_job'] = 'healthcare services'\n",
    "    \n",
    "# sales\n",
    "sales_lst = df_train.loc[df_train['customer_job'].str.contains('sale', case=False, na=False), 'customer_job'].unique()\n",
    "\n",
    "for i in sales_lst:\n",
    "    df_train.loc[df_train['customer_job'].str.contains(i, case=False, na=False), 'customer_job'] = 'sales'\n",
    "    df_test.loc[df_test['customer_job'].str.contains(i, case=False, na=False), 'customer_job'] = 'sales'\n",
    "    \n",
    "# operations\n",
    "operations_lst = df_train.loc[df_train['customer_job'].str.contains('sale', case=False, na=False), 'customer_job'].unique()\n",
    "\n",
    "for i in operations_lst:\n",
    "    df_train.loc[df_train['customer_job'].str.contains(i, case=False, na=False), 'customer_job'] = 'operations'\n",
    "    df_test.loc[df_test['customer_job'].str.contains(i, case=False, na=False), 'customer_job'] = 'operations'\n",
    "\n",
    "# information technology\n",
    "information_technology_lst = df_train.loc[df_train['customer_job'].str.contains('inform', case=False, na=False), 'customer_job'].unique()\n",
    "\n",
    "for i in information_technology_lst:\n",
    "    df_train.loc[df_train['customer_job'].str.contains(i, case=False, na=False), 'customer_job'] = 'information technology'\n",
    "    df_test.loc[df_test['customer_job'].str.contains(i, case=False, na=False), 'customer_job'] = 'information technology'\n",
    "    \n",
    "# purchasing\n",
    "purchasing_lst = df_train.loc[df_train['customer_job'].str.contains('purchas', case=False, na=False), 'customer_job'].unique()\n",
    "\n",
    "for i in purchasing_lst:\n",
    "    df_train.loc[df_train['customer_job'].str.contains(i, case=False, na=False), 'customer_job'] = 'purchasing'\n",
    "    df_test.loc[df_test['customer_job'].str.contains(i, case=False, na=False), 'customer_job'] = 'purchasing'\n",
    "    \n",
    "# business development\n",
    "business_development_lst = df_train.loc[df_train['customer_job'].str.contains('develop', case=False, na=False), 'customer_job'].unique()\n",
    "\n",
    "for i in business_development_lst:\n",
    "    df_train.loc[df_train['customer_job'].str.contains(i, case=False, na=False), 'customer_job'] = 'business development'\n",
    "    df_test.loc[df_test['customer_job'].str.contains(i, case=False, na=False), 'customer_job'] = 'business development'\n",
    "    \n",
    "# consulting\n",
    "consulting_lst = df_train.loc[df_train['customer_job'].str.contains('consult', case=False, na=False), 'customer_job'].unique()\n",
    "\n",
    "for i in consulting_lst:\n",
    "    df_train.loc[df_train['customer_job'].str.contains(i, case=False, na=False), 'customer_job'] = 'consulting'\n",
    "    df_test.loc[df_test['customer_job'].str.contains(i, case=False, na=False), 'customer_job'] = 'consulting'\n",
    "\n",
    "# art and design\n",
    "art_and_design_lst = list(df_train.loc[df_train['customer_job'].str.contains('design', case=False, na=False), 'customer_job'].unique())\n",
    "art_and_design_lst.extend(['graphic/color art', 'artist, lead on equipment selection', 'art installation', '3d/vfx art', 'arte y diseño'])\n",
    "\n",
    "for i in art_and_design_lst:\n",
    "    df_train.loc[df_train['customer_job'].str.contains(i, case=False, na=False), 'customer_job'] = 'art and design'\n",
    "    df_test.loc[df_test['customer_job'].str.contains(i, case=False, na=False), 'customer_job'] = 'art and design'\n",
    "    \n",
    "# marketing\n",
    "marketing_lst = df_train.loc[df_train['customer_job'].str.contains('market', case=False, na=False), 'customer_job'].unique()\n",
    "\n",
    "for i in marketing_lst:\n",
    "    df_train.loc[df_train['customer_job'].str.contains(i, case=False, na=False), 'customer_job'] = 'marketing'\n",
    "    df_test.loc[df_test['customer_job'].str.contains(i, case=False, na=False), 'customer_job'] = 'marketing'\n",
    "    \n",
    "# program and project management\n",
    "program_and_project_management_lst = df_train.loc[df_train['customer_job'].str.contains('program', case=False, na=False), 'customer_job'].unique()\n",
    "\n",
    "for i in program_and_project_management_lst:\n",
    "    df_train.loc[df_train['customer_job'].str.contains(i, case=False, na=False), 'customer_job'] = 'program and project management'\n",
    "    df_test.loc[df_test['customer_job'].str.contains(i, case=False, na=False), 'customer_job'] = 'program and project management'\n",
    "    \n",
    "program_and_project_management_lst_1 = df_train.loc[df_train['customer_job'].str.contains('project', case=False, na=False), 'customer_job'].unique()\n",
    "\n",
    "for i in program_and_project_management_lst_1:\n",
    "    df_train.loc[df_train['customer_job'].str.contains(i, case=False, na=False), 'customer_job'] = 'program and project management'\n",
    "    df_test.loc[df_test['customer_job'].str.contains(i, case=False, na=False), 'customer_job'] = 'program and project management'\n",
    "    \n",
    "# media and communication\n",
    "media_and_communication_lst = df_train.loc[df_train['customer_job'].str.contains('communication', case=False, na=False), 'customer_job'].unique()\n",
    "\n",
    "for i in media_and_communication_lst:\n",
    "    df_train.loc[df_train['customer_job'].str.contains(i, case=False, na=False), 'customer_job'] = 'media and communication'\n",
    "    df_test.loc[df_test['customer_job'].str.contains(i, case=False, na=False), 'customer_job'] = 'media and communication'\n",
    "    \n",
    "media_and_communication_lst_1 = df_train.loc[df_train['customer_job'].str.contains('media', case=False, na=False), 'customer_job'].unique()\n",
    "\n",
    "for i in media_and_communication_lst_1:\n",
    "    df_train.loc[df_train['customer_job'].str.contains(i, case=False, na=False), 'customer_job'] = 'media and communication'\n",
    "    df_test.loc[df_test['customer_job'].str.contains(i, case=False, na=False), 'customer_job'] = 'media and communication'\n",
    "    \n",
    "# product management\n",
    "product_management_lst = df_train.loc[df_train['customer_job'].str.contains('product_management', case=False, na=False), 'customer_job'].unique()\n",
    "\n",
    "for i in product_management_lst:\n",
    "    df_train.loc[df_train['customer_job'].str.contains(i, case=False, na=False), 'customer_job'] = 'product management'\n",
    "    df_test.loc[df_test['customer_job'].str.contains(i, case=False, na=False), 'customer_job'] = 'product management'\n",
    "    \n",
    "# finance\n",
    "finance_lst = df_train.loc[df_train['customer_job'].str.contains('market', case=False, na=False), 'customer_job'].unique()\n",
    "\n",
    "for i in finance_lst:\n",
    "    df_train.loc[df_train['customer_job'].str.contains(i, case=False, na=False), 'customer_job'] = 'finance'\n",
    "    df_test.loc[df_test['customer_job'].str.contains(i, case=False, na=False), 'customer_job'] = 'finance'\n",
    "    \n",
    "# other\n",
    "other_lst = df_train.loc[df_train['customer_job'].str.contains('other', case=False, na=False), 'customer_job'].unique()\n",
    "\n",
    "for i in other_lst:\n",
    "    df_train.loc[df_train['customer_job'].str.contains(i, case=False, na=False), 'customer_job'] = 'other'\n",
    "    df_test.loc[df_test['customer_job'].str.contains(i, case=False, na=False), 'customer_job'] = 'other'\n",
    "    \n",
    "# accounting\n",
    "accounting_lst = df_train.loc[df_train['customer_job'].str.contains('account', case=False, na=False), 'customer_job'].unique()\n",
    "\n",
    "for i in accounting_lst:\n",
    "    df_train.loc[df_train['customer_job'].str.contains(i, case=False, na=False), 'customer_job'] = 'accounting'\n",
    "    df_test.loc[df_test['customer_job'].str.contains(i, case=False, na=False), 'customer_job'] = 'accounting'\n",
    "    \n",
    "# support\n",
    "support_lst = df_train.loc[df_train['customer_job'].str.contains('account', case=False, na=False), 'customer_job'].unique()\n",
    "\n",
    "for i in support_lst:\n",
    "    df_train.loc[df_train['customer_job'].str.contains(i, case=False, na=False), 'customer_job'] = 'support'\n",
    "    df_test.loc[df_test['customer_job'].str.contains(i, case=False, na=False), 'customer_job'] = 'support'"
   ]
  },
  {
   "cell_type": "markdown",
   "id": "36745e39",
   "metadata": {},
   "source": [
    "561 -> 384"
   ]
  },
  {
   "cell_type": "code",
   "execution_count": 68,
   "id": "75e71500",
   "metadata": {},
   "outputs": [
    {
     "data": {
      "text/plain": [
       "384"
      ]
     },
     "execution_count": 68,
     "metadata": {},
     "output_type": "execute_result"
    }
   ],
   "source": [
    "df_train['customer_job'].nunique()"
   ]
  },
  {
   "cell_type": "markdown",
   "id": "313d7924",
   "metadata": {},
   "source": [
    "***\n",
    "***"
   ]
  },
  {
   "cell_type": "markdown",
   "id": "ad8a595d",
   "metadata": {},
   "source": [
    "## ***13. lead_desc_length***\n",
    "고객이 작성한 Lead Descriptoin 텍스트 총 길이"
   ]
  },
  {
   "cell_type": "code",
   "execution_count": 69,
   "id": "0bddd6ac",
   "metadata": {
    "scrolled": true
   },
   "outputs": [
    {
     "data": {
      "text/plain": [
       "0"
      ]
     },
     "execution_count": 69,
     "metadata": {},
     "output_type": "execute_result"
    }
   ],
   "source": [
    "df_train['lead_desc_length'].isnull().sum()"
   ]
  },
  {
   "cell_type": "code",
   "execution_count": 70,
   "id": "c5a07d98",
   "metadata": {
    "scrolled": true
   },
   "outputs": [
    {
     "data": {
      "text/plain": [
       "count    55742.000000\n",
       "mean        80.824872\n",
       "std        133.883205\n",
       "min          1.000000\n",
       "25%          8.000000\n",
       "50%         31.000000\n",
       "75%         94.000000\n",
       "max       1264.000000\n",
       "Name: lead_desc_length, dtype: float64"
      ]
     },
     "execution_count": 70,
     "metadata": {},
     "output_type": "execute_result"
    }
   ],
   "source": [
    "df_train['lead_desc_length'].describe()"
   ]
  },
  {
   "cell_type": "markdown",
   "id": "3d4787ad",
   "metadata": {},
   "source": [
    "***\n",
    "***"
   ]
  },
  {
   "cell_type": "markdown",
   "id": "926accb0",
   "metadata": {},
   "source": [
    "## ***14. inquiry_type***\n",
    "고객의 문의 유형"
   ]
  },
  {
   "cell_type": "code",
   "execution_count": 71,
   "id": "143e86ad",
   "metadata": {
    "scrolled": true
   },
   "outputs": [
    {
     "data": {
      "text/plain": [
       "891"
      ]
     },
     "execution_count": 71,
     "metadata": {},
     "output_type": "execute_result"
    }
   ],
   "source": [
    "df_train['inquiry_type'].isnull().sum()"
   ]
  },
  {
   "cell_type": "code",
   "execution_count": 72,
   "id": "8be68c2f",
   "metadata": {
    "scrolled": true
   },
   "outputs": [
    {
     "data": {
      "text/plain": [
       "inquiry_type\n",
       "Quotation or purchase consultation    22904\n",
       "Quotation or Purchase Consultation    17194\n",
       "Sales Inquiry                          8844\n",
       "Product Information                    1100\n",
       "Other                                   901\n",
       "Name: count, dtype: int64"
      ]
     },
     "execution_count": 72,
     "metadata": {},
     "output_type": "execute_result"
    }
   ],
   "source": [
    "df_train['inquiry_type'].value_counts().head(5)"
   ]
  },
  {
   "cell_type": "code",
   "execution_count": 73,
   "id": "6b9551a2",
   "metadata": {},
   "outputs": [
    {
     "data": {
      "text/plain": [
       "71"
      ]
     },
     "execution_count": 73,
     "metadata": {},
     "output_type": "execute_result"
    }
   ],
   "source": [
    "df_train['inquiry_type'].nunique()"
   ]
  },
  {
   "cell_type": "markdown",
   "id": "178d4dfc",
   "metadata": {},
   "source": [
    "일부 오탈자 및 비슷한 직업 묶기"
   ]
  },
  {
   "cell_type": "code",
   "execution_count": 74,
   "id": "77ea7a12",
   "metadata": {},
   "outputs": [],
   "source": [
    "# Quotation or Purchase Consultation\n",
    "df_train.loc[df_train['inquiry_type'].str.contains(\"quotation\", case=False, na=False), 'inquiry_type'] = 'Quotation or Purchase Consultation'\n",
    "df_test.loc[df_test['inquiry_type'].str.contains(\"quotation\", case=False, na=False), 'inquiry_type'] = 'Quotation or Purchase Consultation'\n",
    "df_train.loc[df_train['inquiry_type'].str.contains(\"purchase\", case=False, na=False), 'inquiry_type'] = 'Quotation or Purchase Consultation'\n",
    "df_test.loc[df_test['inquiry_type'].str.contains(\"purchase\", case=False, na=False), 'inquiry_type'] = 'Quotation or Purchase Consultation'\n",
    "\n",
    "# Sales Inquiry\n",
    "df_train.loc[df_train['inquiry_type'].str.contains(\"sale\", case=False, na=False), 'inquiry_type'] = 'Sales Inquiry'\n",
    "df_test.loc[df_test['inquiry_type'].str.contains(\"sale\", case=False, na=False), 'inquiry_type'] = 'Sales Inquiry'\n",
    "\n",
    "# Usage or Technical Consultation\n",
    "df_train.loc[df_train['inquiry_type'].str.contains(\"Technical Consultation\", case=False, na=False), 'inquiry_type'] = 'Usage or Technical Consultation'\n",
    "df_test.loc[df_test['inquiry_type'].str.contains(\"Technical Consultation\", case=False, na=False), 'inquiry_type'] = 'Usage or Technical Consultation'\n",
    "df_train.loc[df_train['inquiry_type'].str.contains(\"usage\", case=False, na=False), 'inquiry_type'] = 'Usage or Technical Consultation'\n",
    "df_test.loc[df_test['inquiry_type'].str.contains(\"usage\", case=False, na=False), 'inquiry_type'] = 'Usage or Technical Consultation'\n",
    "df_train.loc[df_train['inquiry_type'].str.contains(\"Technical\", case=False, na=False), 'inquiry_type'] = 'Usage or Technical Consultation'\n",
    "df_test.loc[df_test['inquiry_type'].str.contains(\"Technical\", case=False, na=False), 'inquiry_type'] = 'Usage or Technical Consultation'\n",
    "\n",
    "# Other\n",
    "df_train.loc[df_train['inquiry_type'].str.contains(\"other\", case=False, na=False), 'inquiry_type'] = 'Other'\n",
    "df_test.loc[df_test['inquiry_type'].str.contains(\"other\", case=False, na=False), 'inquiry_type'] = 'Other'\n",
    "df_train.loc[df_train['inquiry_type'].str.contains(\"etc\", case=False, na=False), 'inquiry_type'] = 'Other'\n",
    "df_test.loc[df_test['inquiry_type'].str.contains(\"etc\", case=False, na=False), 'inquiry_type'] = 'Other'\n",
    "#Product Information\n",
    "df_train.loc[df_train['inquiry_type'].str.contains(\"product\", case=False, na=False), 'inquiry_type'] = 'Product Information'\n",
    "df_test.loc[df_test['inquiry_type'].str.contains(\"product\", case=False, na=False), 'inquiry_type'] = 'Product Information'\n",
    "\n",
    "\n",
    "# Request for Partnership\n",
    "df_train.loc[df_train['inquiry_type'].str.contains(\"partnership\", case=False, na=False), 'inquiry_type'] = 'Request for Partnership'\n",
    "df_test.loc[df_test['inquiry_type'].str.contains(\"partnership\", case=False, na=False), 'inquiry_type'] = 'Request for Partnership'\n",
    "\n",
    "\n",
    "# Services\n",
    "df_train.loc[df_train['inquiry_type'].str.contains(\"service\", case=False, na=False), 'inquiry_type'] = 'Services'\n",
    "df_test.loc[df_test['inquiry_type'].str.contains(\"service\", case=False, na=False), 'inquiry_type'] = 'Services'\n",
    "\n",
    "\n",
    "# Trainings\n",
    "df_train.loc[df_train['inquiry_type'].str.contains(\"train\", case=False, na=False), 'inquiry_type'] = 'Trainings'\n",
    "df_test.loc[df_test['inquiry_type'].str.contains(\"train\", case=False, na=False), 'inquiry_type'] = 'Trainings'"
   ]
  },
  {
   "cell_type": "markdown",
   "id": "fef1858d",
   "metadata": {},
   "source": [
    "71 -> 44"
   ]
  },
  {
   "cell_type": "code",
   "execution_count": 75,
   "id": "ecb77fb4",
   "metadata": {
    "scrolled": true
   },
   "outputs": [
    {
     "data": {
      "text/plain": [
       "44"
      ]
     },
     "execution_count": 75,
     "metadata": {},
     "output_type": "execute_result"
    }
   ],
   "source": [
    "df_train['inquiry_type'].nunique()"
   ]
  },
  {
   "cell_type": "markdown",
   "id": "590b9f34",
   "metadata": {},
   "source": [
    "***\n",
    "***"
   ]
  },
  {
   "cell_type": "markdown",
   "id": "ea617e58",
   "metadata": {},
   "source": [
    "## ***15. product_category***\n",
    "요청 제품 카테고리"
   ]
  },
  {
   "cell_type": "code",
   "execution_count": 76,
   "id": "d21d0e38",
   "metadata": {},
   "outputs": [],
   "source": [
    "df_train['raw_product_category'] = df_train['product_category'].copy()\n",
    "df_test['raw_product_category'] = df_test['product_category'].copy()"
   ]
  },
  {
   "cell_type": "code",
   "execution_count": 77,
   "id": "6c7b14f2",
   "metadata": {},
   "outputs": [
    {
     "data": {
      "text/plain": [
       "17146"
      ]
     },
     "execution_count": 77,
     "metadata": {},
     "output_type": "execute_result"
    }
   ],
   "source": [
    "df_train['product_category'].isnull().sum()"
   ]
  },
  {
   "cell_type": "code",
   "execution_count": 78,
   "id": "7eeb58d4",
   "metadata": {},
   "outputs": [
    {
     "data": {
      "text/plain": [
       "357"
      ]
     },
     "execution_count": 78,
     "metadata": {},
     "output_type": "execute_result"
    }
   ],
   "source": [
    "df_train['product_category'].nunique()"
   ]
  },
  {
   "cell_type": "code",
   "execution_count": 79,
   "id": "39a87843",
   "metadata": {},
   "outputs": [],
   "source": [
    "product_dict ={\n",
    "'interactive digital board' : 'Commercial Display / Interactive Signage', 'vrf' : 'HVAC, ESS / VRF', 'multi-split' : 'HVAC, ESS / Multi-Split', 'video wall signage' : 'Commercial Display / Video Wall Signage', 'etc.' : 'etc.', 'led signage' : 'Commercial Display / LED Signage', 'interactive signage' : 'Commercial Display / Interactive Signage', 'single-split' : 'HVAC, ESS / Single-Split', 'rac' : 'HVAC, ESS / AC', 'oled signage' : 'Commercial Display / OLED Signage', 'hotel tv' : 'Commercial Display / Hotel TV', 'chiller' : 'HVAC, ESS / Chiller', 'standard signage' : 'Commercial Display / Standard Signage', 'medical display' : 'IT PRODUCTS / Medical Display', 'lg one:quick series' : 'Commercial Display / One:Quick Series', 'monitor': 'IT PRODUCTS / Monitor', 'one:quick series' : 'Commercial Display / One:Quick Series', 'heating' : 'HVAC, ESS / Heating', 'high brightness signage' : 'Commercial Display / High Brightness Signage', 'ventilation' : 'HVAC, ESS / Ventilation', 'teto ou cassete inverter' : 'HVAC, ESS / inverter', 'control' : 'HVAC, ESS / Control', 'multi inverter' : 'HVAC, ESS / inverter', 'ar condicionado residencial' : 'HVAC, ESS / AC', 'high brightness' : 'Commercial Display / High Brightness Signage', 'software solution' : 'Commercial Display / Software Solution', 'accessories' : 'Commercial Display / Accessories', 'special signage' : 'Commercial Display / Special Signage', 'hospital tv' : 'Commercial Display / Hospital TV', 'webos' : 'Commercial Display / WebOS', 'pc' : 'IT PRODUCTS', 'pro:centric' : 'Commercial Display / Pro:Centric', 'video wall' : 'Commercial Display / Video Wall Signage', 'projector' : 'IT PRODUCTS / Projector', 'all lg vrf systems' : 'HVAC, ESS / VRF', 'commercial display' : 'Commercial Display', 'residential air conditioner' :  'HVAC, ESS / AC', 'ur640' : 'Commercial Display', 'outros' : 'others', 'signage care solution' : 'Commercial Display / Signage Care Solution', 'multi v 5 air' : 'HVAC, ESS / ou', 'smart tv signage' : 'Commercial Display', 'technical support' : 'technical support', 'ur640s' : 'Commercial Display', 'cloud device' : 'IT PRODUCTS / Cloud Device', 'medical displays' : 'IT PRODUCTS / Medical Display', 'laptop' : 'IT PRODUCTS / Laptop', 'a thermodynamic water heater' : 'HVAC, ESS / Heating', 'uhd signage' : 'Commercial Display', 'monitor signage,monior/monitor tv' : 'Commercial Display', 'idb' : 'Commercial Display / Interactive Signage', 'virtual production' : 'virtual production', 'ogrzewanie (pompy ciepła)' : 'HVAC, ESS / Chiller', 'commercial tv' : 'Commercial Display / commercial tv', 'videowall_rmk' : 'Commercial Display / Video Wall Signage', 'digital signage' : 'Commercial Display / Digital Signage', '43us660h0sd.awz' : 'Commercial Display / Hotel TV', 'ledallinone' : 'Commercial Display / LED Signage', 'solar,ess' : 'solar & ess', 'services' : 'services', 'commercial tv,tv' : 'Commercial Display / commercial tv', 'monitor & pc' : 'IT PRODUCTS', 'aire acondicionado residencial' : 'HVAC, ESS / AC', 'onequick series' : 'Commercial Display / One:Quick Series', 'others' : 'others', 'led 顯示屏' : 'Commercial Display / LED Signage', 'education createboard' : 'Commercial Display / Interactive Signage', '28mq780' : 'IT PRODUCTS / Monitor', '32lq621cbsb.awz' : 'Commercial Display', 'other' : 'others', 'monior/monitor tv,tv' : 'Commercial Display', 'multi v water 5' : 'HVAC, ESS / ou', 'isıtma' : 'HVAC, ESS / Heating', 'tv' : 'Commercial Display', 'standalone' : 'Commercial Display', 'lainnya' : 'others', 'id' : 'id', 'calefacción' : 'HVAC, ESS / Heating', 'otros' : 'others', 'solar,system ac' : 'solar & HVAC, ESS / AC', 'sales inquiry' : '판매문의', 'fhd series' : 'Commercial Display', 'lg one:quick' : 'Commercial Display / One:Quick Series', 'washing machine,dryer' : 'Home Appliances / Washing Machine & Dryer', 'solar,aircare' : 'solar & Home Appliances / Aircare', '互動式顯示屏' : 'Commercial Display / Interactive signage', 'تكييف وتبريد' : 'HVAC, ESS / AC', 'tv signage' : 'Commercial Display', 'chiller,aircare' : 'HVAC, ESS / Chiller & Home Appliances / Aircare', 'system ac,aircare' : 'HVAC, ESS / AC & Home Appliances / Aircare', 'allinone_rmk' : 'all in one', 'led' : 'Commercial Display / LED Signage', 'multi v5 vrf' : 'HVAC, ESS / VRF', 'signage' : 'Commercial Display', 'điều hòa trung tâm multi' : 'HVAC, ESS', 'solar,chiller' : 'solar & HVAC, ESS / Chiller', 'vrf,multi-split,single-split' : 'HVAC, ESS / VRF & Multi-Split & Single-Split', 'monitor signage,commercial tv' : 'Commercial Display / commercial tv', 'leadallin' : 'Commercial Display / LED Signage', 'oled 顯示屏' : 'Commercial Display / OLED Signage', 'soğutucu' : 'HVAC, ESS / AC', 'robots' : 'Robot', 'htv' : 'Commercial Display', 'vrf,multi-split,single-split,chiller' : 'HVAC, ESS / VRF & Multi-Split & Single-Split & Chiller', 'vrf,multi-split' : 'HVAC, ESS / VRF & Multi-Split', 'computer monitors' : 'IT PRODUCTS / Monitor', 'vrf,single-split' : 'HVAC, ESS / VRF & Single-Split', 'system ac,chiller' : 'HVAC, ESS / AC & Chiller', 'single split' : 'HVAC, ESS / Single-Split', 'מזגנים למקום מגורים' : 'HVAC, ESS / AC', '標準顯示屏' : 'Commercial Display', 'monitor signage,commercial tv,monior/monitor tv' : 'Commercial Display / commercial tv & Commercial Display', 'monitor signage,commercial tv,solar,ess,monior/monitor tv,pc,projector,robot,system ac,ems,rac,chill' : 'Commercial Display / commercial tv & Commercial Display & IT PRODUCTS / Projector & HVAC, ESS / AC & HVAC, ESS / Chiller & ems & HVAC, ESS / AC & Robot', 'commercial tv,projector' : 'Commercial Display / commercial tv & IT PRODUCTS / Projector', 'corpouh5f' : 'Commercial Display', 'commercial tv,monior/monitor tv' : 'Commercial Display / commercial tv & Commercial Display', 'error' : 'error', 'تكييفات' : 'HVAC, ESS / AC', 'standard' : 'Commercial Display / Standard Signage', 'مبرد (تشيلر)' : 'HVAC, ESS / AC', 'نظام التدفق المتغيرvrf' : 'HVAC, ESS / VRF', 'vb.' : 'Home Appliances / Vacuum Cleaner', 'multi-split (plusieurs pièces)' : 'HVAC, ESS / Multi-Split', 'lg customer care program' : 'lg customer care program', 'aquecimento' : 'HVAC, ESS / Heating', 'laec015' : 'Commercial Display / LED Signage', 'commercial tv,audio/video' : 'Commercial Display / commercial tv & Commercial Display / AV', 'monitor signage,tv' : 'Commercial Display', 'medical monitors' : 'IT PRODUCTS / Medical Display', 'vrf,multi-split,single-split,chiller,heating' : 'HVAC, ESS / VRF & Multi-Split & Single-Split & Chiller & Heating', 'ultra stretch signage' : 'Commercial Display', 'autre' : 'others', 'solar' : 'solar', 'corpuh5f-' : 'Commercial Display', 'monitor signage,pc' : 'Commercial Display & IT PRODUCTS', 'digital signage or commercial tvs' : 'Commercial Display / Digital Signage & Commercial Display / commercial tv', 'monior/monitor tv,pc' : 'Commercial Display & IT PRODUCTS / pc', '特別顯示屏' : 'IT PRODUCTS / Monitor', 'חימום' : 'HVAC, ESS / Heating', 'vrf,chiller' : 'HVAC, ESS / VRF & Chiller', 'ฯลฯ' : 'none', 'system air conditioner' : 'HVAC, ESS / AC', 'hoteleria_us670h' : 'Commercial Display', '55uq801c0sb.bwz' : 'Commercial Display', 'chiller,water care' : 'HVAC, ESS / Chiller & Home Appliances / Water Care', 'klimatyzacja multi-split' : 'HVAC, ESS / Multi-Split', '43uq751c0sf.bwz' : 'Commercial Display', 'scroll compressor' : 'Compressor, Motor / Scroll Compressor', '50uq801c0sb.bwz' : 'Commercial Display', 'vrf,multi-split,single-split,heating' : 'HVAC, ESS / VRF & Multi-Split & Single-Split & Heating', 'on or several reversible ac' : 'HVAC, ESS / AC', '55us660h0sd.bwz' : 'Commercial Display / Hotel TV', 'transparent oled' : 'Commercial Display / OLED Signage', 'monitor signage,commercial tv,monior/monitor tv,projector,tv' : 'Commercial Display / commercial tv & Commercial Display & IT PRODUCTS / Projector', 'commercial tv,water care' : 'Commercial Display / commercial tv & Home Appliances / Water Care', 'one quick:flex' : 'Commercial Display / One:Quick Series', 'vrf,multi-split,single-split,chiller,etc.' : 'HVAC, ESS / VRF & Multi-Split & Single-Split & Chiller', 'tv,commercial tv' : 'Commercial Display / commercial tv',\n",
    " 'signage care solutions' : 'Commercial Display / Signage Care Solution', 'system ac,chiller,aircare' : 'HVAC, ESS & HVAC, ESS / Chiller & Home Appliances / Aircare', 'tv,refrigerator,washing machine' : 'Commercial Display & Home Appliances / Refrigerator & Washing Machine', 'climatiseur résidentiel' : 'HVAC, ESS', 'kimatyzacja vrf' : 'HVAC, ESS / VRF', 'เครื่องปรับอากาศเผื่อที่อยู่อาศัย' : 'HVAC, ESS & AC', 'monitor signage,audio/video' : 'Commercial Display & Commercial Display / AV', 'window facing display' : 'Commercial Display', 'lg home bliss air solution' : 'HVAC, ESS', 'ahu' : 'HVAC, ESS / VRF', 'split tunggal' : 'HVAC, ESS / Single-Split', 'ultra stretch series' : 'Commercial Display', 'system ac,rac' : 'HVAC, ESS / AC ', 'monitor signage,commercial tv,solar,ess,monior/monitor tv,pc' : 'Commercial Display / commercial tv & Commercial Display & IT PRODUCTS & solar & HVAC, ESS', 'bu50nst' : 'IT PRODUCTS / Projector', 'energy storage system' : 'HVAC, ESS', 'ac rumah' : 'HVAC, ESS / AC', 'commercial tv,robot' : 'Commercial Display / commercial tv & Robot', 'multi v' : 'HVAC, ESS / ou', 'tv,audio/video' : 'Commercial Display & Commercial Display / AV', 'solar,projector' : 'solar & IT PRODUCTS / Projector', 'multi split' : 'HVAC, ESS / Multi-Split', '酒店電視' : 'Commercial Display / Hotel TV', 'solar,monior/monitor tv' : 'solar & Commercial Display', 'system ac,refrigerator' : 'HVAC, ESS / AC & Home Appliances / Refrigerator', 'solar,refrigerator' : 'solar & Home Appliances / Refrigerator', 'monitor signage,system ac' : 'Commercial Display & HVAC, ESS / AC', 'system air conditioner,solar' : 'HVAC, ESS / AC & solar', 'solar,tv' : 'solar & Commercial Display', 'aio' : 'all in one', 'điều hòa cục bộ' : 'HVAC, ESS / AC', 'điều hòa gia dụng' : 'HVAC, ESS / AC', '55vm5e-a' : 'Commercial Display', 'laec15' : 'Commercial Display / LED Signage', '醫院電視' : 'Commercial Display / Hospital TV', 'ctv' : 'Commercial Display', '軟體' : 'IT PRODUCTS / software_', '55vm5j-h' : 'Commercial Display / Video Wall Signage', 'hospitality' : 'IT PRODUCTS / Medical Display', '49vl5f' : 'Commercial Display', 'monitorindustrial_rmk' : 'IT PRODUCTS / Monitor', 'lg magnit' : 'Commercial Display / LED Signage', 'retaildigital' : 'Commercial Display', 'one:quick' : 'Commercial Display / One:Quick Series', 'led cinema' : 'Commercial Display / LED Signage', '86uh5f' : 'Commercial Display', '55tc3d' : 'Commercial Display / Interactive signage', '43us660h (na)' : 'Commercial Display / Hotel TV', 'pro centric hotel' : 'Commercial Display / Hotel TV', 'comercial tv' : 'Commercial Display', 'video wall + aio' : 'Commercial Display / Video Wall Signage', '高亮度顯示屏' : 'Commercial Display / High Brightness Signage', 'led 70m2' : 'Commercial Display / LED Signage', 'single cac' : 'HVAC, ESS / AC', 'vrf - multi v s' : 'HVAC, ESS / VRF', 'procentric' : 'Commercial Display / Pro:Centric', 'monitor signage,monior/monitor tv,vacuum cleaner,tv,home beauty,commercial tv,pc,refrigerator,styler' : 'Commercial Display / commercial tv & Commercial Display & Home Appliances / Vacuum Cleaner & Home Appliances / Home Beauty & IT PRODUCTS / pc & Home Appliances / Refrigerator & Home Appliances / Styler', 'refrigerator,built-in/cooking' : 'Home Appliances / Refrigerator & Built-in, Cooking', 'ems,audio/video' : 'ems & Commercial Display / AV', 'projector,ems,mobile,audio/video' : 'IT PRODUCTS / Projector & ems & mobile & Commercial Display / AV', 'smart tv' : 'Commercial Display', 'tv 55\"' : 'Commercial Display', 'surgical monitor' : 'IT PRODUCTS / Medical Display', 'gsca046' : 'Commercial Display / LED Signage', 'gscd100' : 'Commercial Display / LED Signage', '32 pol' : 'Commercial Display', 'systèmes de débit à réfrigérant variable (drv)' : 'HVAC, ESS / AC', 'tv 43 pol' : 'Commercial Display', '43 pol' : 'Commercial Display', 'commercial tv,solar,ess,monior/monitor tv,pc,projector,robot,system ac,ems,rac,chiller,refrigerator,' : 'Commercial Display / commercial tv & HVAC, ESS / AC & solar & ess & IT PRODUCTS / Projector & Robot & Commercial Display & ems & HVAC, ESS / Chiller & Home Appliances / Refrigerator', 'tv,refrigerator' : 'Commercial Display & Home Appliances / Refrigerator', 'a definir' : 'none', 'điều hòa trung tâm chiller' : 'HVAC, ESS / Chiller', 'lsca039' : 'Commercial Display / LED Signage', 'essential series' : 'Commercial Display / LED Signage', 'parts' : 'Commercial Display / Accessories', 'vrf,heating' : 'HVAC, ESS / VRF & HVAC, ESS / Heating', 'điều hòa trung tâm vrf' : 'HVAC, ESS / VRF', 'inne' : 'others', '98uh5e' : 'Commercial Display', 'khác' : 'others', 'lg salang air solution for dream homes' : 'HVAC, ESS / AC', 'rac single cac' : 'HVAC, ESS / AC', 'آخر' : 'none', 'multi-split,single-split' : 'HVAC, ESS / Multi-Split & HVAC, ESS / Single-Split', 'vrf,multi-split,etc.' : 'HVAC, ESS / VRF & HVAC, ESS / Multi-Split', 'vrf,multi-split,heating' : 'HVAC, ESS / VRF & HVAC, ESS / Multi-Split & HVAC, ESS / Heating', 'vrf,single-split,chiller' : 'HVAC, ESS / VRF & HVAC, ESS / Single-Split & HVAC, ESS / Chiller', 'commercial tv,solar,ess,projector,system ac,tv,washing machine,home beauty,audio/video' : 'Commercial Display / commercial tv & Commercial Display & solar & ess & IT PRODUCTS / Projector & HVAC, ESS / AC & Home Appliances / Washing Machine & Home Appliances / Home Beauty & Commercial Display / AV', 'solar,robot' : 'solar & Robot', 'pantalla led outdoor' : 'Commercial Display / LED Signage', 'monitor signage,commercial tv,monior/monitor tv,pc,projector,tv,audio/video' : 'Commercial Display / commercial tv & Commercial Display & IT PRODUCTS / pc & IT PRODUCTS / Projector & Commercial Display / AV', 'not specified' : 'none', 'lg led bloc' : 'Commercial Display / LED Signage', 'solar,energy storage system' : 'solar & ess', 'system ac,solar' : '냉HVAC, ESS / AC & solar', 'solar,system ac,water care' : 'solar & HVAC, ESS / AC & Home Appliances / Water Care', '55svh7f-a' : 'Commercial Display', 'tr3' : 'Commercial Display', 'uh' : 'Commercial Display', 'laec015-gn.awz' : 'Commercial Display / LED Signage', '49vl5g-m' : 'Commercial Display / Video Wall Signage', 'chiller,dryer' : 'HVAC, ESS / Chiller & Home Appliances / Dryer', 'monitor signage,monior/monitor tv,system ac,vacuum cleaner,tv,home beauty,commercial tv,mobile,audio' : 'Commercial Display / commercial tv & Commercial Display & HVAC, ESS / AC & Home Appliances / Vacuum Cleaner & Home Appliances / Home Beauty & mobile & Commercial Display / AV', 'videwall' : 'Commercial Display / Video Wall Signage', 'solar,vacuum cleaner' : 'solar & Home Appliances / Vacuum Cleaner', 'solar,monior/monitor tv,pc,tv,refrigerator,washing machine,dryer,home beauty' : 'solar & Commercial Display & IT PRODUCTS / pc & Home Appliances / Refrigerator & Home Appliances & Home Appliances / Washing Machine & Home Appliances / Dryer & Home Appliances / Home Beauty', 'monitor signage,solar,robot,water care' : 'Commercial Display & solar & Robot & Home Appliances / Water Care', 'mobile,audio/video' : 'mobile & Commercial Display / AV',\n",
    " 'system ac,refrigerator,washing machine,dryer' : 'HVAC, ESS / AC & Home Appliances / Refrigerator & Home Appliances / Washing Machine & Home Appliances / Dryer', 'solar,system ac,aircare' : 'solar & HVAC, ESS / AC & Home Appliances / Aircare', 'projector,system ac,water care' : 'IT PRODUCTS / Projector & HVAC, ESS / AC & Home Appliances / Water Care', 'monior/monitor tv,tv,commercial tv,pc,refrigerator,solar,rac,washing machine,mobile,ess,audio/video' : 'Commercial Display / commercial tv & Commercial Display & IT PRODUCTS / pc & Home Appliances / Refrigerator & solar & HVAC, ESS / AC & Home Appliances / Washing Machine & mobile & ess & Commercial Display / AV', 'ess,chiller' : 'ess & HVAC, ESS / Chiller', 'monitor signage,monior/monitor tv,pc,tv' : 'Commercial Display & IT PRODUCTS / pc', 'solar,water care' : 'solar & Home Appliances / Water Care', 'monitor signage,commercial tv,monior/monitor tv,tv' : 'Commercial Display / commercial tv & Commercial Display', 'monitor signage,commercial tv,audio/video' : 'Commercial Display / commercial tv & Commercial Display & Commercial Display / AV', 'solar,built-in/cooking' : 'solar & Home Appliances / Built-in, Cooking', 'monitor signage,monior/monitor tv,commercial tv' : 'Commercial Display / commercial tv & Commercial Display', 'robot,system ac' : 'Robot & HVAC, ESS / AC', 'medical- surgical' : 'IT PRODUCTS / Medical Display', 'radiology displays' : 'IT PRODUCTS / Medical Display', 'high inch 86 / 98 or 110' : 'Commercial Display', 'dryer,chiller' : 'Home Appliances / Dryer & HVAC, ESS / Chiller', 'solar,dryer' : 'solar & Home Appliances / Dryer', 'chiller/enfriadoras' : 'HVAC, ESS / Chiller & HVAC, ESS / AC', 'refrigerator' : 'Home Appliances / Refrigerator', 'led aio 136' : 'Commercial Display / LED Signage', '110 + video wall' : 'Commercial Display / Video Wall Signage', 'videowall signage' : 'Commercial Display / Video Wall Signage', 'one:quick flex' : 'Commercial Display / One:Quick Series', 'collaboration displays' : 'Commercial Display', 'meeting & screen sharedirect view leddirect view led' : 'Commercial Display / LED Signage', 'one quick works' : 'Commercial Display / One:Quick Series', 'pendingin' : 'HVAC, ESS / AC', 'lg paradise air solution' : 'HVAC, ESS', 'פיצול מרובה' : 'HVAC, ESS / Multi-Split', 'אחר' : 'others', 'vrf,multi-split,chiller' : 'HVAC, ESS / VRF & HVAC, ESS / Multi-Split & HVAC, ESS / Chiller', 'system ac,solar,washing machine' : 'HVAC, ESS / AC & solar & Home Appliances / Washing Machine', 'solar,ess,ems' : 'solar & ess & ems', 'tv,mobile' : 'Commercial Display & mobile', 'aircare,water care' : 'Home Appliances / Aircare & Home Appliances / Water Care', 'monior/monitor tv,chiller' : 'Commercial Display & HVAC, ESS / Chiller', 'system ac,tv' : 'HVAC, ESS / AC & Commercial Display', 'monitor signage,commercial tv,solar,ess' : 'Commercial Display / commercial tv & Commercial Display & solar & ess', 'monior/monitor tv,system ac,tv,refrigerator,washing machine,dryer,built-in/cooking' : 'Commercial Display & HVAC, ESS / AC & Home Appliances / Refrigerator & Home Appliances / Washing Machine & Home Appliances / Dryer & Home Appliances / Built-in, Cooking', 'monitor signage,solar' : 'Commercial Display & solar', 'pc,washing machine' : 'IT PRODUCTS / pc & Home Appliances / Washing Machine', 'monitor signage,solar,monior/monitor tv,pc,projector,robot,system ac,tv,refrigerator,washing machine' : 'Commercial Display & solar & IT PRODUCTS / pc & IT PRODUCTS / Projector & Robot & HVAC, ESS / AC & Home Appliances / Refrigerator & Home Appliances / Washing Machine', 'system ac,tv,refrigerator,washing machine,built-in/cooking,audio/video' : 'HVAC, ESS / AC & Commercial Display & Home Appliances / Refrigerator & Home Appliances / Washing Machine & Home Appliances / Built-in, Cooking & Commercial Display / AV', 'system air conditioner,energy storage system' : 'HVAC, ESS / AC & ess', '50us660h0sd.bwz' : 'Commercial Display / LED Signage', 'tv 60\"' : 'Commercial Display', 'medical monitor' : 'IT PRODUCTS / Medical Display', 'aircare,mobile' : 'Home Appliances / Aircare & mobile', 'solar,ess,system ac' : 'solar & ess & HVAC, ESS / AC', 'tv,pc' : 'Commercial Display & IT PRODUCTS / pc', 'monitor signage,commercial tv,solar,pc,projector,system ac,ems,rac,chiller,refrigerator,washing mach' : 'Commercial Display / commercial tv & Commercial Display & solar & IT PRODUCTS / pc & IT PRODUCTS / Projector & HVAC, ESS / AC & ems & HVAC, ESS / Chiller & Home Appliances / Refrigerator & Home Appliances / Washing Machine', 'chiller,refrigerator' : 'HVAC, ESS / Chiller & Home Appliances / Refrigerator', 'monitor signage,commercial tv,solar,projector,robot,chiller,refrigerator,built-in/cooking,water care' : 'Commercial Display / commercial tv & Commercial Display & solar & IT PRODUCTS / pc & IT PRODUCTS / Projector & Robot & HVAC, ESS / Chiller & Home Appliances / Refrigerator & Home Appliances / Built-in, Cooking & Home Appliances / Water Care', 'commercial tv,solar' : 'Commercial Display / commercial tv & solar', 'monior/monitor tv,projector,audio/video' : 'Commercial Display & IT PRODUCTS / Projector & Commercial Display / AV', 'unitario' : 'none', 'refrigerator,chiller' : 'Home Appliances / Refrigerator & HVAC, ESS / Chiller', 'chiller,tv' : 'HVAC, ESS / Chiller & Commercial Display', 'projector,ems' : 'IT PRODUCTS / Projector & ems', 'cac' : 'HVAC, ESS', 'single package' : 'HVAC, ESS / Single-Split', 'monitor signage,mobile' : 'Commercial Display & mobile', 'robot,vacuum cleaner' : 'Robot & Home Appliances / Vacuum Cleaner', 'monitor signage,commercial tv,monior/monitor tv,audio/video' : 'Commercial Display / commercial tv & Commercial Display & Commercial Display / AV', 'aircare,built-in/cooking' : 'Home Appliances / Aircare & Home Appliances / Built-in, Cooking', '49uh / 49xf' : 'Commercial Display', '43uq751c0sb.bwz' : 'Commercial Display / Hotel TV', '32 / 43 pol' : 'Commercial Display', 'monior/monitor tv,audio/video' : 'Commercial Display & Commercial Display / AV', 'system ac,home beauty' : 'HVAC, ESS / AC & Home Appliances / Home Beauty', 'information display,monitor' : 'Commercial Display', 'taa lcd lfd displays' : 'Commercial Display', 'rac/cac' : 'HVAC, ESS / AC', 'حلول التدفئة' : 'HVAC, ESS / Heating', 'aio | one quick' : 'Commercial Display / One:Quick Series', 'monior/monitor tv,refrigerator' : 'Commercial Display & Home Appliances / Refrigerator', 'monior/monitor tv,system ac,tv,pc,refrigerator,water care,solar,washing machine,mobile,chiller,built' : 'Commercial Display & HVAC, ESS / AC & IT PRODUCTS / pc & Home Appliances / Refrigerator & Home Appliances / Water Care & solar & Home Appliances / Washing Machine & mobile & HVAC, ESS / Chiller & Home Appliances / Built-in, Cooking', 'projector,audio/video' : 'IT PRODUCTS / Projector & Commercial Display / AV', 'monitor signage,commercial tv,monior/monitor tv,pc,tv,home beauty,audio/video' : 'Commercial Display / commercial tv & Commercial Display & IT PRODUCTS / pc & Home Appliances / Home Beauty & Commercial Display / AV', '49vl5g-m.awzm' : 'Commercial Display / Video Wall Signage', 'pc,robot,system ac,chiller,tv,refrigerator,washing machine,vacuum cleaner,styler,dryer,mobile,audio/' : 'IT PRODUCTS / pc & Robot & HVAC, ESS / AC & HVAC, ESS / Chiller & Commercial Display & Home Appliances / Refrigerator & Home Appliances / Washing Machine & Home Appliances / Vacuum Cleaner & Home Appliances / Dryer & Home Appliances / Styler & mobile & HVAC, ESS / AC', 'refrigerator,washing machine,built-in/cooking' : 'Home Appliances / Refrigerator & Home Appliances / Washing Machine & Home Appliances / Built-in, Cooking', 'monitor signage,monior/monitor tv,tv,audio/video' : 'Commercial Display & Commercial Display / AV', 'tv,refrigerator,washing machine,vacuum cleaner,audio/video' : 'Commercial Display & Home Appliances / Refrigerator & Home Appliances / Washing Machine & Home Appliances / Vacuum Cleaner & HVAC, ESS / AC', 'pc,tv' : 'IT PRODUCTS / pc & Commercial Display', 'system ac' : 'HVAC, ESS / AC', 'sac' : 'HVAC, ESS / AC', 'gscd046' : 'Commercial Display / LED Signage', '43uh5f-h.awzm' : 'Commercial Display', 'monior/monitor tv,refrigerator,audio/video' : 'Commercial Display & Home Appliances / Refrigerator & Commercial Display / AV'\n",
    " }"
   ]
  },
  {
   "cell_type": "code",
   "execution_count": 80,
   "id": "b386a309",
   "metadata": {},
   "outputs": [],
   "source": [
    "product_dict ={\n",
    "'interactive digital board' : 'Commercial Display / Interactive Signage', 'vrf' : 'HVAC, ESS / VRF', 'multi-split' : 'HVAC, ESS / Multi-Split', 'video wall signage' : 'Commercial Display / Video Wall Signage', 'etc.' : 'etc.', 'led signage' : 'Commercial Display / LED Signage', 'interactive signage' : 'Commercial Display / Interactive Signage', 'single-split' : 'HVAC, ESS / Single-Split', 'rac' : 'HVAC, ESS / AC', 'oled signage' : 'Commercial Display / OLED Signage', 'hotel tv' : 'Commercial Display / Hotel TV', 'chiller' : 'HVAC, ESS / Chiller', 'standard signage' : 'Commercial Display / Standard Signage', 'medical display' : 'IT PRODUCTS / Medical Display', 'lg one:quick series' : 'Commercial Display / One:Quick Series', 'monitor': 'IT PRODUCTS / Monitor', 'one:quick series' : 'Commercial Display / One:Quick Series', 'heating' : 'HVAC, ESS / Heating', 'high brightness signage' : 'Commercial Display / High Brightness Signage', 'ventilation' : 'HVAC, ESS / Ventilation', 'teto ou cassete inverter' : 'HVAC, ESS / inverter', 'control' : 'HVAC, ESS / Control', 'multi inverter' : 'HVAC, ESS / inverter', 'ar condicionado residencial' : 'HVAC, ESS / AC', 'high brightness' : 'Commercial Display / High Brightness Signage', 'software solution' : 'Commercial Display / Software Solution', 'accessories' : 'Commercial Display / Accessories', 'special signage' : 'Commercial Display / Special Signage', 'hospital tv' : 'Commercial Display / Hospital TV', 'webos' : 'Commercial Display / WebOS', 'pc' : 'IT PRODUCTS', 'pro:centric' : 'Commercial Display / Pro:Centric', 'video wall' : 'Commercial Display / Video Wall Signage', 'projector' : 'IT PRODUCTS / Projector', 'all lg vrf systems' : 'HVAC, ESS / VRF', 'commercial display' : 'Commercial Display', 'residential air conditioner' :  'HVAC, ESS / AC', 'ur640' : 'Commercial Display', 'outros' : 'others', 'signage care solution' : 'Commercial Display / Signage Care Solution', 'multi v 5 air' : 'HVAC, ESS / ou', 'smart tv signage' : 'Commercial Display', 'technical support' : 'technical support', 'ur640s' : 'Commercial Display', 'cloud device' : 'IT PRODUCTS / Cloud Device', 'medical displays' : 'IT PRODUCTS / Medical Display', 'laptop' : 'IT PRODUCTS / Laptop', 'a thermodynamic water heater' : 'HVAC, ESS / Heating', 'uhd signage' : 'Commercial Display', 'monitor signage,monior / monitor tv' : 'Commercial Display', 'idb' : 'Commercial Display / Interactive Signage', 'virtual production' : 'virtual production', 'ogrzewanie (pompy ciepła)' : 'HVAC, ESS / Chiller', 'commercial tv' : 'Commercial Display / commercial tv', 'videowall_rmk' : 'Commercial Display / Video Wall Signage', 'digital signage' : 'Commercial Display / Digital Signage', '43us660h0sd.awz' : 'Commercial Display / Hotel TV', 'ledallinone' : 'Commercial Display / LED Signage', 'solar,ess' : 'solar & ess', 'services' : 'services', 'commercial tv,tv' : 'Commercial Display / commercial tv', 'monitor & pc' : 'IT PRODUCTS', 'aire acondicionado residencial' : 'HVAC, ESS / AC', 'onequick series' : 'Commercial Display / One:Quick Series', 'others' : 'others', 'led 顯示屏' : 'Commercial Display / LED Signage', 'education createboard' : 'Commercial Display / Interactive Signage', '28mq780' : 'IT PRODUCTS / Monitor', '32lq621cbsb.awz' : 'Commercial Display', 'other' : 'others', 'monior / monitor tv,tv' : 'Commercial Display', 'multi v water 5' : 'HVAC, ESS / ou', 'isıtma' : 'HVAC, ESS / Heating', 'tv' : 'Commercial Display', 'standalone' : 'Commercial Display', 'lainnya' : 'others', 'id' : 'id', 'calefacción' : 'HVAC, ESS / Heating', 'otros' : 'others', 'solar,system ac' : 'solar & HVAC, ESS / AC', 'sales inquiry' : '판매문의', 'fhd series' : 'Commercial Display', 'lg one:quick' : 'Commercial Display / One:Quick Series', 'washing machine,dryer' : 'Home Appliances / Washing Machine & Dryer', 'solar,aircare' : 'solar & Home Appliances / Aircare', '互動式顯示屏' : 'Commercial Display / Interactive signage', 'تكييف وتبريد' : 'HVAC, ESS / AC', 'tv signage' : 'Commercial Display', 'chiller,aircare' : 'HVAC, ESS / Chiller & Home Appliances / Aircare', 'system ac,aircare' : 'HVAC, ESS / AC & Home Appliances / Aircare', 'allinone_rmk' : 'all in one', 'led' : 'Commercial Display / LED Signage', 'multi v5 vrf' : 'HVAC, ESS / VRF', 'signage' : 'Commercial Display', 'điều hòa trung tâm multi' : 'HVAC, ESS', 'solar,chiller' : 'solar & HVAC, ESS / Chiller', 'vrf,multi-split,single-split' : 'HVAC, ESS / VRF & Multi-Split & Single-Split', 'monitor signage,commercial tv' : 'Commercial Display / commercial tv', 'leadallin' : 'Commercial Display / LED Signage', 'oled 顯示屏' : 'Commercial Display / OLED Signage', 'soğutucu' : 'HVAC, ESS / AC', 'robots' : 'Robot', 'htv' : 'Commercial Display', 'vrf,multi-split,single-split,chiller' : 'HVAC, ESS / VRF & Multi-Split & Single-Split & Chiller', 'vrf,multi-split' : 'HVAC, ESS / VRF & Multi-Split', 'computer monitors' : 'IT PRODUCTS / Monitor', 'vrf,single-split' : 'HVAC, ESS / VRF & Single-Split', 'system ac,chiller' : 'HVAC, ESS / AC & Chiller', 'single split' : 'HVAC, ESS / Single-Split', 'מזגנים למקום מגורים' : 'HVAC, ESS / AC', '標準顯示屏' : 'Commercial Display', 'monitor signage,commercial tv,monior / monitor tv' : 'Commercial Display / commercial tv & Commercial Display', 'monitor signage,commercial tv,solar,ess,monior / monitor tv,pc,projector,robot,system ac,ems,rac,chill' : 'Commercial Display / commercial tv & Commercial Display & IT PRODUCTS / Projector & HVAC, ESS / AC & HVAC, ESS / Chiller & ems & HVAC, ESS / AC & Robot', 'commercial tv,projector' : 'Commercial Display / commercial tv & IT PRODUCTS / Projector', 'corpouh5f' : 'Commercial Display', 'commercial tv,monior / monitor tv' : 'Commercial Display / commercial tv & Commercial Display', 'error' : 'error', 'تكييفات' : 'HVAC, ESS / AC', 'standard' : 'Commercial Display / Standard Signage', 'مبرد (تشيلر)' : 'HVAC, ESS / AC', 'نظام التدفق المتغيرvrf' : 'HVAC, ESS / VRF', 'vb.' : 'Home Appliances / Vacuum Cleaner', 'multi-split (plusieurs pièces)' : 'HVAC, ESS / Multi-Split', 'lg customer care program' : 'lg customer care program', 'aquecimento' : 'HVAC, ESS / Heating', 'laec015' : 'Commercial Display / LED Signage', 'commercial tv,audio / video' : 'Commercial Display / commercial tv & Commercial Display / AV', 'monitor signage,tv' : 'Commercial Display', 'medical monitors' : 'IT PRODUCTS / Medical Display', 'vrf,multi-split,single-split,chiller,heating' : 'HVAC, ESS / VRF & Multi-Split & Single-Split & Chiller & Heating', 'ultra stretch signage' : 'Commercial Display', 'autre' : 'others', 'solar' : 'solar', 'corpuh5f-' : 'Commercial Display', 'monitor signage,pc' : 'Commercial Display & IT PRODUCTS', 'digital signage or commercial tvs' : 'Commercial Display / Digital Signage & Commercial Display / commercial tv', 'monior / monitor tv,pc' : 'Commercial Display & IT PRODUCTS / pc', '特別顯示屏' : 'IT PRODUCTS / Monitor', 'חימום' : 'HVAC, ESS / Heating', 'vrf,chiller' : 'HVAC, ESS / VRF & Chiller', 'ฯลฯ' : 'none', 'system air conditioner' : 'HVAC, ESS / AC', 'hoteleria_us670h' : 'Commercial Display', '55uq801c0sb.bwz' : 'Commercial Display', 'chiller,water care' : 'HVAC, ESS / Chiller & Home Appliances / Water Care', 'klimatyzacja multi-split' : 'HVAC, ESS / Multi-Split', '43uq751c0sf.bwz' : 'Commercial Display', 'scroll compressor' : 'Compressor, Motor / Scroll Compressor', '50uq801c0sb.bwz' : 'Commercial Display', 'vrf,multi-split,single-split,heating' : 'HVAC, ESS / VRF & Multi-Split & Single-Split & Heating', 'on or several reversible ac' : 'HVAC, ESS / AC', '55us660h0sd.bwz' : 'Commercial Display / Hotel TV', 'transparent oled' : 'Commercial Display / OLED Signage', 'monitor signage,commercial tv,monior / monitor tv,projector,tv' : 'Commercial Display / commercial tv & Commercial Display & IT PRODUCTS / Projector', 'commercial tv,water care' : 'Commercial Display / commercial tv & Home Appliances / Water Care', 'one quick:flex' : 'Commercial Display / One:Quick Series', 'vrf,multi-split,single-split,chiller,etc.' : 'HVAC, ESS / VRF & Multi-Split & Single-Split & Chiller', 'tv,commercial tv' : 'Commercial Display / commercial tv',\n",
    " 'signage care solutions' : 'Commercial Display / Signage Care Solution', 'system ac,chiller,aircare' : 'HVAC, ESS & HVAC, ESS / Chiller & Home Appliances / Aircare', 'tv,refrigerator,washing machine' : 'Commercial Display & Home Appliances / Refrigerator & Washing Machine', 'climatiseur résidentiel' : 'HVAC, ESS', 'kimatyzacja vrf' : 'HVAC, ESS / VRF', 'เครื่องปรับอากาศเผื่อที่อยู่อาศัย' : 'HVAC, ESS & AC', 'monitor signage,audio / video' : 'Commercial Display & Commercial Display / AV', 'window facing display' : 'Commercial Display', 'lg home bliss air solution' : 'HVAC, ESS', 'ahu' : 'HVAC, ESS / VRF', 'split tunggal' : 'HVAC, ESS / Single-Split', 'ultra stretch series' : 'Commercial Display', 'system ac,rac' : 'HVAC, ESS / AC ', 'monitor signage,commercial tv,solar,ess,monior / monitor tv,pc' : 'Commercial Display / commercial tv & Commercial Display & IT PRODUCTS & solar & HVAC, ESS', 'bu50nst' : 'IT PRODUCTS / Projector', 'energy storage system' : 'HVAC, ESS', 'ac rumah' : 'HVAC, ESS / AC', 'commercial tv,robot' : 'Commercial Display / commercial tv & Robot', 'multi v' : 'HVAC, ESS / ou', 'tv,audio / video' : 'Commercial Display & Commercial Display / AV', 'solar,projector' : 'solar & IT PRODUCTS / Projector', 'multi split' : 'HVAC, ESS / Multi-Split', '酒店電視' : 'Commercial Display / Hotel TV', 'solar,monior / monitor tv' : 'solar & Commercial Display', 'system ac,refrigerator' : 'HVAC, ESS / AC & Home Appliances / Refrigerator', 'solar,refrigerator' : 'solar & Home Appliances / Refrigerator', 'monitor signage,system ac' : 'Commercial Display & HVAC, ESS / AC', 'system air conditioner,solar' : 'HVAC, ESS / AC & solar', 'solar,tv' : 'solar & Commercial Display', 'aio' : 'all in one', 'điều hòa cục bộ' : 'HVAC, ESS / AC', 'điều hòa gia dụng' : 'HVAC, ESS / AC', '55vm5e-a' : 'Commercial Display', 'laec15' : 'Commercial Display / LED Signage', '醫院電視' : 'Commercial Display / Hospital TV', 'ctv' : 'Commercial Display', '軟體' : 'IT PRODUCTS / software_', '55vm5j-h' : 'Commercial Display / Video Wall Signage', 'hospitality' : 'IT PRODUCTS / Medical Display', '49vl5f' : 'Commercial Display', 'monitorindustrial_rmk' : 'IT PRODUCTS / Monitor', 'lg magnit' : 'Commercial Display / LED Signage', 'retaildigital' : 'Commercial Display', 'one:quick' : 'Commercial Display / One:Quick Series', 'led cinema' : 'Commercial Display / LED Signage', '86uh5f' : 'Commercial Display', '55tc3d' : 'Commercial Display / Interactive signage', '43us660h (na)' : 'Commercial Display / Hotel TV', 'pro centric hotel' : 'Commercial Display / Hotel TV', 'comercial tv' : 'Commercial Display', 'video wall + aio' : 'Commercial Display / Video Wall Signage', '高亮度顯示屏' : 'Commercial Display / High Brightness Signage', 'led 70m2' : 'Commercial Display / LED Signage', 'single cac' : 'HVAC, ESS / AC', 'vrf - multi v s' : 'HVAC, ESS / VRF', 'procentric' : 'Commercial Display / Pro:Centric', 'monitor signage,monior / monitor tv,vacuum cleaner,tv,home beauty,commercial tv,pc,refrigerator,styler' : 'Commercial Display / commercial tv & Commercial Display & Home Appliances / Vacuum Cleaner & Home Appliances / Home Beauty & IT PRODUCTS / pc & Home Appliances / Refrigerator & Home Appliances / Styler', 'refrigerator,built-in / cooking' : 'Home Appliances / Refrigerator & Built-in, Cooking', 'ems,audio / video' : 'ems & Commercial Display / AV', 'projector,ems,mobile,audio / video' : 'IT PRODUCTS / Projector & ems & mobile & Commercial Display / AV', 'smart tv' : 'Commercial Display', 'tv 55\"' : 'Commercial Display', 'surgical monitor' : 'IT PRODUCTS / Medical Display', 'gsca046' : 'Commercial Display / LED Signage', 'gscd100' : 'Commercial Display / LED Signage', '32 pol' : 'Commercial Display', 'systèmes de débit à réfrigérant variable (drv)' : 'HVAC, ESS / AC', 'tv 43 pol' : 'Commercial Display', '43 pol' : 'Commercial Display', 'commercial tv,solar,ess,monior / monitor tv,pc,projector,robot,system ac,ems,rac,chiller,refrigerator,' : 'Commercial Display / commercial tv & HVAC, ESS / AC & solar & ess & IT PRODUCTS / Projector & Robot & Commercial Display & ems & HVAC, ESS / Chiller & Home Appliances / Refrigerator', 'tv,refrigerator' : 'Commercial Display & Home Appliances / Refrigerator', 'a definir' : 'none', 'điều hòa trung tâm chiller' : 'HVAC, ESS / Chiller', 'lsca039' : 'Commercial Display / LED Signage', 'essential series' : 'Commercial Display / LED Signage', 'parts' : 'Commercial Display / Accessories', 'vrf,heating' : 'HVAC, ESS / VRF & HVAC, ESS / Heating', 'điều hòa trung tâm vrf' : 'HVAC, ESS / VRF', 'inne' : 'others', '98uh5e' : 'Commercial Display', 'khác' : 'others', 'lg salang air solution for dream homes' : 'HVAC, ESS / AC', 'rac single cac' : 'HVAC, ESS / AC', 'آخر' : 'none', 'multi-split,single-split' : 'HVAC, ESS / Multi-Split & HVAC, ESS / Single-Split', 'vrf,multi-split,etc.' : 'HVAC, ESS / VRF & HVAC, ESS / Multi-Split', 'vrf,multi-split,heating' : 'HVAC, ESS / VRF & HVAC, ESS / Multi-Split & HVAC, ESS / Heating', 'vrf,single-split,chiller' : 'HVAC, ESS / VRF & HVAC, ESS / Single-Split & HVAC, ESS / Chiller', 'commercial tv,solar,ess,projector,system ac,tv,washing machine,home beauty,audio / video' : 'Commercial Display / commercial tv & Commercial Display & solar & ess & IT PRODUCTS / Projector & HVAC, ESS / AC & Home Appliances / Washing Machine & Home Appliances / Home Beauty & Commercial Display / AV', 'solar,robot' : 'solar & Robot', 'pantalla led outdoor' : 'Commercial Display / LED Signage', 'monitor signage,commercial tv,monior / monitor tv,pc,projector,tv,audio / video' : 'Commercial Display / commercial tv & Commercial Display & IT PRODUCTS / pc & IT PRODUCTS / Projector & Commercial Display / AV', 'not specified' : 'none', 'lg led bloc' : 'Commercial Display / LED Signage', 'solar,energy storage system' : 'solar & ess', 'system ac,solar' : '냉HVAC, ESS / AC & solar', 'solar,system ac,water care' : 'solar & HVAC, ESS / AC & Home Appliances / Water Care', '55svh7f-a' : 'Commercial Display', 'tr3' : 'Commercial Display', 'uh' : 'Commercial Display', 'laec015-gn.awz' : 'Commercial Display / LED Signage', '49vl5g-m' : 'Commercial Display / Video Wall Signage', 'chiller,dryer' : 'HVAC, ESS / Chiller & Home Appliances / Dryer', 'monitor signage,monior / monitor tv,system ac,vacuum cleaner,tv,home beauty,commercial tv,mobile,audio' : 'Commercial Display / commercial tv & Commercial Display & HVAC, ESS / AC & Home Appliances / Vacuum Cleaner & Home Appliances / Home Beauty & mobile & Commercial Display / AV', 'videwall' : 'Commercial Display / Video Wall Signage', 'solar,vacuum cleaner' : 'solar & Home Appliances / Vacuum Cleaner', 'solar,monior / monitor tv,pc,tv,refrigerator,washing machine,dryer,home beauty' : 'solar & Commercial Display & IT PRODUCTS / pc & Home Appliances / Refrigerator & Home Appliances & Home Appliances / Washing Machine & Home Appliances / Dryer & Home Appliances / Home Beauty', 'monitor signage,solar,robot,water care' : 'Commercial Display & solar & Robot & Home Appliances / Water Care', 'mobile,audio / video' : 'mobile & Commercial Display / AV',\n",
    " 'system ac,refrigerator,washing machine,dryer' : 'HVAC, ESS / AC & Home Appliances / Refrigerator & Home Appliances / Washing Machine & Home Appliances / Dryer', 'solar,system ac,aircare' : 'solar & HVAC, ESS / AC & Home Appliances / Aircare', 'projector,system ac,water care' : 'IT PRODUCTS / Projector & HVAC, ESS / AC & Home Appliances / Water Care', 'monior / monitor tv,tv,commercial tv,pc,refrigerator,solar,rac,washing machine,mobile,ess,audio / video' : 'Commercial Display / commercial tv & Commercial Display & IT PRODUCTS / pc & Home Appliances / Refrigerator & solar & HVAC, ESS / AC & Home Appliances / Washing Machine & mobile & ess & Commercial Display / AV', 'ess,chiller' : 'ess & HVAC, ESS / Chiller', 'monitor signage,monior / monitor tv,pc,tv' : 'Commercial Display & IT PRODUCTS / pc', 'solar,water care' : 'solar & Home Appliances / Water Care', 'monitor signage,commercial tv,monior / monitor tv,tv' : 'Commercial Display / commercial tv & Commercial Display', 'monitor signage,commercial tv,audio / video' : 'Commercial Display / commercial tv & Commercial Display & Commercial Display / AV', 'solar,built-in / cooking' : 'solar & Home Appliances / Built-in, Cooking', 'monitor signage,monior / monitor tv,commercial tv' : 'Commercial Display / commercial tv & Commercial Display', 'robot,system ac' : 'Robot & HVAC, ESS / AC', 'medical- surgical' : 'IT PRODUCTS / Medical Display', 'radiology displays' : 'IT PRODUCTS / Medical Display', 'high inch 86  /  98 or 110' : 'Commercial Display', 'dryer,chiller' : 'Home Appliances / Dryer & HVAC, ESS / Chiller', 'solar,dryer' : 'solar & Home Appliances / Dryer', 'chiller / enfriadoras' : 'HVAC, ESS / Chiller & HVAC, ESS / AC', 'refrigerator' : 'Home Appliances / Refrigerator', 'led aio 136' : 'Commercial Display / LED Signage', '110 + video wall' : 'Commercial Display / Video Wall Signage', 'videowall signage' : 'Commercial Display / Video Wall Signage', 'one:quick flex' : 'Commercial Display / One:Quick Series', 'collaboration displays' : 'Commercial Display', 'meeting & screen sharedirect view leddirect view led' : 'Commercial Display / LED Signage', 'one quick works' : 'Commercial Display / One:Quick Series', 'pendingin' : 'HVAC, ESS / AC', 'lg paradise air solution' : 'HVAC, ESS', 'פיצול מרובה' : 'HVAC, ESS / Multi-Split', 'אחר' : 'others', 'vrf,multi-split,chiller' : 'HVAC, ESS / VRF & HVAC, ESS / Multi-Split & HVAC, ESS / Chiller', 'system ac,solar,washing machine' : 'HVAC, ESS / AC & solar & Home Appliances / Washing Machine', 'solar,ess,ems' : 'solar & ess & ems', 'tv,mobile' : 'Commercial Display & mobile', 'aircare,water care' : 'Home Appliances / Aircare & Home Appliances / Water Care', 'monior / monitor tv,chiller' : 'Commercial Display & HVAC, ESS / Chiller', 'system ac,tv' : 'HVAC, ESS / AC & Commercial Display', 'monitor signage,commercial tv,solar,ess' : 'Commercial Display / commercial tv & Commercial Display & solar & ess', 'monior / monitor tv,system ac,tv,refrigerator,washing machine,dryer,built-in / cooking' : 'Commercial Display & HVAC, ESS / AC & Home Appliances / Refrigerator & Home Appliances / Washing Machine & Home Appliances / Dryer & Home Appliances / Built-in, Cooking', 'monitor signage,solar' : 'Commercial Display & solar', 'pc,washing machine' : 'IT PRODUCTS / pc & Home Appliances / Washing Machine', 'monitor signage,solar,monior / monitor tv,pc,projector,robot,system ac,tv,refrigerator,washing machine' : 'Commercial Display & solar & IT PRODUCTS / pc & IT PRODUCTS / Projector & Robot & HVAC, ESS / AC & Home Appliances / Refrigerator & Home Appliances / Washing Machine', 'system ac,tv,refrigerator,washing machine,built-in / cooking,audio / video' : 'HVAC, ESS / AC & Commercial Display & Home Appliances / Refrigerator & Home Appliances / Washing Machine & Home Appliances / Built-in, Cooking & Commercial Display / AV', 'system air conditioner,energy storage system' : 'HVAC, ESS / AC & ess', '50us660h0sd.bwz' : 'Commercial Display / LED Signage', 'tv 60\"' : 'Commercial Display', 'medical monitor' : 'IT PRODUCTS / Medical Display', 'aircare,mobile' : 'Home Appliances / Aircare & mobile', 'solar,ess,system ac' : 'solar & ess & HVAC, ESS / AC', 'tv,pc' : 'Commercial Display & IT PRODUCTS / pc', 'monitor signage,commercial tv,solar,pc,projector,system ac,ems,rac,chiller,refrigerator,washing mach' : 'Commercial Display / commercial tv & Commercial Display & solar & IT PRODUCTS / pc & IT PRODUCTS / Projector & HVAC, ESS / AC & ems & HVAC, ESS / Chiller & Home Appliances / Refrigerator & Home Appliances / Washing Machine', 'chiller,refrigerator' : 'HVAC, ESS / Chiller & Home Appliances / Refrigerator', 'monitor signage,commercial tv,solar,projector,robot,chiller,refrigerator,built-in / cooking,water care' : 'Commercial Display / commercial tv & Commercial Display & solar & IT PRODUCTS / pc & IT PRODUCTS / Projector & Robot & HVAC, ESS / Chiller & Home Appliances / Refrigerator & Home Appliances / Built-in, Cooking & Home Appliances / Water Care', 'commercial tv,solar' : 'Commercial Display / commercial tv & solar', 'monior / monitor tv,projector,audio / video' : 'Commercial Display & IT PRODUCTS / Projector & Commercial Display / AV', 'unitario' : 'none', 'refrigerator,chiller' : 'Home Appliances / Refrigerator & HVAC, ESS / Chiller', 'chiller,tv' : 'HVAC, ESS / Chiller & Commercial Display', 'projector,ems' : 'IT PRODUCTS / Projector & ems', 'cac' : 'HVAC, ESS', 'single package' : 'HVAC, ESS / Single-Split', 'monitor signage,mobile' : 'Commercial Display & mobile', 'robot,vacuum cleaner' : 'Robot & Home Appliances / Vacuum Cleaner', 'monitor signage,commercial tv,monior / monitor tv,audio / video' : 'Commercial Display / commercial tv & Commercial Display & Commercial Display / AV', 'aircare,built-in / cooking' : 'Home Appliances / Aircare & Home Appliances / Built-in, Cooking', '49uh  /  49xf' : 'Commercial Display', '43uq751c0sb.bwz' : 'Commercial Display / Hotel TV', '32  /  43 pol' : 'Commercial Display', 'monior / monitor tv,audio / video' : 'Commercial Display & Commercial Display / AV', 'system ac,home beauty' : 'HVAC, ESS / AC & Home Appliances / Home Beauty', 'information display,monitor' : 'Commercial Display', 'taa lcd lfd displays' : 'Commercial Display', 'rac / cac' : 'HVAC, ESS / AC', 'حلول التدفئة' : 'HVAC, ESS / Heating', 'aio | one quick' : 'Commercial Display / One:Quick Series', 'monior / monitor tv,refrigerator' : 'Commercial Display & Home Appliances / Refrigerator', 'monior / monitor tv,system ac,tv,pc,refrigerator,water care,solar,washing machine,mobile,chiller,built' : 'Commercial Display & HVAC, ESS / AC & IT PRODUCTS / pc & Home Appliances / Refrigerator & Home Appliances / Water Care & solar & Home Appliances / Washing Machine & mobile & HVAC, ESS / Chiller & Home Appliances / Built-in, Cooking', 'projector,audio / video' : 'IT PRODUCTS / Projector & Commercial Display / AV', 'monitor signage,commercial tv,monior / monitor tv,pc,tv,home beauty,audio / video' : 'Commercial Display / commercial tv & Commercial Display & IT PRODUCTS / pc & Home Appliances / Home Beauty & Commercial Display / AV', '49vl5g-m.awzm' : 'Commercial Display / Video Wall Signage', 'pc,robot,system ac,chiller,tv,refrigerator,washing machine,vacuum cleaner,styler,dryer,mobile,audio / ' : 'IT PRODUCTS / pc & Robot & HVAC, ESS / AC & HVAC, ESS / Chiller & Commercial Display & Home Appliances / Refrigerator & Home Appliances / Washing Machine & Home Appliances / Vacuum Cleaner & Home Appliances / Dryer & Home Appliances / Styler & mobile & HVAC, ESS / AC', 'refrigerator,washing machine,built-in / cooking' : 'Home Appliances / Refrigerator & Home Appliances / Washing Machine & Home Appliances / Built-in, Cooking', 'monitor signage,monior / monitor tv,tv,audio / video' : 'Commercial Display & Commercial Display / AV', 'tv,refrigerator,washing machine,vacuum cleaner,audio / video' : 'Commercial Display & Home Appliances / Refrigerator & Home Appliances / Washing Machine & Home Appliances / Vacuum Cleaner & HVAC, ESS / AC', 'pc,tv' : 'IT PRODUCTS / pc & Commercial Display', 'system ac' : 'HVAC, ESS / AC', 'sac' : 'HVAC, ESS / AC', 'gscd046' : 'Commercial Display / LED Signage', '43uh5f-h.awzm' : 'Commercial Display', 'monior / monitor tv,refrigerator,audio / video' : 'Commercial Display & Home Appliances / Refrigerator & Commercial Display / AV'\n",
    " }"
   ]
  },
  {
   "cell_type": "code",
   "execution_count": 81,
   "id": "1154128b",
   "metadata": {},
   "outputs": [],
   "source": [
    "df_train['product_category'] = df_train['product_category'].map(product_dict)\n",
    "df_test['product_category'] = df_test['product_category'].map(product_dict)"
   ]
  },
  {
   "cell_type": "code",
   "execution_count": 82,
   "id": "137f5943",
   "metadata": {},
   "outputs": [
    {
     "data": {
      "text/plain": [
       "17255"
      ]
     },
     "execution_count": 82,
     "metadata": {},
     "output_type": "execute_result"
    }
   ],
   "source": [
    "df_train['product_category'].isnull().sum()"
   ]
  },
  {
   "cell_type": "markdown",
   "id": "128d5936",
   "metadata": {},
   "source": [
    "### ***modelname 존재 -> category null 값 / 결측치 대체***"
   ]
  },
  {
   "cell_type": "code",
   "execution_count": 83,
   "id": "01a8b665",
   "metadata": {},
   "outputs": [],
   "source": [
    "product_dict ={\n",
    "    'LG SuperSign CMS' : 'Commercial Display / Software Solution',    '55CT5WJ,43HT3WJ' : 'Commercial Display / Interactive signage',    '55CT5WJ,43HT3WJ,SC-00DA' : 'Commercial Display / Interactive signage & Commercial Display / One:Quick Series',    'SC-00DA' : 'Commercial Display / One:Quick Series',    '43HT3WJ' : 'Commercial Display / Interactive signage',    '27BN85U' : 'IT PRODUCTS / Monitor',    'CL600' : 'IT PRODUCTS / Cloud Device',    '55CT5WJ' : 'Commercial Display / Interactive signage',    '32BP95E' : 'IT PRODUCTS / Monitor',    '31HN713D' : 'IT PRODUCTS / Medical Display',    '21HQ513D' : 'IT PRODUCTS / Medical Display',    'UltraFine Ergo(32UN880)' : 'IT PRODUCTS / Monitor',    'Ergo Dual(27QP88D)' : 'IT PRODUCTS / Monitor',    '34WN780, 28MQ780' : 'IT PRODUCTS / Monitor',    '32UN880' : 'IT PRODUCTS / Monitor',    '38CL950' : 'IT PRODUCTS / Cloud Device',    '65EP5G OLED Pro' : 'Commercial Display / OLED Signage',    '32HL512D' : 'IT PRODUCTS / Medical Display',    '19HK312C' : 'IT PRODUCTS / Medical Display',    '38CL950P' : 'IT PRODUCTS / Cloud Device',    'BU60' : 'IT PRODUCTS / Projector',    'AI/Machine Learning | Antennas, Transmitters and Towers | Audience Measurement | Cameras and Lenses' : '',    'UltraWide Ergo(34WN780)' : 'IT PRODUCTS / Monitor',    '28MQ780' : 'IT PRODUCTS / Monitor',    'DualUp(28MQ780)' : 'IT PRODUCTS / Monitor',    '34WN780' : 'IT PRODUCTS / Monitor',    '27HJ713C' : 'IT PRODUCTS / Medical Display',    'BU50N' : 'IT PRODUCTS / Projector',    '17Z90P' : 'IT PRODUCTS / Laptop',    '24CN670N-6N' : 'IT PRODUCTS / Cloud Device'}"
   ]
  },
  {
   "cell_type": "code",
   "execution_count": 84,
   "id": "49240525",
   "metadata": {},
   "outputs": [
    {
     "name": "stderr",
     "output_type": "stream",
     "text": [
      "30it [00:00, 610.09it/s]\n"
     ]
    }
   ],
   "source": [
    "product_dict_key = product_dict.keys()\n",
    "product_dict_value = product_dict.values()\n",
    "\n",
    "for i, val in tqdm(enumerate(product_dict_key)):\n",
    "    df_train.loc[df_train['product_modelname'] == val, 'product_category'] = product_dict[val]\n",
    "    df_test.loc[df_test['product_modelname'] == val, 'product_category'] = product_dict[val]"
   ]
  },
  {
   "cell_type": "markdown",
   "id": "7a0ae91c",
   "metadata": {},
   "source": [
    "### ***subcategory 존재 -> category null 값 / 결측치 대체***"
   ]
  },
  {
   "cell_type": "code",
   "execution_count": 85,
   "id": "a69f5dbf",
   "metadata": {},
   "outputs": [],
   "source": [
    "product_dict ={\n",
    "    'All Monitors' : 'IT PRODUCTS / Monitor',    'Diagnostic Monitors' : 'IT PRODUCTS / Medical Display',    'Thin Clients' : 'IT PRODUCTS',    'Digital X-ray Detectors' : 'IT PRODUCTS / Medical Display',    'Zero Clients' : 'IT PRODUCTS / Cloud Device',    'All Medical Display' : 'IT PRODUCTS / Medical Display',    'UHD 4K Monitors' : 'IT PRODUCTS / Monitor',    'Clinical Review Monitors' : 'IT PRODUCTS / Medical Display',    'Surgical Monitors' : 'IT PRODUCTS / Medical Display',    '其他' : 'others',    'All Monitors & PCs' : 'IT PRODUCTS / Monitor',    'Laptops' : 'IT PRODUCTS / Laptop',    'IPS Monitors' : 'IT PRODUCTS / Monitor',    'จอภาพสำหรับการตรวจสอบทางคลินิก' : 'IT PRODUCTS / Medical Display',    'All Medical Displays' : 'IT PRODUCTS / Medical Display',    'ProBeam' : 'IT PRODUCTS / Projector',    'Other' : 'others',    'All Cloud Devices' : 'IT PRODUCTS / Cloud Device',    'Digital Signage or Commercial TVs' : 'Commercial Display / Digital Signage',    'Category' : 'Category',    'All Projectors' : 'IT PRODUCTS / Projector',    'Monitors with USB-C connection' : 'IT PRODUCTS / Monitor',    'Monitors for graphics applications & video editing' : 'IT PRODUCTS / Monitor',    'Channel Partner done FTS Details in System' : 'Channel Partner done FTS Details in System',    'Others' : 'others',    'Ergonomic monitors' : 'IT PRODUCTS / Monitor',    'UltraWide™ Monitors' : 'IT PRODUCTS / Monitor',    'Todo Medical Display' : 'IT PRODUCTS / Medical Display',    'TV Monitors' : 'IT PRODUCTS / Monitor',    'จอภาพเพื่อการวินิจฉัย' : 'Medical Display'}"
   ]
  },
  {
   "cell_type": "code",
   "execution_count": 86,
   "id": "a6c0ec67",
   "metadata": {},
   "outputs": [
    {
     "name": "stderr",
     "output_type": "stream",
     "text": [
      "30it [00:00, 617.56it/s]\n"
     ]
    }
   ],
   "source": [
    "product_dict_key = product_dict.keys()\n",
    "product_dict_value = product_dict.values()\n",
    "\n",
    "for i, val in tqdm(enumerate(product_dict_key)):\n",
    "    df_train.loc[df_train['product_subcategory'] == val, 'product_category'] = product_dict[val]\n",
    "    df_test.loc[df_test['product_subcategory'] == val, 'product_category'] = product_dict[val]"
   ]
  },
  {
   "cell_type": "markdown",
   "id": "e1022f65",
   "metadata": {},
   "source": [
    "결측치에 business_unit 정보 포함시켜주기"
   ]
  },
  {
   "cell_type": "code",
   "execution_count": 87,
   "id": "b2f68023",
   "metadata": {},
   "outputs": [],
   "source": [
    "df_train['product_category'] = df_train['product_category'].fillna('Unknown')\n",
    "df_test['product_category'] = df_test['product_category'].fillna('Unknown')"
   ]
  },
  {
   "cell_type": "code",
   "execution_count": 88,
   "id": "d127722e",
   "metadata": {},
   "outputs": [],
   "source": [
    "df_train.loc[(df_train['product_category']=='Unknown')& (df_train['business_unit']=='ID'),'product_category']='ID_unknown'\n",
    "df_train.loc[(df_train['product_category']=='Unknown')& (df_train['business_unit']=='IT'),'product_category']='IT_unknown'\n",
    "df_train.loc[(df_train['product_category']=='Unknown')& (df_train['business_unit']=='AS'),'product_category']='AS_unknown'\n",
    "\n",
    "df_test.loc[(df_test['product_category']=='Unknown')& (df_test['business_unit']=='ID'),'product_category']='ID_unknown'\n",
    "df_test.loc[(df_test['product_category']=='Unknown')& (df_test['business_unit']=='IT'),'product_category']='IT_unknown'\n",
    "df_test.loc[(df_test['product_category']=='Unknown')& (df_test['business_unit']=='AS'),'product_category']='AS_unknown'"
   ]
  },
  {
   "cell_type": "markdown",
   "id": "fb12b70c",
   "metadata": {},
   "source": [
    "***\n",
    "***"
   ]
  },
  {
   "cell_type": "markdown",
   "id": "14113407",
   "metadata": {},
   "source": [
    "## ***16. product_subcategory***\n",
    "요청 제품 하위 카테고리"
   ]
  },
  {
   "cell_type": "code",
   "execution_count": 89,
   "id": "78258412",
   "metadata": {},
   "outputs": [
    {
     "data": {
      "text/plain": [
       "46740"
      ]
     },
     "execution_count": 89,
     "metadata": {},
     "output_type": "execute_result"
    }
   ],
   "source": [
    "df_train['product_subcategory'].isnull().sum()"
   ]
  },
  {
   "cell_type": "code",
   "execution_count": 90,
   "id": "a6e3ab26",
   "metadata": {},
   "outputs": [
    {
     "data": {
      "text/plain": [
       "330"
      ]
     },
     "execution_count": 90,
     "metadata": {},
     "output_type": "execute_result"
    }
   ],
   "source": [
    "df_train['product_subcategory'].nunique()"
   ]
  },
  {
   "cell_type": "code",
   "execution_count": 91,
   "id": "13c828b2",
   "metadata": {},
   "outputs": [],
   "source": [
    "df_train['product_subcategory'].fillna(df_train['product_category'], inplace=True)\n",
    "df_test['product_subcategory'].fillna(df_test['product_category'], inplace=True)"
   ]
  },
  {
   "cell_type": "markdown",
   "id": "d60c3106",
   "metadata": {},
   "source": [
    "***\n",
    "***"
   ]
  },
  {
   "cell_type": "markdown",
   "id": "133140cb",
   "metadata": {},
   "source": [
    "## ***17. product_modelname***\n",
    "요청 제품 모델명"
   ]
  },
  {
   "cell_type": "code",
   "execution_count": 92,
   "id": "3df9e41d",
   "metadata": {},
   "outputs": [
    {
     "data": {
      "text/plain": [
       "46715"
      ]
     },
     "execution_count": 92,
     "metadata": {},
     "output_type": "execute_result"
    }
   ],
   "source": [
    "df_train['product_modelname'].isnull().sum()"
   ]
  },
  {
   "cell_type": "code",
   "execution_count": 93,
   "id": "b8a23694",
   "metadata": {
    "scrolled": false
   },
   "outputs": [
    {
     "data": {
      "text/plain": [
       "665"
      ]
     },
     "execution_count": 93,
     "metadata": {},
     "output_type": "execute_result"
    }
   ],
   "source": [
    "df_train['product_modelname'].nunique()"
   ]
  },
  {
   "cell_type": "code",
   "execution_count": 94,
   "id": "3e2c2b21",
   "metadata": {},
   "outputs": [],
   "source": [
    "df_train['product_modelname'].fillna(df_train['product_subcategory'], inplace=True)\n",
    "df_test['product_modelname'].fillna(df_test['product_subcategory'], inplace=True)"
   ]
  },
  {
   "cell_type": "markdown",
   "id": "17e836bb",
   "metadata": {},
   "source": [
    "***\n",
    "***"
   ]
  },
  {
   "cell_type": "markdown",
   "id": "d41130aa",
   "metadata": {},
   "source": [
    "## ***18. customer_country.1***\n",
    "담당 자사 법인명 기반의 지역 정보(대륙)"
   ]
  },
  {
   "cell_type": "code",
   "execution_count": 95,
   "id": "f4c21333",
   "metadata": {},
   "outputs": [],
   "source": [
    "tmp_df = df_raw[~df_raw['customer_country'].isnull()]"
   ]
  },
  {
   "cell_type": "code",
   "execution_count": 96,
   "id": "fe506ec7",
   "metadata": {
    "scrolled": true
   },
   "outputs": [
    {
     "data": {
      "text/plain": [
       "True"
      ]
     },
     "execution_count": 96,
     "metadata": {},
     "output_type": "execute_result"
    }
   ],
   "source": [
    "(tmp_df['customer_country'] == tmp_df['customer_country.1']).all()"
   ]
  },
  {
   "cell_type": "markdown",
   "id": "07f80cb1",
   "metadata": {},
   "source": [
    "아예 같은 컬럼이기 때문에 컬럼 삭제"
   ]
  },
  {
   "cell_type": "code",
   "execution_count": 97,
   "id": "3e2d6ceb",
   "metadata": {},
   "outputs": [],
   "source": [
    "df_train = df_train.drop(columns='customer_country.1')\n",
    "df_test = df_test.drop(columns='customer_country.1')"
   ]
  },
  {
   "cell_type": "markdown",
   "id": "8388e41d",
   "metadata": {},
   "source": [
    "***\n",
    "***"
   ]
  },
  {
   "cell_type": "markdown",
   "id": "bde36954",
   "metadata": {},
   "source": [
    "## ***19. customer_position***\n",
    "고객의 회사 직책"
   ]
  },
  {
   "cell_type": "code",
   "execution_count": 98,
   "id": "bb7a736a",
   "metadata": {},
   "outputs": [
    {
     "data": {
      "text/plain": [
       "0"
      ]
     },
     "execution_count": 98,
     "metadata": {},
     "output_type": "execute_result"
    }
   ],
   "source": [
    "df_train['customer_position'].isnull().sum()"
   ]
  },
  {
   "cell_type": "code",
   "execution_count": 99,
   "id": "2b611bfc",
   "metadata": {
    "scrolled": true
   },
   "outputs": [
    {
     "data": {
      "text/plain": [
       "117"
      ]
     },
     "execution_count": 99,
     "metadata": {},
     "output_type": "execute_result"
    }
   ],
   "source": [
    "df_train['customer_position'].nunique()"
   ]
  },
  {
   "cell_type": "code",
   "execution_count": 100,
   "id": "5aab6700",
   "metadata": {},
   "outputs": [],
   "source": [
    "# manager\n",
    "df_train.loc[df_train['customer_position'].str.contains(\"manage\", case=False, na=False), 'customer_position'] = 'manager'\n",
    "df_test.loc[df_test['customer_position'].str.contains(\"manage\", case=False, na=False), 'customer_position'] = 'manager'\n",
    "\n",
    "# ceo/founder\n",
    "df_train.loc[df_train['customer_position'].str.contains(\"ceo\", case=False, na=False), 'customer_position'] = 'ceo/founder'\n",
    "df_test.loc[df_test['customer_position'].str.contains(\"ceo\", case=False, na=False), 'customer_position'] = 'ceo/founder'\n",
    "df_train.loc[df_train['customer_position'].str.contains(\"founder\", case=False, na=False), 'customer_position'] = 'ceo/founder'\n",
    "df_test.loc[df_test['customer_position'].str.contains(\"founder\", case=False, na=False), 'customer_position'] = 'ceo/founder'\n",
    "\n",
    "# other\n",
    "df_train.loc[df_train['customer_position'].str.contains(\"other\", case=False, na=False), 'customer_position'] = 'other'\n",
    "df_test.loc[df_test['customer_position'].str.contains(\"other\", case=False, na=False), 'customer_position'] = 'other'\n",
    "\n",
    "# director\n",
    "df_train.loc[df_train['customer_position'].str.contains(\"director\", case=False, na=False), 'customer_position'] = 'director'\n",
    "df_test.loc[df_test['customer_position'].str.contains(\"director\", case=False, na=False), 'customer_position'] = 'director'\n",
    "\n",
    "# associate/analyst\n",
    "df_train.loc[df_train['customer_position'].str.contains(\"associate\", case=False, na=False), 'customer_position'] = 'associate/analyst'\n",
    "df_test.loc[df_test['customer_position'].str.contains(\"associate\", case=False, na=False), 'customer_position'] = 'associate/analyst'\n",
    "df_train.loc[df_train['customer_position'].str.contains(\"analyst\", case=False, na=False), 'customer_position'] = 'associate/analyst'\n",
    "df_test.loc[df_test['customer_position'].str.contains(\"analyst\", case=False, na=False), 'customer_position'] = 'associate/analyst'\n",
    "\n",
    "# partner\n",
    "df_train.loc[df_train['customer_position'].str.contains(\"partner\", case=False, na=False), 'customer_position'] = 'partner'\n",
    "df_test.loc[df_test['customer_position'].str.contains(\"partner\", case=False, na=False), 'customer_position'] = 'partner'\n",
    "\n",
    "# entrylevel\n",
    "df_train.loc[df_train['customer_position'].str.contains(\"entrylevel\", case=False, na=False), 'customer_position'] = 'entry level'\n",
    "df_test.loc[df_test['customer_position'].str.contains(\"entrylevel\", case=False, na=False), 'customer_position'] = 'entry level'\n",
    "\n",
    "# trainee\n",
    "df_train.loc[df_train['customer_position'].str.contains(\"train\", case=False, na=False), 'customer_position'] = 'trainee'\n",
    "df_test.loc[df_test['customer_position'].str.contains(\"train\", case=False, na=False), 'customer_position'] = 'trainee'\n",
    "\n",
    "# c-level executive\n",
    "df_train.loc[df_train['customer_position'].str.contains(\"executive\", case=False, na=False), 'customer_position'] = 'c-level executive'\n",
    "df_test.loc[df_test['customer_position'].str.contains(\"executive\", case=False, na=False), 'customer_position'] = 'c-level executive'\n",
    "\n",
    "# vice president\n",
    "df_train.loc[df_train['customer_position'].str.contains(\"vicepresident\", case=False, na=False), 'customer_position'] = 'vice president'\n",
    "df_test.loc[df_test['customer_position'].str.contains(\"vicepresident\", case=False, na=False), 'customer_position'] = 'vice president'\n",
    "\n",
    "# intern\n",
    "df_train.loc[df_train['customer_position'].str.contains(\"intern\", case=False, na=False), 'customer_position'] = 'intern'\n",
    "df_test.loc[df_test['customer_position'].str.contains(\"intern\", case=False, na=False), 'customer_position'] = 'intern'\n",
    "\n",
    "# end-user\n",
    "df_train.loc[df_train['customer_position'].str.contains(\"end-user\", case=False, na=False), 'customer_position'] = 'end-user'\n",
    "df_test.loc[df_test['customer_position'].str.contains(\"end-user\", case=False, na=False), 'customer_position'] = 'end-user'\n",
    "\n",
    "# consultant\n",
    "df_train.loc[df_train['customer_position'].str.contains(\"consult\", case=False, na=False), 'customer_position'] = 'consultant'\n",
    "df_test.loc[df_test['customer_position'].str.contains(\"consult\", case=False, na=False), 'customer_position'] = 'consultant'\n",
    "\n",
    "# manufacturer\n",
    "df_train.loc[df_train['customer_position'].str.contains(\"manufacturer\", case=False, na=False), 'customer_position'] = 'manufacturer'\n",
    "df_test.loc[df_test['customer_position'].str.contains(\"manufacturer\", case=False, na=False), 'customer_position'] = 'manufacturer'\n",
    "\n",
    "# assistant professor\n",
    "df_train.loc[df_train['customer_position'].str.contains(\"assistant\", case=False, na=False), 'customer_position'] = 'assistant professor'\n",
    "df_test.loc[df_test['customer_position'].str.contains(\"assistant\", case=False, na=False), 'customer_position'] = 'assistant professor'\n"
   ]
  },
  {
   "cell_type": "markdown",
   "id": "5513ece7",
   "metadata": {},
   "source": [
    "117->90"
   ]
  },
  {
   "cell_type": "code",
   "execution_count": 101,
   "id": "e10615ff",
   "metadata": {
    "scrolled": true
   },
   "outputs": [
    {
     "data": {
      "text/plain": [
       "90"
      ]
     },
     "execution_count": 101,
     "metadata": {},
     "output_type": "execute_result"
    }
   ],
   "source": [
    "df_train['customer_position'].nunique()"
   ]
  },
  {
   "cell_type": "markdown",
   "id": "08f44706",
   "metadata": {},
   "source": [
    "***\n",
    "***"
   ]
  },
  {
   "cell_type": "markdown",
   "id": "95b6db15",
   "metadata": {},
   "source": [
    "## ***20. response_corporate***\n",
    "담당 자사 법인명"
   ]
  },
  {
   "cell_type": "code",
   "execution_count": 102,
   "id": "336ad0b2",
   "metadata": {},
   "outputs": [
    {
     "data": {
      "text/plain": [
       "0"
      ]
     },
     "execution_count": 102,
     "metadata": {},
     "output_type": "execute_result"
    }
   ],
   "source": [
    "df_train['response_corporate'].isnull().sum()"
   ]
  },
  {
   "cell_type": "code",
   "execution_count": 103,
   "id": "edea9a80",
   "metadata": {
    "scrolled": true
   },
   "outputs": [
    {
     "data": {
      "text/plain": [
       "array(['LGEPH', 'LGEIL', 'LGEAF', 'LGESJ', 'LGESL', 'LGESP', 'LGEGF',\n",
       "       'LGESA', 'LGEUS', 'LGECB', 'LGEMS', 'LGEEG', 'LGEEF', 'LGEAP',\n",
       "       'LGEIN', 'LGEUK', 'LGEKR', 'LGEPS', 'LGECI', 'LGECL', 'LGETK',\n",
       "       'LGELF', 'LGEPT', 'LGEPR', 'LGEDG', 'LGERO', 'LGEMK', 'LGEPL',\n",
       "       'LGECZ', 'LGEES', 'LGEAR', 'LGEHK', 'LGEML', 'LGEJP', 'LGEHS',\n",
       "       'LGEAS', 'LGEYK', 'LGEIS', 'LGEBN', 'LGEFS', 'LGESW', 'LGEMC',\n",
       "       'LGEAG', 'LGEEB', 'LGETH', 'LGEVH', 'LGECH', 'LGELA', 'LGETT',\n",
       "       'LGERA', 'LGEUR', 'LGEIR', 'LGEBT'], dtype=object)"
      ]
     },
     "execution_count": 103,
     "metadata": {},
     "output_type": "execute_result"
    }
   ],
   "source": [
    "df_train['response_corporate'].unique()"
   ]
  },
  {
   "cell_type": "markdown",
   "id": "9b1956de",
   "metadata": {},
   "source": [
    "***\n",
    "***"
   ]
  },
  {
   "cell_type": "markdown",
   "id": "1b3a897d",
   "metadata": {},
   "source": [
    "## ***21. expected_timeline***\n",
    "고객의 요청한 처리 일정"
   ]
  },
  {
   "cell_type": "code",
   "execution_count": 104,
   "id": "431a4a83",
   "metadata": {},
   "outputs": [
    {
     "data": {
      "text/plain": [
       "28260"
      ]
     },
     "execution_count": 104,
     "metadata": {},
     "output_type": "execute_result"
    }
   ],
   "source": [
    "df_train['expected_timeline'].isnull().sum()"
   ]
  },
  {
   "cell_type": "code",
   "execution_count": 105,
   "id": "7fd43652",
   "metadata": {
    "scrolled": true
   },
   "outputs": [
    {
     "data": {
      "text/plain": [
       "449"
      ]
     },
     "execution_count": 105,
     "metadata": {},
     "output_type": "execute_result"
    }
   ],
   "source": [
    "df_train['expected_timeline'].nunique()"
   ]
  },
  {
   "cell_type": "code",
   "execution_count": 106,
   "id": "585bf6d8",
   "metadata": {},
   "outputs": [],
   "source": [
    "#less than 3 months\n",
    "df_train.loc[df_train['expected_timeline'] == \"less_than_3_months\", 'expected_timeline'] = \"less than 3 months\"\n",
    "df_train.loc[df_train['expected_timeline'] == \"less than 3 months. customer not answered . to call back\", 'expected_timeline'] = \"less than 3 months\"\n",
    "df_train.loc[df_train['expected_timeline'] == \"duplicate lead - il220100042906. less than 3 months\", 'expected_timeline'] = \"less than 3 months\"\n",
    "df_train.loc[df_train['expected_timeline'] == \"less than 3 months- outdoor led requiment\", 'expected_timeline'] = \"less than 3 months\"\n",
    "df_train.loc[df_train['expected_timeline'] == \"3 months\", 'expected_timeline'] = \"less than 3 months\"\n",
    "df_train.loc[df_train['expected_timeline'] == \"less than 3 months ,meeting with the customer for the more details and tentative boq will ne 32 and 43\", 'expected_timeline'] = \"less than 3 months\"\n",
    "df_train.loc[df_train['expected_timeline'] == \"4/8 months\", 'expected_timeline'] = \"less than 3 months\"\n",
    "\n",
    "#3 months ~ 6 months\n",
    "df_train.loc[df_train['expected_timeline'] == \"less than 6 months\", 'expected_timeline'] = \"3 months ~ 6 months\"\n",
    "df_train.loc[df_train['expected_timeline'] == \"3_months_~_6_months\", 'expected_timeline'] = \"3 months ~ 6 months\"\n",
    "df_train.loc[df_train['expected_timeline'] == \"more then 3 months\", 'expected_timeline'] = \"3 months ~ 6 months\"\n",
    "df_train.loc[df_train['expected_timeline'] == \"less then 6 months\", 'expected_timeline'] = \"3 months ~ 6 months\"\n",
    "df_train.loc[df_train['expected_timeline'] == \"less than 5 months\", 'expected_timeline'] = \"3 months ~ 6 months\"\n",
    "\n",
    "#6 months ~ 9 months\n",
    "df_train.loc[df_train['expected_timeline'] == \"6_months_~_9_months\", 'expected_timeline'] = \"6 months ~ 9 months\"\n",
    "\n",
    "#9 months ~ 1 year\n",
    "df_train.loc[df_train['expected_timeline'] == \"9_months_~_1_year\", 'expected_timeline'] = \"9 months ~ 1 year\"\n",
    "df_train.loc[df_train['expected_timeline'] == \"9 months - 1 year\", 'expected_timeline'] = \"9 months ~ 1 year\"\n",
    "\n",
    "#more than a year\n",
    "df_train.loc[df_train['expected_timeline'] == \"more_than_a_year\", 'expected_timeline'] = \"more than a year\"\n",
    "df_train.loc[df_train['expected_timeline'] == \"more_than_a_year\", 'expected_timeline'] = \"more than a year\"\n",
    "\n",
    "#df_test\n",
    "df_test.loc[df_test['expected_timeline'] == \"less_than_3_months\", 'expected_timeline'] = \"less than 3 months\"\n",
    "df_test.loc[df_test['expected_timeline'] == \"less than 3 months. customer not answered . to call back\", 'expected_timeline'] = \"less than 3 months\"\n",
    "df_test.loc[df_test['expected_timeline'] == \"duplicate lead - il220100042906. less than 3 months\", 'expected_timeline'] = \"less than 3 months\"\n",
    "df_test.loc[df_test['expected_timeline'] == \"less than 3 months- outdoor led requiment\", 'expected_timeline'] = \"less than 3 months\"\n",
    "df_test.loc[df_test['expected_timeline'] == \"3 months\", 'expected_timeline'] = \"less than 3 months\"\n",
    "df_test.loc[df_test['expected_timeline'] == \"less than 3 months ,meeting with the customer for the more details and tentative boq will ne 32 and 43\", 'expected_timeline'] = \"less than 3 months\"\n",
    "df_test.loc[df_test['expected_timeline'] == \"4/8 months\", 'expected_timeline'] = \"less than 3 months\"\n",
    "\n",
    "df_test.loc[df_test['expected_timeline'] == \"less than 6 months\", 'expected_timeline'] = \"3 months ~ 6 months\"\n",
    "df_test.loc[df_test['expected_timeline'] == \"3_months_~_6_months\", 'expected_timeline'] = \"3 months ~ 6 months\"\n",
    "df_test.loc[df_test['expected_timeline'] == \"more then 3 months\", 'expected_timeline'] = \"3 months ~ 6 months\"\n",
    "df_test.loc[df_test['expected_timeline'] == \"less then 6 months\", 'expected_timeline'] = \"3 months ~ 6 months\"\n",
    "df_test.loc[df_test['expected_timeline'] == \"less than 5 months\", 'expected_timeline'] = \"3 months ~ 6 months\"\n",
    "\n",
    "df_test.loc[df_test['expected_timeline'] == \"6_months_~_9_months\", 'expected_timeline'] = \"6 months ~ 9 months\"\n",
    "\n",
    "df_test.loc[df_test['expected_timeline'] == \"9_months_~_1_year\", 'expected_timeline'] = \"9 months ~ 1 year\"\n",
    "df_test.loc[df_test['expected_timeline'] == \"9 months - 1 year\", 'expected_timeline'] = \"9 months ~ 1 year\"\n",
    "\n",
    "df_test.loc[df_test['expected_timeline'] == \"more_than_a_year\", 'expected_timeline'] = \"more than a year\"\n",
    "df_test.loc[df_test['expected_timeline'] == \"more_than_a_year\", 'expected_timeline'] = \"more than a year\"\n",
    "\n",
    "df_train.loc[df_train['expected_timeline'] == \"being followed up\", 'expected_timeline'] = \"being followed up\"\n",
    "df_train.loc[df_train['expected_timeline'] == \"being followed up.\", 'expected_timeline'] = \"being followed up\""
   ]
  },
  {
   "cell_type": "code",
   "execution_count": 107,
   "id": "fc9fe98f",
   "metadata": {},
   "outputs": [],
   "source": [
    "#처리완료가 아닌 것 및 결측치 처리\n",
    "timeline = ['less than 3 months', '3 months ~ 6 months', '6 months ~ 9 months', '9 months ~ 1 year', 'more than a year']\n",
    "df_train['expected_timeline'] = df_train['expected_timeline'].fillna(\"incomplete\")\n",
    "timeline.append(\"incomplete\")\n",
    "df_train.loc[~df_train['expected_timeline'].isin(timeline), \"expected_timeline\"] = \"etc\"\n",
    "\n",
    "df_test['expected_timeline'] = df_test['expected_timeline'].fillna(\"incomplete\")\n",
    "df_test.loc[~df_test['expected_timeline'].isin(timeline), \"expected_timeline\"] = \"etc\""
   ]
  },
  {
   "cell_type": "markdown",
   "id": "37237891",
   "metadata": {},
   "source": [
    "***\n",
    "***"
   ]
  },
  {
   "cell_type": "markdown",
   "id": "3fe84966",
   "metadata": {},
   "source": [
    "## ***22. ver_cus***\n",
    "특정 Vertical Level 1(사업영역) 이면서 Customer_type(고객 유형)이 소비자(End-user)인 경우에 대한 가중치"
   ]
  },
  {
   "cell_type": "code",
   "execution_count": 108,
   "id": "a4bd7251",
   "metadata": {},
   "outputs": [
    {
     "data": {
      "text/plain": [
       "0"
      ]
     },
     "execution_count": 108,
     "metadata": {},
     "output_type": "execute_result"
    }
   ],
   "source": [
    "df_train['ver_cus'].isnull().sum()"
   ]
  },
  {
   "cell_type": "code",
   "execution_count": 109,
   "id": "6c37115c",
   "metadata": {},
   "outputs": [
    {
     "data": {
      "text/plain": [
       "ver_cus\n",
       "0    53378\n",
       "1     2364\n",
       "Name: count, dtype: int64"
      ]
     },
     "execution_count": 109,
     "metadata": {},
     "output_type": "execute_result"
    }
   ],
   "source": [
    "df_train['ver_cus'].value_counts()"
   ]
  },
  {
   "cell_type": "code",
   "execution_count": 110,
   "id": "d9cbcb4b",
   "metadata": {},
   "outputs": [
    {
     "data": {
      "text/plain": [
       "array(['corporate / office', 'education', 'hotel & accommodation',\n",
       "       'retail'], dtype=object)"
      ]
     },
     "execution_count": 110,
     "metadata": {},
     "output_type": "execute_result"
    }
   ],
   "source": [
    "df_train[df_train['ver_cus']==1]['business_area'].unique()"
   ]
  },
  {
   "cell_type": "code",
   "execution_count": 111,
   "id": "b914129e",
   "metadata": {},
   "outputs": [
    {
     "data": {
      "text/plain": [
       "array(['End-Customer'], dtype=object)"
      ]
     },
     "execution_count": 111,
     "metadata": {},
     "output_type": "execute_result"
    }
   ],
   "source": [
    "df_train[df_train['ver_cus']==1]['customer_type'].unique()"
   ]
  },
  {
   "cell_type": "markdown",
   "id": "60a7d06a",
   "metadata": {},
   "source": [
    "***\n",
    "***"
   ]
  },
  {
   "cell_type": "markdown",
   "id": "5d804120",
   "metadata": {},
   "source": [
    "## ***23. ver_pro***\n",
    "특정 Vertical Level 1(사업영역) 이면서 특정 Product Category(제품 유형)인 경우에 대한 가중치"
   ]
  },
  {
   "cell_type": "code",
   "execution_count": 112,
   "id": "ce529654",
   "metadata": {},
   "outputs": [
    {
     "data": {
      "text/plain": [
       "0"
      ]
     },
     "execution_count": 112,
     "metadata": {},
     "output_type": "execute_result"
    }
   ],
   "source": [
    "df_train['ver_pro'].isnull().sum()"
   ]
  },
  {
   "cell_type": "code",
   "execution_count": 113,
   "id": "bfa39cc6",
   "metadata": {},
   "outputs": [
    {
     "data": {
      "text/plain": [
       "ver_pro\n",
       "0    52809\n",
       "1     2933\n",
       "Name: count, dtype: int64"
      ]
     },
     "execution_count": 113,
     "metadata": {},
     "output_type": "execute_result"
    }
   ],
   "source": [
    "df_train['ver_pro'].value_counts()"
   ]
  },
  {
   "cell_type": "code",
   "execution_count": 114,
   "id": "b1b4e01f",
   "metadata": {},
   "outputs": [
    {
     "data": {
      "text/plain": [
       "array(['corporate / office', 'retail', 'hotel & accommodation'],\n",
       "      dtype=object)"
      ]
     },
     "execution_count": 114,
     "metadata": {},
     "output_type": "execute_result"
    }
   ],
   "source": [
    "df_train[df_train['ver_pro']==1]['business_area'].unique()"
   ]
  },
  {
   "cell_type": "code",
   "execution_count": 115,
   "id": "0cd3579a",
   "metadata": {},
   "outputs": [
    {
     "data": {
      "text/plain": [
       "array(['Commercial Display / Standard Signage',\n",
       "       'Commercial Display / High Brightness Signage',\n",
       "       'Commercial Display / Interactive Signage',\n",
       "       'Commercial Display / Video Wall Signage',\n",
       "       'Commercial Display / LED Signage',\n",
       "       'Commercial Display / Signage Care Solution',\n",
       "       'Commercial Display / OLED Signage',\n",
       "       'Commercial Display / Special Signage', 'Commercial Display',\n",
       "       'Commercial Display / Digital Signage', 'Unknown',\n",
       "       'Commercial Display / Hotel TV'], dtype=object)"
      ]
     },
     "execution_count": 115,
     "metadata": {},
     "output_type": "execute_result"
    }
   ],
   "source": [
    "df_train[df_train['ver_pro']==1]['product_category'].unique()"
   ]
  },
  {
   "cell_type": "markdown",
   "id": "f1f8c578",
   "metadata": {},
   "source": [
    "***\n",
    "***"
   ]
  },
  {
   "cell_type": "markdown",
   "id": "25c401fc",
   "metadata": {},
   "source": [
    "## ***24. ver_win_rate_x***\n",
    "전체 Lead 중에서 Vertical을 기준으로 Vertical 수 비율과 Vertical 별 Lead 수 대비 영업 전환 성공 비율 값을 곱한 값"
   ]
  },
  {
   "cell_type": "code",
   "execution_count": 116,
   "id": "d4a47e99",
   "metadata": {},
   "outputs": [
    {
     "data": {
      "text/plain": [
       "37975"
      ]
     },
     "execution_count": 116,
     "metadata": {},
     "output_type": "execute_result"
    }
   ],
   "source": [
    "df_train['ver_win_rate_x'].isnull().sum()"
   ]
  },
  {
   "cell_type": "code",
   "execution_count": 117,
   "id": "6ebc066f",
   "metadata": {},
   "outputs": [
    {
     "data": {
      "text/plain": [
       "ver_win_rate_x\n",
       "0.003079    3985\n",
       "0.001183    2918\n",
       "0.000717    1958\n",
       "0.000543    1873\n",
       "0.000298    1786\n",
       "0.000572    1678\n",
       "0.000060    1019\n",
       "0.000215    1013\n",
       "0.000097     635\n",
       "0.000026     502\n",
       "0.000013     292\n",
       "0.000002     108\n",
       "Name: count, dtype: int64"
      ]
     },
     "execution_count": 117,
     "metadata": {},
     "output_type": "execute_result"
    }
   ],
   "source": [
    "df_train['ver_win_rate_x'].value_counts()"
   ]
  },
  {
   "cell_type": "code",
   "execution_count": 118,
   "id": "6b4d51a5",
   "metadata": {},
   "outputs": [
    {
     "data": {
      "text/plain": [
       "ver_win_rate_x  business_unit  business_area                 \n",
       "0.000002        AS             power plant / renewable energy      58\n",
       "                ID             power plant / renewable energy      42\n",
       "                IT             power plant / renewable energy       8\n",
       "0.000013        ID             transportation                     209\n",
       "                AS             transportation                      51\n",
       "                IT             transportation                      28\n",
       "                Solution       transportation                       4\n",
       "0.000026        ID             public facility                    265\n",
       "                AS             public facility                    192\n",
       "                IT             public facility                     37\n",
       "                Solution       public facility                      8\n",
       "0.000060        IT             hospital & health care             739\n",
       "                AS             hospital & health care             150\n",
       "                ID             hospital & health care             130\n",
       "0.000097        ID             government department              411\n",
       "                AS             government department              170\n",
       "                IT             government department               47\n",
       "                Solution       government department                7\n",
       "0.000215        ID             factory                            530\n",
       "                AS             factory                            397\n",
       "                IT             factory                             77\n",
       "                Solution       factory                              9\n",
       "0.000298        AS             residential (home)                1342\n",
       "                ID             residential (home)                 378\n",
       "                IT             residential (home)                  40\n",
       "                Solution       residential (home)                  26\n",
       "0.000543        ID             special purpose                   1037\n",
       "                AS             special purpose                    699\n",
       "                IT             special purpose                    106\n",
       "                Solution       special purpose                     31\n",
       "0.000572        ID             education                         1325\n",
       "                AS             education                          206\n",
       "                IT             education                          137\n",
       "                Solution       education                           10\n",
       "0.000717        ID             hotel & accommodation              936\n",
       "                IT             hotel & accommodation              786\n",
       "                AS             hotel & accommodation              205\n",
       "                Solution       hotel & accommodation               31\n",
       "0.001183        ID             retail                            1963\n",
       "                AS             retail                             771\n",
       "                IT             retail                             153\n",
       "                Solution       retail                              31\n",
       "0.003079        ID             corporate / office                2397\n",
       "                AS             corporate / office                1237\n",
       "                IT             corporate / office                 322\n",
       "                Solution       corporate / office                  29\n",
       "Name: count, dtype: int64"
      ]
     },
     "execution_count": 118,
     "metadata": {},
     "output_type": "execute_result"
    }
   ],
   "source": [
    "df_train.groupby('ver_win_rate_x')[['business_unit','business_area']].value_counts()"
   ]
  },
  {
   "cell_type": "markdown",
   "id": "c161eb66",
   "metadata": {},
   "source": [
    "***\n",
    "***"
   ]
  },
  {
   "cell_type": "markdown",
   "id": "ef6a164a",
   "metadata": {},
   "source": [
    "## ***25. ver_win_ratio_per_bu***\n",
    "특정 Vertical Level1의 Business Unit 별 샘플 수 대비 영업 전환된 샘플 수의 비율을 계산"
   ]
  },
  {
   "cell_type": "code",
   "execution_count": 119,
   "id": "b713c6ae",
   "metadata": {},
   "outputs": [
    {
     "data": {
      "text/plain": [
       "40868"
      ]
     },
     "execution_count": 119,
     "metadata": {},
     "output_type": "execute_result"
    }
   ],
   "source": [
    "df_train['ver_win_ratio_per_bu'].isnull().sum()"
   ]
  },
  {
   "cell_type": "code",
   "execution_count": 120,
   "id": "c8a4e91c",
   "metadata": {},
   "outputs": [
    {
     "data": {
      "text/plain": [
       "ver_win_ratio_per_bu\n",
       "0.064566    2397\n",
       "0.049840    1963\n",
       "0.020121    1342\n",
       "0.048630    1325\n",
       "0.026846    1237\n",
       "0.064070    1037\n",
       "0.071345     936\n",
       "0.011583     771\n",
       "0.022634     699\n",
       "0.060924     530\n",
       "0.079412     411\n",
       "0.036913     397\n",
       "0.035484     378\n",
       "0.031579     265\n",
       "0.053571     209\n",
       "0.051471     206\n",
       "0.028777     192\n",
       "0.022727     170\n",
       "0.128571     150\n",
       "0.131148     130\n",
       "0.227273      58\n",
       "0.285714      42\n",
       "0.034483      29\n",
       "Name: count, dtype: int64"
      ]
     },
     "execution_count": 120,
     "metadata": {},
     "output_type": "execute_result"
    }
   ],
   "source": [
    "df_train['ver_win_ratio_per_bu'].value_counts()"
   ]
  },
  {
   "cell_type": "code",
   "execution_count": 121,
   "id": "57c86a17",
   "metadata": {},
   "outputs": [
    {
     "data": {
      "text/plain": [
       "ver_win_ratio_per_bu  business_unit  business_area                 \n",
       "0.011583              AS             retail                             771\n",
       "0.020121              AS             residential (home)                1342\n",
       "0.022634              AS             special purpose                    699\n",
       "0.022727              AS             government department              170\n",
       "0.026846              AS             corporate / office                1237\n",
       "0.028777              AS             public facility                    192\n",
       "0.031579              ID             public facility                    265\n",
       "0.034483              Solution       corporate / office                  29\n",
       "0.035484              ID             residential (home)                 378\n",
       "0.036913              AS             factory                            397\n",
       "0.048630              ID             education                         1325\n",
       "0.049840              ID             retail                            1963\n",
       "0.051471              AS             education                          206\n",
       "0.053571              ID             transportation                     209\n",
       "0.060924              ID             factory                            530\n",
       "0.064070              ID             special purpose                   1037\n",
       "0.064566              ID             corporate / office                2397\n",
       "0.071345              ID             hotel & accommodation              936\n",
       "0.079412              ID             government department              411\n",
       "0.128571              AS             hospital & health care             150\n",
       "0.131148              ID             hospital & health care             130\n",
       "0.227273              AS             power plant / renewable energy      58\n",
       "0.285714              ID             power plant / renewable energy      42\n",
       "Name: count, dtype: int64"
      ]
     },
     "execution_count": 121,
     "metadata": {},
     "output_type": "execute_result"
    }
   ],
   "source": [
    "df_train.groupby('ver_win_ratio_per_bu')[['business_unit','business_area']].value_counts()"
   ]
  },
  {
   "cell_type": "markdown",
   "id": "5e533f8a",
   "metadata": {},
   "source": [
    "***\n",
    "***"
   ]
  },
  {
   "cell_type": "markdown",
   "id": "caed18ac",
   "metadata": {},
   "source": [
    "## ***26. business_area***\n",
    "고객의 사업 영역"
   ]
  },
  {
   "cell_type": "code",
   "execution_count": 122,
   "id": "3383116e",
   "metadata": {},
   "outputs": [
    {
     "data": {
      "text/plain": [
       "37975"
      ]
     },
     "execution_count": 122,
     "metadata": {},
     "output_type": "execute_result"
    }
   ],
   "source": [
    "df_train['business_area'].isnull().sum()"
   ]
  },
  {
   "cell_type": "code",
   "execution_count": 123,
   "id": "27336f51",
   "metadata": {},
   "outputs": [
    {
     "data": {
      "text/plain": [
       "business_area\n",
       "corporate / office                3985\n",
       "retail                            2918\n",
       "hotel & accommodation             1958\n",
       "special purpose                   1873\n",
       "residential (home)                1786\n",
       "education                         1678\n",
       "hospital & health care            1019\n",
       "factory                           1013\n",
       "government department              635\n",
       "public facility                    502\n",
       "transportation                     292\n",
       "power plant / renewable energy     108\n",
       "Name: count, dtype: int64"
      ]
     },
     "execution_count": 123,
     "metadata": {},
     "output_type": "execute_result"
    }
   ],
   "source": [
    "df_train['business_area'].value_counts()"
   ]
  },
  {
   "cell_type": "code",
   "execution_count": 124,
   "id": "c17ed518",
   "metadata": {},
   "outputs": [],
   "source": [
    "#Business_Area 결측치 처리\n",
    "df_train['business_area'] = df_train['business_area'].fillna(\"Not entered\")\n",
    "df_test['business_area'] = df_test['business_area'].fillna(\"Not entered\")"
   ]
  },
  {
   "cell_type": "markdown",
   "id": "8e5f8078",
   "metadata": {},
   "source": [
    "***\n",
    "***"
   ]
  },
  {
   "cell_type": "markdown",
   "id": "746d1ddc",
   "metadata": {},
   "source": [
    "## ***27. business_subarea***\n",
    "고객의 세부 사업 영역"
   ]
  },
  {
   "cell_type": "code",
   "execution_count": 125,
   "id": "11d86d84",
   "metadata": {},
   "outputs": [
    {
     "data": {
      "text/plain": [
       "50578"
      ]
     },
     "execution_count": 125,
     "metadata": {},
     "output_type": "execute_result"
    }
   ],
   "source": [
    "df_train['business_subarea'].isnull().sum()"
   ]
  },
  {
   "cell_type": "code",
   "execution_count": 126,
   "id": "04503a39",
   "metadata": {},
   "outputs": [
    {
     "data": {
      "text/plain": [
       "business_subarea\n",
       "Others                           1579\n",
       "Other Stores                      268\n",
       "Hospital                          245\n",
       "Manufacturing Factory / Plant     190\n",
       "Construction                      182\n",
       "                                 ... \n",
       "Duty Free Shop                      2\n",
       "Dormitory                           1\n",
       "Casino Resort                       1\n",
       "Holdings                            1\n",
       "Travel Agency                       1\n",
       "Name: count, Length: 86, dtype: int64"
      ]
     },
     "execution_count": 126,
     "metadata": {},
     "output_type": "execute_result"
    }
   ],
   "source": [
    "df_train['business_subarea'].value_counts()"
   ]
  },
  {
   "cell_type": "code",
   "execution_count": 127,
   "id": "4e83b8b8",
   "metadata": {},
   "outputs": [],
   "source": [
    "#Business_Subarea 결측치 처리\n",
    "df_train['business_subarea'] = df_train['business_subarea'].fillna(\"Not entered\")\n",
    "df_test['business_subarea'] = df_test['business_subarea'].fillna(\"Not entered\")"
   ]
  },
  {
   "cell_type": "code",
   "execution_count": 128,
   "id": "f64f2b9b",
   "metadata": {},
   "outputs": [],
   "source": [
    "#Business_Subarea 건강관련 값 통일\n",
    "health = ['Hospital','General Hospital','Clinic','Healthcare']\n",
    "df_train.loc[df_train['business_subarea'].isin(health), 'business_subarea'] = \"Health\"\n",
    "df_test.loc[df_test['business_subarea'].isin(health), 'business_subarea'] = \"Health\""
   ]
  },
  {
   "cell_type": "code",
   "execution_count": 129,
   "id": "898b759b",
   "metadata": {},
   "outputs": [
    {
     "data": {
      "text/html": [
       "<div>\n",
       "<style scoped>\n",
       "    .dataframe tbody tr th:only-of-type {\n",
       "        vertical-align: middle;\n",
       "    }\n",
       "\n",
       "    .dataframe tbody tr th {\n",
       "        vertical-align: top;\n",
       "    }\n",
       "\n",
       "    .dataframe thead th {\n",
       "        text-align: right;\n",
       "    }\n",
       "</style>\n",
       "<table border=\"1\" class=\"dataframe\">\n",
       "  <thead>\n",
       "    <tr style=\"text-align: right;\">\n",
       "      <th></th>\n",
       "      <th>영업전환_확률</th>\n",
       "      <th>Count</th>\n",
       "    </tr>\n",
       "    <tr>\n",
       "      <th>business_subarea</th>\n",
       "      <th></th>\n",
       "      <th></th>\n",
       "    </tr>\n",
       "  </thead>\n",
       "  <tbody>\n",
       "    <tr>\n",
       "      <th>Casino Resort</th>\n",
       "      <td>1.000000</td>\n",
       "      <td>1</td>\n",
       "    </tr>\n",
       "    <tr>\n",
       "      <th>CVS (Convenience Store)</th>\n",
       "      <td>1.000000</td>\n",
       "      <td>2</td>\n",
       "    </tr>\n",
       "    <tr>\n",
       "      <th>F&amp;B(Food and Beverage)</th>\n",
       "      <td>1.000000</td>\n",
       "      <td>2</td>\n",
       "    </tr>\n",
       "    <tr>\n",
       "      <th>Cruise</th>\n",
       "      <td>0.659574</td>\n",
       "      <td>47</td>\n",
       "    </tr>\n",
       "    <tr>\n",
       "      <th>Hotel</th>\n",
       "      <td>0.657143</td>\n",
       "      <td>35</td>\n",
       "    </tr>\n",
       "    <tr>\n",
       "      <th>...</th>\n",
       "      <td>...</td>\n",
       "      <td>...</td>\n",
       "    </tr>\n",
       "    <tr>\n",
       "      <th>Gas Station</th>\n",
       "      <td>0.000000</td>\n",
       "      <td>4</td>\n",
       "    </tr>\n",
       "    <tr>\n",
       "      <th>Holdings</th>\n",
       "      <td>0.000000</td>\n",
       "      <td>1</td>\n",
       "    </tr>\n",
       "    <tr>\n",
       "      <th>Aerospace</th>\n",
       "      <td>0.000000</td>\n",
       "      <td>5</td>\n",
       "    </tr>\n",
       "    <tr>\n",
       "      <th>Logistics</th>\n",
       "      <td>0.000000</td>\n",
       "      <td>14</td>\n",
       "    </tr>\n",
       "    <tr>\n",
       "      <th>Welfare Facilities</th>\n",
       "      <td>0.000000</td>\n",
       "      <td>5</td>\n",
       "    </tr>\n",
       "  </tbody>\n",
       "</table>\n",
       "<p>84 rows × 2 columns</p>\n",
       "</div>"
      ],
      "text/plain": [
       "                          영업전환_확률  Count\n",
       "business_subarea                        \n",
       "Casino Resort            1.000000      1\n",
       "CVS (Convenience Store)  1.000000      2\n",
       "F&B(Food and Beverage)   1.000000      2\n",
       "Cruise                   0.659574     47\n",
       "Hotel                    0.657143     35\n",
       "...                           ...    ...\n",
       "Gas Station              0.000000      4\n",
       "Holdings                 0.000000      1\n",
       "Aerospace                0.000000      5\n",
       "Logistics                0.000000     14\n",
       "Welfare Facilities       0.000000      5\n",
       "\n",
       "[84 rows x 2 columns]"
      ]
     },
     "execution_count": 129,
     "metadata": {},
     "output_type": "execute_result"
    }
   ],
   "source": [
    "tmp_df = pd.concat([pd.DataFrame(df_train.groupby('business_subarea')['is_converted'].mean()), pd.DataFrame(df_train.groupby('business_subarea')['is_converted'].count())], axis=1)\n",
    "tmp_df.columns = ['영업전환_확률', 'Count']\n",
    "tmp_df.sort_values('영업전환_확률', ascending = False)"
   ]
  },
  {
   "cell_type": "markdown",
   "id": "b03b70df",
   "metadata": {},
   "source": [
    "***\n",
    "***"
   ]
  },
  {
   "cell_type": "markdown",
   "id": "2dd2d17b",
   "metadata": {},
   "source": [
    "## ***28. lead_owner***\n",
    "영업 담당자 이름"
   ]
  },
  {
   "cell_type": "code",
   "execution_count": 130,
   "id": "7a6189d6",
   "metadata": {},
   "outputs": [
    {
     "data": {
      "text/plain": [
       "0"
      ]
     },
     "execution_count": 130,
     "metadata": {},
     "output_type": "execute_result"
    }
   ],
   "source": [
    "df_train['lead_owner'].isnull().sum()"
   ]
  },
  {
   "cell_type": "code",
   "execution_count": 131,
   "id": "d93b2d39",
   "metadata": {},
   "outputs": [],
   "source": [
    "# # lead_owner가 2개 이하일 경우 과적합 우려 있어 특정 값 대체.\n",
    "\n",
    "# tmp_lst = df_train.groupby('lead_owner')['is_converted'].count().loc[lambda x: x <= 3].index\n",
    "# df_train.loc[df_train['lead_owner'].isin(tmp_lst), 'lead_owner'] = 'Unknown'\n",
    "# df_test.loc[df_test['lead_owner'].isin(tmp_lst), 'lead_owner'] = 'Unknown'"
   ]
  },
  {
   "cell_type": "markdown",
   "id": "b5339ed6",
   "metadata": {},
   "source": [
    "***\n",
    "***"
   ]
  },
  {
   "cell_type": "markdown",
   "id": "9f562fdf",
   "metadata": {},
   "source": [
    "## ***29. is_converted***\n",
    "영업 성공 여부. True일 시 성공."
   ]
  },
  {
   "cell_type": "code",
   "execution_count": 132,
   "id": "b1281073",
   "metadata": {},
   "outputs": [
    {
     "data": {
      "text/plain": [
       "0"
      ]
     },
     "execution_count": 132,
     "metadata": {},
     "output_type": "execute_result"
    }
   ],
   "source": [
    "df_train['is_converted'].isnull().sum()"
   ]
  },
  {
   "cell_type": "code",
   "execution_count": 133,
   "id": "7923d06c",
   "metadata": {},
   "outputs": [
    {
     "data": {
      "text/plain": [
       "is_converted\n",
       "False    51141\n",
       "True      4601\n",
       "Name: count, dtype: int64"
      ]
     },
     "execution_count": 133,
     "metadata": {},
     "output_type": "execute_result"
    }
   ],
   "source": [
    "df_train['is_converted'].value_counts()"
   ]
  },
  {
   "cell_type": "markdown",
   "id": "e04c1e12",
   "metadata": {},
   "source": [
    "***\n",
    "***\n",
    "***"
   ]
  },
  {
   "cell_type": "markdown",
   "id": "cc09772c",
   "metadata": {},
   "source": [
    "# 3. Feature Engineering"
   ]
  },
  {
   "cell_type": "markdown",
   "id": "cda9ccfc",
   "metadata": {},
   "source": [
    "***"
   ]
  },
  {
   "cell_type": "markdown",
   "id": "90ad291d",
   "metadata": {},
   "source": [
    "## ***product_category_2***\n",
    "동일 조건 여러개 category"
   ]
  },
  {
   "cell_type": "code",
   "execution_count": 134,
   "id": "a9eec883",
   "metadata": {},
   "outputs": [],
   "source": [
    "df_train['product_category_2'] = df_train['product_category'].copy()\n",
    "df_test['product_category_2'] = df_test['product_category'].copy()"
   ]
  },
  {
   "cell_type": "code",
   "execution_count": 135,
   "id": "0521121a",
   "metadata": {},
   "outputs": [],
   "source": [
    "product_dict = {\n",
    "    '110UM5J' : 'Commercial Display / Digital Signage',    '15LS766F (NA)' : 'Commercial Display / commercial tv',    '28MQ780' : 'IT PRODUCTS / Monitor',    '32LT340C' : 'Commercial Display / Digital Signage',    '43HT3WJ' : 'Commercial Display / Interactive signage',    '43UH5F-H' : 'Commercial Display / Digital Signage',    '43US660H' : 'Commercial Display / Hotel TV',    '49UH7F-H' : 'Commercial Display / Digital Signage',    '49VL5PF' : 'Commercial Display / Video Wall Signage',    '55CT5WJ' : 'Commercial Display / One:Quick Series',    '55EF5F-L' : 'Commercial Display / OLED Signage',    '55EF5F-P' : 'Commercial Display / OLED Signage',    '55EF5G-P' : 'Commercial Display / OLED Signage',    '55TR3BG-B' : 'Commercial Display / Interactive signage',    '55UH5F-H': 'Commercial Display / Digital Signage',    '55UH7F-B' : 'Commercial Display / Digital Signage',    '55UR640S' : 'Commercial Display / commercial tv',    '55VM5J-H' : 'Commercial Display / Video Wall Signage',    '55VSM5J' : 'Commercial Display / Video Wall Signage',    '55XE4F-M' : 'Commercial Display / High Brightness Signage',    '55XS2E' : 'Commercial Display / Digital Signage',\n",
    "    '65EV5E' : 'Commercial Display / OLED Signage',    '65UH5F-H' : 'Commercial Display / Standard Signage',    '75TC3D' : 'Commercial Display / Interactive signage',    '75UR640S (EU/CIS)' : 'Commercial Display / Digital Signage',    '85TR3BF' : 'Commercial Display / Interactive signage',    '86BH5F' : 'Commercial Display / Digital Signage',    '86BH5F-B' : 'Commercial Display / Digital Signage',    '86TR3E' : 'Commercial Display / Interactive signage',    '86UT640S' : 'Commercial Display / commercial tv',    '98UH5F-H' : 'Commercial Display / commercial tv',    'Ergo Dual(27QP88D)' : 'IT PRODUCTS / Monitor',    'GSCC066' : 'Commercial Display / LED Signage',    'KT-T32E' : 'Commercial Display / Digital Signage',    'LAD033F' : 'Commercial Display / LED Signage',    'LAEB015' : 'Commercial Display / LED Signage',    'LAS039DB9-V' : 'Commercial Display / LED Signage',    'LAT140' : 'Commercial Display / LED Signage',    'LSAA012' : 'Commercial Display / LED Signage',    'LSAB009' : 'Commercial Display / LED Signage',    'LSAB012' : 'Commercial Display / LED Signage',    'SC-00DA' : 'Commercial Display / One:Quick Series',    'UltraFine Ergo(32UN880)' : 'IT PRODUCTS / Monitor',    'UltraWide Ergo(34WN780)' : 'IT PRODUCTS / Monitor'}"
   ]
  },
  {
   "cell_type": "code",
   "execution_count": 136,
   "id": "0424dcfb",
   "metadata": {},
   "outputs": [],
   "source": [
    "product_dict_key = product_dict.keys()\n",
    "product_dict_value = product_dict.values()"
   ]
  },
  {
   "cell_type": "code",
   "execution_count": 137,
   "id": "b4820c69",
   "metadata": {},
   "outputs": [
    {
     "name": "stderr",
     "output_type": "stream",
     "text": [
      "44it [00:00, 300.18it/s]\n"
     ]
    }
   ],
   "source": [
    "for i, val in tqdm(enumerate(product_dict_key)):\n",
    "    df_train.loc[df_train['product_modelname'] == val, 'product_category_2'] = product_dict[val]\n",
    "    df_test.loc[df_test['product_modelname'] == val, 'product_category_2'] = product_dict[val]"
   ]
  },
  {
   "cell_type": "code",
   "execution_count": 138,
   "id": "de1fc5b7",
   "metadata": {},
   "outputs": [],
   "source": [
    "product_dict = {\n",
    "    '49\" 500 nits FHD Slim Bezel Video Wall' : 'Commercial Display / Video Wall Signage',    'All Medical Display' : 'IT PRODUCTS / Medical Display',    'All Medical Displays' : 'IT PRODUCTS / Medical Display',    'All Monitors & PCs' : 'IT PRODUCTS / Monitor & IT PRODUCTS / pc',    'All Projectors' : 'IT PRODUCTS / Projector',    'Built-in Touch Display' : 'Commercial Display / Interactive signage',    'Clinical Review Monitors' : 'IT PRODUCTS / Medical Display',    'Diagnostic Monitors' : 'IT PRODUCTS / Medical Display',    'Diagnostic Monitors\\u200b' : 'IT PRODUCTS / Medical Display',    'Digital X-ray Detectors' : 'IT PRODUCTS / Medical Display',    'Essential Series' : 'Commercial Display / LED Signage',    'Flat OLED Signage' : 'Commercial Display / OLED Signage',    'Interactive Digital Board' : 'Commercial Display / Interactive signage',    'LED Cinema' : 'Commercial Display / LED Signage',    'LT340C Series' : 'Commercial Display / commercial tv',    'LU640H Series' : 'Commercial Display / Hotel TV',    'Laptops' : 'IT PRODUCTS / Laptop',    'OLED Pro Monitor' : 'IT PRODUCTS / Monitor',    'One:Quick Flex' : 'Commercial Display / One:Quick Series',    'One:Quick Works' : 'Commercial Display / One:Quick Series',    'One:Quick works' : 'Commercial Display / One:Quick Series',    'Other' : 'others',    'Others' : 'others',    'SE3KE Series' : 'Commercial Display / Digital Signage',    'SH7DD 系列' : 'Commercial Display / Digital Signage',    'SM3G Series' : 'Commercial Display / Digital Signage',    'SM5KE Series' : 'Commercial Display / Digital Signage',    'Series' : 'others',    'Smart Touch Screen TV' : 'Commercial Display / commercial tv',    'Surgical Monitors' : 'IT PRODUCTS / Medical Display',    'TC3D Series' : 'Commercial Display / Interactive signage',\n",
    "    'TR3BF Series' : 'Commercial Display / Interactive signage',    'TR3BG Series' : 'Commercial Display / Interactive signage',    'Thin Clients' : 'IT PRODUCTS / Cloud Device',    'Touch Overlay Kit' : 'Commercial Display / Digital Signage',    'UH5F Series' : 'UH5F Series',    'UH5F-H Series' : 'Commercial Display / Digital Signage',    'UH7F Series' : 'Commercial Display / Digital Signage',    'UH7F-H Series' : 'Commercial Display / Digital Signage',    'UHD 4K Monitors' : 'IT PRODUCTS / Monitor',    'UHD Large Screen Signage Display' : 'Commercial Display / Digital Signage',    'UHD TV Signage' : 'Commercial Display / Digital Signage',    'UL3G Series' : 'Commercial Display / Digital Signage',    'UM3DG Series' : 'Commercial Display / Digital Signage',    'UM5J Series' : 'Commercial Display / Digital Signage',    'UR640S Series' : 'Commercial Display / Digital Signage',    'UT640S' : 'Commercial Display / Digital Signage',    'UT640S Series' : 'Commercial Display / Digital Signage',    'Ultra Narrow Bezel Video Wall' : 'Commercial Display / Video Wall Signage',    'Ultra Slim Series' : 'Commercial Display / LED Signage',    'Ultra Stretch Series' : 'Commercial Display / Digital Signage',    'Ultra Stretch Signage' : 'Commercial Display / Digital Signage',    'VH7E Series' : 'Commercial Display / Digital Signage',    'Video Wall' : 'Commercial Display / Video Wall Signage',    'Wallpaper OLED Signage' : 'Commercial Display / OLED Signage',    'Window Facing Display' : 'Commercial Display / Digital Signage'}"
   ]
  },
  {
   "cell_type": "code",
   "execution_count": 139,
   "id": "1476b6a4",
   "metadata": {},
   "outputs": [],
   "source": [
    "product_dict_key = product_dict.keys()\n",
    "product_dict_value = product_dict.values()"
   ]
  },
  {
   "cell_type": "code",
   "execution_count": 140,
   "id": "97a42f99",
   "metadata": {},
   "outputs": [
    {
     "name": "stderr",
     "output_type": "stream",
     "text": [
      "56it [00:00, 299.59it/s]\n"
     ]
    }
   ],
   "source": [
    "for i, val in tqdm(enumerate(product_dict_key)):\n",
    "    df_train.loc[df_train['product_subcategory'] == val, 'product_category_2'] = product_dict[val]\n",
    "    df_test.loc[df_test['product_subcategory'] == val, 'product_category_2'] = product_dict[val]"
   ]
  },
  {
   "cell_type": "markdown",
   "id": "0a8650f5",
   "metadata": {},
   "source": [
    "***"
   ]
  },
  {
   "cell_type": "markdown",
   "id": "904554b9",
   "metadata": {},
   "source": [
    "## ***write_budget***\n",
    "MQL 구성 요소 중 Budget 작성여부"
   ]
  },
  {
   "cell_type": "code",
   "execution_count": 141,
   "id": "4de5d429",
   "metadata": {},
   "outputs": [],
   "source": [
    "#MQL 구성 요소 중 Budget 작성여부\n",
    "df_train.loc[(df_train['bant_submit'] == 1.0) & (df_train['expected_timeline'].notna())  & (df_train['customer_position'] != \"none\") & (df_train['inquiry_type'].notna()),'write_budget'] = 1\n",
    "\n",
    "df_train.loc[(df_train['bant_submit'] == 0.0) & (df_train['expected_timeline'].isna())  & (df_train['customer_position'] == \"none\") & (df_train['inquiry_type'].isna()),'write_budget'] = 0\n",
    "\n",
    "df_train.loc[(df_train['bant_submit'] == 0.25) & (df_train['expected_timeline'].isna())  & (df_train['customer_position'] == \"none\") & (df_train['inquiry_type'].isna()),'write_budget'] = 1\n",
    "df_train.loc[(df_train['bant_submit'] == 0.25) & (df_train['expected_timeline'].notna())  & (df_train['customer_position'] == \"none\") & (df_train['inquiry_type'].isna()),'write_budget'] = 0\n",
    "df_train.loc[(df_train['bant_submit'] == 0.25) & (df_train['expected_timeline'].isna())  & (df_train['customer_position'] == \"none\") & (df_train['inquiry_type'].notna()),'write_budget'] = 0\n",
    "df_train.loc[(df_train['bant_submit'] == 0.25) & (df_train['expected_timeline'].isna())  & (df_train['customer_position'] != \"none\") & (df_train['inquiry_type'].isna()),'write_budget'] = 0\n",
    "\n",
    "df_train.loc[(df_train['bant_submit'] == 0.5) & (df_train['expected_timeline'].notna())  & (df_train['customer_position'] == \"none\") & (df_train['inquiry_type'].isna()),'write_budget'] = 1\n",
    "df_train.loc[(df_train['bant_submit'] == 0.5) & (df_train['expected_timeline'].notna())  & (df_train['customer_position'] != \"none\") & (df_train['inquiry_type'].isna()),'write_budget'] = 0\n",
    "df_train.loc[(df_train['bant_submit'] == 0.5) & (df_train['expected_timeline'].notna())  & (df_train['customer_position'] == \"none\") & (df_train['inquiry_type'].notna()),'write_budget'] = 0\n",
    "df_train.loc[(df_train['bant_submit'] == 0.5) & (df_train['expected_timeline'].isna())  & (df_train['customer_position'] != \"none\") & (df_train['inquiry_type'].notna()),'write_budget'] = 0\n",
    "df_train.loc[(df_train['bant_submit'] == 0.5) & (df_train['expected_timeline'].isna())  & (df_train['customer_position'] != \"none\") & (df_train['inquiry_type'].isna()),'write_budget'] = 1\n",
    "df_train.loc[(df_train['bant_submit'] == 0.5) & (df_train['expected_timeline'].isna())  & (df_train['customer_position'] == \"none\") & (df_train['inquiry_type'].notna()),'write_budget'] = 1\n",
    "\n",
    "df_train.loc[(df_train['bant_submit'] == 0.75) & (df_train['expected_timeline'].isna())  & (df_train['customer_position'] != \"none\") & (df_train['inquiry_type'].notna()),'write_budget'] = 1\n",
    "df_train.loc[(df_train['bant_submit'] == 0.75) & (df_train['expected_timeline'].notna())  & (df_train['customer_position'] == \"none\") & (df_train['inquiry_type'].notna()),'write_budget'] = 1\n",
    "df_train.loc[(df_train['bant_submit'] == 0.75) & (df_train['expected_timeline'].notna())  & (df_train['customer_position'] != \"none\") & (df_train['inquiry_type'].isna()),'write_budget'] = 1\n",
    "df_train.loc[(df_train['bant_submit'] == 0.75) & (df_train['expected_timeline'].notna())  & (df_train['customer_position'] == \"none\") & (df_train['inquiry_type'].notna()),'write_budget'] = 0\n",
    "\n",
    "#MQL 구성 요소 중 Budget 작성여부\n",
    "df_test.loc[(df_test['bant_submit'] == 1.0) & (df_test['expected_timeline'].notna())  & (df_test['customer_position'] != \"none\") & (df_test['inquiry_type'].notna()),'write_budget'] = 1\n",
    "\n",
    "df_test.loc[(df_test['bant_submit'] == 0.0) & (df_test['expected_timeline'].isna())  & (df_test['customer_position'] == \"none\") & (df_test['inquiry_type'].isna()),'write_budget'] = 0\n",
    "\n",
    "df_test.loc[(df_test['bant_submit'] == 0.25) & (df_test['expected_timeline'].isna())  & (df_test['customer_position'] == \"none\") & (df_test['inquiry_type'].isna()),'write_budget'] = 1\n",
    "df_test.loc[(df_test['bant_submit'] == 0.25) & (df_test['expected_timeline'].notna())  & (df_test['customer_position'] == \"none\") & (df_test['inquiry_type'].isna()),'write_budget'] = 0\n",
    "df_test.loc[(df_test['bant_submit'] == 0.25) & (df_test['expected_timeline'].isna())  & (df_test['customer_position'] == \"none\") & (df_test['inquiry_type'].notna()),'write_budget'] = 0\n",
    "df_test.loc[(df_test['bant_submit'] == 0.25) & (df_test['expected_timeline'].isna())  & (df_test['customer_position'] != \"none\") & (df_test['inquiry_type'].isna()),'write_budget'] = 0\n",
    "\n",
    "df_test.loc[(df_test['bant_submit'] == 0.5) & (df_test['expected_timeline'].notna())  & (df_test['customer_position'] == \"none\") & (df_test['inquiry_type'].isna()),'write_budget'] = 1\n",
    "df_test.loc[(df_test['bant_submit'] == 0.5) & (df_test['expected_timeline'].notna())  & (df_test['customer_position'] != \"none\") & (df_test['inquiry_type'].isna()),'write_budget'] = 0\n",
    "df_test.loc[(df_test['bant_submit'] == 0.5) & (df_test['expected_timeline'].notna())  & (df_test['customer_position'] == \"none\") & (df_test['inquiry_type'].notna()),'write_budget'] = 0\n",
    "df_test.loc[(df_test['bant_submit'] == 0.5) & (df_test['expected_timeline'].isna())  & (df_test['customer_position'] != \"none\") & (df_test['inquiry_type'].notna()),'write_budget'] = 0\n",
    "df_test.loc[(df_test['bant_submit'] == 0.5) & (df_test['expected_timeline'].isna())  & (df_test['customer_position'] != \"none\") & (df_test['inquiry_type'].isna()),'write_budget'] = 1\n",
    "df_test.loc[(df_test['bant_submit'] == 0.5) & (df_test['expected_timeline'].isna())  & (df_test['customer_position'] == \"none\") & (df_test['inquiry_type'].notna()),'write_budget'] = 1\n",
    "\n",
    "df_test.loc[(df_test['bant_submit'] == 0.75) & (df_test['expected_timeline'].isna())  & (df_test['customer_position'] != \"none\") & (df_test['inquiry_type'].notna()),'write_budget'] = 1\n",
    "df_test.loc[(df_test['bant_submit'] == 0.75) & (df_test['expected_timeline'].notna())  & (df_test['customer_position'] == \"none\") & (df_test['inquiry_type'].notna()),'write_budget'] = 1\n",
    "df_test.loc[(df_test['bant_submit'] == 0.75) & (df_test['expected_timeline'].notna())  & (df_test['customer_position'] != \"none\") & (df_test['inquiry_type'].isna()),'write_budget'] = 1\n",
    "df_test.loc[(df_test['bant_submit'] == 0.75) & (df_test['expected_timeline'].notna())  & (df_test['customer_position'] == \"none\") & (df_test['inquiry_type'].notna()),'write_budget'] = 0"
   ]
  },
  {
   "cell_type": "code",
   "execution_count": 142,
   "id": "e65d3e76",
   "metadata": {},
   "outputs": [],
   "source": [
    "df_train['write_budget'] = df_train['write_budget'].fillna(0)\n",
    "df_test['write_budget'] = df_test['write_budget'].fillna(0)"
   ]
  },
  {
   "cell_type": "markdown",
   "id": "eed8a353",
   "metadata": {},
   "source": [
    "***"
   ]
  },
  {
   "cell_type": "markdown",
   "id": "e913a9bb",
   "metadata": {},
   "source": [
    "## ***bant_submit_zegob***\n",
    "bant_submit 제곱"
   ]
  },
  {
   "cell_type": "code",
   "execution_count": 143,
   "id": "82553411",
   "metadata": {},
   "outputs": [],
   "source": [
    "df_train['bant_submit_zegob'] = df_train['bant_submit'] * df_train['bant_submit']\n",
    "df_test['bant_submit_zegob'] = df_test['bant_submit'] * df_test['bant_submit']"
   ]
  },
  {
   "cell_type": "markdown",
   "id": "05420613",
   "metadata": {},
   "source": [
    "***"
   ]
  },
  {
   "cell_type": "markdown",
   "id": "ae8ec637",
   "metadata": {},
   "source": [
    "## ***raw_country***\n",
    "기존 나라 컬럼 그대로 사용"
   ]
  },
  {
   "cell_type": "code",
   "execution_count": 144,
   "id": "6bc29039",
   "metadata": {},
   "outputs": [],
   "source": [
    "df_train['raw_country'] = df_train['customer_country2'].copy()\n",
    "df_test['raw_country'] = df_test['customer_country2'].copy()"
   ]
  },
  {
   "cell_type": "code",
   "execution_count": 145,
   "id": "bdb0a1fa",
   "metadata": {},
   "outputs": [],
   "source": [
    "df_train['raw_country'] = df_train['raw_country'].apply(lambda x: re.sub(r'\\s*/\\s*', '/', x) if isinstance(x, str) else x)\n",
    "df_test['raw_country'] = df_test['raw_country'].apply(lambda x: re.sub(r'\\s*/\\s*', '/', x) if isinstance(x, str) else x)"
   ]
  },
  {
   "cell_type": "code",
   "execution_count": 146,
   "id": "94aca342",
   "metadata": {},
   "outputs": [],
   "source": [
    "df_train['raw_country'] = df_train['raw_country'].astype(str).apply(lambda x : x.strip().lower())\n",
    "df_test['raw_country'] = df_test['raw_country'].astype(str).apply(lambda x : x.strip().lower())"
   ]
  },
  {
   "cell_type": "markdown",
   "id": "a104364c",
   "metadata": {},
   "source": [
    "***"
   ]
  },
  {
   "cell_type": "markdown",
   "id": "0fc86f37",
   "metadata": {},
   "source": [
    "## ***City***\n",
    "도시정보"
   ]
  },
  {
   "cell_type": "code",
   "execution_count": 147,
   "id": "e85d2596",
   "metadata": {},
   "outputs": [],
   "source": [
    "split = df_train['customer_country2'].str.split('/', expand=True)\n",
    "condition_1 = split[1].notna() & split[2].notna()\n",
    "df_train.loc[condition_1, 'Field'] = None\n",
    "df_train.loc[condition_1, 'City'] = split[1]\n",
    "df_train.loc[condition_1, 'Country'] = split[2]\n",
    "# 두 번째 섹션이 비어 있음\n",
    "condition_2 = split[0].notna() & split[2].notna()\n",
    "df_train.loc[condition_2, 'Field'] = split[0]\n",
    "df_train.loc[condition_2, 'City'] = None\n",
    "df_train.loc[condition_2, 'Country'] = split[2]\n",
    "# 세 번째 섹션이 비어 있음\n",
    "condition_3 = split[0].notna() & split[1].notna()\n",
    "df_train.loc[condition_3, 'Field'] = split[0]\n",
    "df_train.loc[condition_3, 'City'] = split[1]\n",
    "df_train.loc[condition_3, 'Country'] = None\n",
    "# 첫 번째와 두 번째 섹션이 비어 있음\n",
    "condition_4 = split[2].notna() & split[0].isna() & split[1].isna()\n",
    "df_train.loc[condition_4, 'Field'] = None\n",
    "df_train.loc[condition_4, 'City'] = None\n",
    "df_train.loc[condition_4, 'Country'] = split[2]\n",
    "# 첫 번째와 세 번째 섹션이 비어 있고 두 번째 섹션에만 값이 있음\n",
    "condition_5 = split[1].notna() & split[0].isna() & split[2].isna()\n",
    "df_train.loc[condition_5, 'Field'] = None\n",
    "df_train.loc[condition_5, 'City'] = split[1]\n",
    "df_train.loc[condition_5, 'Country'] = None\n",
    "# 두 번째와 세 번째 섹션이 비어 있고 첫 번째 섹션에만 값이 있음\n",
    "condition_6 = split[0].notna() & split[1].isna() & split[2].isna()\n",
    "df_train.loc[condition_6, 'Field'] = split[0]\n",
    "df_train.loc[condition_6, 'City'] = None\n",
    "df_train.loc[condition_6, 'Country'] = None\n",
    "# 모든 섹션이 비어 있음\n",
    "condition_7 = split[0].isna() & split[1].isna() & split[2].isna()\n",
    "df_train.loc[condition_7, ['Field', 'City', 'Country']] = None\n",
    "# 모든 섹션이 채워져 있는 경우 처리 추가\n",
    "condition_all_filled = split[0].notna() & split[1].notna() & split[2].notna()\n",
    "df_train.loc[condition_all_filled, 'Field'] = split[0]\n",
    "df_train.loc[condition_all_filled, 'City'] = split[1]\n",
    "df_train.loc[condition_all_filled, 'Country'] = split[2]\n",
    "# 이미 처리한 조건들에 대한 인덱스를 제외하고 나머지 데이터 확인을 위한 조건 재설정\n",
    "remaining_conditions = ~(condition_1 | condition_2 | condition_3 | condition_4 | condition_5 | condition_6 | condition_7 | condition_all_filled)\n",
    "# 처리되지 않은 나머지 데이터 확인 (있을 경우)\n",
    "remaining_df_train = df_train[remaining_conditions]\n",
    "remaining_sample = remaining_df_train[['customer_country2', 'Field', 'City', 'Country']] if not remaining_df_train.empty else \"All cases have been handled.\"\n",
    "split = df_test['customer_country2'].str.split('/', expand=True)\n",
    "condition_1 = split[1].notna() & split[2].notna()\n",
    "df_test.loc[condition_1, 'Field'] = None\n",
    "df_test.loc[condition_1, 'City'] = split[1]\n",
    "df_test.loc[condition_1, 'Country'] = split[2]\n",
    "condition_2 = split[0].notna() & split[2].notna()\n",
    "df_test.loc[condition_2, 'Field'] = split[0]\n",
    "df_test.loc[condition_2, 'City'] = None\n",
    "df_test.loc[condition_2, 'Country'] = split[2]\n",
    "condition_3 = split[0].notna() & split[1].notna()\n",
    "df_test.loc[condition_3, 'Field'] = split[0]\n",
    "df_test.loc[condition_3, 'City'] = split[1]\n",
    "df_test.loc[condition_3, 'Country'] = None\n",
    "condition_4 = split[2].notna() & split[0].isna() & split[1].isna()\n",
    "df_test.loc[condition_4, 'Field'] = None\n",
    "df_test.loc[condition_4, 'City'] = None\n",
    "df_test.loc[condition_4, 'Country'] = split[2]\n",
    "condition_5 = split[1].notna() & split[0].isna() & split[2].isna()\n",
    "df_test.loc[condition_5, 'Field'] = None\n",
    "df_test.loc[condition_5, 'City'] = split[1]\n",
    "df_test.loc[condition_5, 'Country'] = None\n",
    "condition_6 = split[0].notna() & split[1].isna() & split[2].isna()\n",
    "df_test.loc[condition_6, 'Field'] = split[0]\n",
    "df_test.loc[condition_6, 'City'] = None\n",
    "df_test.loc[condition_6, 'Country'] = None\n",
    "condition_7 = split[0].isna() & split[1].isna() & split[2].isna()\n",
    "df_test.loc[condition_7, ['Field', 'City', 'Country']] = None\n",
    "condition_all_filled = split[0].notna() & split[1].notna() & split[2].notna()\n",
    "df_test.loc[condition_all_filled, 'Field'] = split[0]\n",
    "df_test.loc[condition_all_filled, 'City'] = split[1]\n",
    "df_test.loc[condition_all_filled, 'Country'] = split[2]\n",
    "remaining_conditions = ~(condition_1 | condition_2 | condition_3 | condition_4 | condition_5 | condition_6 | condition_7 | condition_all_filled)\n",
    "remaining_df_test = df_test[remaining_conditions]\n",
    "remaining_sample = remaining_df_test[['customer_country2', 'Field', 'City', 'Country']] if not remaining_df_test.empty else \"All cases have been handled.\""
   ]
  },
  {
   "cell_type": "code",
   "execution_count": 148,
   "id": "1046e440",
   "metadata": {},
   "outputs": [],
   "source": [
    "df_train.drop(['customer_country2'],axis=1,inplace=True)\n",
    "df_test.drop(['customer_country2'],axis=1,inplace=True)"
   ]
  },
  {
   "cell_type": "code",
   "execution_count": 149,
   "id": "af5dcb0c",
   "metadata": {},
   "outputs": [],
   "source": [
    "df_train['City'] = df_train['City'].astype(str).apply(lambda x : x.strip().lower())\n",
    "df_test['City'] = df_test['City'].astype(str).apply(lambda x : x.strip().lower())"
   ]
  },
  {
   "cell_type": "code",
   "execution_count": 150,
   "id": "1caa8af3",
   "metadata": {},
   "outputs": [],
   "source": [
    "# 영국 도시\n",
    "df_train.loc[df_train['City'].str.contains('paulo', case=True, na=False), 'City'] = 'sanpaulo'\n",
    "df_test.loc[df_test['City'].str.contains('paulo', case=True, na=False), 'City'] = 'sanpaulo'\n",
    "\n",
    "df_train.loc[df_train['City'].str.contains('mumbai', case=True, na=False), 'City'] = 'mumbai'\n",
    "df_test.loc[df_test['City'].str.contains('mumbai', case=True, na=False), 'City'] = 'mumbai'\n",
    "\n",
    "df_train.loc[df_train['City'].str.contains('hyderabad', case=True, na=False), 'City'] = 'hyderabad'\n",
    "df_test.loc[df_test['City'].str.contains('hyderabad', case=True, na=False), 'City'] = 'hyderabad'\n",
    "\n",
    "df_train.loc[df_train['City'].str.contains('lima', case=True, na=False), 'City'] = 'lima'\n",
    "df_test.loc[df_test['City'].str.contains('lima', case=True, na=False), 'City'] = 'lima'\n",
    "\n",
    "df_train.loc[df_train['City'].str.contains('bangalore', case=True, na=False), 'City'] = 'bangalore'\n",
    "df_test.loc[df_test['City'].str.contains('bangalore', case=True, na=False), 'City'] = 'bangalore'\n",
    "\n",
    "df_train.loc[df_train['City'].str.contains('santiago', case=True, na=False), 'City'] = 'santiago'\n",
    "df_test.loc[df_test['City'].str.contains('santiago', case=True, na=False), 'City'] = 'santiago'\n",
    "\n",
    "df_train.loc[df_train['City'].str.contains('mexico', case=True, na=False), 'City'] = 'mexico'\n",
    "df_test.loc[df_test['City'].str.contains('mexico', case=True, na=False), 'City'] = 'mexico'\n",
    "\n",
    "df_train.loc[df_train['City'].str.contains('dubai', case=True, na=False), 'City'] = 'dubai'\n",
    "df_test.loc[df_test['City'].str.contains('dubai', case=True, na=False), 'City'] = 'dubai'\n",
    "\n",
    "df_train.loc[df_train['City'].str.contains('pune', case=True, na=False), 'City'] = 'pune'\n",
    "df_test.loc[df_test['City'].str.contains('pune', case=True, na=False), 'City'] = 'pune'\n",
    "\n",
    "df_train.loc[df_train['City'].str.contains('delhi', case=True, na=False), 'City'] = 'delhi'\n",
    "df_test.loc[df_test['City'].str.contains('delhi', case=True, na=False), 'City'] = 'delhi'\n",
    "\n",
    "df_train.loc[df_train['City'].str.contains('chennai', case=True, na=False), 'City'] = 'chennai'\n",
    "df_test.loc[df_test['City'].str.contains('chennai', case=True, na=False), 'City'] = 'chennai'\n",
    "\n",
    "df_train.loc[df_train['City'].str.contains('bogot', case=True, na=False), 'City'] = 'bogota'\n",
    "df_test.loc[df_test['City'].str.contains('bogot', case=True, na=False), 'City'] = 'bogota'\n",
    "\n",
    "df_train.loc[df_train['City'].str.contains('janeiro', case=True, na=False), 'City'] = 'janeiro'\n",
    "df_test.loc[df_test['City'].str.contains('janeiro', case=True, na=False), 'City'] = 'janeiro'\n",
    "\n",
    "df_train.loc[df_train['City'].str.contains('kolkata', case=True, na=False), 'City'] = 'kolkata'\n",
    "df_test.loc[df_test['City'].str.contains('kolkata', case=True, na=False), 'City'] = 'kolkata'\n",
    "\n",
    "df_train.loc[df_train['City'].str.contains('ahmedabad', case=True, na=False), 'City'] = 'ahmedabad'\n",
    "df_test.loc[df_test['City'].str.contains('ahmedabad', case=True, na=False), 'City'] = 'ahmedabad'\n",
    "\n",
    "df_train.loc[df_train['City'].str.contains('patna', case=True, na=False), 'City'] = 'patna'\n",
    "df_test.loc[df_test['City'].str.contains('patna', case=True, na=False), 'City'] = 'patna'\n",
    "\n",
    "df_train.loc[df_train['City'].str.contains('cdmx', case=True, na=False), 'City'] = 'cdmx'\n",
    "df_test.loc[df_test['City'].str.contains('cdmx', case=True, na=False), 'City'] = 'cdmx'\n",
    "\n",
    "df_train.loc[df_train['City'].str.contains('riyadh', case=True, na=False), 'City'] = 'riyadh'\n",
    "df_test.loc[df_test['City'].str.contains('riyadh', case=True, na=False), 'City'] = 'riyadh'\n",
    "\n",
    "df_train.loc[df_train['City'].str.contains('surat', case=True, na=False), 'City'] = 'surat'\n",
    "df_test.loc[df_test['City'].str.contains('surat', case=True, na=False), 'City'] = 'surat'\n",
    "\n",
    "df_train.loc[df_train['City'].str.contains('gujarat', case=True, na=False), 'City'] = 'gujarat'\n",
    "df_test.loc[df_test['City'].str.contains('gujarat', case=True, na=False), 'City'] = 'gujarat'\n",
    "\n",
    "df_train.loc[df_train['City'].str.contains('quezon city', case=True, na=False), 'City'] = 'quezon city'\n",
    "df_test.loc[df_test['City'].str.contains('quezon city', case=True, na=False), 'City'] = 'quezon city'\n",
    "\n",
    "df_train.loc[df_train['City'].str.contains('oran', case=True, na=False), 'oran'] = 'oran'\n",
    "df_test.loc[df_test['City'].str.contains('oran', case=True, na=False), 'oran'] = 'oran'\n",
    "\n",
    "df_train.loc[df_train['City'].str.contains('ohio', case=True, na=False), 'ohio'] = 'ohio'\n",
    "df_test.loc[df_test['City'].str.contains('ohio', case=True, na=False), 'ohio'] = 'ohio'\n",
    "\n",
    "df_train.loc[df_train['City'].str.contains('valencia', case=True, na=False), 'valencia'] = 'valencia'\n",
    "df_test.loc[df_test['City'].str.contains('valencia', case=True, na=False), 'valencia'] = 'valencia'"
   ]
  },
  {
   "cell_type": "code",
   "execution_count": 151,
   "id": "489853fb",
   "metadata": {},
   "outputs": [],
   "source": [
    "df_train.loc[df_train['City']=='.','City'] =''\n",
    "df_test.loc[df_test['City']=='.','City'] =''\n",
    "\n",
    "df_train.loc[df_train['City']==',','City'] =''\n",
    "df_test.loc[df_test['City']==',','City'] =''\n",
    "\n",
    "data1 = df_train['City'].value_counts().reset_index()\n",
    "small_city_list1 = list(data1[data1['count']<=2]['City'].unique())\n",
    "small_city = small_city_list1\n",
    "\n",
    "df_train.loc[df_train['City'].isin(small_city),'City'] = df_train['customer_country']\n",
    "df_test.loc[df_test['City'].isin(small_city),'City'] = df_test['customer_country']\n",
    "\n",
    "df_train['City'] = df_train['City'].astype(str).apply(lambda x : x.strip().lower())\n",
    "df_test['City'] = df_test['City'].astype(str).apply(lambda x : x.strip().lower())\n",
    "\n",
    "df_train.loc[df_train['City']=='','City']=np.nan\n",
    "df_test.loc[df_test['City']=='','City']=np.nan\n",
    "\n",
    "df_train.loc[df_train['City']=='unknown','City']=np.nan\n",
    "df_test.loc[df_test['City']=='unknown','City']=np.nan\n",
    "\n",
    "df_train['City'] = df_train['City'].fillna(df_train['customer_country'])\n",
    "df_test['City'] = df_test['City'].fillna(df_test['customer_country'])\n",
    "\n",
    "df_train['City'] = df_train['City'].astype(str).apply(lambda x : x.strip().lower())\n",
    "df_test['City'] = df_test['City'].astype(str).apply(lambda x : x.strip().lower())"
   ]
  },
  {
   "cell_type": "code",
   "execution_count": 152,
   "id": "0771e7b7",
   "metadata": {},
   "outputs": [],
   "source": [
    "df_train.loc[df_train['Field'].str.contains('Cloud', case=True, na=False), 'Field'] ='IT/CLOUD'\n",
    "df_train.loc[df_train['Field'].str.contains('Commercial Display', case=True, na=False), 'Field'] = 'Commercial Display'\n",
    "df_train.loc[df_train['Field'].str.contains('Education', case=True, na=False), 'Field'] = 'Education'\n",
    "df_train.loc[df_train['Field'].str.contains('Cruise', case=True, na=False), 'Field'] = 'Cruise'\n",
    "df_train.loc[df_train['Field'].str.contains('Medical', case=True, na=False), 'Field'] = 'Medical'\n",
    "df_train.loc[df_train['Field'].str.contains('Healthcare', case=True, na=False), 'Field'] = 'Healthcare'\n",
    "df_train.loc[df_train['Field'].str.contains('Information Technology', case=True, na=False), 'Field'] = 'Information Technology'\n",
    "df_train.loc[df_train['Field'].str.contains('Hotel', case=True, na=False), 'Field'] = 'Hotel'\n",
    "df_train.loc[df_train['Field'].str.contains('Finance & Insurance', case=True, na=False), 'Field'] = 'Finance & Insurance'\n",
    "df_train.loc[df_train['Field'].str.contains('Retail', case=True, na=False), 'Field'] = 'Retail'\n",
    "df_train.loc[df_train['Field'].str.contains('Transport & Logistics', case=True, na=False), 'Field'] = 'Transport & Logistics'\n",
    "#it products / cloud device\n",
    "\n",
    "df_train.loc[df_train['Field']=='IT/CLOUD','product_category']='it products / cloud device'\n",
    "df_train.loc[(df_train['Field']=='Commercial Display') & (df_train['product_category']=='ID_unknown'),'product_category']='Commercial Display'\n",
    "df_train.loc[(df_train['Field']=='Commercial Display') & (df_train['product_category']=='IT_unknown'),'product_category']='Commercial Display'\n",
    "df_train.loc[(df_train['Field']=='Cruise') & (df_train['business_subarea']=='Not entered'),'business_subarea']='Cruise'\n",
    "df_train.loc[(df_train['Field']=='Cruise') & (df_train['business_area']=='hotel & accommodation'),'business_subarea']='hotel & accommodation'\n",
    "df_train.loc[(df_train['Field']=='Medical') ,'business_subarea']='Health'\n",
    "df_train.loc[(df_train['Field']=='Medical') ,'business_area']='hospital & health care'\n",
    "\n",
    "df_train.loc[(df_train['Field']=='Healthcare') ,'business_subarea']='Health'\n",
    "df_train.loc[(df_train['Field']=='Healthcare') ,'business_area']='hospital & health care'\n",
    "\n",
    "df_train.loc[(df_train['Field']=='Finance & Insurance') ,'business_subarea']='Finance'\n",
    "df_train.loc[(df_train['Field']=='Finance & Insurance') ,'business_area']='corporate / office'\n",
    "\n",
    "df_train.loc[(df_train['Field']=='Retail') ,'business_subarea']='Other Stores'\n",
    "df_train.loc[(df_train['Field']=='Retail') ,'business_area']='retail'\n",
    "\n",
    "#df_train.loc[(df_train['Field']=='Education') ,'product_category']='commercial display'\n",
    "df_train.loc[(df_train['Field']=='Education') ,'business_area']='education'"
   ]
  },
  {
   "cell_type": "code",
   "execution_count": 153,
   "id": "dff6267a",
   "metadata": {},
   "outputs": [],
   "source": [
    "df_test.loc[df_test['Field'].str.contains('Cloud', case=True, na=False), 'Field'] ='IT/CLOUD'\n",
    "df_test.loc[df_test['Field'].str.contains('Commercial Display', case=True, na=False), 'Field'] = 'Commercial Display'\n",
    "df_test.loc[df_test['Field'].str.contains('Education', case=True, na=False), 'Field'] = 'Education'\n",
    "df_test.loc[df_test['Field'].str.contains('Cruise', case=True, na=False), 'Field'] = 'Cruise'\n",
    "df_test.loc[df_test['Field'].str.contains('Medical', case=True, na=False), 'Field'] = 'Medical'\n",
    "df_test.loc[df_test['Field'].str.contains('Healthcare', case=True, na=False), 'Field'] = 'Healthcare'\n",
    "df_test.loc[df_test['Field'].str.contains('Information Technology', case=True, na=False), 'Field'] = 'Information Technology'\n",
    "df_test.loc[df_test['Field'].str.contains('Hotel', case=True, na=False), 'Field'] = 'Hotel'\n",
    "df_test.loc[df_test['Field'].str.contains('Finance & Insurance', case=True, na=False), 'Field'] = 'Finance & Insurance'\n",
    "df_test.loc[df_test['Field'].str.contains('Retail', case=True, na=False), 'Field'] = 'Retail'\n",
    "df_test.loc[df_test['Field'].str.contains('Transport & Logistics', case=True, na=False), 'Field'] = 'Transport & Logistics'\n",
    "#it products / cloud device\n",
    "\n",
    "df_test.loc[df_test['Field']=='IT/CLOUD','product_category']='it products / cloud device'\n",
    "df_test.loc[(df_test['Field']=='Commercial Display') & (df_test['product_category']=='ID_unknown'),'product_category']='Commercial Display'\n",
    "df_test.loc[(df_test['Field']=='Commercial Display') & (df_test['product_category']=='IT_unknown'),'product_category']='Commercial Display'\n",
    "df_test.loc[(df_test['Field']=='Cruise') & (df_test['business_subarea']=='Not entered'),'business_subarea']='Cruise'\n",
    "df_test.loc[(df_test['Field']=='Cruise') & (df_test['business_area']=='hotel & accommodation'),'business_subarea']='hotel & accommodation'\n",
    "df_test.loc[(df_test['Field']=='Medical') ,'business_subarea']='Health'\n",
    "df_test.loc[(df_test['Field']=='Medical') ,'business_area']='hospital & health care'\n",
    "\n",
    "df_test.loc[(df_test['Field']=='Healthcare') ,'business_subarea']='Health'\n",
    "df_test.loc[(df_test['Field']=='Healthcare') ,'business_area']='hospital & health care'\n",
    "\n",
    "df_test.loc[(df_test['Field']=='Finance & Insurance') ,'business_subarea']='Finance'\n",
    "df_test.loc[(df_test['Field']=='Finance & Insurance') ,'business_area']='corporate / office'\n",
    "\n",
    "df_test.loc[(df_test['Field']=='Retail') ,'business_subarea']='Other Stores'\n",
    "df_test.loc[(df_test['Field']=='Retail') ,'business_area']='retail'\n",
    "\n",
    "#df_test.loc[(df_test['Field']=='Education') ,'product_category']='commercial display'\n",
    "df_test.loc[(df_test['Field']=='Education') ,'business_area']='education'"
   ]
  },
  {
   "cell_type": "code",
   "execution_count": 154,
   "id": "4a548ce7",
   "metadata": {},
   "outputs": [],
   "source": [
    "df_train = df_train.drop(columns = ['Field','Country'])\n",
    "df_test = df_test.drop(columns = ['Field','Country'])"
   ]
  },
  {
   "cell_type": "markdown",
   "id": "51ceea8e",
   "metadata": {},
   "source": [
    "***"
   ]
  },
  {
   "cell_type": "markdown",
   "id": "2336b31f",
   "metadata": {},
   "source": [
    "## ***customer_continent***\n",
    "나라 대륙 정보"
   ]
  },
  {
   "cell_type": "code",
   "execution_count": 155,
   "id": "51987c94",
   "metadata": {},
   "outputs": [],
   "source": [
    "middle_east = ['India','Afghanistan', 'Iran', 'Iraq', 'Israel', 'Jordan', 'Kuwait', 'Lebanon', 'Oman', 'Qatar', 'Saudi Arabia', 'Syria', 'Turkey', 'United Arab Emirates', 'Yemen','Saudi Arabia', 'United Arab Emirates', 'Oman', 'Qatar', 'Iran', 'Iraq', 'Israel', 'Jordan', 'Kuwait', 'Lebanon', 'Syria', 'Yemen', 'Bahrain', 'Palestine']\n",
    "balkans = ['Albania', 'Bosnia and Herzegovina', 'Bulgaria', 'Croatia', 'Greece', 'Kosovo', 'Montenegro', 'North Macedonia', 'Romania', 'Serbia', 'Slovenia','Greece', 'Turkey', 'Bulgaria', 'Serbia', 'Croatia', 'Bosnia and Herzegovina', 'Montenegro', 'North Macedonia', 'Albania', 'Kosovo', 'Romania']\n",
    "south_america = ['Barranquilla', 'Belo Horizonte', 'Jojia','Argentina', 'Bolivia', 'Brazil', 'Chile', 'Colombia', 'Ecuador', 'Guyana', 'Paraguay', 'Peru', 'Suriname', 'Uruguay', 'Venezuela','Brazil', 'Colombia', 'Argentina', 'Chile', 'Peru', 'Ecuador', 'Venezuela', 'Bolivia', 'Paraguay', 'Uruguay', 'Suriname', 'Guyana']\n",
    "north_america = ['Anguilla', 'Antigua', 'Aruba', 'Bahamas', 'Barbados', 'Belize', 'Bermuda', 'Cayman Islands', 'Costa Rica', 'Cuba', 'CuraÃ§ao', 'Dominica', 'El Salvador', 'Grenada', 'Guadeloupe', 'Guatemala', 'Haiti', 'Honduras', 'Jamaica', 'Martinique', 'Mexico', 'Montserrat', 'Nicaragua', 'Panama', 'Puerto Rico', 'Saint Kitts', 'Saint Lucia', 'Saint Martin', 'Sint Maarten', 'Trinidad and Tobago', 'Turks and Caicos Islands', 'Virgin Islands','United States', 'Mexico', 'Canada', 'Guatemala', 'Panama']\n",
    "eastern_europe = ['Czech', 'Macedonia','Russia', 'Ukraine', 'Belarus', 'Moldova', 'Romania', 'Hungary', 'Poland', 'Czech Republic', 'Slovakia', 'Bulgaria', 'Serbia', 'Croatia', 'Bosnia and Herzegovina', 'Montenegro', 'Albania', 'North Macedonia', 'Kosovo', 'Slovenia', 'Latvia', 'Lithuania', 'Estonia']\n",
    "western_europe = ['Denmark', 'Finland', 'Iceland', 'Isle of Man', 'Jersey', 'Malta', 'Monaco', 'Norway', 'Sweden','United Kingdom', 'France', 'Germany', 'Italy', 'Spain', 'Netherlands', 'Belgium', 'Luxembourg', 'Switzerland', 'Austria', 'Portugal', 'Ireland']\n",
    "east_asia = ['Bangladesh', 'Brunei', 'Cambodia', 'Indonesia', 'Laos', 'Malaysia', 'Maldives', 'Myanmar', 'Nepal', 'Philippines', 'Singapore', 'Sri Lanka', 'Thailand', 'VietNam','Korea','China', 'Japan', 'South Korea', 'North Korea', 'Taiwan', 'Mongolia', 'Hong Kong', 'Macau']\n",
    "west_asia = ['Kazakhstan', 'Pakistan', 'Turkmenistan', 'Uzbekistan','Bahrain','Turkey', 'Cyprus', 'Georgia', 'Armenia', 'Azerbaijan', 'Iran', 'Iraq', 'Syria', 'Lebanon', 'Israel', 'Jordan', 'Saudi Arabia', 'Yemen', 'United Arab Emirates', 'Qatar', 'Bahrain', 'Kuwait', 'Oman']\n",
    "west_africa = ['Nigeria', 'Benin', 'Ghana', 'Guinea', 'Liberia', 'Mali', 'Niger', 'Senegal', 'Sierra Leone', 'Togo', 'Burkina Faso', 'Cape Verde', 'Gambia', 'Guinea-Bissau', 'Ivory Coast']\n",
    "east_africa = ['Ethiopia', 'Kenya', 'Tanzania', 'Uganda', 'Burundi', 'Rwanda', 'Somalia', 'South Sudan', 'Sudan', 'Djibouti', 'Eritrea', 'Madagascar', 'Mauritius', 'Seychelles', 'Comoros']\n",
    "southern_africa = ['Swaziland','South Africa', 'Angola', 'Botswana', 'Lesotho', 'Malawi', 'Mozambique', 'Namibia', 'Eswatini', 'Zambia', 'Zimbabwe']\n",
    "central_africa = ['Congo','Democratic Republic of the Congo', 'Republic of the Congo', 'Gabon', 'Equatorial Guinea', 'Sao Tome and Principe', 'Cameroon', 'Central African Republic', 'Chad']\n",
    "north_africa = ['Mauritania','Gujarat','Egypt', 'Algeria', 'Libya', 'Morocco', 'Tunisia', 'Western Sahara']\n",
    "oceania = ['Australia', 'Fiji', 'Guam', 'New Zealand']\n",
    "origin_america = south_america+north_america\n",
    "origin_europe = eastern_europe+western_europe\n",
    "origin_asia = east_asia+west_asia\n",
    "origin_africa = west_africa+east_africa+southern_africa+central_africa+north_africa"
   ]
  },
  {
   "cell_type": "code",
   "execution_count": 156,
   "id": "1b0ac80c",
   "metadata": {},
   "outputs": [],
   "source": [
    "for i in middle_east:\n",
    "    df_train.loc[df_train['customer_country'].str.contains(i, case=True, na=False), 'middle_east'] = 1\n",
    "    df_test.loc[df_test['customer_country'].str.contains(i, case=True, na=False), 'middle_east'] = 1\n",
    "for i in balkans:\n",
    "    df_train.loc[df_train['customer_country'].str.contains(i, case=True, na=False), 'balkans'] = 1\n",
    "    df_test.loc[df_test['customer_country'].str.contains(i, case=True, na=False), 'balkans'] = 1\n",
    "for i in south_america:\n",
    "    df_train.loc[df_train['customer_country'].str.contains(i, case=True, na=False), 'south_america'] = 1\n",
    "    df_test.loc[df_test['customer_country'].str.contains(i, case=True, na=False), 'south_america'] = 1\n",
    "for i in north_america:\n",
    "    df_train.loc[df_train['customer_country'].str.contains(i, case=True, na=False), 'north_america'] = 1\n",
    "    df_test.loc[df_test['customer_country'].str.contains(i, case=True, na=False), 'north_america'] = 1\n",
    "for i in eastern_europe:\n",
    "    df_train.loc[df_train['customer_country'].str.contains(i, case=True, na=False), 'eastern_europe'] = 1\n",
    "    df_test.loc[df_test['customer_country'].str.contains(i, case=True, na=False), 'eastern_europe'] = 1\n",
    "for i in western_europe:\n",
    "    df_train.loc[df_train['customer_country'].str.contains(i, case=True, na=False), 'western_europe'] = 1\n",
    "    df_test.loc[df_test['customer_country'].str.contains(i, case=True, na=False), 'western_europe'] = 1\n",
    "for i in east_asia:\n",
    "    df_train.loc[df_train['customer_country'].str.contains(i, case=True, na=False), 'east_asia'] = 1\n",
    "    df_test.loc[df_test['customer_country'].str.contains(i, case=True, na=False), 'east_asia'] = 1\n",
    "for i in west_asia:\n",
    "    df_train.loc[df_train['customer_country'].str.contains(i, case=True, na=False), 'west_asia'] = 1\n",
    "    df_test.loc[df_test['customer_country'].str.contains(i, case=True, na=False), 'west_asia'] = 1\n",
    "for i in west_africa:\n",
    "    df_train.loc[df_train['customer_country'].str.contains(i, case=True, na=False), 'west_africa'] = 1\n",
    "    df_test.loc[df_test['customer_country'].str.contains(i, case=True, na=False), 'west_africa'] = 1\n",
    "for i in east_africa:\n",
    "    df_train.loc[df_train['customer_country'].str.contains(i, case=True, na=False), 'east_africa'] = 1\n",
    "    df_test.loc[df_test['customer_country'].str.contains(i, case=True, na=False), 'east_africa'] = 1\n",
    "for i in southern_africa:\n",
    "    df_train.loc[df_train['customer_country'].str.contains(i, case=True, na=False), 'southern_africa'] = 1\n",
    "    df_test.loc[df_test['customer_country'].str.contains(i, case=True, na=False), 'southern_africa'] = 1\n",
    "for i in central_africa:\n",
    "    df_train.loc[df_train['customer_country'].str.contains(i, case=True, na=False), 'central_africa'] = 1\n",
    "    df_test.loc[df_test['customer_country'].str.contains(i, case=True, na=False), 'central_africa'] = 1\n",
    "for i in north_africa:\n",
    "    df_train.loc[df_train['customer_country'].str.contains(i, case=True, na=False), 'north_africa'] = 1\n",
    "    df_test.loc[df_test['customer_country'].str.contains(i, case=True, na=False), 'north_africa'] = 1\n",
    "for i in oceania:\n",
    "    df_train.loc[df_train['customer_country'].str.contains(i, case=True, na=False), 'oceania'] = 1\n",
    "    df_test.loc[df_test['customer_country'].str.contains(i, case=True, na=False), 'oceania'] = 1\n",
    "for i in origin_america:\n",
    "    df_train.loc[df_train['customer_country'].str.contains(i, case=True, na=False), 'origin_america'] = 1\n",
    "    df_test.loc[df_test['customer_country'].str.contains(i, case=True, na=False), 'origin_america'] = 1\n",
    "for i in origin_europe:\n",
    "    df_train.loc[df_train['customer_country'].str.contains(i, case=True, na=False), 'origin_europe'] = 1\n",
    "    df_test.loc[df_test['customer_country'].str.contains(i, case=True, na=False), 'origin_europe'] = 1\n",
    "for i in origin_asia:\n",
    "    df_train.loc[df_train['customer_country'].str.contains(i, case=True, na=False), 'origin_asia'] = 1\n",
    "    df_test.loc[df_test['customer_country'].str.contains(i, case=True, na=False), 'origin_asia'] = 1\n",
    "for i in origin_africa:\n",
    "    df_train.loc[df_train['customer_country'].str.contains(i, case=True, na=False), 'origin_africa'] = 1\n",
    "    df_test.loc[df_test['customer_country'].str.contains(i, case=True, na=False), 'origin_africa'] = 1"
   ]
  },
  {
   "cell_type": "code",
   "execution_count": 157,
   "id": "fe618ede",
   "metadata": {},
   "outputs": [],
   "source": [
    "df_train[['middle_east', 'balkans', 'south_america', 'north_america', 'eastern_europe', 'western_europe', 'east_asia', 'west_asia', 'west_africa', 'east_africa', 'southern_africa', 'central_africa', 'north_africa', 'oceania', 'origin_america', 'origin_europe', 'origin_asia', 'origin_africa']] = df_train[['middle_east', 'balkans', 'south_america', 'north_america', 'eastern_europe', 'western_europe', 'east_asia', 'west_asia', 'west_africa', 'east_africa', 'southern_africa', 'central_africa', 'north_africa', 'oceania', 'origin_america', 'origin_europe', 'origin_asia', 'origin_africa']].fillna(0)\n",
    "df_test[['middle_east', 'balkans', 'south_america', 'north_america', 'eastern_europe', 'western_europe', 'east_asia', 'west_asia', 'west_africa', 'east_africa', 'southern_africa', 'central_africa', 'north_africa', 'oceania', 'origin_america', 'origin_europe', 'origin_asia', 'origin_africa']] = df_test[['middle_east', 'balkans', 'south_america', 'north_america', 'eastern_europe', 'western_europe', 'east_asia', 'west_asia', 'west_africa', 'east_africa', 'southern_africa', 'central_africa', 'north_africa', 'oceania', 'origin_america', 'origin_europe', 'origin_asia', 'origin_africa']].fillna(0)\n",
    "\n",
    "df_train[['middle_east', 'balkans', 'south_america', 'north_america', 'eastern_europe', 'western_europe', 'east_asia', 'west_asia', 'west_africa', 'east_africa', 'southern_africa', 'central_africa', 'north_africa', 'oceania', 'origin_america', 'origin_europe', 'origin_asia', 'origin_africa']] = df_train[['middle_east', 'balkans', 'south_america', 'north_america', 'eastern_europe', 'western_europe', 'east_asia', 'west_asia', 'west_africa', 'east_africa', 'southern_africa', 'central_africa', 'north_africa', 'oceania', 'origin_america', 'origin_europe', 'origin_asia', 'origin_africa']].astype(object)\n",
    "df_test[['middle_east', 'balkans', 'south_america', 'north_america', 'eastern_europe', 'western_europe', 'east_asia', 'west_asia', 'west_africa', 'east_africa', 'southern_africa', 'central_africa', 'north_africa', 'oceania', 'origin_america', 'origin_europe', 'origin_asia', 'origin_africa']] = df_test[['middle_east', 'balkans', 'south_america', 'north_america', 'eastern_europe', 'western_europe', 'east_asia', 'west_asia', 'west_africa', 'east_africa', 'southern_africa', 'central_africa', 'north_africa', 'oceania', 'origin_america', 'origin_europe', 'origin_asia', 'origin_africa']].astype(object)"
   ]
  },
  {
   "cell_type": "markdown",
   "id": "059fef87",
   "metadata": {},
   "source": [
    "***"
   ]
  },
  {
   "cell_type": "markdown",
   "id": "5a1d7ff0",
   "metadata": {},
   "source": [
    "## ***com_reg_ver_win_rate_zegob***\n",
    "com_reg_ver_win_rate 제곱"
   ]
  },
  {
   "cell_type": "code",
   "execution_count": 158,
   "id": "6cafd1ec",
   "metadata": {},
   "outputs": [],
   "source": [
    "df_train['com_reg_ver_win_rate_zegob'] = df_train['com_reg_ver_win_rate'] * df_train['com_reg_ver_win_rate']\n",
    "df_test['com_reg_ver_win_rate_zegob'] = df_test['com_reg_ver_win_rate'] * df_test['com_reg_ver_win_rate']"
   ]
  },
  {
   "cell_type": "markdown",
   "id": "975456a8",
   "metadata": {},
   "source": [
    "***"
   ]
  },
  {
   "cell_type": "markdown",
   "id": "4f5df590",
   "metadata": {},
   "source": [
    "## ***as_strategic_ver***\n",
    "(도메인 지식) 특정 사업부(Business Unit이 AS일 때), 특정 사업 영역(Vertical Level1)에 대해 가중치를 부여"
   ]
  },
  {
   "cell_type": "code",
   "execution_count": 159,
   "id": "e8e55c6d",
   "metadata": {},
   "outputs": [],
   "source": [
    "VL_1_lst = df_train[df_train['it_strategic_ver']!=0]['business_area'].unique().tolist()"
   ]
  },
  {
   "cell_type": "code",
   "execution_count": 160,
   "id": "c3b0f0e4",
   "metadata": {},
   "outputs": [],
   "source": [
    "df_train['as_strategic_ver'] = 0\n",
    "df_test['as_strategic_ver'] = 0"
   ]
  },
  {
   "cell_type": "code",
   "execution_count": 161,
   "id": "2f242f1d",
   "metadata": {},
   "outputs": [],
   "source": [
    "df_train.loc[(df_train['business_area'].isin(VL_1_lst)) & (df_train['business_unit'] == 'AS'), 'as_strategic_ver'] = 1\n",
    "df_test.loc[(df_test['business_area'].isin(VL_1_lst)) & (df_test['business_unit'] == 'AS'), 'as_strategic_ver'] = 1"
   ]
  },
  {
   "cell_type": "markdown",
   "id": "c0a159eb",
   "metadata": {},
   "source": [
    "## ***asit_strategic_ver***\n",
    "as_strategic_ver이나 it_strategic_ver 값 중 하나라도 1의 값을 가지면 1 값으로 표현"
   ]
  },
  {
   "cell_type": "code",
   "execution_count": 162,
   "id": "6ad288f5",
   "metadata": {},
   "outputs": [],
   "source": [
    "df_train['asit_strategic_ver'] = 0\n",
    "df_test['asit_strategic_ver'] = 0"
   ]
  },
  {
   "cell_type": "code",
   "execution_count": 163,
   "id": "1ab8ba42",
   "metadata": {},
   "outputs": [],
   "source": [
    "df_train.loc[(df_train['as_strategic_ver'] == 1) | (df_train['it_strategic_ver'] == 1), 'asit_strategic_ver'] = 1\n",
    "df_test.loc[(df_test['as_strategic_ver'] == 1) | (df_test['it_strategic_ver'] == 1), 'asit_strategic_ver'] = 1"
   ]
  },
  {
   "cell_type": "markdown",
   "id": "541dceb8",
   "metadata": {},
   "source": [
    "## ***asid_strategic_ver***\n",
    "as_strategic_ver이나 id_strategic_ver 값 중 하나라도 1의 값을 가지면 1 값으로 표현"
   ]
  },
  {
   "cell_type": "code",
   "execution_count": 164,
   "id": "44ec589b",
   "metadata": {},
   "outputs": [],
   "source": [
    "df_train['asid_strategic_ver'] = 0\n",
    "df_test['asid_strategic_ver'] = 0"
   ]
  },
  {
   "cell_type": "code",
   "execution_count": 165,
   "id": "943cd0a9",
   "metadata": {},
   "outputs": [],
   "source": [
    "df_train.loc[(df_train['as_strategic_ver'] == 1) | (df_train['id_strategic_ver'] == 1), 'asid_strategic_ver'] = 1\n",
    "df_test.loc[(df_test['as_strategic_ver'] == 1) | (df_test['id_strategic_ver'] == 1), 'asid_strategic_ver'] = 1"
   ]
  },
  {
   "cell_type": "markdown",
   "id": "55ba6eaa",
   "metadata": {},
   "source": [
    "## ***iditas_strategic_ver***\n",
    "Id_strategic_ver이나 it_strategic_ver이나 as_strategic_ver 값 중 하나라도 1의 값을 가지면 1 값으로 표현"
   ]
  },
  {
   "cell_type": "code",
   "execution_count": 166,
   "id": "969c5da9",
   "metadata": {},
   "outputs": [],
   "source": [
    "df_train['iditas_strategic_ver'] = 0\n",
    "df_test['iditas_strategic_ver'] = 0"
   ]
  },
  {
   "cell_type": "code",
   "execution_count": 167,
   "id": "d187b466",
   "metadata": {},
   "outputs": [],
   "source": [
    "df_train.loc[(df_train['as_strategic_ver'] == 1) | (df_train['id_strategic_ver'] == 1) | (df_train['it_strategic_ver'] == 1), 'iditas_strategic_ver'] = 1\n",
    "df_test.loc[(df_test['as_strategic_ver'] == 1) | (df_test['id_strategic_ver'] == 1) | (df_train['it_strategic_ver'] == 1), 'iditas_strategic_ver'] = 1"
   ]
  },
  {
   "cell_type": "markdown",
   "id": "799ab36e",
   "metadata": {},
   "source": [
    "***"
   ]
  },
  {
   "cell_type": "markdown",
   "id": "d3e664af",
   "metadata": {},
   "source": [
    "## ***New_Customer***\n",
    "신규고객 (historical_existing_cnt 이 0인지)"
   ]
  },
  {
   "cell_type": "code",
   "execution_count": 168,
   "id": "d38a01b9",
   "metadata": {},
   "outputs": [],
   "source": [
    "#Historical_Existing_Cnt 신규고객 여부\n",
    "df_train['New_Customer'] = 0\n",
    "df_test['New_Customer'] = 0\n",
    "\n",
    "df_train.loc[df_train['historical_existing_cnt'] == 0, 'New_Customer'] = 1\n",
    "df_train.loc[df_train['historical_existing_cnt'] > 0, 'New_Customer'] = 0\n",
    "df_train.loc[df_train['historical_existing_cnt'].isna(), 'New_Customer'] = -1\n",
    "\n",
    "df_test.loc[df_test['historical_existing_cnt'] == 0, 'New_Customer'] = 1\n",
    "df_test.loc[df_test['historical_existing_cnt'] > 0, 'New_Customer'] = 0\n",
    "df_test.loc[df_test['historical_existing_cnt'].isna(), 'New_Customer'] = -1"
   ]
  },
  {
   "cell_type": "code",
   "execution_count": 169,
   "id": "43bc5302",
   "metadata": {},
   "outputs": [],
   "source": [
    "df_train['New_Customer'] = df_train['New_Customer'].astype(object)\n",
    "df_test['New_Customer'] = df_test['New_Customer'].astype(object)"
   ]
  },
  {
   "cell_type": "markdown",
   "id": "263f3ace",
   "metadata": {},
   "source": [
    "***"
   ]
  },
  {
   "cell_type": "markdown",
   "id": "6bed4f03",
   "metadata": {},
   "source": [
    "## ***is_endcustomer***\n",
    "최종 고객"
   ]
  },
  {
   "cell_type": "code",
   "execution_count": 170,
   "id": "2c2fba85",
   "metadata": {},
   "outputs": [],
   "source": [
    "df_train['is_endcustomer'] =0\n",
    "df_test['is_endcustomer'] =0"
   ]
  },
  {
   "cell_type": "code",
   "execution_count": 171,
   "id": "837f3031",
   "metadata": {},
   "outputs": [],
   "source": [
    "df_train.loc[df_train['customer_type'] == 'End-Customer','is_endcustomer'] =1\n",
    "df_test.loc[df_test['customer_type'] == 'End-Customer','is_endcustomer'] =1"
   ]
  },
  {
   "cell_type": "markdown",
   "id": "efb68167",
   "metadata": {},
   "source": [
    "***"
   ]
  },
  {
   "cell_type": "markdown",
   "id": "5d3feafb",
   "metadata": {},
   "source": [
    "## ***is_Partner***\n",
    "유통인지"
   ]
  },
  {
   "cell_type": "code",
   "execution_count": 172,
   "id": "1ebf281f",
   "metadata": {},
   "outputs": [],
   "source": [
    "df_train['is_Partner'] =0\n",
    "df_test['is_Partner'] =0"
   ]
  },
  {
   "cell_type": "code",
   "execution_count": 173,
   "id": "bfa988a2",
   "metadata": {},
   "outputs": [],
   "source": [
    "df_train.loc[df_train['customer_type'].str.contains('Partner'), 'is_Partner'] = 1\n",
    "df_test.loc[df_test['customer_type'].str.contains('Partner'), 'is_Partner'] = 1"
   ]
  },
  {
   "cell_type": "markdown",
   "id": "51cfb470",
   "metadata": {},
   "source": [
    "***"
   ]
  },
  {
   "cell_type": "markdown",
   "id": "75d9c4a5",
   "metadata": {},
   "source": [
    "## ***HEC_Group***\n",
    "Historical_Existing_Cnt 그룹핑 (historical_existing_cnt)"
   ]
  },
  {
   "cell_type": "code",
   "execution_count": 174,
   "id": "3d7febbf",
   "metadata": {},
   "outputs": [],
   "source": [
    "#Historical_Existing_Cnt 횟수별 그룹핑\n",
    "df_train['HEC_Group'] = \"-\"\n",
    "df_test['HEC_Group'] = \"-\"\n",
    "\n",
    "df_train.loc[df_train['historical_existing_cnt'] >= 0, 'HEC_Group'] = \"newbie\"\n",
    "df_train.loc[df_train['historical_existing_cnt'] >= 10, 'HEC_Group'] = \"Familiar\"\n",
    "df_train.loc[df_train['historical_existing_cnt'] >= 100, 'HEC_Group'] = \"mania\"\n",
    "\n",
    "df_test.loc[df_test['historical_existing_cnt'] >= 0, 'HEC_Group'] = \"Newbie\"\n",
    "df_test.loc[df_test['historical_existing_cnt'] >= 10, 'HEC_Group'] = \"Familiar\"\n",
    "df_test.loc[df_test['historical_existing_cnt'] >= 100, 'HEC_Group'] = \"Mania\""
   ]
  },
  {
   "cell_type": "markdown",
   "id": "09db9037",
   "metadata": {},
   "source": [
    "***"
   ]
  },
  {
   "cell_type": "markdown",
   "id": "feab53a1",
   "metadata": {},
   "source": [
    "## ***lead_desc_length***"
   ]
  },
  {
   "cell_type": "markdown",
   "id": "31604eef",
   "metadata": {},
   "source": [
    "log, sqrt 취하기"
   ]
  },
  {
   "cell_type": "code",
   "execution_count": 175,
   "id": "0e4ece34",
   "metadata": {},
   "outputs": [],
   "source": [
    "df_train['log_lead_desc_length'] = np.log1p(df_train['lead_desc_length'])\n",
    "df_test['log_lead_desc_length'] = np.log1p(df_test['lead_desc_length'])"
   ]
  },
  {
   "cell_type": "code",
   "execution_count": 176,
   "id": "a42fb510",
   "metadata": {},
   "outputs": [],
   "source": [
    "df_train['sqrt_lead_desc_length'] = np.sqrt(df_train['lead_desc_length'])\n",
    "df_test['sqrt_lead_desc_length'] = np.sqrt(df_test['lead_desc_length'])"
   ]
  },
  {
   "cell_type": "markdown",
   "id": "e20b6404",
   "metadata": {},
   "source": [
    "***"
   ]
  },
  {
   "cell_type": "markdown",
   "id": "505d5bf3",
   "metadata": {},
   "source": [
    "## ***product_category***"
   ]
  },
  {
   "cell_type": "code",
   "execution_count": 177,
   "id": "96c93010",
   "metadata": {},
   "outputs": [],
   "source": [
    "Commercial_Display = ['oled signage', 'led signage','video wall signage','interactive signage','high brightness signage',\n",
    "                      'special signage', 'standard signage', 'hotel tv', 'hospital tv', 'accessories', 'software solution',\n",
    "                      'signage care solution', 'webos', 'pro:centric', 'one:quick series', 'interactive digital board']\n",
    "\n",
    "IT_PRODUCTS = ['monitor', 'laptop', 'projector', 'cloud device', 'medical display']\n",
    "\n",
    "HVAC_ESS = ['control', 'ventilation', 'vrf', 'multi-split', 'single-split', 'chiller', 'heating','ess']\n",
    "\n",
    "Other = ['other' , 'others', 'etc.']"
   ]
  },
  {
   "cell_type": "code",
   "execution_count": 178,
   "id": "a4531862",
   "metadata": {},
   "outputs": [],
   "source": [
    "# Commercial_Display\n",
    "\n",
    "for i in Commercial_Display:\n",
    "    df_train.loc[df_train['product_category'].str.contains(i, case=False, na=False), 'Commercial_Display'] = 1\n",
    "    df_test.loc[df_test['product_category'].str.contains(i, case=False, na=False), 'Commercial_Display'] = 1\n",
    "    \n",
    "df_train['Commercial_Display'] = df_train['Commercial_Display'].fillna(0)\n",
    "df_test['Commercial_Display'] = df_test['Commercial_Display'].fillna(0)"
   ]
  },
  {
   "cell_type": "code",
   "execution_count": 179,
   "id": "a20e1a3e",
   "metadata": {},
   "outputs": [],
   "source": [
    "# IT_PRODUCTS\n",
    "\n",
    "for i in IT_PRODUCTS:\n",
    "    df_train.loc[df_train['product_category'].str.contains(i, case=False, na=False), 'IT_PRODUCTS'] = 1\n",
    "    df_test.loc[df_test['product_category'].str.contains(i, case=False, na=False), 'IT_PRODUCTS'] = 1\n",
    "    \n",
    "df_train['IT_PRODUCTS'] = df_train['IT_PRODUCTS'].fillna(0)\n",
    "df_test['IT_PRODUCTS'] = df_test['IT_PRODUCTS'].fillna(0)"
   ]
  },
  {
   "cell_type": "code",
   "execution_count": 180,
   "id": "902b66d6",
   "metadata": {},
   "outputs": [],
   "source": [
    "# HVAC_ESS\n",
    "\n",
    "for i in HVAC_ESS:\n",
    "    df_train.loc[df_train['product_category'].str.contains(i, case=False, na=False), 'HVAC_ESS'] = 1\n",
    "    df_test.loc[df_test['product_category'].str.contains(i, case=False, na=False), 'HVAC_ESS'] = 1\n",
    "    \n",
    "df_train['HVAC_ESS'] = df_train['HVAC_ESS'].fillna(0)\n",
    "df_test['HVAC_ESS'] = df_test['HVAC_ESS'].fillna(0)"
   ]
  },
  {
   "cell_type": "code",
   "execution_count": 181,
   "id": "f7d8ef35",
   "metadata": {},
   "outputs": [],
   "source": [
    "# other\n",
    "\n",
    "for i in Other:\n",
    "    df_train.loc[df_train['product_category'].str.contains(i, case=False, na=False), 'Other'] = 1\n",
    "    df_test.loc[df_test['product_category'].str.contains(i, case=False, na=False), 'Other'] = 1\n",
    "    \n",
    "df_train['Other'] = df_train['Other'].fillna(0)\n",
    "df_test['Other'] = df_test['Other'].fillna(0)"
   ]
  },
  {
   "cell_type": "markdown",
   "id": "b5db71c0",
   "metadata": {},
   "source": [
    "***"
   ]
  },
  {
   "cell_type": "markdown",
   "id": "3179a018",
   "metadata": {},
   "source": [
    "## ***Respone_Corporate_Continent***\n",
    "Respone_Corporate 대륙별 그룹핑"
   ]
  },
  {
   "cell_type": "code",
   "execution_count": 182,
   "id": "a2ad2916",
   "metadata": {},
   "outputs": [],
   "source": [
    "#Respone_Corporate 대륙별 그룹핑\n",
    "df_train['Respone_Corporate_Continent'] = \"-\"\n",
    "df_test['Respone_Corporate_Continent'] = \"-\"\n",
    "\n",
    "Asia = ['LGEIL','LGEPH','LGEVH','LGETK','LGEAP','LGESL','LGEIN','LGETH','LGEML','LGETT','LGEJP']\n",
    "Middle_East = ['LGEGF','LGESJ','LGEEG','LGELF','LGEAS','LGEMC','LGEIR']\n",
    "China = ['LGEHK','LGECH']\n",
    "North_America = ['LGEUS','LGEMS','LGECI']\n",
    "South_America = ['LGESP','LGECB','LGECL','LGEPS','LGEPR','LGEAR','LGEAG']\n",
    "Europe = ['LGEUK','LGEIS','LGEDG','LGEPL','LGEES','LGEMK','LGEFS','LGEPT','LGEBN','LGEHS','LGESW','LGERO','LGEEB','LGERA','LGECZ','LGELA','LGEUR','LGEBT']\n",
    "Africa = ['LGEAF','LGESA','LGEEF','LGEYK']\n",
    "Combination = ['LGEKR']\n",
    "\n",
    "df_train.loc[df_train['response_corporate'].isin(Asia), 'Respone_Corporate_Continent'] = \"Asia\"\n",
    "df_train.loc[df_train['response_corporate'].isin(Middle_East), 'Respone_Corporate_Continent'] = \"Middle_East\"\n",
    "df_train.loc[df_train['response_corporate'].isin(China), 'Respone_Corporate_Continent'] = \"China\"\n",
    "df_train.loc[df_train['response_corporate'].isin(North_America), 'Respone_Corporate_Continent'] = \"North_America\"\n",
    "df_train.loc[df_train['response_corporate'].isin(South_America), 'Respone_Corporate_Continent'] = \"South_America\"\n",
    "df_train.loc[df_train['response_corporate'].isin(Europe), 'Respone_Corporate_Continent'] = \"Europe\"\n",
    "df_train.loc[df_train['response_corporate'].isin(Africa), 'Respone_Corporate_Continent'] = \"Africa\"\n",
    "df_train.loc[df_train['response_corporate'].isin(Combination), 'Respone_Corporate_Continent'] = \"Combination\"\n",
    "\n",
    "df_test.loc[df_test['response_corporate'].isin(Asia), 'Respone_Corporate_Continent'] = \"Asia\"\n",
    "df_test.loc[df_test['response_corporate'].isin(Middle_East), 'Respone_Corporate_Continent'] = \"Middle_East\"\n",
    "df_test.loc[df_test['response_corporate'].isin(China), 'Respone_Corporate_Continent'] = \"China\"\n",
    "df_test.loc[df_test['response_corporate'].isin(North_America), 'Respone_Corporate_Continent'] = \"North_America\"\n",
    "df_test.loc[df_test['response_corporate'].isin(South_America), 'Respone_Corporate_Continent'] = \"South_America\"\n",
    "df_test.loc[df_test['response_corporate'].isin(Europe), 'Respone_Corporate_Continent'] = \"Europe\"\n",
    "df_test.loc[df_test['response_corporate'].isin(Africa), 'Respone_Corporate_Continent'] = \"Africa\"\n",
    "df_test.loc[df_test['response_corporate'].isin(Combination), 'Respone_Corporate_Continent'] = \"Combination\""
   ]
  },
  {
   "cell_type": "markdown",
   "id": "ea36e3e2",
   "metadata": {},
   "source": [
    "***"
   ]
  },
  {
   "cell_type": "markdown",
   "id": "01476d2d",
   "metadata": {},
   "source": [
    "## ***Expected_Timeline_Quantification***\n",
    "Expected_Timeline별 수치화"
   ]
  },
  {
   "cell_type": "code",
   "execution_count": 183,
   "id": "fa63ea0c",
   "metadata": {},
   "outputs": [],
   "source": [
    "#Expected_Timeline별 수치화\n",
    "df_train['Expected_Timeline_Quantification'] = 0\n",
    "df_test['Expected_Timeline_Quantification'] = 0\n",
    "\n",
    "df_train.loc[df_train['expected_timeline'] == 'incomplete', 'Expected_Timeline_Quantification'] = 0\n",
    "df_train.loc[df_train['expected_timeline'] == 'less than 3 months', 'Expected_Timeline_Quantification'] = 1\n",
    "df_train.loc[df_train['expected_timeline'] == '3 months ~ 6 months', 'Expected_Timeline_Quantification'] = 2\n",
    "df_train.loc[df_train['expected_timeline'] == '6 months ~ 9 months', 'Expected_Timeline_Quantification'] = 3\n",
    "df_train.loc[df_train['expected_timeline'] == '9 months ~ 1 year', 'Expected_Timeline_Quantification'] = 4\n",
    "df_train.loc[df_train['expected_timeline'] == 'more than a year', 'Expected_Timeline_Quantification'] = 5\n",
    "\n",
    "df_test.loc[df_test['expected_timeline'] == 'incomplete', 'Expected_Timeline_Quantification'] = 0\n",
    "df_test.loc[df_test['expected_timeline'] == 'less than 3 months', 'Expected_Timeline_Quantification'] = 1\n",
    "df_test.loc[df_test['expected_timeline'] == '3 months ~ 6 months', 'Expected_Timeline_Quantification'] = 2\n",
    "df_test.loc[df_test['expected_timeline'] == '6 months ~ 9 months', 'Expected_Timeline_Quantification'] = 3\n",
    "df_test.loc[df_test['expected_timeline'] == '9 months ~ 1 year', 'Expected_Timeline_Quantification'] = 4\n",
    "df_test.loc[df_test['expected_timeline'] == 'more than a year', 'Expected_Timeline_Quantification'] = 5"
   ]
  },
  {
   "cell_type": "markdown",
   "id": "2a04ca1e",
   "metadata": {},
   "source": [
    "***"
   ]
  },
  {
   "cell_type": "markdown",
   "id": "b3f34de3",
   "metadata": {},
   "source": [
    "## ***Corporate_Weight***\n",
    "Response_Corporate_Continent별 구매액수별 가중치"
   ]
  },
  {
   "cell_type": "code",
   "execution_count": 184,
   "id": "dddd0ef9",
   "metadata": {},
   "outputs": [],
   "source": [
    "#Response_Corporate_Continent별 구매액수별 가중치\n",
    "df_train['Corporate_Weight'] = 0.0\n",
    "df_test['Corporate_Weight'] = 0.0\n",
    "\n",
    "df_train.loc[df_train['response_corporate'].isin(Asia), 'Corporate_Weight'] = 8.8\n",
    "df_train.loc[df_train['response_corporate'].isin(Middle_East), 'Corporate_Weight'] = 0.1\n",
    "df_train.loc[df_train['response_corporate'].isin(China), 'Corporate_Weight'] = 5.4\n",
    "df_train.loc[df_train['response_corporate'].isin(North_America), 'Corporate_Weight'] = 5.7\n",
    "df_train.loc[df_train['response_corporate'].isin(South_America), 'Corporate_Weight'] = 5.7\n",
    "df_train.loc[df_train['response_corporate'].isin(Europe), 'Corporate_Weight'] = 3.2\n",
    "df_train.loc[df_train['response_corporate'].isin(Africa), 'Corporate_Weight'] = 0.1\n",
    "df_train.loc[df_train['response_corporate'].isin(Combination), 'Corporate_Weight'] = 4.1\n",
    "\n",
    "df_test.loc[df_test['response_corporate'].isin(Asia), 'Corporate_Weight'] = 8.8\n",
    "df_test.loc[df_test['response_corporate'].isin(Middle_East), 'Corporate_Weight'] = 0.1\n",
    "df_test.loc[df_test['response_corporate'].isin(China), 'Corporate_Weight'] = 5.4\n",
    "df_test.loc[df_test['response_corporate'].isin(North_America), 'Corporate_Weight'] = 5.7\n",
    "df_test.loc[df_test['response_corporate'].isin(South_America), 'Corporate_Weight'] = 5.7\n",
    "df_test.loc[df_test['response_corporate'].isin(Europe), 'Corporate_Weight'] = 3.2\n",
    "df_test.loc[df_test['response_corporate'].isin(Africa), 'Corporate_Weight'] = 0.1\n",
    "df_test.loc[df_test['response_corporate'].isin(Combination), 'Corporate_Weight'] = 4.1"
   ]
  },
  {
   "cell_type": "markdown",
   "id": "e84428b8",
   "metadata": {},
   "source": [
    "***"
   ]
  },
  {
   "cell_type": "markdown",
   "id": "c2a87a5a",
   "metadata": {},
   "source": [
    "## ***Business_Area_Main***\n",
    "Business_Area별 영업성공률에 기반한 그룹핑"
   ]
  },
  {
   "cell_type": "code",
   "execution_count": 185,
   "id": "627a172c",
   "metadata": {},
   "outputs": [],
   "source": [
    "#Business_Area별 영업성공률에 기반한 그룹핑\n",
    "df_train['Business_Area_Main'] = 0\n",
    "df_test['Business_Area_Main'] = 0\n",
    "\n",
    "main_area = ['hospital & health care','power plant / renewable energy']\n",
    "\n",
    "df_train.loc[df_train['business_area'].isin(main_area), 'Business_Area_Main'] = 1\n",
    "df_train.loc[~df_train['business_area'].isin(main_area), 'Business_Area_Main'] = 0\n",
    "df_train.loc[df_train['business_area'] == 'Not entered', 'Business_Area_Main'] = -1\n",
    "\n",
    "df_test.loc[df_test['business_area'].isin(main_area), 'Business_Area_Main'] = 1\n",
    "df_test.loc[~df_test['business_area'].isin(main_area), 'Business_Area_Main'] = 0\n",
    "df_test.loc[df_test['business_area'] == 'Not entered', 'Business_Area_Main'] = -1"
   ]
  },
  {
   "cell_type": "code",
   "execution_count": 186,
   "id": "818bd281",
   "metadata": {},
   "outputs": [],
   "source": [
    "df_train['Business_Area_Main'] = df_train['Business_Area_Main'].astype(object)\n",
    "df_test['Business_Area_Main'] = df_test['Business_Area_Main'].astype(object)"
   ]
  },
  {
   "cell_type": "markdown",
   "id": "73f34c1f",
   "metadata": {},
   "source": [
    "***"
   ]
  },
  {
   "cell_type": "markdown",
   "id": "37612157",
   "metadata": {},
   "source": [
    "## ***Business_Subarea_Main***\n",
    "Business_Subarea별 영업성공률에 기반한 그룹핑"
   ]
  },
  {
   "cell_type": "code",
   "execution_count": 187,
   "id": "0b9aa607",
   "metadata": {},
   "outputs": [],
   "source": [
    "#Business_Subarea별 영업성공률에 기반한 그룹핑\n",
    "df_train['Business_Subarea_Main'] = 0\n",
    "df_test['Business_Subarea_Main'] = 0\n",
    "\n",
    "df_train.loc[df_train['business_subarea'] == 'Health', 'Business_Subarea_Main'] = 1\n",
    "df_train.loc[df_train['business_subarea'] != 'Health', 'Business_Subarea_Main'] = 0\n",
    "df_train.loc[df_train['business_subarea'] == 'Not entered', 'Business_Subarea_Main'] = -1\n",
    "\n",
    "df_test.loc[df_test['business_subarea'] == 'Health', 'Business_Subarea_Main'] = 1\n",
    "df_test.loc[df_test['business_subarea'] != 'Health', 'Business_Subarea_Main'] = 0\n",
    "df_test.loc[df_test['business_subarea'] == 'Not entered', 'Business_Subarea_Main'] = -1"
   ]
  },
  {
   "cell_type": "code",
   "execution_count": 188,
   "id": "14a66e43",
   "metadata": {},
   "outputs": [],
   "source": [
    "df_train['Business_Subarea_Main'] = df_train['Business_Subarea_Main'].astype(object)\n",
    "df_test['Business_Subarea_Main'] = df_test['Business_Subarea_Main'].astype(object)"
   ]
  },
  {
   "cell_type": "markdown",
   "id": "71f01e80",
   "metadata": {},
   "source": [
    "***"
   ]
  },
  {
   "cell_type": "markdown",
   "id": "ad375da1",
   "metadata": {},
   "source": [
    "## ***🍕추가적인 피쳐 생성🍕***"
   ]
  },
  {
   "cell_type": "markdown",
   "id": "7337669a",
   "metadata": {},
   "source": [
    "## ***enterprise_country***\n",
    "enterprise와 country 묶은 카테고리컬 feature"
   ]
  },
  {
   "cell_type": "code",
   "execution_count": 189,
   "id": "39e6cf41",
   "metadata": {},
   "outputs": [],
   "source": [
    "df_train['enterprise_country'] = df_train['customer_country'] + '_' + df_train['enterprise']\n",
    "df_test['enterprise_country'] = df_test['customer_country'] + '_' + df_test['enterprise']"
   ]
  },
  {
   "cell_type": "markdown",
   "id": "4d9b2ba4",
   "metadata": {},
   "source": [
    "***"
   ]
  },
  {
   "cell_type": "markdown",
   "id": "224fc78e",
   "metadata": {},
   "source": [
    "## ***country_corp***\n",
    "country와 corporate 묶은 카테고리컬 feature"
   ]
  },
  {
   "cell_type": "code",
   "execution_count": 190,
   "id": "9b0f2ba1",
   "metadata": {},
   "outputs": [],
   "source": [
    "df_train['country_corp'] = df_train['customer_country'] + '_' + df_train['response_corporate']\n",
    "df_test['country_corp'] = df_test['customer_country'] + '_' + df_test['response_corporate']"
   ]
  },
  {
   "cell_type": "markdown",
   "id": "374846b8",
   "metadata": {},
   "source": [
    "***"
   ]
  },
  {
   "cell_type": "markdown",
   "id": "035d521a",
   "metadata": {},
   "source": [
    "## ***high_level customer_postion***"
   ]
  },
  {
   "cell_type": "code",
   "execution_count": 191,
   "id": "7899d97a",
   "metadata": {},
   "outputs": [],
   "source": [
    "df_train['high_level'] = 0\n",
    "df_train.loc[df_train['customer_position']=='ceo/founder','high_level'] = 1\n",
    "df_train.loc[df_train['customer_position']=='vice president','high_level'] = 1\n",
    "df_train.loc[df_train['customer_position']=='manager','high_level']  = 1\n",
    "df_train.loc[df_train['customer_position']=='director','high_level'] = 1\n",
    "\n",
    "df_test['high_level'] = 0\n",
    "df_test.loc[df_test['customer_position']=='ceo/founder','high_level'] = 1\n",
    "df_test.loc[df_test['customer_position']=='vice president','high_level'] = 1\n",
    "df_test.loc[df_test['customer_position']=='manager','high_level']  = 1\n",
    "df_test.loc[df_test['customer_position']=='director','high_level'] = 1"
   ]
  },
  {
   "cell_type": "markdown",
   "id": "18a2edc5",
   "metadata": {},
   "source": [
    "***"
   ]
  },
  {
   "cell_type": "markdown",
   "id": "90e14e82",
   "metadata": {},
   "source": [
    "## ***business_unit_area***\n",
    "business_unit과 business_area 묶은 카테고리컬 feature"
   ]
  },
  {
   "cell_type": "code",
   "execution_count": 192,
   "id": "b6b057fb",
   "metadata": {},
   "outputs": [],
   "source": [
    "df_train['business_unit_area'] = df_train['business_unit'] + '_' + df_train['business_area']\n",
    "df_test['business_unit_area'] = df_test['business_unit'] + '_' + df_test['business_area']"
   ]
  },
  {
   "cell_type": "markdown",
   "id": "88c9a251",
   "metadata": {},
   "source": [
    "***"
   ]
  },
  {
   "cell_type": "markdown",
   "id": "7feee2b5",
   "metadata": {},
   "source": [
    "## ***corporate_unit***\n",
    "response_corporate와 business_unit 묶은 카테고리컬 feature"
   ]
  },
  {
   "cell_type": "code",
   "execution_count": 193,
   "id": "dce1c62b",
   "metadata": {},
   "outputs": [],
   "source": [
    "df_train['corporate_unit'] = df_train['response_corporate'] + '_' + df_train['business_unit']\n",
    "df_test['corporate_unit'] = df_test['response_corporate'] + '_' + df_test['business_unit']"
   ]
  },
  {
   "cell_type": "markdown",
   "id": "b0ed6c24",
   "metadata": {},
   "source": [
    "***"
   ]
  },
  {
   "cell_type": "markdown",
   "id": "f6bf334d",
   "metadata": {},
   "source": [
    "## ***job_product*** (job + category)"
   ]
  },
  {
   "cell_type": "code",
   "execution_count": 194,
   "id": "4b4e4c25",
   "metadata": {},
   "outputs": [],
   "source": [
    "df_train['job_product'] = df_train['customer_job'] +'_'+ df_train['product_category']\n",
    "df_test['job_product'] = df_test['customer_job'] +'_'+ df_test['product_category']"
   ]
  },
  {
   "cell_type": "markdown",
   "id": "7daa6d5b",
   "metadata": {},
   "source": [
    "***"
   ]
  },
  {
   "cell_type": "markdown",
   "id": "2fba7ecb",
   "metadata": {},
   "source": [
    "## ***country_corp_status 1 2***\n",
    "country와 corporate의 일치여부"
   ]
  },
  {
   "cell_type": "code",
   "execution_count": 195,
   "id": "6ae54af3",
   "metadata": {},
   "outputs": [],
   "source": [
    "df_train['country_corp_status'] = 0\n",
    "df_test['country_corp_status'] = 0"
   ]
  },
  {
   "cell_type": "code",
   "execution_count": 196,
   "id": "34be1f3d",
   "metadata": {},
   "outputs": [],
   "source": [
    "df_train.loc[df_train['response_corporate'].isin(['LGEKR', 'LGEAF', 'LGEEF', 'LGEEB', 'LGELA']), 'country_corp_status'] = None\n",
    "df_test.loc[df_test['response_corporate'].isin(['LGEKR', 'LGEAF', 'LGEEF', 'LGEEB', 'LGELA']), 'country_corp_status'] = None"
   ]
  },
  {
   "cell_type": "code",
   "execution_count": 197,
   "id": "9165b005",
   "metadata": {},
   "outputs": [],
   "source": [
    "LGEAF_lst = ['Nigeria', 'Benin', 'Ghana', 'Congo', 'Togo', 'Mauritania', 'Senegal', 'Ivory Coast', 'Mali',\n",
    "       'Central African Republic', 'Angola', 'Sierra Leone', 'Cameroon', 'Burkina Faso', 'Gambia', 'Gabon', 'Guinea', 'Liberia']"
   ]
  },
  {
   "cell_type": "code",
   "execution_count": 198,
   "id": "2f39eec7",
   "metadata": {},
   "outputs": [],
   "source": [
    "df_train.loc[(df_train['customer_country'].isin(LGEAF_lst)) & (df_train['response_corporate'] == 'LGEAF'), 'country_corp_status'] = 1\n",
    "\n",
    "df_train.loc[(df_train['customer_country'] == 'India') & (df_train['response_corporate'] == 'LGEIL'), 'country_corp_status'] = 1\n",
    "df_train.loc[(df_train['customer_country'] == 'Brazil') & (df_train['response_corporate'] == 'LGESP'), 'country_corp_status'] = 1\n",
    "df_train.loc[(df_train['customer_country'] == 'United States') & (df_train['response_corporate'] == 'LGEUS'), 'country_corp_status'] = 1\n",
    "df_train.loc[(df_train['customer_country'] == 'Mexico') & (df_train['response_corporate'] == 'LGEMS'), 'country_corp_status'] = 1\n",
    "df_train.loc[(df_train['customer_country'] == 'Philippines') & (df_train['response_corporate'] == 'LGEPH'), 'country_corp_status'] = 1\n",
    "df_train.loc[(df_train['customer_country'] == 'United Arab Emirates') & (df_train['response_corporate'] == 'LGEGF'), 'country_corp_status'] = 1\n",
    "df_train.loc[(df_train['customer_country'] == 'Colombia') & (df_train['response_corporate'] == 'LGECB'), 'country_corp_status'] = 1\n",
    "df_train.loc[(df_train['customer_country'] == 'United Kingdom') & (df_train['response_corporate'] == 'LGEUK'), 'country_corp_status'] = 1\n",
    "df_train.loc[(df_train['customer_country'] == 'Saudi Arabia') & (df_train['response_corporate'] == 'LGESJ'), 'country_corp_status'] = 1\n",
    "df_train.loc[(df_train['customer_country'] == 'Chile') & (df_train['response_corporate'] == 'LGECL'), 'country_corp_status'] = 1\n",
    "df_train.loc[(df_train['customer_country'] == 'Panama') & (df_train['response_corporate'] == 'LGEPS'), 'country_corp_status'] = 1\n",
    "df_train.loc[(df_train['customer_country'] == 'Italy') & (df_train['response_corporate'] == 'LGEIS'), 'country_corp_status'] = 1\n",
    "df_train.loc[(df_train['customer_country'] == 'Peru') & (df_train['response_corporate'] == 'LGEPR'), 'country_corp_status'] = 1\n",
    "df_train.loc[(df_train['customer_country'] == 'Germany') & (df_train['response_corporate'] == 'LGEDG'), 'country_corp_status'] = 1\n",
    "df_train.loc[(df_train['customer_country'] == 'Poland') & (df_train['response_corporate'] == 'LGEPL'), 'country_corp_status'] = 1\n",
    "df_train.loc[(df_train['customer_country'] == 'Egypt') & (df_train['response_corporate'] == 'LGEEG'), 'country_corp_status'] = 1\n",
    "df_train.loc[(df_train['customer_country'] == 'VietNam') & (df_train['response_corporate'] == 'LGEVH'), 'country_corp_status'] = 1\n",
    "df_train.loc[(df_train['customer_country'] == 'Spain') & (df_train['response_corporate'] == 'LGEES'), 'country_corp_status'] = 1\n",
    "df_train.loc[(df_train['customer_country'] == 'Turkey') & (df_train['response_corporate'] == 'LGETK'), 'country_corp_status'] = 1\n",
    "df_train.loc[(df_train['customer_country'] == 'Hong Kong') & (df_train['response_corporate'] == 'LGEHK'), 'country_corp_status'] = 1\n",
    "df_train.loc[(df_train['customer_country'] == 'Australia') & (df_train['response_corporate'] == 'LGEAP'), 'country_corp_status'] = 1\n",
    "df_train.loc[(df_train['customer_country'] == 'Singapore') & (df_train['response_corporate'] == 'LGESL'), 'country_corp_status'] = 1\n",
    "df_train.loc[(df_train['customer_country'] == 'Hungary') & (df_train['response_corporate'] == 'LGEMK'), 'country_corp_status'] = 1\n",
    "df_train.loc[(df_train['customer_country'] == 'France') & (df_train['response_corporate'] == 'LGEFS'), 'country_corp_status'] = 1\n",
    "df_train.loc[(df_train['customer_country'] == 'Indonesia') & (df_train['response_corporate'] == 'LGEIN'), 'country_corp_status'] = 1\n",
    "df_train.loc[(df_train['customer_country'] == 'Iraq') & (df_train['response_corporate'] == 'LGELF'), 'country_corp_status'] = 1\n",
    "df_train.loc[(df_train['customer_country'] == 'South Africa') & (df_train['response_corporate'] == 'LGESA'), 'country_corp_status'] = 1\n",
    "df_train.loc[(df_train['customer_country'] == 'Canada') & (df_train['response_corporate'] == 'LGECI'), 'country_corp_status'] = 1\n",
    "df_train.loc[(df_train['customer_country'] == 'Thailand') & (df_train['response_corporate'] == 'LGETH'), 'country_corp_status'] = 1\n",
    "df_train.loc[(df_train['customer_country'] == 'Portugal') & (df_train['response_corporate'] == 'LGEPT'), 'country_corp_status'] = 1\n",
    "df_train.loc[(df_train['customer_country'] == 'Malaysia') & (df_train['response_corporate'] == 'LGEML'), 'country_corp_status'] = 1\n",
    "df_train.loc[(df_train['customer_country'] == 'Netherlands') & (df_train['response_corporate'] == 'LGEBN'), 'country_corp_status'] = 1\n",
    "df_train.loc[(df_train['customer_country'] == 'Israel') & (df_train['response_corporate'] == 'LGEYK'), 'country_corp_status'] = 1\n",
    "df_train.loc[(df_train['customer_country'] == 'China') & (df_train['response_corporate'] == 'LGECH'), 'country_corp_status'] = 1\n",
    "df_train.loc[(df_train['customer_country'] == 'Greece') & (df_train['response_corporate'] == 'LGEHS'), 'country_corp_status'] = 1\n",
    "df_train.loc[(df_train['customer_country'] == 'Taiwan') & (df_train['response_corporate'] == 'LGETT'), 'country_corp_status'] = 1\n",
    "df_train.loc[(df_train['customer_country'] == 'Japan') & (df_train['response_corporate'] == 'LGEJP'), 'country_corp_status'] = 1\n",
    "df_train.loc[(df_train['customer_country'] == 'Algeria') & (df_train['response_corporate'] == 'LGEAS'), 'country_corp_status'] = 1\n",
    "df_train.loc[(df_train['customer_country'] == 'Sweden') & (df_train['response_corporate'] == 'LGESW'), 'country_corp_status'] = 1\n",
    "df_train.loc[(df_train['customer_country'] == 'Morocco') & (df_train['response_corporate'] == 'LGEMC'), 'country_corp_status'] = 1\n",
    "df_train.loc[(df_train['customer_country'] == 'Romania') & (df_train['response_corporate'] == 'LGERO'), 'country_corp_status'] = 1\n",
    "\n",
    "df_train['country_corp_status'] = np.where(\n",
    "    (df_train['customer_country'] == 'Argentina') & ~(df_train['response_corporate'].isin(['LGEAR', 'LGEAG'])),\n",
    "    1,\n",
    "    df_train['country_corp_status']\n",
    ")\n",
    "# df_train.loc[(df_train['customer_country'] == 'Argentina') & (df_train['response_corporate'] == 'LGEAR'), 'country_corp_status'] = 1\n",
    "# df_train.loc[(df_train['customer_country'] == 'Argentina') & (df_train['response_corporate'] == 'LGEAG'), 'country_corp_status'] = 1\n",
    "\n",
    "df_train.loc[(df_train['customer_country'] == 'Russia') & (df_train['response_corporate'] == 'LGERA'), 'country_corp_status'] = 1\n",
    "df_train.loc[(df_train['customer_country'] == 'Czech') & (df_train['response_corporate'] == 'LGECZ'), 'country_corp_status'] = 1\n",
    "df_train.loc[(df_train['customer_country'] == 'Ukraine') & (df_train['response_corporate'] == 'LGEUR'), 'country_corp_status'] = 1\n",
    "df_train.loc[(df_train['customer_country'] == 'Iran') & (df_train['response_corporate'] == 'LGEIR'), 'country_corp_status'] = 1\n",
    "df_train.loc[(df_train['customer_country'] == 'Portugal') & (df_train['response_corporate'] == 'LGEBT'), 'country_corp_status'] = 1"
   ]
  },
  {
   "cell_type": "code",
   "execution_count": 199,
   "id": "4aa5f69e",
   "metadata": {},
   "outputs": [],
   "source": [
    "df_test.loc[(df_test['customer_country'].isin(LGEAF_lst)) & (df_test['response_corporate'] == 'LGEAF'), 'country_corp_status'] = 1\n",
    "\n",
    "df_test.loc[(df_test['customer_country'] == 'India') & (df_test['response_corporate'] == 'LGEIL'), 'country_corp_status'] = 1\n",
    "df_test.loc[(df_test['customer_country'] == 'Brazil') & (df_test['response_corporate'] == 'LGESP'), 'country_corp_status'] = 1\n",
    "df_test.loc[(df_test['customer_country'] == 'United States') & (df_test['response_corporate'] == 'LGEUS'), 'country_corp_status'] = 1\n",
    "df_test.loc[(df_test['customer_country'] == 'Mexico') & (df_test['response_corporate'] == 'LGEMS'), 'country_corp_status'] = 1\n",
    "df_test.loc[(df_test['customer_country'] == 'Philippines') & (df_test['response_corporate'] == 'LGEPH'), 'country_corp_status'] = 1\n",
    "df_test.loc[(df_test['customer_country'] == 'United Arab Emirates') & (df_test['response_corporate'] == 'LGEGF'), 'country_corp_status'] = 1\n",
    "df_test.loc[(df_test['customer_country'] == 'Colombia') & (df_test['response_corporate'] == 'LGECB'), 'country_corp_status'] = 1\n",
    "df_test.loc[(df_test['customer_country'] == 'United Kingdom') & (df_test['response_corporate'] == 'LGEUK'), 'country_corp_status'] = 1\n",
    "df_test.loc[(df_test['customer_country'] == 'Saudi Arabia') & (df_test['response_corporate'] == 'LGESJ'), 'country_corp_status'] = 1\n",
    "df_test.loc[(df_test['customer_country'] == 'Chile') & (df_test['response_corporate'] == 'LGECL'), 'country_corp_status'] = 1\n",
    "df_test.loc[(df_test['customer_country'] == 'Panama') & (df_test['response_corporate'] == 'LGEPS'), 'country_corp_status'] = 1\n",
    "df_test.loc[(df_test['customer_country'] == 'Italy') & (df_test['response_corporate'] == 'LGEIS'), 'country_corp_status'] = 1\n",
    "df_test.loc[(df_test['customer_country'] == 'Peru') & (df_test['response_corporate'] == 'LGEPR'), 'country_corp_status'] = 1\n",
    "df_test.loc[(df_test['customer_country'] == 'Germany') & (df_test['response_corporate'] == 'LGEDG'), 'country_corp_status'] = 1\n",
    "df_test.loc[(df_test['customer_country'] == 'Poland') & (df_test['response_corporate'] == 'LGEPL'), 'country_corp_status'] = 1\n",
    "df_test.loc[(df_test['customer_country'] == 'Egypt') & (df_test['response_corporate'] == 'LGEEG'), 'country_corp_status'] = 1\n",
    "df_test.loc[(df_test['customer_country'] == 'VietNam') & (df_test['response_corporate'] == 'LGEVH'), 'country_corp_status'] = 1\n",
    "df_test.loc[(df_test['customer_country'] == 'Spain') & (df_test['response_corporate'] == 'LGEES'), 'country_corp_status'] = 1\n",
    "df_test.loc[(df_test['customer_country'] == 'Turkey') & (df_test['response_corporate'] == 'LGETK'), 'country_corp_status'] = 1\n",
    "df_test.loc[(df_test['customer_country'] == 'Hong Kong') & (df_test['response_corporate'] == 'LGEHK'), 'country_corp_status'] = 1\n",
    "df_test.loc[(df_test['customer_country'] == 'Australia') & (df_test['response_corporate'] == 'LGEAP'), 'country_corp_status'] = 1\n",
    "df_test.loc[(df_test['customer_country'] == 'Singapore') & (df_test['response_corporate'] == 'LGESL'), 'country_corp_status'] = 1\n",
    "df_test.loc[(df_test['customer_country'] == 'Hungary') & (df_test['response_corporate'] == 'LGEMK'), 'country_corp_status'] = 1\n",
    "df_test.loc[(df_test['customer_country'] == 'France') & (df_test['response_corporate'] == 'LGEFS'), 'country_corp_status'] = 1\n",
    "df_test.loc[(df_test['customer_country'] == 'Indonesia') & (df_test['response_corporate'] == 'LGEIN'), 'country_corp_status'] = 1\n",
    "df_test.loc[(df_test['customer_country'] == 'Iraq') & (df_test['response_corporate'] == 'LGELF'), 'country_corp_status'] = 1\n",
    "df_test.loc[(df_test['customer_country'] == 'South Africa') & (df_test['response_corporate'] == 'LGESA'), 'country_corp_status'] = 1\n",
    "df_test.loc[(df_test['customer_country'] == 'Canada') & (df_test['response_corporate'] == 'LGECI'), 'country_corp_status'] = 1\n",
    "df_test.loc[(df_test['customer_country'] == 'Thailand') & (df_test['response_corporate'] == 'LGETH'), 'country_corp_status'] = 1\n",
    "df_test.loc[(df_test['customer_country'] == 'Portugal') & (df_test['response_corporate'] == 'LGEPT'), 'country_corp_status'] = 1\n",
    "df_test.loc[(df_test['customer_country'] == 'Malaysia') & (df_test['response_corporate'] == 'LGEML'), 'country_corp_status'] = 1\n",
    "df_test.loc[(df_test['customer_country'] == 'Netherlands') & (df_test['response_corporate'] == 'LGEBN'), 'country_corp_status'] = 1\n",
    "df_test.loc[(df_test['customer_country'] == 'Israel') & (df_test['response_corporate'] == 'LGEYK'), 'country_corp_status'] = 1\n",
    "df_test.loc[(df_test['customer_country'] == 'China') & (df_test['response_corporate'] == 'LGECH'), 'country_corp_status'] = 1\n",
    "df_test.loc[(df_test['customer_country'] == 'Greece') & (df_test['response_corporate'] == 'LGEHS'), 'country_corp_status'] = 1\n",
    "df_test.loc[(df_test['customer_country'] == 'Taiwan') & (df_test['response_corporate'] == 'LGETT'), 'country_corp_status'] = 1\n",
    "df_test.loc[(df_test['customer_country'] == 'Japan') & (df_test['response_corporate'] == 'LGEJP'), 'country_corp_status'] = 1\n",
    "df_test.loc[(df_test['customer_country'] == 'Algeria') & (df_test['response_corporate'] == 'LGEAS'), 'country_corp_status'] = 1\n",
    "df_test.loc[(df_test['customer_country'] == 'Sweden') & (df_test['response_corporate'] == 'LGESW'), 'country_corp_status'] = 1\n",
    "df_test.loc[(df_test['customer_country'] == 'Morocco') & (df_test['response_corporate'] == 'LGEMC'), 'country_corp_status'] = 1\n",
    "df_test.loc[(df_test['customer_country'] == 'Romania') & (df_test['response_corporate'] == 'LGERO'), 'country_corp_status'] = 1\n",
    "\n",
    "df_test['country_corp_status'] = np.where(\n",
    "    (df_test['customer_country'] == 'Argentina') & ~(df_test['response_corporate'].isin(['LGEAR', 'LGEAG'])),\n",
    "    1,\n",
    "    df_test['country_corp_status']\n",
    ")\n",
    "# df_test.loc[(df_test['customer_country'] == 'Argentina') & (df_test['response_corporate'] == 'LGEAR'), 'country_corp_status'] = 1\n",
    "# df_test.loc[(df_test['customer_country'] == 'Argentina') & (df_test['response_corporate'] == 'LGEAG'), 'country_corp_status'] = 1\n",
    "\n",
    "df_test.loc[(df_test['customer_country'] == 'Russia') & (df_test['response_corporate'] == 'LGERA'), 'country_corp_status'] = 1\n",
    "df_test.loc[(df_test['customer_country'] == 'Czech') & (df_test['response_corporate'] == 'LGECZ'), 'country_corp_status'] = 1\n",
    "df_test.loc[(df_test['customer_country'] == 'Ukraine') & (df_test['response_corporate'] == 'LGEUR'), 'country_corp_status'] = 1\n",
    "df_test.loc[(df_test['customer_country'] == 'Iran') & (df_test['response_corporate'] == 'LGEIR'), 'country_corp_status'] = 1\n",
    "df_test.loc[(df_test['customer_country'] == 'Portugal') & (df_test['response_corporate'] == 'LGEBT'), 'country_corp_status'] = 1"
   ]
  },
  {
   "cell_type": "markdown",
   "id": "b03bbce1",
   "metadata": {},
   "source": [
    "##### 추가생성"
   ]
  },
  {
   "cell_type": "code",
   "execution_count": 200,
   "id": "58ba0228",
   "metadata": {},
   "outputs": [],
   "source": [
    "df_train['country_corp_status_1'] = 0\n",
    "df_test['country_corp_status_1'] = 0\n",
    "\n",
    "df_train['country_corp_status_2'] = 0\n",
    "df_test['country_corp_status_2'] = 0"
   ]
  },
  {
   "cell_type": "code",
   "execution_count": 201,
   "id": "f18c671d",
   "metadata": {},
   "outputs": [],
   "source": [
    "df_train.loc[df_train['response_corporate'].isin(['LGEKR', 'LGEAF', 'LGEEF', 'LGEEB', 'LGELA']), 'country_corp_status_1'] = None\n",
    "df_test.loc[df_test['response_corporate'].isin(['LGEKR', 'LGEAF', 'LGEEF', 'LGEEB', 'LGELA']), 'country_corp_status_1'] = None\n",
    "\n",
    "df_train.loc[(~df_train['customer_country'].isin(LGEAF_lst)) & (df_train['response_corporate'] == 'LGEAF'), 'country_corp_status_1'] = 1\n",
    "\n",
    "df_train.loc[(df_train['customer_country'] != 'India') & (df_train['response_corporate'] == 'LGEIL'), 'country_corp_status_1'] = 1\n",
    "df_train.loc[(df_train['customer_country'] != 'Brazil') & (df_train['response_corporate'] == 'LGESP'), 'country_corp_status_1'] = 1\n",
    "df_train.loc[(df_train['customer_country'] != 'United States') & (df_train['response_corporate'] == 'LGEUS'), 'country_corp_status_1'] = 1\n",
    "df_train.loc[(df_train['customer_country'] != 'Mexico') & (df_train['response_corporate'] == 'LGEMS'), 'country_corp_status_1'] = 1\n",
    "df_train.loc[(df_train['customer_country'] != 'Philippines') & (df_train['response_corporate'] == 'LGEPH'), 'country_corp_status_1'] = 1\n",
    "df_train.loc[(df_train['customer_country'] != 'United Arab Emirates') & (df_train['response_corporate'] == 'LGEGF'), 'country_corp_status_1'] = 1\n",
    "df_train.loc[(df_train['customer_country'] != 'Colombia') & (df_train['response_corporate'] == 'LGECB'), 'country_corp_status_1'] = 1\n",
    "df_train.loc[(df_train['customer_country'] != 'United Kingdom') & (df_train['response_corporate'] == 'LGEUK'), 'country_corp_status_1'] = 1\n",
    "df_train.loc[(df_train['customer_country'] != 'Saudi Arabia') & (df_train['response_corporate'] == 'LGESJ'), 'country_corp_status_1'] = 1\n",
    "df_train.loc[(df_train['customer_country'] != 'Chile') & (df_train['response_corporate'] == 'LGECL'), 'country_corp_status_1'] = 1\n",
    "df_train.loc[(df_train['customer_country'] != 'Panama') & (df_train['response_corporate'] == 'LGEPS'), 'country_corp_status_1'] = 1\n",
    "df_train.loc[(df_train['customer_country'] != 'Italy') & (df_train['response_corporate'] == 'LGEIS'), 'country_corp_status_1'] = 1\n",
    "df_train.loc[(df_train['customer_country'] != 'Peru') & (df_train['response_corporate'] == 'LGEPR'), 'country_corp_status_1'] = 1\n",
    "df_train.loc[(df_train['customer_country'] != 'Germany') & (df_train['response_corporate'] == 'LGEDG'), 'country_corp_status_1'] = 1\n",
    "df_train.loc[(df_train['customer_country'] != 'Poland') & (df_train['response_corporate'] == 'LGEPL'), 'country_corp_status_1'] = 1\n",
    "df_train.loc[(df_train['customer_country'] != 'Egypt') & (df_train['response_corporate'] == 'LGEEG'), 'country_corp_status_1'] = 1\n",
    "df_train.loc[(df_train['customer_country'] != 'VietNam') & (df_train['response_corporate'] == 'LGEVH'), 'country_corp_status_1'] = 1\n",
    "df_train.loc[(df_train['customer_country'] != 'Spain') & (df_train['response_corporate'] == 'LGEES'), 'country_corp_status_1'] = 1\n",
    "df_train.loc[(df_train['customer_country'] != 'Turkey') & (df_train['response_corporate'] == 'LGETK'), 'country_corp_status_1'] = 1\n",
    "df_train.loc[(df_train['customer_country'] != 'Hong Kong') & (df_train['response_corporate'] == 'LGEHK'), 'country_corp_status_1'] = 1\n",
    "df_train.loc[(df_train['customer_country'] != 'Australia') & (df_train['response_corporate'] == 'LGEAP'), 'country_corp_status_1'] = 1\n",
    "df_train.loc[(df_train['customer_country'] != 'Singapore') & (df_train['response_corporate'] == 'LGESL'), 'country_corp_status_1'] = 1\n",
    "df_train.loc[(df_train['customer_country'] != 'Hungary') & (df_train['response_corporate'] == 'LGEMK'), 'country_corp_status_1'] = 1\n",
    "df_train.loc[(df_train['customer_country'] != 'France') & (df_train['response_corporate'] == 'LGEFS'), 'country_corp_status_1'] = 1\n",
    "df_train.loc[(df_train['customer_country'] != 'Indonesia') & (df_train['response_corporate'] == 'LGEIN'), 'country_corp_status_1'] = 1\n",
    "df_train.loc[(df_train['customer_country'] != 'Iraq') & (df_train['response_corporate'] == 'LGELF'), 'country_corp_status_1'] = 1\n",
    "df_train.loc[(df_train['customer_country'] != 'South Africa') & (df_train['response_corporate'] == 'LGESA'), 'country_corp_status_1'] = 1\n",
    "df_train.loc[(df_train['customer_country'] != 'Canada') & (df_train['response_corporate'] == 'LGECI'), 'country_corp_status_1'] = 1\n",
    "df_train.loc[(df_train['customer_country'] != 'Thailand') & (df_train['response_corporate'] == 'LGETH'), 'country_corp_status_1'] = 1\n",
    "df_train.loc[(df_train['customer_country'] != 'Portugal') & (df_train['response_corporate'] == 'LGEPT'), 'country_corp_status_1'] = 1\n",
    "df_train.loc[(df_train['customer_country'] != 'Malaysia') & (df_train['response_corporate'] == 'LGEML'), 'country_corp_status_1'] = 1\n",
    "df_train.loc[(df_train['customer_country'] != 'Netherlands') & (df_train['response_corporate'] == 'LGEBN'), 'country_corp_status_1'] = 1\n",
    "df_train.loc[(df_train['customer_country'] != 'Israel') & (df_train['response_corporate'] == 'LGEYK'), 'country_corp_status_1'] = 1\n",
    "df_train.loc[(df_train['customer_country'] != 'China') & (df_train['response_corporate'] == 'LGECH'), 'country_corp_status_1'] = 1\n",
    "df_train.loc[(df_train['customer_country'] != 'Greece') & (df_train['response_corporate'] == 'LGEHS'), 'country_corp_status_1'] = 1\n",
    "df_train.loc[(df_train['customer_country'] != 'Taiwan') & (df_train['response_corporate'] == 'LGETT'), 'country_corp_status_1'] = 1\n",
    "df_train.loc[(df_train['customer_country'] != 'Japan') & (df_train['response_corporate'] == 'LGEJP'), 'country_corp_status_1'] = 1\n",
    "df_train.loc[(df_train['customer_country'] != 'Algeria') & (df_train['response_corporate'] == 'LGEAS'), 'country_corp_status_1'] = 1\n",
    "df_train.loc[(df_train['customer_country'] != 'Sweden') & (df_train['response_corporate'] == 'LGESW'), 'country_corp_status_1'] = 1\n",
    "df_train.loc[(df_train['customer_country'] != 'Morocco') & (df_train['response_corporate'] == 'LGEMC'), 'country_corp_status_1'] = 1\n",
    "df_train.loc[(df_train['customer_country'] != 'Romania') & (df_train['response_corporate'] == 'LGERO'), 'country_corp_status_1'] = 1\n",
    "\n",
    "df_train['country_corp_status_1'] = np.where(\n",
    "    (df_train['customer_country'] != 'Argentina') & ~(df_train['response_corporate'].isin(['LGEAR', 'LGEAG'])),\n",
    "    1,\n",
    "    df_train['country_corp_status_1']\n",
    ")\n",
    "# df_train.loc[(df_train['customer_country'] != 'Argentina') & (df_train['response_corporate'] == 'LGEAR'), 'country_corp_status_1'] = 1\n",
    "# df_train.loc[(df_train['customer_country'] != 'Argentina') & (df_train['response_corporate'] == 'LGEAG'), 'country_corp_status_1'] = 1\n",
    "\n",
    "df_train.loc[(df_train['customer_country'] != 'Russia') & (df_train['response_corporate'] == 'LGERA'), 'country_corp_status_1'] = 1\n",
    "df_train.loc[(df_train['customer_country'] != 'Czech') & (df_train['response_corporate'] == 'LGECZ'), 'country_corp_status_1'] = 1\n",
    "df_train.loc[(df_train['customer_country'] != 'Ukraine') & (df_train['response_corporate'] == 'LGEUR'), 'country_corp_status_1'] = 1\n",
    "df_train.loc[(df_train['customer_country'] != 'Iran') & (df_train['response_corporate'] == 'LGEIR'), 'country_corp_status_1'] = 1\n",
    "df_train.loc[(df_train['customer_country'] != 'Portugal') & (df_train['response_corporate'] == 'LGEBT'), 'country_corp_status_1'] = 1\n",
    "\n",
    "df_test.loc[(df_test['customer_country'].isin(LGEAF_lst)) & (df_test['response_corporate'] == 'LGEAF'), 'country_corp_status_1'] = 1\n",
    "\n",
    "df_test.loc[(df_test['customer_country'] != 'India') & (df_test['response_corporate'] == 'LGEIL'), 'country_corp_status_1'] = 1\n",
    "df_test.loc[(df_test['customer_country'] != 'Brazil') & (df_test['response_corporate'] == 'LGESP'), 'country_corp_status_1'] = 1\n",
    "df_test.loc[(df_test['customer_country'] != 'United States') & (df_test['response_corporate'] == 'LGEUS'), 'country_corp_status_1'] = 1\n",
    "df_test.loc[(df_test['customer_country'] != 'Mexico') & (df_test['response_corporate'] == 'LGEMS'), 'country_corp_status_1'] = 1\n",
    "df_test.loc[(df_test['customer_country'] != 'Philippines') & (df_test['response_corporate'] == 'LGEPH'), 'country_corp_status_1'] = 1\n",
    "df_test.loc[(df_test['customer_country'] != 'United Arab Emirates') & (df_test['response_corporate'] == 'LGEGF'), 'country_corp_status_1'] = 1\n",
    "df_test.loc[(df_test['customer_country'] != 'Colombia') & (df_test['response_corporate'] == 'LGECB'), 'country_corp_status_1'] = 1\n",
    "df_test.loc[(df_test['customer_country'] != 'United Kingdom') & (df_test['response_corporate'] == 'LGEUK'), 'country_corp_status_1'] = 1\n",
    "df_test.loc[(df_test['customer_country'] != 'Saudi Arabia') & (df_test['response_corporate'] == 'LGESJ'), 'country_corp_status_1'] = 1\n",
    "df_test.loc[(df_test['customer_country'] != 'Chile') & (df_test['response_corporate'] == 'LGECL'), 'country_corp_status_1'] = 1\n",
    "df_test.loc[(df_test['customer_country'] != 'Panama') & (df_test['response_corporate'] == 'LGEPS'), 'country_corp_status_1'] = 1\n",
    "df_test.loc[(df_test['customer_country'] != 'Italy') & (df_test['response_corporate'] == 'LGEIS'), 'country_corp_status_1'] = 1\n",
    "df_test.loc[(df_test['customer_country'] != 'Peru') & (df_test['response_corporate'] == 'LGEPR'), 'country_corp_status_1'] = 1\n",
    "df_test.loc[(df_test['customer_country'] != 'Germany') & (df_test['response_corporate'] == 'LGEDG'), 'country_corp_status_1'] = 1\n",
    "df_test.loc[(df_test['customer_country'] != 'Poland') & (df_test['response_corporate'] == 'LGEPL'), 'country_corp_status_1'] = 1\n",
    "df_test.loc[(df_test['customer_country'] != 'Egypt') & (df_test['response_corporate'] == 'LGEEG'), 'country_corp_status_1'] = 1\n",
    "df_test.loc[(df_test['customer_country'] != 'VietNam') & (df_test['response_corporate'] == 'LGEVH'), 'country_corp_status_1'] = 1\n",
    "df_test.loc[(df_test['customer_country'] != 'Spain') & (df_test['response_corporate'] == 'LGEES'), 'country_corp_status_1'] = 1\n",
    "df_test.loc[(df_test['customer_country'] != 'Turkey') & (df_test['response_corporate'] == 'LGETK'), 'country_corp_status_1'] = 1\n",
    "df_test.loc[(df_test['customer_country'] != 'Hong Kong') & (df_test['response_corporate'] == 'LGEHK'), 'country_corp_status_1'] = 1\n",
    "df_test.loc[(df_test['customer_country'] != 'Australia') & (df_test['response_corporate'] == 'LGEAP'), 'country_corp_status_1'] = 1\n",
    "df_test.loc[(df_test['customer_country'] != 'Singapore') & (df_test['response_corporate'] == 'LGESL'), 'country_corp_status_1'] = 1\n",
    "df_test.loc[(df_test['customer_country'] != 'Hungary') & (df_test['response_corporate'] == 'LGEMK'), 'country_corp_status_1'] = 1\n",
    "df_test.loc[(df_test['customer_country'] != 'France') & (df_test['response_corporate'] == 'LGEFS'), 'country_corp_status_1'] = 1\n",
    "df_test.loc[(df_test['customer_country'] != 'Indonesia') & (df_test['response_corporate'] == 'LGEIN'), 'country_corp_status_1'] = 1\n",
    "df_test.loc[(df_test['customer_country'] != 'Iraq') & (df_test['response_corporate'] == 'LGELF'), 'country_corp_status_1'] = 1\n",
    "df_test.loc[(df_test['customer_country'] != 'South Africa') & (df_test['response_corporate'] == 'LGESA'), 'country_corp_status_1'] = 1\n",
    "df_test.loc[(df_test['customer_country'] != 'Canada') & (df_test['response_corporate'] == 'LGECI'), 'country_corp_status_1'] = 1\n",
    "df_test.loc[(df_test['customer_country'] != 'Thailand') & (df_test['response_corporate'] == 'LGETH'), 'country_corp_status_1'] = 1\n",
    "df_test.loc[(df_test['customer_country'] != 'Portugal') & (df_test['response_corporate'] == 'LGEPT'), 'country_corp_status_1'] = 1\n",
    "df_test.loc[(df_test['customer_country'] != 'Malaysia') & (df_test['response_corporate'] == 'LGEML'), 'country_corp_status_1'] = 1\n",
    "df_test.loc[(df_test['customer_country'] != 'Netherlands') & (df_test['response_corporate'] == 'LGEBN'), 'country_corp_status_1'] = 1\n",
    "df_test.loc[(df_test['customer_country'] != 'Israel') & (df_test['response_corporate'] == 'LGEYK'), 'country_corp_status_1'] = 1\n",
    "df_test.loc[(df_test['customer_country'] != 'China') & (df_test['response_corporate'] == 'LGECH'), 'country_corp_status_1'] = 1\n",
    "df_test.loc[(df_test['customer_country'] != 'Greece') & (df_test['response_corporate'] == 'LGEHS'), 'country_corp_status_1'] = 1\n",
    "df_test.loc[(df_test['customer_country'] != 'Taiwan') & (df_test['response_corporate'] == 'LGETT'), 'country_corp_status_1'] = 1\n",
    "df_test.loc[(df_test['customer_country'] != 'Japan') & (df_test['response_corporate'] == 'LGEJP'), 'country_corp_status_1'] = 1\n",
    "df_test.loc[(df_test['customer_country'] != 'Algeria') & (df_test['response_corporate'] == 'LGEAS'), 'country_corp_status_1'] = 1\n",
    "df_test.loc[(df_test['customer_country'] != 'Sweden') & (df_test['response_corporate'] == 'LGESW'), 'country_corp_status_1'] = 1\n",
    "df_test.loc[(df_test['customer_country'] != 'Morocco') & (df_test['response_corporate'] == 'LGEMC'), 'country_corp_status_1'] = 1\n",
    "df_test.loc[(df_test['customer_country'] != 'Romania') & (df_test['response_corporate'] == 'LGERO'), 'country_corp_status_1'] = 1\n",
    "\n",
    "df_test['country_corp_status_1'] = np.where(\n",
    "    (df_test['customer_country'] != 'Argentina') & ~(df_test['response_corporate'].isin(['LGEAR', 'LGEAG'])),\n",
    "    1,\n",
    "    df_test['country_corp_status_1']\n",
    ")\n",
    "# df_test.loc[(df_test['customer_country'] != 'Argentina') & (df_test['response_corporate'] == 'LGEAR'), 'country_corp_status_1'] = 1\n",
    "# df_test.loc[(df_test['customer_country'] != 'Argentina') & (df_test['response_corporate'] == 'LGEAG'), 'country_corp_status_1'] = 1\n",
    "\n",
    "df_test.loc[(df_test['customer_country'] != 'Russia') & (df_test['response_corporate'] == 'LGERA'), 'country_corp_status_1'] = 1\n",
    "df_test.loc[(df_test['customer_country'] != 'Czech') & (df_test['response_corporate'] == 'LGECZ'), 'country_corp_status_1'] = 1\n",
    "df_test.loc[(df_test['customer_country'] != 'Ukraine') & (df_test['response_corporate'] == 'LGEUR'), 'country_corp_status_1'] = 1\n",
    "df_test.loc[(df_test['customer_country'] != 'Iran') & (df_test['response_corporate'] == 'LGEIR'), 'country_corp_status_1'] = 1\n",
    "df_test.loc[(df_test['customer_country'] != 'Portugal') & (df_test['response_corporate'] == 'LGEBT'), 'country_corp_status_1'] = 1"
   ]
  },
  {
   "cell_type": "code",
   "execution_count": 202,
   "id": "4d9a28fe",
   "metadata": {},
   "outputs": [],
   "source": [
    "df_train.loc[df_train['response_corporate'].isin(['LGEKR', 'LGEAF', 'LGEEF', 'LGEEB', 'LGELA']), 'country_corp_status_2'] = None\n",
    "df_test.loc[df_test['response_corporate'].isin(['LGEKR', 'LGEAF', 'LGEEF', 'LGEEB', 'LGELA']), 'country_corp_status_2'] = None\n",
    "\n",
    "df_train.loc[(df_train['customer_country'].isin(LGEAF_lst)) & (df_train['response_corporate'] != 'LGEAF'), 'country_corp_status_2'] = 1\n",
    "\n",
    "df_train.loc[(df_train['customer_country'] == 'India') & (df_train['response_corporate'] != 'LGEIL'), 'country_corp_status_2'] = 1\n",
    "df_train.loc[(df_train['customer_country'] == 'Brazil') & (df_train['response_corporate'] != 'LGESP'), 'country_corp_status_2'] = 1\n",
    "df_train.loc[(df_train['customer_country'] == 'United States') & (df_train['response_corporate'] != 'LGEUS'), 'country_corp_status_2'] = 1\n",
    "df_train.loc[(df_train['customer_country'] == 'Mexico') & (df_train['response_corporate'] != 'LGEMS'), 'country_corp_status_2'] = 1\n",
    "df_train.loc[(df_train['customer_country'] == 'Philippines') & (df_train['response_corporate'] != 'LGEPH'), 'country_corp_status_2'] = 1\n",
    "df_train.loc[(df_train['customer_country'] == 'United Arab Emirates') & (df_train['response_corporate'] != 'LGEGF'), 'country_corp_status_2'] = 1\n",
    "df_train.loc[(df_train['customer_country'] == 'Colombia') & (df_train['response_corporate'] != 'LGECB'), 'country_corp_status_2'] = 1\n",
    "df_train.loc[(df_train['customer_country'] == 'United Kingdom') & (df_train['response_corporate'] != 'LGEUK'), 'country_corp_status_2'] = 1\n",
    "df_train.loc[(df_train['customer_country'] == 'Saudi Arabia') & (df_train['response_corporate'] != 'LGESJ'), 'country_corp_status_2'] = 1\n",
    "df_train.loc[(df_train['customer_country'] == 'Chile') & (df_train['response_corporate'] != 'LGECL'), 'country_corp_status_2'] = 1\n",
    "df_train.loc[(df_train['customer_country'] == 'Panama') & (df_train['response_corporate'] != 'LGEPS'), 'country_corp_status_2'] = 1\n",
    "df_train.loc[(df_train['customer_country'] == 'Italy') & (df_train['response_corporate'] != 'LGEIS'), 'country_corp_status_2'] = 1\n",
    "df_train.loc[(df_train['customer_country'] == 'Peru') & (df_train['response_corporate'] != 'LGEPR'), 'country_corp_status_2'] = 1\n",
    "df_train.loc[(df_train['customer_country'] == 'Germany') & (df_train['response_corporate'] != 'LGEDG'), 'country_corp_status_2'] = 1\n",
    "df_train.loc[(df_train['customer_country'] == 'Poland') & (df_train['response_corporate'] != 'LGEPL'), 'country_corp_status_2'] = 1\n",
    "df_train.loc[(df_train['customer_country'] == 'Egypt') & (df_train['response_corporate'] != 'LGEEG'), 'country_corp_status_2'] = 1\n",
    "df_train.loc[(df_train['customer_country'] == 'VietNam') & (df_train['response_corporate'] != 'LGEVH'), 'country_corp_status_2'] = 1\n",
    "df_train.loc[(df_train['customer_country'] == 'Spain') & (df_train['response_corporate'] != 'LGEES'), 'country_corp_status_2'] = 1\n",
    "df_train.loc[(df_train['customer_country'] == 'Turkey') & (df_train['response_corporate'] != 'LGETK'), 'country_corp_status_2'] = 1\n",
    "df_train.loc[(df_train['customer_country'] == 'Hong Kong') & (df_train['response_corporate'] != 'LGEHK'), 'country_corp_status_2'] = 1\n",
    "df_train.loc[(df_train['customer_country'] == 'Australia') & (df_train['response_corporate'] != 'LGEAP'), 'country_corp_status_2'] = 1\n",
    "df_train.loc[(df_train['customer_country'] == 'Singapore') & (df_train['response_corporate'] != 'LGESL'), 'country_corp_status_2'] = 1\n",
    "df_train.loc[(df_train['customer_country'] == 'Hungary') & (df_train['response_corporate'] != 'LGEMK'), 'country_corp_status_2'] = 1\n",
    "df_train.loc[(df_train['customer_country'] == 'France') & (df_train['response_corporate'] != 'LGEFS'), 'country_corp_status_2'] = 1\n",
    "df_train.loc[(df_train['customer_country'] == 'Indonesia') & (df_train['response_corporate'] != 'LGEIN'), 'country_corp_status_2'] = 1\n",
    "df_train.loc[(df_train['customer_country'] == 'Iraq') & (df_train['response_corporate'] != 'LGELF'), 'country_corp_status_2'] = 1\n",
    "df_train.loc[(df_train['customer_country'] == 'South Africa') & (df_train['response_corporate'] != 'LGESA'), 'country_corp_status_2'] = 1\n",
    "df_train.loc[(df_train['customer_country'] == 'Canada') & (df_train['response_corporate'] != 'LGECI'), 'country_corp_status_2'] = 1\n",
    "df_train.loc[(df_train['customer_country'] == 'Thailand') & (df_train['response_corporate'] != 'LGETH'), 'country_corp_status_2'] = 1\n",
    "df_train.loc[(df_train['customer_country'] == 'Portugal') & (df_train['response_corporate'] != 'LGEPT'), 'country_corp_status_2'] = 1\n",
    "df_train.loc[(df_train['customer_country'] == 'Malaysia') & (df_train['response_corporate'] != 'LGEML'), 'country_corp_status_2'] = 1\n",
    "df_train.loc[(df_train['customer_country'] == 'Netherlands') & (df_train['response_corporate'] != 'LGEBN'), 'country_corp_status_2'] = 1\n",
    "df_train.loc[(df_train['customer_country'] == 'Israel') & (df_train['response_corporate'] != 'LGEYK'), 'country_corp_status_2'] = 1\n",
    "df_train.loc[(df_train['customer_country'] == 'China') & (df_train['response_corporate'] != 'LGECH'), 'country_corp_status_2'] = 1\n",
    "df_train.loc[(df_train['customer_country'] == 'Greece') & (df_train['response_corporate'] != 'LGEHS'), 'country_corp_status_2'] = 1\n",
    "df_train.loc[(df_train['customer_country'] == 'Taiwan') & (df_train['response_corporate'] != 'LGETT'), 'country_corp_status_2'] = 1\n",
    "df_train.loc[(df_train['customer_country'] == 'Japan') & (df_train['response_corporate'] != 'LGEJP'), 'country_corp_status_2'] = 1\n",
    "df_train.loc[(df_train['customer_country'] == 'Algeria') & (df_train['response_corporate'] != 'LGEAS'), 'country_corp_status_2'] = 1\n",
    "df_train.loc[(df_train['customer_country'] == 'Sweden') & (df_train['response_corporate'] != 'LGESW'), 'country_corp_status_2'] = 1\n",
    "df_train.loc[(df_train['customer_country'] == 'Morocco') & (df_train['response_corporate'] != 'LGEMC'), 'country_corp_status_2'] = 1\n",
    "df_train.loc[(df_train['customer_country'] == 'Romania') & (df_train['response_corporate'] != 'LGERO'), 'country_corp_status_2'] = 1\n",
    "\n",
    "df_train['country_corp_status_2'] = np.where(\n",
    "    (df_train['customer_country'] == 'Argentina') & ~(df_train['response_corporate'].isin(['LGEAR', 'LGEAG'])),\n",
    "    1,\n",
    "    df_train['country_corp_status_2']\n",
    ")\n",
    "# df_train.loc[(df_train['customer_country'] == 'Argentina') & (df_train['response_corporate'] != 'LGEAR'), 'country_corp_status_2'] = 1\n",
    "# df_train.loc[(df_train['customer_country'] == 'Argentina') & (df_train['response_corporate'] != 'LGEAG'), 'country_corp_status_2'] = 1\n",
    "\n",
    "df_train.loc[(df_train['customer_country'] == 'Russia') & (df_train['response_corporate'] != 'LGERA'), 'country_corp_status_2'] = 1\n",
    "df_train.loc[(df_train['customer_country'] == 'Czech') & (df_train['response_corporate'] != 'LGECZ'), 'country_corp_status_2'] = 1\n",
    "df_train.loc[(df_train['customer_country'] == 'Ukraine') & (df_train['response_corporate'] != 'LGEUR'), 'country_corp_status_2'] = 1\n",
    "df_train.loc[(df_train['customer_country'] == 'Iran') & (df_train['response_corporate'] != 'LGEIR'), 'country_corp_status_2'] = 1\n",
    "df_train.loc[(df_train['customer_country'] == 'Portugal') & (df_train['response_corporate'] != 'LGEBT'), 'country_corp_status_2'] = 1\n",
    "\n",
    "df_test.loc[(df_test['customer_country'].isin(LGEAF_lst)) & (df_test['response_corporate'] != 'LGEAF'), 'country_corp_status_2'] = 1\n",
    "\n",
    "df_test.loc[(df_test['customer_country'] == 'India') & (df_test['response_corporate'] != 'LGEIL'), 'country_corp_status_2'] = 1\n",
    "df_test.loc[(df_test['customer_country'] == 'Brazil') & (df_test['response_corporate'] != 'LGESP'), 'country_corp_status_2'] = 1\n",
    "df_test.loc[(df_test['customer_country'] == 'United States') & (df_test['response_corporate'] != 'LGEUS'), 'country_corp_status_2'] = 1\n",
    "df_test.loc[(df_test['customer_country'] == 'Mexico') & (df_test['response_corporate'] != 'LGEMS'), 'country_corp_status_2'] = 1\n",
    "df_test.loc[(df_test['customer_country'] == 'Philippines') & (df_test['response_corporate'] != 'LGEPH'), 'country_corp_status_2'] = 1\n",
    "df_test.loc[(df_test['customer_country'] == 'United Arab Emirates') & (df_test['response_corporate'] != 'LGEGF'), 'country_corp_status_2'] = 1\n",
    "df_test.loc[(df_test['customer_country'] == 'Colombia') & (df_test['response_corporate'] != 'LGECB'), 'country_corp_status_2'] = 1\n",
    "df_test.loc[(df_test['customer_country'] == 'United Kingdom') & (df_test['response_corporate'] != 'LGEUK'), 'country_corp_status_2'] = 1\n",
    "df_test.loc[(df_test['customer_country'] == 'Saudi Arabia') & (df_test['response_corporate'] != 'LGESJ'), 'country_corp_status_2'] = 1\n",
    "df_test.loc[(df_test['customer_country'] == 'Chile') & (df_test['response_corporate'] != 'LGECL'), 'country_corp_status_2'] = 1\n",
    "df_test.loc[(df_test['customer_country'] == 'Panama') & (df_test['response_corporate'] != 'LGEPS'), 'country_corp_status_2'] = 1\n",
    "df_test.loc[(df_test['customer_country'] == 'Italy') & (df_test['response_corporate'] != 'LGEIS'), 'country_corp_status_2'] = 1\n",
    "df_test.loc[(df_test['customer_country'] == 'Peru') & (df_test['response_corporate'] != 'LGEPR'), 'country_corp_status_2'] = 1\n",
    "df_test.loc[(df_test['customer_country'] == 'Germany') & (df_test['response_corporate'] != 'LGEDG'), 'country_corp_status_2'] = 1\n",
    "df_test.loc[(df_test['customer_country'] == 'Poland') & (df_test['response_corporate'] != 'LGEPL'), 'country_corp_status_2'] = 1\n",
    "df_test.loc[(df_test['customer_country'] == 'Egypt') & (df_test['response_corporate'] != 'LGEEG'), 'country_corp_status_2'] = 1\n",
    "df_test.loc[(df_test['customer_country'] == 'VietNam') & (df_test['response_corporate'] != 'LGEVH'), 'country_corp_status_2'] = 1\n",
    "df_test.loc[(df_test['customer_country'] == 'Spain') & (df_test['response_corporate'] != 'LGEES'), 'country_corp_status_2'] = 1\n",
    "df_test.loc[(df_test['customer_country'] == 'Turkey') & (df_test['response_corporate'] != 'LGETK'), 'country_corp_status_2'] = 1\n",
    "df_test.loc[(df_test['customer_country'] == 'Hong Kong') & (df_test['response_corporate'] != 'LGEHK'), 'country_corp_status_2'] = 1\n",
    "df_test.loc[(df_test['customer_country'] == 'Australia') & (df_test['response_corporate'] != 'LGEAP'), 'country_corp_status_2'] = 1\n",
    "df_test.loc[(df_test['customer_country'] == 'Singapore') & (df_test['response_corporate'] != 'LGESL'), 'country_corp_status_2'] = 1\n",
    "df_test.loc[(df_test['customer_country'] == 'Hungary') & (df_test['response_corporate'] != 'LGEMK'), 'country_corp_status_2'] = 1\n",
    "df_test.loc[(df_test['customer_country'] == 'France') & (df_test['response_corporate'] != 'LGEFS'), 'country_corp_status_2'] = 1\n",
    "df_test.loc[(df_test['customer_country'] == 'Indonesia') & (df_test['response_corporate'] != 'LGEIN'), 'country_corp_status_2'] = 1\n",
    "df_test.loc[(df_test['customer_country'] == 'Iraq') & (df_test['response_corporate'] != 'LGELF'), 'country_corp_status_2'] = 1\n",
    "df_test.loc[(df_test['customer_country'] == 'South Africa') & (df_test['response_corporate'] != 'LGESA'), 'country_corp_status_2'] = 1\n",
    "df_test.loc[(df_test['customer_country'] == 'Canada') & (df_test['response_corporate'] != 'LGECI'), 'country_corp_status_2'] = 1\n",
    "df_test.loc[(df_test['customer_country'] == 'Thailand') & (df_test['response_corporate'] != 'LGETH'), 'country_corp_status_2'] = 1\n",
    "df_test.loc[(df_test['customer_country'] == 'Portugal') & (df_test['response_corporate'] != 'LGEPT'), 'country_corp_status_2'] = 1\n",
    "df_test.loc[(df_test['customer_country'] == 'Malaysia') & (df_test['response_corporate'] != 'LGEML'), 'country_corp_status_2'] = 1\n",
    "df_test.loc[(df_test['customer_country'] == 'Netherlands') & (df_test['response_corporate'] != 'LGEBN'), 'country_corp_status_2'] = 1\n",
    "df_test.loc[(df_test['customer_country'] == 'Israel') & (df_test['response_corporate'] != 'LGEYK'), 'country_corp_status_2'] = 1\n",
    "df_test.loc[(df_test['customer_country'] == 'China') & (df_test['response_corporate'] != 'LGECH'), 'country_corp_status_2'] = 1\n",
    "df_test.loc[(df_test['customer_country'] == 'Greece') & (df_test['response_corporate'] != 'LGEHS'), 'country_corp_status_2'] = 1\n",
    "df_test.loc[(df_test['customer_country'] == 'Taiwan') & (df_test['response_corporate'] != 'LGETT'), 'country_corp_status_2'] = 1\n",
    "df_test.loc[(df_test['customer_country'] == 'Japan') & (df_test['response_corporate'] != 'LGEJP'), 'country_corp_status_2'] = 1\n",
    "df_test.loc[(df_test['customer_country'] == 'Algeria') & (df_test['response_corporate'] != 'LGEAS'), 'country_corp_status_2'] = 1\n",
    "df_test.loc[(df_test['customer_country'] == 'Sweden') & (df_test['response_corporate'] != 'LGESW'), 'country_corp_status_2'] = 1\n",
    "df_test.loc[(df_test['customer_country'] == 'Morocco') & (df_test['response_corporate'] != 'LGEMC'), 'country_corp_status_2'] = 1\n",
    "df_test.loc[(df_test['customer_country'] == 'Romania') & (df_test['response_corporate'] != 'LGERO'), 'country_corp_status_2'] = 1\n",
    "\n",
    "df_test['country_corp_status_2'] = np.where(\n",
    "    (df_test['customer_country'] != 'Argentina') & ~(df_test['response_corporate'].isin(['LGEAR', 'LGEAG'])),\n",
    "    1,\n",
    "    df_test['country_corp_status_2']\n",
    ")\n",
    "# df_test.loc[(df_test['customer_country'] == 'Argentina') & (df_test['response_corporate'] != 'LGEAR'), 'country_corp_status_2'] = 1\n",
    "# df_test.loc[(df_test['customer_country'] == 'Argentina') & (df_test['response_corporate'] != 'LGEAG'), 'country_corp_status_2'] = 1\n",
    "\n",
    "df_test.loc[(df_test['customer_country'] == 'Russia') & (df_test['response_corporate'] != 'LGERA'), 'country_corp_status_2'] = 1\n",
    "df_test.loc[(df_test['customer_country'] == 'Czech') & (df_test['response_corporate'] != 'LGECZ'), 'country_corp_status_2'] = 1\n",
    "df_test.loc[(df_test['customer_country'] == 'Ukraine') & (df_test['response_corporate'] != 'LGEUR'), 'country_corp_status_2'] = 1\n",
    "df_test.loc[(df_test['customer_country'] == 'Iran') & (df_test['response_corporate'] != 'LGEIR'), 'country_corp_status_2'] = 1\n",
    "df_test.loc[(df_test['customer_country'] == 'Portugal') & (df_test['response_corporate'] != 'LGEBT'), 'country_corp_status_2'] = 1"
   ]
  },
  {
   "cell_type": "markdown",
   "id": "dc1222d6",
   "metadata": {},
   "source": [
    "***"
   ]
  },
  {
   "cell_type": "markdown",
   "id": "61392882",
   "metadata": {},
   "source": [
    "## ***ratio_rate*** (ver_ 피쳐)"
   ]
  },
  {
   "cell_type": "code",
   "execution_count": 203,
   "id": "76bcdd76",
   "metadata": {},
   "outputs": [],
   "source": [
    "df_train['ratio_rate'] = (df_train['ver_win_ratio_per_bu'] / df_train['ver_win_rate_x']).fillna(0)\n",
    "df_test['ratio_rate'] = (df_test['ver_win_ratio_per_bu'] / df_test['ver_win_rate_x']).fillna(0)"
   ]
  },
  {
   "cell_type": "code",
   "execution_count": 204,
   "id": "5ee4282c",
   "metadata": {},
   "outputs": [],
   "source": [
    "df_train['log_ratio_rate'] = np.log1p(df_train['ratio_rate'])\n",
    "df_test['log_ratio_rate'] = np.log1p(df_test['ratio_rate'])"
   ]
  },
  {
   "cell_type": "markdown",
   "id": "d0a9fcd1",
   "metadata": {},
   "source": [
    "***"
   ]
  },
  {
   "cell_type": "markdown",
   "id": "d0edcb14",
   "metadata": {},
   "source": [
    "## ***수치 Feature***"
   ]
  },
  {
   "cell_type": "code",
   "execution_count": 205,
   "id": "b2ec6655",
   "metadata": {},
   "outputs": [],
   "source": [
    "df_train['gob1'] = df_train['ratio_rate'] * df_train['com_reg_ver_win_rate']\n",
    "df_train['gob2'] = df_train['ratio_rate'] * df_train['lead_desc_length']\n",
    "df_train['gob3'] = df_train['ratio_rate'] * df_train['historical_existing_cnt']\n",
    "df_train['gob4'] = df_train['lead_desc_length'] * df_train['historical_existing_cnt']\n",
    "df_train['gob5'] = df_train['lead_desc_length'] * df_train['com_reg_ver_win_rate']\n",
    "df_train['gob6'] = df_train['historical_existing_cnt'] * df_train['com_reg_ver_win_rate']\n",
    "#df_train['gob5'] = df_train['lead_desc_length'] * df_train['com_reg_ver_win_rate']\n",
    "df_train['gob6'] = df_train['historical_existing_cnt'] * df_train['com_reg_ver_win_rate']"
   ]
  },
  {
   "cell_type": "code",
   "execution_count": 206,
   "id": "6c29ce57",
   "metadata": {},
   "outputs": [],
   "source": [
    "df_test['gob1'] = df_test['ratio_rate'] * df_test['com_reg_ver_win_rate']\n",
    "df_test['gob2'] = df_test['ratio_rate'] * df_test['lead_desc_length']\n",
    "df_test['gob3'] = df_test['ratio_rate'] * df_test['historical_existing_cnt']\n",
    "df_test['gob4'] = df_test['lead_desc_length'] * df_test['historical_existing_cnt']\n",
    "df_test['gob5'] = df_test['lead_desc_length'] * df_test['com_reg_ver_win_rate']\n",
    "df_test['gob6'] = df_test['historical_existing_cnt'] * df_test['com_reg_ver_win_rate']\n",
    "#df_test['gob5'] = df_test['lead_desc_length'] * df_test['com_reg_ver_win_rate']\n",
    "df_test['gob6'] = df_test['historical_existing_cnt'] * df_test['com_reg_ver_win_rate']"
   ]
  },
  {
   "cell_type": "markdown",
   "id": "3314a847",
   "metadata": {},
   "source": [
    "# ***Kmeans***"
   ]
  },
  {
   "cell_type": "code",
   "execution_count": 207,
   "id": "932c03ea",
   "metadata": {},
   "outputs": [],
   "source": [
    "#결측치가 없고 Original 수치형 컬럼만 인덱싱하여 클러스터링 진행(K-means)\n",
    "kmeans_cols = ['bant_submit','lead_desc_length']\n",
    "kmeans_train = df_train[kmeans_cols].copy()\n",
    "kmeans_test = df_test[kmeans_cols].copy()\n",
    "\n",
    "#Elbowpoint를 기준으로 k =3으로 설정\n",
    "k = 3\n",
    "#그룹 수, random_state 설정\n",
    "model = KMeans(n_clusters=k, init='random', n_init=10, max_iter=300, random_state=42)\n",
    "\n",
    "#정규화된 데이터에 학습\n",
    "model.fit(kmeans_train)\n",
    "\n",
    "#클러스터링 결과 각 데이터가 몇 번째 그룹에 속하는지 저장\n",
    "kmeans_train['cluster_1'] = model.predict(kmeans_train)\n",
    "kmeans_test['cluster_1'] = model.predict(kmeans_test)\n",
    "\n",
    "#클러스터 할당\n",
    "df_train['cluster_1'] = kmeans_train['cluster_1'].copy()\n",
    "df_test['cluster_1'] = kmeans_test['cluster_1'].copy()"
   ]
  },
  {
   "cell_type": "code",
   "execution_count": 208,
   "id": "8d5749f1",
   "metadata": {},
   "outputs": [],
   "source": [
    "#결측치가 없고 수치형 컬럼만 인덱싱하여 클러스터링 진행\n",
    "kmeans_cols = ['bant_submit_zegob','log_lead_desc_length']\n",
    "kmeans_train = df_train[kmeans_cols].copy()\n",
    "kmeans_test = df_test[kmeans_cols].copy()\n",
    "\n",
    "#Elbowpoint를 기준으로 k =3으로 설정\n",
    "k = 3\n",
    "#그룹 수, random_state 설정\n",
    "model = KMeans(n_clusters=k, init='random', n_init=10, max_iter=300, random_state=42)\n",
    "\n",
    "#정규화된 데이터에 학습\n",
    "model.fit(kmeans_train)\n",
    "\n",
    "#클러스터링 결과 각 데이터가 몇 번째 그룹에 속하는지 저장\n",
    "kmeans_train['cluster_2'] = model.predict(kmeans_train)\n",
    "kmeans_test['cluster_2'] = model.predict(kmeans_test)\n",
    "\n",
    "#클러스터 할당\n",
    "df_train['cluster_2'] = kmeans_train['cluster_2'].copy()\n",
    "df_test['cluster_2'] = kmeans_test['cluster_2'].copy()"
   ]
  },
  {
   "cell_type": "code",
   "execution_count": 209,
   "id": "7e857996",
   "metadata": {},
   "outputs": [
    {
     "name": "stdout",
     "output_type": "stream",
     "text": [
      "<class 'pandas.core.frame.DataFrame'>\n",
      "RangeIndex: 55742 entries, 0 to 55741\n",
      "Data columns (total 5 columns):\n",
      " #   Column              Non-Null Count  Dtype \n",
      "---  ------              --------------  ----- \n",
      " 0   business_unit       55742 non-null  object\n",
      " 1   customer_type       55742 non-null  object\n",
      " 2   response_corporate  55742 non-null  object\n",
      " 3   expected_timeline   55742 non-null  object\n",
      " 4   business_area       55742 non-null  object\n",
      "dtypes: object(5)\n",
      "memory usage: 2.1+ MB\n"
     ]
    }
   ],
   "source": [
    "df_train[['business_unit','customer_type','response_corporate','expected_timeline','business_area']].info()"
   ]
  },
  {
   "cell_type": "code",
   "execution_count": 212,
   "id": "9005d57d",
   "metadata": {},
   "outputs": [
    {
     "data": {
      "text/plain": [
       "94"
      ]
     },
     "execution_count": 212,
     "metadata": {},
     "output_type": "execute_result"
    }
   ],
   "source": [
    "len(df_train.columns)"
   ]
  },
  {
   "cell_type": "code",
   "execution_count": 213,
   "id": "0eaef882",
   "metadata": {
    "scrolled": true
   },
   "outputs": [
    {
     "data": {
      "text/plain": [
       "95"
      ]
     },
     "execution_count": 213,
     "metadata": {},
     "output_type": "execute_result"
    }
   ],
   "source": [
    "len(df_test.columns)"
   ]
  },
  {
   "cell_type": "code",
   "execution_count": 214,
   "id": "5108dea7",
   "metadata": {
    "scrolled": true
   },
   "outputs": [
    {
     "name": "stdout",
     "output_type": "stream",
     "text": [
      "중복 값 : 1842\n"
     ]
    }
   ],
   "source": [
    "print('중복 값 :',len(df_train[df_train.duplicated()]))\n",
    "df_train = df_train.drop_duplicates().reset_index(drop=True)"
   ]
  },
  {
   "cell_type": "code",
   "execution_count": 215,
   "id": "3446cc04",
   "metadata": {},
   "outputs": [],
   "source": [
    "ttmp = df_train.drop(columns = 'is_converted')"
   ]
  },
  {
   "cell_type": "code",
   "execution_count": 216,
   "id": "d2d83968",
   "metadata": {},
   "outputs": [
    {
     "name": "stdout",
     "output_type": "stream",
     "text": [
      "중복 값 : 2\n"
     ]
    }
   ],
   "source": [
    "print('중복 값 :',len(ttmp[ttmp.duplicated(keep=False)]))"
   ]
  },
  {
   "cell_type": "code",
   "execution_count": 217,
   "id": "31ab3262",
   "metadata": {},
   "outputs": [],
   "source": [
    "df_train = df_train.drop(ttmp[ttmp.duplicated(keep = False)].index).reset_index(drop=True)"
   ]
  },
  {
   "cell_type": "markdown",
   "id": "f048e0fd",
   "metadata": {},
   "source": [
    "# MAKE XGB & LGB DATA SET"
   ]
  },
  {
   "cell_type": "code",
   "execution_count": 218,
   "id": "594a5d9c",
   "metadata": {},
   "outputs": [],
   "source": [
    "train_xgb = df_train.copy()\n",
    "test_xgb = df_test.copy()\n",
    "\n",
    "train_lgb = df_train.copy()\n",
    "test_lgb = df_test.copy()"
   ]
  },
  {
   "cell_type": "markdown",
   "id": "a7873879",
   "metadata": {},
   "source": [
    "***\n",
    "***\n",
    "***"
   ]
  },
  {
   "cell_type": "markdown",
   "id": "4bd47e00",
   "metadata": {},
   "source": [
    "## 3. Encoding & Feature Drop"
   ]
  },
  {
   "cell_type": "markdown",
   "id": "84fa8ec1",
   "metadata": {},
   "source": [
    "## 인코딩 "
   ]
  },
  {
   "cell_type": "code",
   "execution_count": 219,
   "id": "9b1facd5",
   "metadata": {},
   "outputs": [],
   "source": [
    "object_columns = list(df_train.select_dtypes(include='object').columns)\n",
    "object_columns.append('customer_idx')\n",
    "object_columns.append('lead_owner')\n",
    "object_columns.append('country_corp_status')\n",
    "object_columns.append('country_corp_status_1')\n",
    "object_columns.append('country_corp_status_2')\n",
    "\n",
    "df_train[object_columns] = df_train[object_columns].fillna('Unknown')\n",
    "df_test[object_columns] = df_test[object_columns].fillna('Unknown')"
   ]
  },
  {
   "cell_type": "code",
   "execution_count": 220,
   "id": "2743ff71",
   "metadata": {},
   "outputs": [],
   "source": [
    "def label_encoding(series: pd.Series) -> pd.Series:\n",
    "    \"\"\"범주형 데이터를 시리즈 형태로 받아 숫자형 데이터로 변환합니다.\"\"\"\n",
    "\n",
    "    my_dict = {}\n",
    "\n",
    "    # 모든 요소를 문자열로 변환\n",
    "    series = series.astype(str)\n",
    "\n",
    "    for idx, value in enumerate(sorted(series.unique())):\n",
    "        my_dict[value] = idx\n",
    "    series = series.map(my_dict)\n",
    "\n",
    "    return series"
   ]
  },
  {
   "cell_type": "code",
   "execution_count": 221,
   "id": "6bf5bd08",
   "metadata": {},
   "outputs": [],
   "source": [
    "# 레이블 인코딩할 칼럼들\n",
    "label_columns = object_columns\n",
    "\n",
    "df_all = pd.concat([df_train[label_columns], df_test[label_columns]])\n",
    "\n",
    "for col in label_columns:\n",
    "    df_all[col] = label_encoding(df_all[col])"
   ]
  },
  {
   "cell_type": "code",
   "execution_count": 222,
   "id": "e1b842cd",
   "metadata": {},
   "outputs": [],
   "source": [
    "for col in label_columns:  \n",
    "    df_train[col] = df_all.iloc[: len(df_train)][col]\n",
    "    df_test[col] = df_all.iloc[len(df_train) :][col]"
   ]
  },
  {
   "cell_type": "markdown",
   "id": "1f3d9288",
   "metadata": {},
   "source": [
    "***"
   ]
  },
  {
   "cell_type": "markdown",
   "id": "1ed2dfd6",
   "metadata": {},
   "source": [
    "## 4. Modeling"
   ]
  },
  {
   "cell_type": "markdown",
   "id": "561df640",
   "metadata": {},
   "source": [
    "### ***😀CAT Boost with all***"
   ]
  },
  {
   "cell_type": "code",
   "execution_count": 223,
   "id": "ba3fcdef",
   "metadata": {},
   "outputs": [],
   "source": [
    "X = df_train.drop(columns = ['is_converted'])\n",
    "# X = X.drop(columns = trash_ft)\n",
    "y = df_train['is_converted'].values"
   ]
  },
  {
   "cell_type": "code",
   "execution_count": 224,
   "id": "d4ffa366",
   "metadata": {},
   "outputs": [],
   "source": [
    "cat_features = object_columns.copy()"
   ]
  },
  {
   "cell_type": "code",
   "execution_count": 225,
   "id": "860e419a",
   "metadata": {},
   "outputs": [
    {
     "data": {
      "text/plain": [
       "54"
      ]
     },
     "execution_count": 225,
     "metadata": {},
     "output_type": "execute_result"
    }
   ],
   "source": [
    "len(cat_features)"
   ]
  },
  {
   "cell_type": "code",
   "execution_count": 226,
   "id": "c3333894",
   "metadata": {
    "scrolled": true
   },
   "outputs": [
    {
     "name": "stdout",
     "output_type": "stream",
     "text": [
      "==================================================\n",
      "0:\tlearn: 0.8510940\ttest: 0.8712081\ttest1: 0.8629698\tbest: 0.8629698 (0)\ttotal: 151ms\tremaining: 2m 30s\n",
      "500:\tlearn: 0.9735358\ttest: 0.9861071\ttest1: 0.9533474\tbest: 0.9552804 (365)\ttotal: 16.6s\tremaining: 16.6s\n",
      "Stopped by overfitting detector  (200 iterations wait)\n",
      "\n",
      "bestTest = 0.9552804172\n",
      "bestIteration = 365\n",
      "\n",
      "Shrink model to first 366 iterations.\n",
      "1 Fold Validation F1 score : 0.8787590433863302\n",
      "==================================================\n",
      "0:\tlearn: 0.8462516\ttest: 0.8707790\ttest1: 0.8531405\tbest: 0.8531405 (0)\ttotal: 80.4ms\tremaining: 1m 20s\n",
      "Stopped by overfitting detector  (200 iterations wait)\n",
      "\n",
      "bestTest = 0.9509772486\n",
      "bestIteration = 170\n",
      "\n",
      "Shrink model to first 171 iterations.\n",
      "2 Fold Validation F1 score : 0.8508631038967074\n",
      "==================================================\n",
      "0:\tlearn: 0.8466484\ttest: 0.8704776\ttest1: 0.8578829\tbest: 0.8578829 (0)\ttotal: 122ms\tremaining: 2m 2s\n",
      "Stopped by overfitting detector  (200 iterations wait)\n",
      "\n",
      "bestTest = 0.9566958848\n",
      "bestIteration = 245\n",
      "\n",
      "Shrink model to first 246 iterations.\n",
      "3 Fold Validation F1 score : 0.8577225389959631\n",
      "==================================================\n",
      "0:\tlearn: 0.8879386\ttest: 0.9149603\ttest1: 0.8949603\tbest: 0.8949603 (0)\ttotal: 114ms\tremaining: 1m 53s\n",
      "Stopped by overfitting detector  (200 iterations wait)\n",
      "\n",
      "bestTest = 0.9401692812\n",
      "bestIteration = 287\n",
      "\n",
      "Shrink model to first 288 iterations.\n",
      "4 Fold Validation F1 score : 0.8583917940691467\n",
      "==================================================\n",
      "0:\tlearn: 0.8472375\ttest: 0.8727097\ttest1: 0.8586396\tbest: 0.8586396 (0)\ttotal: 81.6ms\tremaining: 1m 21s\n",
      "Stopped by overfitting detector  (200 iterations wait)\n",
      "\n",
      "bestTest = 0.943949897\n",
      "bestIteration = 154\n",
      "\n",
      "Shrink model to first 155 iterations.\n",
      "5 Fold Validation F1 score : 0.8431251117575482\n",
      "==================================================\n",
      "0:\tlearn: 0.8505958\ttest: 0.8705114\ttest1: 0.8741433\tbest: 0.8741433 (0)\ttotal: 72ms\tremaining: 1m 11s\n",
      "500:\tlearn: 0.9750102\ttest: 0.9879189\ttest1: 0.9557095\tbest: 0.9590702 (367)\ttotal: 16.4s\tremaining: 16.3s\n",
      "Stopped by overfitting detector  (200 iterations wait)\n",
      "\n",
      "bestTest = 0.9590702196\n",
      "bestIteration = 367\n",
      "\n",
      "Shrink model to first 368 iterations.\n",
      "6 Fold Validation F1 score : 0.8722555435629091\n",
      "==================================================\n",
      "0:\tlearn: 0.8487283\ttest: 0.8697943\ttest1: 0.8649214\tbest: 0.8649214 (0)\ttotal: 81.8ms\tremaining: 1m 21s\n",
      "500:\tlearn: 0.9762373\ttest: 0.9876366\ttest1: 0.9426008\tbest: 0.9455804 (355)\ttotal: 16s\tremaining: 16s\n",
      "Stopped by overfitting detector  (200 iterations wait)\n",
      "\n",
      "bestTest = 0.9455804065\n",
      "bestIteration = 355\n",
      "\n",
      "Shrink model to first 356 iterations.\n",
      "7 Fold Validation F1 score : 0.8635890456220114\n",
      "==================================================\n",
      "0:\tlearn: 0.8443085\ttest: 0.8695156\ttest1: 0.8609633\tbest: 0.8609633 (0)\ttotal: 81ms\tremaining: 1m 20s\n",
      "Stopped by overfitting detector  (200 iterations wait)\n",
      "\n",
      "bestTest = 0.9556923804\n",
      "bestIteration = 170\n",
      "\n",
      "Shrink model to first 171 iterations.\n",
      "8 Fold Validation F1 score : 0.862243765371157\n",
      "==================================================\n",
      "0:\tlearn: 0.8256443\ttest: 0.8521426\ttest1: 0.8337218\tbest: 0.8337218 (0)\ttotal: 75.5ms\tremaining: 1m 15s\n",
      "500:\tlearn: 0.9747365\ttest: 0.9883162\ttest1: 0.9528656\tbest: 0.9531315 (497)\ttotal: 16.1s\tremaining: 16.1s\n",
      "Stopped by overfitting detector  (200 iterations wait)\n",
      "\n",
      "bestTest = 0.954196754\n",
      "bestIteration = 565\n",
      "\n",
      "Shrink model to first 566 iterations.\n",
      "9 Fold Validation F1 score : 0.8740540426436596\n",
      "==================================================\n",
      "0:\tlearn: 0.8243649\ttest: 0.8492256\ttest1: 0.8224254\tbest: 0.8224254 (0)\ttotal: 70.3ms\tremaining: 1m 10s\n",
      "Stopped by overfitting detector  (200 iterations wait)\n",
      "\n",
      "bestTest = 0.9543068676\n",
      "bestIteration = 227\n",
      "\n",
      "Shrink model to first 228 iterations.\n",
      "10 Fold Validation F1 score : 0.8698348145994921\n",
      "0 학습 완료\n",
      "==================================================\n",
      "0:\tlearn: 0.8397833\ttest: 0.8600055\ttest1: 0.8324692\tbest: 0.8324692 (0)\ttotal: 82.8ms\tremaining: 1m 22s\n",
      "Stopped by overfitting detector  (200 iterations wait)\n",
      "\n",
      "bestTest = 0.9390473739\n",
      "bestIteration = 217\n",
      "\n",
      "Shrink model to first 218 iterations.\n",
      "1 Fold Validation F1 score : 0.8485638290762795\n",
      "==================================================\n",
      "0:\tlearn: 0.8414359\ttest: 0.8600495\ttest1: 0.8473212\tbest: 0.8473212 (0)\ttotal: 83ms\tremaining: 1m 22s\n",
      "Stopped by overfitting detector  (200 iterations wait)\n",
      "\n",
      "bestTest = 0.9475036826\n",
      "bestIteration = 255\n",
      "\n",
      "Shrink model to first 256 iterations.\n",
      "2 Fold Validation F1 score : 0.8536907230271634\n",
      "==================================================\n",
      "0:\tlearn: 0.8345946\ttest: 0.8572908\ttest1: 0.8555123\tbest: 0.8555123 (0)\ttotal: 82.9ms\tremaining: 1m 22s\n",
      "500:\tlearn: 0.9753923\ttest: 0.9872237\ttest1: 0.9465062\tbest: 0.9466832 (496)\ttotal: 16.2s\tremaining: 16.1s\n",
      "Stopped by overfitting detector  (200 iterations wait)\n",
      "\n",
      "bestTest = 0.9492903489\n",
      "bestIteration = 587\n",
      "\n",
      "Shrink model to first 588 iterations.\n",
      "3 Fold Validation F1 score : 0.8708005410096405\n",
      "==================================================\n",
      "0:\tlearn: 0.8375714\ttest: 0.8605284\ttest1: 0.8609784\tbest: 0.8609784 (0)\ttotal: 82.7ms\tremaining: 1m 22s\n",
      "500:\tlearn: 0.9747205\ttest: 0.9895821\ttest1: 0.9490455\tbest: 0.9499697 (455)\ttotal: 15.9s\tremaining: 15.8s\n",
      "Stopped by overfitting detector  (200 iterations wait)\n",
      "\n",
      "bestTest = 0.9499697421\n",
      "bestIteration = 455\n",
      "\n",
      "Shrink model to first 456 iterations.\n",
      "4 Fold Validation F1 score : 0.8788062930096121\n",
      "==================================================\n",
      "0:\tlearn: 0.8381090\ttest: 0.8578797\ttest1: 0.8516994\tbest: 0.8516994 (0)\ttotal: 83.5ms\tremaining: 1m 23s\n",
      "Stopped by overfitting detector  (200 iterations wait)\n",
      "\n",
      "bestTest = 0.9605940435\n",
      "bestIteration = 181\n",
      "\n",
      "Shrink model to first 182 iterations.\n",
      "5 Fold Validation F1 score : 0.8702798969940555\n",
      "==================================================\n",
      "0:\tlearn: 0.8495973\ttest: 0.8693420\ttest1: 0.8627555\tbest: 0.8627555 (0)\ttotal: 79.9ms\tremaining: 1m 19s\n",
      "Stopped by overfitting detector  (200 iterations wait)\n",
      "\n",
      "bestTest = 0.9570629817\n",
      "bestIteration = 244\n",
      "\n",
      "Shrink model to first 245 iterations.\n",
      "6 Fold Validation F1 score : 0.8549439223015347\n",
      "==================================================\n",
      "0:\tlearn: 0.8509108\ttest: 0.8711160\ttest1: 0.8464634\tbest: 0.8464634 (0)\ttotal: 75.2ms\tremaining: 1m 15s\n",
      "500:\tlearn: 0.9750251\ttest: 0.9883664\ttest1: 0.9355552\tbest: 0.9372805 (437)\ttotal: 16.3s\tremaining: 16.2s\n",
      "Stopped by overfitting detector  (200 iterations wait)\n",
      "\n",
      "bestTest = 0.9372804753\n",
      "bestIteration = 437\n",
      "\n",
      "Shrink model to first 438 iterations.\n",
      "7 Fold Validation F1 score : 0.8646149209016842\n",
      "==================================================\n",
      "0:\tlearn: 0.8415433\ttest: 0.8619440\ttest1: 0.8581728\tbest: 0.8581728 (0)\ttotal: 79.8ms\tremaining: 1m 19s\n",
      "Stopped by overfitting detector  (200 iterations wait)\n",
      "\n",
      "bestTest = 0.9513889176\n",
      "bestIteration = 126\n",
      "\n",
      "Shrink model to first 127 iterations.\n",
      "8 Fold Validation F1 score : 0.8570057445553558\n",
      "==================================================\n",
      "0:\tlearn: 0.8383505\ttest: 0.8552059\ttest1: 0.8592059\tbest: 0.8592059 (0)\ttotal: 86.3ms\tremaining: 1m 26s\n",
      "Stopped by overfitting detector  (200 iterations wait)\n",
      "\n",
      "bestTest = 0.9611368561\n",
      "bestIteration = 229\n",
      "\n",
      "Shrink model to first 230 iterations.\n",
      "9 Fold Validation F1 score : 0.8636844689175718\n",
      "==================================================\n",
      "0:\tlearn: 0.8369309\ttest: 0.8543999\ttest1: 0.8049024\tbest: 0.8049024 (0)\ttotal: 81.7ms\tremaining: 1m 21s\n",
      "500:\tlearn: 0.9743326\ttest: 0.9901556\ttest1: 0.9483867\tbest: 0.9555316 (394)\ttotal: 16.2s\tremaining: 16.1s\n",
      "Stopped by overfitting detector  (200 iterations wait)\n",
      "\n",
      "bestTest = 0.9555316322\n",
      "bestIteration = 394\n",
      "\n",
      "Shrink model to first 395 iterations.\n",
      "10 Fold Validation F1 score : 0.8802153922501184\n",
      "5 학습 완료\n",
      "==================================================\n",
      "0:\tlearn: 0.8475804\ttest: 0.8642009\ttest1: 0.8655509\tbest: 0.8655509 (0)\ttotal: 70.9ms\tremaining: 1m 10s\n",
      "Stopped by overfitting detector  (200 iterations wait)\n",
      "\n",
      "bestTest = 0.9524459836\n",
      "bestIteration = 256\n",
      "\n",
      "Shrink model to first 257 iterations.\n",
      "1 Fold Validation F1 score : 0.8654891304347827\n",
      "==================================================\n",
      "0:\tlearn: 0.8463681\ttest: 0.8625600\ttest1: 0.8546893\tbest: 0.8546893 (0)\ttotal: 75.3ms\tremaining: 1m 15s\n",
      "Stopped by overfitting detector  (200 iterations wait)\n",
      "\n",
      "bestTest = 0.9569750377\n",
      "bestIteration = 137\n",
      "\n",
      "Shrink model to first 138 iterations.\n",
      "2 Fold Validation F1 score : 0.8545719190810276\n",
      "==================================================\n",
      "0:\tlearn: 0.8495984\ttest: 0.8693938\ttest1: 0.8249747\tbest: 0.8249747 (0)\ttotal: 80.9ms\tremaining: 1m 20s\n",
      "Stopped by overfitting detector  (200 iterations wait)\n",
      "\n",
      "bestTest = 0.9448712411\n",
      "bestIteration = 295\n",
      "\n",
      "Shrink model to first 296 iterations.\n",
      "3 Fold Validation F1 score : 0.8513586869751253\n",
      "==================================================\n",
      "0:\tlearn: 0.8473229\ttest: 0.8696415\ttest1: 0.8662851\tbest: 0.8662851 (0)\ttotal: 77.5ms\tremaining: 1m 17s\n",
      "500:\tlearn: 0.9752486\ttest: 0.9874794\ttest1: 0.9514822\tbest: 0.9523966 (453)\ttotal: 16.3s\tremaining: 16.2s\n",
      "Stopped by overfitting detector  (200 iterations wait)\n",
      "\n",
      "bestTest = 0.952396632\n",
      "bestIteration = 453\n",
      "\n",
      "Shrink model to first 454 iterations.\n",
      "4 Fold Validation F1 score : 0.870621676794976\n",
      "==================================================\n",
      "0:\tlearn: 0.8484953\ttest: 0.8638253\ttest1: 0.8490145\tbest: 0.8490145 (0)\ttotal: 85.6ms\tremaining: 1m 25s\n",
      "Stopped by overfitting detector  (200 iterations wait)\n",
      "\n",
      "bestTest = 0.9485078529\n",
      "bestIteration = 175\n",
      "\n",
      "Shrink model to first 176 iterations.\n",
      "5 Fold Validation F1 score : 0.8535400908866613\n",
      "==================================================\n",
      "0:\tlearn: 0.8436714\ttest: 0.8670614\ttest1: 0.8526859\tbest: 0.8526859 (0)\ttotal: 85.1ms\tremaining: 1m 25s\n",
      "500:\tlearn: 0.9752533\ttest: 0.9869137\ttest1: 0.9575234\tbest: 0.9606701 (474)\ttotal: 16.1s\tremaining: 16.1s\n",
      "Stopped by overfitting detector  (200 iterations wait)\n",
      "\n",
      "bestTest = 0.96067008\n",
      "bestIteration = 474\n",
      "\n",
      "Shrink model to first 475 iterations.\n",
      "6 Fold Validation F1 score : 0.8799564081821858\n",
      "==================================================\n",
      "0:\tlearn: 0.8460071\ttest: 0.8660164\ttest1: 0.8578882\tbest: 0.8578882 (0)\ttotal: 87.9ms\tremaining: 1m 27s\n",
      "Stopped by overfitting detector  (200 iterations wait)\n",
      "\n",
      "bestTest = 0.9516199255\n",
      "bestIteration = 142\n",
      "\n",
      "Shrink model to first 143 iterations.\n",
      "7 Fold Validation F1 score : 0.849248442301005\n",
      "==================================================\n",
      "0:\tlearn: 0.8457779\ttest: 0.8660523\ttest1: 0.8487490\tbest: 0.8487490 (0)\ttotal: 84.2ms\tremaining: 1m 24s\n",
      "500:\tlearn: 0.9755680\ttest: 0.9882517\ttest1: 0.9351115\tbest: 0.9470756 (325)\ttotal: 16.1s\tremaining: 16s\n",
      "Stopped by overfitting detector  (200 iterations wait)\n",
      "\n",
      "bestTest = 0.9470756401\n",
      "bestIteration = 325\n",
      "\n",
      "Shrink model to first 326 iterations.\n",
      "8 Fold Validation F1 score : 0.8608956216267667\n",
      "==================================================\n",
      "0:\tlearn: 0.8477258\ttest: 0.8703035\ttest1: 0.8644912\tbest: 0.8644912 (0)\ttotal: 78.5ms\tremaining: 1m 18s\n",
      "500:\tlearn: 0.9746684\ttest: 0.9879279\ttest1: 0.9458111\tbest: 0.9492243 (444)\ttotal: 16.2s\tremaining: 16.1s\n",
      "Stopped by overfitting detector  (200 iterations wait)\n",
      "\n",
      "bestTest = 0.9492242619\n",
      "bestIteration = 444\n",
      "\n",
      "Shrink model to first 445 iterations.\n",
      "9 Fold Validation F1 score : 0.8808990316877536\n",
      "==================================================\n",
      "0:\tlearn: 0.8463338\ttest: 0.8681734\ttest1: 0.8690122\tbest: 0.8690122 (0)\ttotal: 79.8ms\tremaining: 1m 19s\n",
      "Stopped by overfitting detector  (200 iterations wait)\n",
      "\n",
      "bestTest = 0.9524989425\n",
      "bestIteration = 41\n",
      "\n",
      "Shrink model to first 42 iterations.\n",
      "10 Fold Validation F1 score : 0.8529387897263545\n",
      "11 학습 완료\n",
      "==================================================\n",
      "0:\tlearn: 0.8257266\ttest: 0.8550974\ttest1: 0.8388419\tbest: 0.8388419 (0)\ttotal: 73.5ms\tremaining: 1m 13s\n",
      "Stopped by overfitting detector  (200 iterations wait)\n",
      "\n",
      "bestTest = 0.9470511041\n",
      "bestIteration = 172\n",
      "\n",
      "Shrink model to first 173 iterations.\n",
      "1 Fold Validation F1 score : 0.8470979821094238\n",
      "==================================================\n",
      "0:\tlearn: 0.8334131\ttest: 0.8579472\ttest1: 0.8437502\tbest: 0.8437502 (0)\ttotal: 77.5ms\tremaining: 1m 17s\n",
      "Stopped by overfitting detector  (200 iterations wait)\n",
      "\n",
      "bestTest = 0.9486302328\n",
      "bestIteration = 130\n",
      "\n",
      "Shrink model to first 131 iterations.\n",
      "2 Fold Validation F1 score : 0.8496700532583537\n",
      "==================================================\n",
      "0:\tlearn: 0.8258702\ttest: 0.8573721\ttest1: 0.8400617\tbest: 0.8400617 (0)\ttotal: 71.8ms\tremaining: 1m 11s\n",
      "Stopped by overfitting detector  (200 iterations wait)\n",
      "\n",
      "bestTest = 0.9534247291\n",
      "bestIteration = 234\n",
      "\n",
      "Shrink model to first 235 iterations.\n",
      "3 Fold Validation F1 score : 0.8486045610109982\n",
      "==================================================\n",
      "0:\tlearn: 0.8288469\ttest: 0.8612293\ttest1: 0.8299879\tbest: 0.8299879 (0)\ttotal: 74.2ms\tremaining: 1m 14s\n",
      "Stopped by overfitting detector  (200 iterations wait)\n",
      "\n",
      "bestTest = 0.9511843215\n",
      "bestIteration = 264\n",
      "\n",
      "Shrink model to first 265 iterations.\n",
      "4 Fold Validation F1 score : 0.8606098399743225\n",
      "==================================================\n",
      "0:\tlearn: 0.8737388\ttest: 0.8970280\ttest1: 0.8776504\tbest: 0.8776504 (0)\ttotal: 76.6ms\tremaining: 1m 16s\n",
      "500:\tlearn: 0.9741295\ttest: 0.9862237\ttest1: 0.9486889\tbest: 0.9508611 (306)\ttotal: 16s\tremaining: 16s\n",
      "Stopped by overfitting detector  (200 iterations wait)\n",
      "\n",
      "bestTest = 0.9508611464\n",
      "bestIteration = 306\n",
      "\n",
      "Shrink model to first 307 iterations.\n",
      "5 Fold Validation F1 score : 0.8684120803956644\n",
      "==================================================\n",
      "0:\tlearn: 0.8281583\ttest: 0.8583139\ttest1: 0.8358817\tbest: 0.8358817 (0)\ttotal: 76.2ms\tremaining: 1m 16s\n",
      "500:\tlearn: 0.9740754\ttest: 0.9886490\ttest1: 0.9522819\tbest: 0.9554607 (467)\ttotal: 17.4s\tremaining: 17.4s\n",
      "Stopped by overfitting detector  (200 iterations wait)\n",
      "\n",
      "bestTest = 0.9554606759\n",
      "bestIteration = 467\n",
      "\n",
      "Shrink model to first 468 iterations.\n",
      "6 Fold Validation F1 score : 0.8750723595546268\n",
      "==================================================\n",
      "0:\tlearn: 0.8293588\ttest: 0.8592227\ttest1: 0.8405056\tbest: 0.8405056 (0)\ttotal: 77.1ms\tremaining: 1m 16s\n",
      "Stopped by overfitting detector  (200 iterations wait)\n",
      "\n",
      "bestTest = 0.9519711313\n",
      "bestIteration = 146\n",
      "\n",
      "Shrink model to first 147 iterations.\n",
      "7 Fold Validation F1 score : 0.8503509582443383\n",
      "==================================================\n",
      "0:\tlearn: 0.8261925\ttest: 0.8558748\ttest1: 0.8649464\tbest: 0.8649464 (0)\ttotal: 78.9ms\tremaining: 1m 18s\n",
      "Stopped by overfitting detector  (200 iterations wait)\n",
      "\n",
      "bestTest = 0.9609598195\n",
      "bestIteration = 164\n",
      "\n",
      "Shrink model to first 165 iterations.\n",
      "8 Fold Validation F1 score : 0.8629212590293953\n",
      "==================================================\n",
      "0:\tlearn: 0.8895926\ttest: 0.9072878\ttest1: 0.9067923\tbest: 0.9067923 (0)\ttotal: 75.8ms\tremaining: 1m 15s\n",
      "500:\tlearn: 0.9743680\ttest: 0.9897979\ttest1: 0.9551753\tbest: 0.9551753 (500)\ttotal: 16.1s\tremaining: 16s\n",
      "Stopped by overfitting detector  (200 iterations wait)\n",
      "\n",
      "bestTest = 0.9552643579\n",
      "bestIteration = 530\n",
      "\n",
      "Shrink model to first 531 iterations.\n",
      "9 Fold Validation F1 score : 0.8789714336177816\n",
      "==================================================\n",
      "0:\tlearn: 0.8457507\ttest: 0.8710544\ttest1: 0.8607437\tbest: 0.8607437 (0)\ttotal: 77.4ms\tremaining: 1m 17s\n",
      "Stopped by overfitting detector  (200 iterations wait)\n",
      "\n",
      "bestTest = 0.941496976\n",
      "bestIteration = 292\n",
      "\n",
      "Shrink model to first 293 iterations.\n",
      "10 Fold Validation F1 score : 0.8642951423126819\n",
      "42 학습 완료\n",
      "==================================================\n",
      "0:\tlearn: 0.8456342\ttest: 0.8662697\ttest1: 0.8697849\tbest: 0.8697849 (0)\ttotal: 74.4ms\tremaining: 1m 14s\n",
      "500:\tlearn: 0.9749757\ttest: 0.9886331\ttest1: 0.9492326\tbest: 0.9531771 (382)\ttotal: 16.9s\tremaining: 16.8s\n",
      "Stopped by overfitting detector  (200 iterations wait)\n",
      "\n",
      "bestTest = 0.9531770695\n",
      "bestIteration = 382\n",
      "\n",
      "Shrink model to first 383 iterations.\n",
      "1 Fold Validation F1 score : 0.8645289142068013\n",
      "==================================================\n",
      "0:\tlearn: 0.8471076\ttest: 0.8707469\ttest1: 0.8573735\tbest: 0.8573735 (0)\ttotal: 80.3ms\tremaining: 1m 20s\n",
      "500:\tlearn: 0.9733366\ttest: 0.9872075\ttest1: 0.9546409\tbest: 0.9596918 (363)\ttotal: 17.3s\tremaining: 17.2s\n",
      "Stopped by overfitting detector  (200 iterations wait)\n",
      "\n",
      "bestTest = 0.9596917539\n",
      "bestIteration = 363\n",
      "\n",
      "Shrink model to first 364 iterations.\n",
      "2 Fold Validation F1 score : 0.8754704362365101\n",
      "==================================================\n",
      "0:\tlearn: 0.8372710\ttest: 0.8581582\ttest1: 0.8282707\tbest: 0.8282707 (0)\ttotal: 80ms\tremaining: 1m 19s\n",
      "Stopped by overfitting detector  (200 iterations wait)\n",
      "\n",
      "bestTest = 0.9537533915\n",
      "bestIteration = 265\n",
      "\n",
      "Shrink model to first 266 iterations.\n",
      "3 Fold Validation F1 score : 0.8539095603088631\n",
      "==================================================\n",
      "0:\tlearn: 0.8528292\ttest: 0.8718031\ttest1: 0.8556920\tbest: 0.8556920 (0)\ttotal: 81.7ms\tremaining: 1m 21s\n",
      "Stopped by overfitting detector  (200 iterations wait)\n",
      "\n",
      "bestTest = 0.9450950591\n",
      "bestIteration = 292\n",
      "\n",
      "Shrink model to first 293 iterations.\n",
      "4 Fold Validation F1 score : 0.8661478739771735\n",
      "==================================================\n",
      "0:\tlearn: 0.8467503\ttest: 0.8725731\ttest1: 0.8500096\tbest: 0.8500096 (0)\ttotal: 79ms\tremaining: 1m 18s\n",
      "Stopped by overfitting detector  (200 iterations wait)\n",
      "\n",
      "bestTest = 0.9517416053\n",
      "bestIteration = 211\n",
      "\n",
      "Shrink model to first 212 iterations.\n",
      "5 Fold Validation F1 score : 0.8585275535525049\n",
      "==================================================\n",
      "0:\tlearn: 0.8481064\ttest: 0.8712462\ttest1: 0.8401273\tbest: 0.8401273 (0)\ttotal: 76.6ms\tremaining: 1m 16s\n",
      "Stopped by overfitting detector  (200 iterations wait)\n",
      "\n",
      "bestTest = 0.956857011\n",
      "bestIteration = 290\n",
      "\n",
      "Shrink model to first 291 iterations.\n",
      "6 Fold Validation F1 score : 0.8628422547751564\n",
      "==================================================\n",
      "0:\tlearn: 0.8367292\ttest: 0.8575283\ttest1: 0.8639129\tbest: 0.8639129 (0)\ttotal: 69.6ms\tremaining: 1m 9s\n",
      "Stopped by overfitting detector  (200 iterations wait)\n",
      "\n",
      "bestTest = 0.9535775099\n",
      "bestIteration = 167\n",
      "\n",
      "Shrink model to first 168 iterations.\n",
      "7 Fold Validation F1 score : 0.8531651014409635\n",
      "==================================================\n",
      "0:\tlearn: 0.8302430\ttest: 0.8595499\ttest1: 0.8482046\tbest: 0.8482046 (0)\ttotal: 79.3ms\tremaining: 1m 19s\n",
      "Stopped by overfitting detector  (200 iterations wait)\n",
      "\n",
      "bestTest = 0.9465849532\n",
      "bestIteration = 120\n",
      "\n",
      "Shrink model to first 121 iterations.\n",
      "8 Fold Validation F1 score : 0.8542195093587628\n",
      "==================================================\n",
      "0:\tlearn: 0.8437922\ttest: 0.8745167\ttest1: 0.8598284\tbest: 0.8598284 (0)\ttotal: 73.7ms\tremaining: 1m 13s\n",
      "Stopped by overfitting detector  (200 iterations wait)\n",
      "\n",
      "bestTest = 0.9457054788\n",
      "bestIteration = 132\n",
      "\n",
      "Shrink model to first 133 iterations.\n",
      "9 Fold Validation F1 score : 0.8504641431214688\n",
      "==================================================\n",
      "0:\tlearn: 0.8492301\ttest: 0.8847107\ttest1: 0.8708741\tbest: 0.8708741 (0)\ttotal: 73.9ms\tremaining: 1m 13s\n",
      "500:\tlearn: 0.9736472\ttest: 0.9865439\ttest1: 0.9486696\tbest: 0.9500330 (466)\ttotal: 16.1s\tremaining: 16s\n",
      "Stopped by overfitting detector  (200 iterations wait)\n",
      "\n",
      "bestTest = 0.9502105022\n",
      "bestIteration = 509\n",
      "\n",
      "Shrink model to first 510 iterations.\n",
      "10 Fold Validation F1 score : 0.8702012675187042\n",
      "18 학습 완료\n",
      "==================================================\n",
      "0:\tlearn: 0.8419387\ttest: 0.8606253\ttest1: 0.8656051\tbest: 0.8656051 (0)\ttotal: 70.7ms\tremaining: 1m 10s\n",
      "Stopped by overfitting detector  (200 iterations wait)\n",
      "\n",
      "bestTest = 0.9607817932\n",
      "bestIteration = 273\n",
      "\n",
      "Shrink model to first 274 iterations.\n",
      "1 Fold Validation F1 score : 0.866387133910699\n",
      "==================================================\n",
      "0:\tlearn: 0.8668814\ttest: 0.8913311\ttest1: 0.8829483\tbest: 0.8829483 (0)\ttotal: 75ms\tremaining: 1m 14s\n",
      "500:\tlearn: 0.9772636\ttest: 0.9886663\ttest1: 0.9418890\tbest: 0.9458461 (396)\ttotal: 16.8s\tremaining: 16.7s\n",
      "Stopped by overfitting detector  (200 iterations wait)\n",
      "\n",
      "bestTest = 0.9458460542\n",
      "bestIteration = 396\n",
      "\n",
      "Shrink model to first 397 iterations.\n",
      "2 Fold Validation F1 score : 0.8647744905967851\n",
      "==================================================\n",
      "0:\tlearn: 0.8749570\ttest: 0.8995169\ttest1: 0.8789972\tbest: 0.8789972 (0)\ttotal: 77.2ms\tremaining: 1m 17s\n",
      "Stopped by overfitting detector  (200 iterations wait)\n",
      "\n",
      "bestTest = 0.9464088252\n",
      "bestIteration = 167\n",
      "\n",
      "Shrink model to first 168 iterations.\n",
      "3 Fold Validation F1 score : 0.8534646760317397\n",
      "==================================================\n",
      "0:\tlearn: 0.8654803\ttest: 0.8949620\ttest1: 0.8884975\tbest: 0.8884975 (0)\ttotal: 79ms\tremaining: 1m 18s\n",
      "500:\tlearn: 0.9753992\ttest: 0.9884838\ttest1: 0.9515154\tbest: 0.9559228 (368)\ttotal: 17.8s\tremaining: 17.7s\n",
      "Stopped by overfitting detector  (200 iterations wait)\n",
      "\n",
      "bestTest = 0.9559227867\n",
      "bestIteration = 368\n",
      "\n",
      "Shrink model to first 369 iterations.\n",
      "4 Fold Validation F1 score : 0.8724454265904333\n",
      "==================================================\n",
      "0:\tlearn: 0.8748564\ttest: 0.8956625\ttest1: 0.8852812\tbest: 0.8852812 (0)\ttotal: 79.7ms\tremaining: 1m 19s\n",
      "Stopped by overfitting detector  (200 iterations wait)\n",
      "\n",
      "bestTest = 0.9492125398\n",
      "bestIteration = 212\n",
      "\n",
      "Shrink model to first 213 iterations.\n",
      "5 Fold Validation F1 score : 0.8565626584629562\n",
      "==================================================\n",
      "0:\tlearn: 0.8653006\ttest: 0.8915222\ttest1: 0.8694603\tbest: 0.8694603 (0)\ttotal: 74.3ms\tremaining: 1m 14s\n",
      "500:\tlearn: 0.9755227\ttest: 0.9869600\ttest1: 0.9432782\tbest: 0.9472901 (372)\ttotal: 16.9s\tremaining: 16.8s\n",
      "Stopped by overfitting detector  (200 iterations wait)\n",
      "\n",
      "bestTest = 0.9472901214\n",
      "bestIteration = 372\n",
      "\n",
      "Shrink model to first 373 iterations.\n",
      "6 Fold Validation F1 score : 0.8572613132992805\n",
      "==================================================\n",
      "0:\tlearn: 0.8718422\ttest: 0.8950919\ttest1: 0.8844258\tbest: 0.8844258 (0)\ttotal: 77.5ms\tremaining: 1m 17s\n",
      "Stopped by overfitting detector  (200 iterations wait)\n",
      "\n",
      "bestTest = 0.9523708854\n",
      "bestIteration = 264\n",
      "\n",
      "Shrink model to first 265 iterations.\n",
      "7 Fold Validation F1 score : 0.87527994586196\n",
      "==================================================\n",
      "0:\tlearn: 0.8645655\ttest: 0.8899730\ttest1: 0.8849261\tbest: 0.8849261 (0)\ttotal: 79.4ms\tremaining: 1m 19s\n",
      "Stopped by overfitting detector  (200 iterations wait)\n",
      "\n",
      "bestTest = 0.9550443513\n",
      "bestIteration = 103\n",
      "\n",
      "Shrink model to first 104 iterations.\n",
      "8 Fold Validation F1 score : 0.8465208546235159\n",
      "==================================================\n",
      "0:\tlearn: 0.8439559\ttest: 0.8698018\ttest1: 0.8596766\tbest: 0.8596766 (0)\ttotal: 79.9ms\tremaining: 1m 19s\n",
      "Stopped by overfitting detector  (200 iterations wait)\n",
      "\n",
      "bestTest = 0.9509762642\n",
      "bestIteration = 140\n",
      "\n",
      "Shrink model to first 141 iterations.\n",
      "9 Fold Validation F1 score : 0.8382425200588248\n",
      "==================================================\n",
      "0:\tlearn: 0.8500874\ttest: 0.8726963\ttest1: 0.8360412\tbest: 0.8360412 (0)\ttotal: 73.4ms\tremaining: 1m 13s\n",
      "Stopped by overfitting detector  (200 iterations wait)\n",
      "\n",
      "bestTest = 0.9434197521\n",
      "bestIteration = 159\n",
      "\n",
      "Shrink model to first 160 iterations.\n",
      "10 Fold Validation F1 score : 0.8496311741547953\n",
      "19 학습 완료\n",
      "Validation : F1 scores for each fold: [0.8787590433863302, 0.8508631038967074, 0.8577225389959631, 0.8583917940691467, 0.8431251117575482, 0.8722555435629091, 0.8635890456220114, 0.862243765371157, 0.8740540426436596, 0.8698348145994921, 0.8485638290762795, 0.8536907230271634, 0.8708005410096405, 0.8788062930096121, 0.8702798969940555, 0.8549439223015347, 0.8646149209016842, 0.8570057445553558, 0.8636844689175718, 0.8802153922501184, 0.8654891304347827, 0.8545719190810276, 0.8513586869751253, 0.870621676794976, 0.8535400908866613, 0.8799564081821858, 0.849248442301005, 0.8608956216267667, 0.8808990316877536, 0.8529387897263545, 0.8470979821094238, 0.8496700532583537, 0.8486045610109982, 0.8606098399743225, 0.8684120803956644, 0.8750723595546268, 0.8503509582443383, 0.8629212590293953, 0.8789714336177816, 0.8642951423126819, 0.8645289142068013, 0.8754704362365101, 0.8539095603088631, 0.8661478739771735, 0.8585275535525049, 0.8628422547751564, 0.8531651014409635, 0.8542195093587628, 0.8504641431214688, 0.8702012675187042, 0.866387133910699, 0.8647744905967851, 0.8534646760317397, 0.8724454265904333, 0.8565626584629562, 0.8572613132992805, 0.87527994586196, 0.8465208546235159, 0.8382425200588248, 0.8496311741547953]\n",
      "Validation : F1: 0.8614836135206677\n"
     ]
    }
   ],
   "source": [
    "# 경고 끄기\n",
    "pd.set_option('mode.chained_assignment', None)\n",
    "warnings.filterwarnings(action='ignore')\n",
    "from sklearn.model_selection import StratifiedGroupKFold\n",
    "\n",
    "is_holdout = False\n",
    "\n",
    "model_cat = []\n",
    "f1_scores = []\n",
    "n_split_list = [10]\n",
    "for state in [0,5,11,42,18,19]:\n",
    "    for split in n_split_list:\n",
    "        fold_idx = 1\n",
    "        cv = StratifiedKFold(n_splits=split, shuffle=True, random_state=state)\n",
    "        for train_index, valid_index in cv.split(X,y):\n",
    "            X_train, X_valid = X.iloc[train_index], X.iloc[valid_index]\n",
    "            Y_train, Y_valid = y[train_index], y[valid_index]\n",
    "            print(\"=\"*50)\n",
    "            pos_weight = len(Y_train)/sum(Y_train)\n",
    "\n",
    "            model = CatBoostClassifier(iterations=1000,\n",
    "                                   random_state=state,\n",
    "                                   task_type=\"CPU\",\n",
    "                                   depth = 5,\n",
    "                                   eval_metric=\"F1\",\n",
    "                                   #class_weights = {0: (0.1), 1: (1.1)},\n",
    "                                   scale_pos_weight=pos_weight,\n",
    "                                   bootstrap_type='Bayesian',  # Bayesian Bootstrap 사용\n",
    "                                   random_strength = 4,\n",
    "                                   cat_features=cat_features,\n",
    "                                   l2_leaf_reg = 5,\n",
    "                                   bagging_temperature = 0.5,\n",
    "                                   one_hot_max_size=8,\n",
    "                                   grow_policy='Depthwise',\n",
    "                                   learning_rate=0.1\n",
    "                                      )   \n",
    "\n",
    "            model.fit(X_train, Y_train, \n",
    "                      eval_set=[(X_train, Y_train), (X_valid, Y_valid)], \n",
    "                      early_stopping_rounds=200, \n",
    "                      verbose=500)\n",
    "            \n",
    "            pred = model.predict_proba(X_valid)[:,1]\n",
    "            threshold = 0.5\n",
    "\n",
    "            pred = np.where(pred >= threshold , True, False)\n",
    "            score = f1_score(Y_valid, pred, labels=[True, False], average = 'macro')\n",
    "            print(fold_idx,\"Fold Validation F1 score :\", score)\n",
    "            f1_scores.append(score)\n",
    "            model_cat.append(model)\n",
    "            fold_idx += 1\n",
    "            \n",
    "            gc.collect()\n",
    "            \n",
    "            if is_holdout:\n",
    "                break \n",
    "    print(state,'학습 완료')\n",
    "    \n",
    "print(\"Validation : F1 scores for each fold:\", f1_scores)\n",
    "print(\"Validation : F1:\", np.mean(f1_scores))"
   ]
  },
  {
   "cell_type": "markdown",
   "id": "dc4af5dc",
   "metadata": {},
   "source": [
    "---\n",
    "### ***😀CAT Boost without idx***"
   ]
  },
  {
   "cell_type": "code",
   "execution_count": 227,
   "id": "2a68cfbb",
   "metadata": {},
   "outputs": [],
   "source": [
    "X_without_idx = df_train.drop(columns = ['is_converted'])\n",
    "X_without_idx = X_without_idx.drop(columns = ['customer_idx'])\n",
    "y_without_idx = df_train['is_converted'].values"
   ]
  },
  {
   "cell_type": "code",
   "execution_count": 228,
   "id": "7dec1f0e",
   "metadata": {},
   "outputs": [],
   "source": [
    "cat_features_without_idx = object_columns.copy()\n",
    "cat_features_without_idx.remove('customer_idx')"
   ]
  },
  {
   "cell_type": "code",
   "execution_count": 229,
   "id": "0043c204",
   "metadata": {
    "scrolled": true
   },
   "outputs": [
    {
     "name": "stdout",
     "output_type": "stream",
     "text": [
      "==================================================\n",
      "0:\tlearn: 0.8489494\ttest: 0.8689760\ttest1: 0.8606766\tbest: 0.8606766 (0)\ttotal: 79.2ms\tremaining: 1m 19s\n",
      "500:\tlearn: 0.9508635\ttest: 0.9578114\ttest1: 0.9189014\tbest: 0.9230642 (436)\ttotal: 21.5s\tremaining: 21.4s\n",
      "Stopped by overfitting detector  (200 iterations wait)\n",
      "\n",
      "bestTest = 0.923064232\n",
      "bestIteration = 436\n",
      "\n",
      "Shrink model to first 437 iterations.\n",
      "1 Fold Validation F1 score : 0.8022055133849476\n",
      "==================================================\n",
      "0:\tlearn: 0.8506243\ttest: 0.8726700\ttest1: 0.8508978\tbest: 0.8508978 (0)\ttotal: 77.3ms\tremaining: 1m 17s\n",
      "Stopped by overfitting detector  (200 iterations wait)\n",
      "\n",
      "bestTest = 0.9213304998\n",
      "bestIteration = 278\n",
      "\n",
      "Shrink model to first 279 iterations.\n",
      "2 Fold Validation F1 score : 0.7750656153144391\n",
      "==================================================\n",
      "0:\tlearn: 0.8509645\ttest: 0.8706734\ttest1: 0.8613500\tbest: 0.8613500 (0)\ttotal: 76.7ms\tremaining: 1m 16s\n",
      "500:\tlearn: 0.9528062\ttest: 0.9563433\ttest1: 0.9023854\tbest: 0.9140136 (356)\ttotal: 17.2s\tremaining: 17.1s\n",
      "Stopped by overfitting detector  (200 iterations wait)\n",
      "\n",
      "bestTest = 0.9140136463\n",
      "bestIteration = 356\n",
      "\n",
      "Shrink model to first 357 iterations.\n",
      "3 Fold Validation F1 score : 0.7853788292599164\n",
      "==================================================\n",
      "0:\tlearn: 0.8452569\ttest: 0.8739167\ttest1: 0.8452630\tbest: 0.8452630 (0)\ttotal: 77.8ms\tremaining: 1m 17s\n",
      "500:\tlearn: 0.9533237\ttest: 0.9591587\ttest1: 0.9110326\tbest: 0.9171048 (394)\ttotal: 20.4s\tremaining: 20.4s\n",
      "Stopped by overfitting detector  (200 iterations wait)\n",
      "\n",
      "bestTest = 0.9171047698\n",
      "bestIteration = 394\n",
      "\n",
      "Shrink model to first 395 iterations.\n",
      "4 Fold Validation F1 score : 0.7925103552345903\n",
      "==================================================\n",
      "0:\tlearn: 0.8604840\ttest: 0.8770468\ttest1: 0.8694089\tbest: 0.8694089 (0)\ttotal: 75.6ms\tremaining: 1m 15s\n",
      "500:\tlearn: 0.9548069\ttest: 0.9581141\ttest1: 0.9135891\tbest: 0.9197005 (333)\ttotal: 16.9s\tremaining: 16.8s\n",
      "Stopped by overfitting detector  (200 iterations wait)\n",
      "\n",
      "bestTest = 0.9197005097\n",
      "bestIteration = 333\n",
      "\n",
      "Shrink model to first 334 iterations.\n",
      "5 Fold Validation F1 score : 0.7764551836097278\n",
      "==================================================\n",
      "0:\tlearn: 0.8482430\ttest: 0.8695827\ttest1: 0.8706685\tbest: 0.8706685 (0)\ttotal: 77.8ms\tremaining: 1m 17s\n",
      "500:\tlearn: 0.9535223\ttest: 0.9566712\ttest1: 0.9234978\tbest: 0.9235833 (497)\ttotal: 17s\tremaining: 16.9s\n",
      "Stopped by overfitting detector  (200 iterations wait)\n",
      "\n",
      "bestTest = 0.9245291279\n",
      "bestIteration = 512\n",
      "\n",
      "Shrink model to first 513 iterations.\n",
      "6 Fold Validation F1 score : 0.7959814972407708\n",
      "==================================================\n",
      "0:\tlearn: 0.8502193\ttest: 0.8725392\ttest1: 0.8630336\tbest: 0.8630336 (0)\ttotal: 79ms\tremaining: 1m 18s\n",
      "500:\tlearn: 0.9527166\ttest: 0.9560925\ttest1: 0.9083474\tbest: 0.9133346 (327)\ttotal: 17.9s\tremaining: 17.8s\n",
      "Stopped by overfitting detector  (200 iterations wait)\n",
      "\n",
      "bestTest = 0.9133345673\n",
      "bestIteration = 327\n",
      "\n",
      "Shrink model to first 328 iterations.\n",
      "7 Fold Validation F1 score : 0.7830397763222117\n",
      "==================================================\n",
      "0:\tlearn: 0.8479317\ttest: 0.8712093\ttest1: 0.8645905\tbest: 0.8645905 (0)\ttotal: 78.1ms\tremaining: 1m 17s\n",
      "Stopped by overfitting detector  (200 iterations wait)\n",
      "\n",
      "bestTest = 0.9169801183\n",
      "bestIteration = 209\n",
      "\n",
      "Shrink model to first 210 iterations.\n",
      "8 Fold Validation F1 score : 0.7847616005111413\n",
      "==================================================\n",
      "0:\tlearn: 0.8158156\ttest: 0.8491182\ttest1: 0.8231627\tbest: 0.8231627 (0)\ttotal: 73.4ms\tremaining: 1m 13s\n",
      "500:\tlearn: 0.9528234\ttest: 0.9571023\ttest1: 0.9224549\tbest: 0.9231489 (494)\ttotal: 17.3s\tremaining: 17.2s\n",
      "Stopped by overfitting detector  (200 iterations wait)\n",
      "\n",
      "bestTest = 0.9247740869\n",
      "bestIteration = 712\n",
      "\n",
      "Shrink model to first 713 iterations.\n",
      "9 Fold Validation F1 score : 0.8088960623155983\n",
      "==================================================\n",
      "0:\tlearn: 0.8156767\ttest: 0.8515949\ttest1: 0.8160001\tbest: 0.8160001 (0)\ttotal: 67.1ms\tremaining: 1m 7s\n",
      "500:\tlearn: 0.9523537\ttest: 0.9573805\ttest1: 0.9190719\tbest: 0.9236628 (455)\ttotal: 17.3s\tremaining: 17.3s\n",
      "Stopped by overfitting detector  (200 iterations wait)\n",
      "\n",
      "bestTest = 0.9236627729\n",
      "bestIteration = 455\n",
      "\n",
      "Shrink model to first 456 iterations.\n",
      "10 Fold Validation F1 score : 0.8006452159107245\n",
      "0 학습 완료\n",
      "==================================================\n",
      "0:\tlearn: 0.8279459\ttest: 0.8639719\ttest1: 0.8459146\tbest: 0.8459146 (0)\ttotal: 74.4ms\tremaining: 1m 14s\n",
      "Stopped by overfitting detector  (200 iterations wait)\n",
      "\n",
      "bestTest = 0.912992988\n",
      "bestIteration = 227\n",
      "\n",
      "Shrink model to first 228 iterations.\n",
      "1 Fold Validation F1 score : 0.7676166176416905\n",
      "==================================================\n",
      "0:\tlearn: 0.8402100\ttest: 0.8670759\ttest1: 0.8549934\tbest: 0.8549934 (0)\ttotal: 75.6ms\tremaining: 1m 15s\n",
      "500:\tlearn: 0.9530107\ttest: 0.9572777\ttest1: 0.9142980\tbest: 0.9153436 (485)\ttotal: 17.7s\tremaining: 17.7s\n",
      "Stopped by overfitting detector  (200 iterations wait)\n",
      "\n",
      "bestTest = 0.9154866652\n",
      "bestIteration = 558\n",
      "\n",
      "Shrink model to first 559 iterations.\n",
      "2 Fold Validation F1 score : 0.7868389288205502\n",
      "==================================================\n",
      "0:\tlearn: 0.8257979\ttest: 0.8585827\ttest1: 0.8565571\tbest: 0.8565571 (0)\ttotal: 78.3ms\tremaining: 1m 18s\n",
      "500:\tlearn: 0.9531278\ttest: 0.9578641\ttest1: 0.9208561\tbest: 0.9247209 (350)\ttotal: 17.7s\tremaining: 17.6s\n",
      "Stopped by overfitting detector  (200 iterations wait)\n",
      "\n",
      "bestTest = 0.9247208926\n",
      "bestIteration = 350\n",
      "\n",
      "Shrink model to first 351 iterations.\n",
      "3 Fold Validation F1 score : 0.7795350052600739\n",
      "==================================================\n",
      "0:\tlearn: 0.8183010\ttest: 0.8547044\ttest1: 0.8494824\tbest: 0.8494824 (0)\ttotal: 82.4ms\tremaining: 1m 22s\n",
      "Stopped by overfitting detector  (200 iterations wait)\n",
      "\n",
      "bestTest = 0.9060191622\n",
      "bestIteration = 294\n",
      "\n",
      "Shrink model to first 295 iterations.\n",
      "4 Fold Validation F1 score : 0.7761296077619477\n",
      "==================================================\n",
      "0:\tlearn: 0.8281675\ttest: 0.8538463\ttest1: 0.8479422\tbest: 0.8479422 (0)\ttotal: 75.9ms\tremaining: 1m 15s\n",
      "Stopped by overfitting detector  (200 iterations wait)\n",
      "\n",
      "bestTest = 0.9270872622\n",
      "bestIteration = 192\n",
      "\n",
      "Shrink model to first 193 iterations.\n",
      "5 Fold Validation F1 score : 0.777286463151403\n",
      "==================================================\n",
      "0:\tlearn: 0.8409978\ttest: 0.8560681\ttest1: 0.8390682\tbest: 0.8390682 (0)\ttotal: 78.3ms\tremaining: 1m 18s\n",
      "500:\tlearn: 0.9509329\ttest: 0.9564026\ttest1: 0.9338798\tbest: 0.9338798 (468)\ttotal: 17.8s\tremaining: 17.7s\n",
      "Stopped by overfitting detector  (200 iterations wait)\n",
      "\n",
      "bestTest = 0.9342220282\n",
      "bestIteration = 518\n",
      "\n",
      "Shrink model to first 519 iterations.\n",
      "6 Fold Validation F1 score : 0.8017876761901787\n",
      "==================================================\n",
      "0:\tlearn: 0.8536023\ttest: 0.8733124\ttest1: 0.8537392\tbest: 0.8537392 (0)\ttotal: 88.6ms\tremaining: 1m 28s\n",
      "500:\tlearn: 0.9534983\ttest: 0.9569208\ttest1: 0.9044324\tbest: 0.9081323 (414)\ttotal: 17.8s\tremaining: 17.7s\n",
      "Stopped by overfitting detector  (200 iterations wait)\n",
      "\n",
      "bestTest = 0.9081323365\n",
      "bestIteration = 414\n",
      "\n",
      "Shrink model to first 415 iterations.\n",
      "7 Fold Validation F1 score : 0.7908569086234756\n",
      "==================================================\n",
      "0:\tlearn: 0.8144817\ttest: 0.8648134\ttest1: 0.8481548\tbest: 0.8481548 (0)\ttotal: 78ms\tremaining: 1m 17s\n",
      "Stopped by overfitting detector  (200 iterations wait)\n",
      "\n",
      "bestTest = 0.9260724235\n",
      "bestIteration = 294\n",
      "\n",
      "Shrink model to first 295 iterations.\n",
      "8 Fold Validation F1 score : 0.7911082535336644\n",
      "==================================================\n",
      "0:\tlearn: 0.8345456\ttest: 0.8618363\ttest1: 0.8508023\tbest: 0.8508023 (0)\ttotal: 73.3ms\tremaining: 1m 13s\n",
      "Stopped by overfitting detector  (200 iterations wait)\n",
      "\n",
      "bestTest = 0.9295462856\n",
      "bestIteration = 287\n",
      "\n",
      "Shrink model to first 288 iterations.\n",
      "9 Fold Validation F1 score : 0.7889600485536024\n",
      "==================================================\n",
      "0:\tlearn: 0.8327205\ttest: 0.8605381\ttest1: 0.8292337\tbest: 0.8292337 (0)\ttotal: 73.7ms\tremaining: 1m 13s\n",
      "500:\tlearn: 0.9523482\ttest: 0.9564974\ttest1: 0.9153801\tbest: 0.9164602 (430)\ttotal: 17.9s\tremaining: 17.8s\n",
      "Stopped by overfitting detector  (200 iterations wait)\n",
      "\n",
      "bestTest = 0.9165591084\n",
      "bestIteration = 621\n",
      "\n",
      "Shrink model to first 622 iterations.\n",
      "10 Fold Validation F1 score : 0.8099754441924725\n",
      "5 학습 완료\n",
      "==================================================\n",
      "0:\tlearn: 0.8398578\ttest: 0.8685363\ttest1: 0.8637468\tbest: 0.8637468 (0)\ttotal: 83.6ms\tremaining: 1m 23s\n",
      "Stopped by overfitting detector  (200 iterations wait)\n",
      "\n",
      "bestTest = 0.9191981901\n",
      "bestIteration = 162\n",
      "\n",
      "Shrink model to first 163 iterations.\n",
      "1 Fold Validation F1 score : 0.7764540399038079\n",
      "==================================================\n",
      "0:\tlearn: 0.8340394\ttest: 0.8602001\ttest1: 0.8474757\tbest: 0.8474757 (0)\ttotal: 76.3ms\tremaining: 1m 16s\n",
      "Stopped by overfitting detector  (200 iterations wait)\n",
      "\n",
      "bestTest = 0.92046029\n",
      "bestIteration = 298\n",
      "\n",
      "Shrink model to first 299 iterations.\n",
      "2 Fold Validation F1 score : 0.7789863228005358\n",
      "==================================================\n",
      "0:\tlearn: 0.8413823\ttest: 0.8702008\ttest1: 0.8324440\tbest: 0.8324440 (0)\ttotal: 73.3ms\tremaining: 1m 13s\n",
      "500:\tlearn: 0.9530619\ttest: 0.9582374\ttest1: 0.9006232\tbest: 0.9032091 (472)\ttotal: 17s\tremaining: 16.9s\n",
      "Stopped by overfitting detector  (200 iterations wait)\n",
      "\n",
      "bestTest = 0.9032091338\n",
      "bestIteration = 472\n",
      "\n",
      "Shrink model to first 473 iterations.\n",
      "3 Fold Validation F1 score : 0.7848751199309993\n",
      "==================================================\n",
      "0:\tlearn: 0.8451999\ttest: 0.8681548\ttest1: 0.8698198\tbest: 0.8698198 (0)\ttotal: 70.2ms\tremaining: 1m 10s\n",
      "500:\tlearn: 0.9524999\ttest: 0.9565814\ttest1: 0.9209145\tbest: 0.9237672 (333)\ttotal: 16.9s\tremaining: 16.9s\n",
      "Stopped by overfitting detector  (200 iterations wait)\n",
      "\n",
      "bestTest = 0.92376723\n",
      "bestIteration = 333\n",
      "\n",
      "Shrink model to first 334 iterations.\n",
      "4 Fold Validation F1 score : 0.790264347511771\n",
      "==================================================\n",
      "0:\tlearn: 0.8377425\ttest: 0.8686681\ttest1: 0.8583998\tbest: 0.8583998 (0)\ttotal: 76.3ms\tremaining: 1m 16s\n",
      "500:\tlearn: 0.9526770\ttest: 0.9566678\ttest1: 0.9171048\tbest: 0.9194650 (426)\ttotal: 16.9s\tremaining: 16.8s\n",
      "Stopped by overfitting detector  (200 iterations wait)\n",
      "\n",
      "bestTest = 0.9194650167\n",
      "bestIteration = 426\n",
      "\n",
      "Shrink model to first 427 iterations.\n",
      "5 Fold Validation F1 score : 0.7897513770662468\n",
      "==================================================\n",
      "0:\tlearn: 0.8404029\ttest: 0.8708217\ttest1: 0.8500498\tbest: 0.8500498 (0)\ttotal: 72.2ms\tremaining: 1m 12s\n",
      "500:\tlearn: 0.9512377\ttest: 0.9562378\ttest1: 0.9180891\tbest: 0.9235694 (448)\ttotal: 16.8s\tremaining: 16.7s\n",
      "Stopped by overfitting detector  (200 iterations wait)\n",
      "\n",
      "bestTest = 0.9235693851\n",
      "bestIteration = 448\n",
      "\n",
      "Shrink model to first 449 iterations.\n",
      "6 Fold Validation F1 score : 0.8044447550539435\n",
      "==================================================\n",
      "0:\tlearn: 0.8400459\ttest: 0.8694506\ttest1: 0.8600260\tbest: 0.8600260 (0)\ttotal: 62.2ms\tremaining: 1m 2s\n",
      "Stopped by overfitting detector  (200 iterations wait)\n",
      "\n",
      "bestTest = 0.9268372174\n",
      "bestIteration = 299\n",
      "\n",
      "Shrink model to first 300 iterations.\n",
      "7 Fold Validation F1 score : 0.7866765199159433\n",
      "==================================================\n",
      "0:\tlearn: 0.8495498\ttest: 0.8774941\ttest1: 0.8557317\tbest: 0.8557317 (0)\ttotal: 71.9ms\tremaining: 1m 11s\n",
      "500:\tlearn: 0.9527590\ttest: 0.9576548\ttest1: 0.9161423\tbest: 0.9184253 (408)\ttotal: 17s\tremaining: 17s\n",
      "Stopped by overfitting detector  (200 iterations wait)\n",
      "\n",
      "bestTest = 0.9184252618\n",
      "bestIteration = 408\n",
      "\n",
      "Shrink model to first 409 iterations.\n",
      "8 Fold Validation F1 score : 0.7897703236386693\n",
      "==================================================\n",
      "0:\tlearn: 0.8295633\ttest: 0.8564143\ttest1: 0.8405579\tbest: 0.8405579 (0)\ttotal: 64.4ms\tremaining: 1m 4s\n",
      "500:\tlearn: 0.9550804\ttest: 0.9573901\ttest1: 0.9171055\tbest: 0.9228242 (421)\ttotal: 17s\tremaining: 16.9s\n",
      "Stopped by overfitting detector  (200 iterations wait)\n",
      "\n",
      "bestTest = 0.9228241842\n",
      "bestIteration = 421\n",
      "\n",
      "Shrink model to first 422 iterations.\n",
      "9 Fold Validation F1 score : 0.7905763729654247\n",
      "==================================================\n",
      "0:\tlearn: 0.8344855\ttest: 0.8525267\ttest1: 0.8363766\tbest: 0.8363766 (0)\ttotal: 64.4ms\tremaining: 1m 4s\n",
      "Stopped by overfitting detector  (200 iterations wait)\n",
      "\n",
      "bestTest = 0.9155347453\n",
      "bestIteration = 174\n",
      "\n",
      "Shrink model to first 175 iterations.\n",
      "10 Fold Validation F1 score : 0.7695279518622464\n",
      "11 학습 완료\n",
      "==================================================\n",
      "0:\tlearn: 0.8501131\ttest: 0.8718996\ttest1: 0.8542411\tbest: 0.8542411 (0)\ttotal: 72.3ms\tremaining: 1m 12s\n",
      "500:\tlearn: 0.9498633\ttest: 0.9561162\ttest1: 0.9227406\tbest: 0.9249700 (376)\ttotal: 16.8s\tremaining: 16.8s\n",
      "Stopped by overfitting detector  (200 iterations wait)\n",
      "\n",
      "bestTest = 0.9249699601\n",
      "bestIteration = 376\n",
      "\n",
      "Shrink model to first 377 iterations.\n",
      "1 Fold Validation F1 score : 0.7905170574159478\n",
      "==================================================\n",
      "0:\tlearn: 0.8446124\ttest: 0.8681511\ttest1: 0.8548282\tbest: 0.8548282 (0)\ttotal: 71.7ms\tremaining: 1m 11s\n",
      "Stopped by overfitting detector  (200 iterations wait)\n",
      "\n",
      "bestTest = 0.9203903141\n",
      "bestIteration = 234\n",
      "\n",
      "Shrink model to first 235 iterations.\n",
      "2 Fold Validation F1 score : 0.7753409959080724\n",
      "==================================================\n",
      "0:\tlearn: 0.8471778\ttest: 0.8699608\ttest1: 0.8533432\tbest: 0.8533432 (0)\ttotal: 73.3ms\tremaining: 1m 13s\n",
      "Stopped by overfitting detector  (200 iterations wait)\n",
      "\n",
      "bestTest = 0.9176384837\n",
      "bestIteration = 290\n",
      "\n",
      "Shrink model to first 291 iterations.\n",
      "3 Fold Validation F1 score : 0.776733387493026\n",
      "==================================================\n",
      "0:\tlearn: 0.8494256\ttest: 0.8700215\ttest1: 0.8392443\tbest: 0.8392443 (0)\ttotal: 73.5ms\tremaining: 1m 13s\n",
      "500:\tlearn: 0.9512892\ttest: 0.9572293\ttest1: 0.9158010\tbest: 0.9197205 (443)\ttotal: 17s\tremaining: 17s\n",
      "Stopped by overfitting detector  (200 iterations wait)\n",
      "\n",
      "bestTest = 0.920302223\n",
      "bestIteration = 604\n",
      "\n",
      "Shrink model to first 605 iterations.\n",
      "4 Fold Validation F1 score : 0.7964075877285128\n",
      "==================================================\n",
      "0:\tlearn: 0.8469069\ttest: 0.8677907\ttest1: 0.8482093\tbest: 0.8482093 (0)\ttotal: 70.4ms\tremaining: 1m 10s\n",
      "Stopped by overfitting detector  (200 iterations wait)\n",
      "\n",
      "bestTest = 0.9202765644\n",
      "bestIteration = 248\n",
      "\n",
      "Shrink model to first 249 iterations.\n",
      "5 Fold Validation F1 score : 0.7818365798128004\n",
      "==================================================\n",
      "0:\tlearn: 0.8473388\ttest: 0.8685737\ttest1: 0.8462252\tbest: 0.8462252 (0)\ttotal: 67.6ms\tremaining: 1m 7s\n",
      "500:\tlearn: 0.9525653\ttest: 0.9574625\ttest1: 0.9233345\tbest: 0.9233345 (500)\ttotal: 17s\tremaining: 16.9s\n",
      "Stopped by overfitting detector  (200 iterations wait)\n",
      "\n",
      "bestTest = 0.9233344537\n",
      "bestIteration = 500\n",
      "\n",
      "Shrink model to first 501 iterations.\n",
      "6 Fold Validation F1 score : 0.7923685798413558\n",
      "==================================================\n",
      "0:\tlearn: 0.8448464\ttest: 0.8684023\ttest1: 0.8530138\tbest: 0.8530138 (0)\ttotal: 72.2ms\tremaining: 1m 12s\n",
      "500:\tlearn: 0.9534020\ttest: 0.9599073\ttest1: 0.9087315\tbest: 0.9173417 (309)\ttotal: 16.9s\tremaining: 16.8s\n",
      "Stopped by overfitting detector  (200 iterations wait)\n",
      "\n",
      "bestTest = 0.9173417393\n",
      "bestIteration = 309\n",
      "\n",
      "Shrink model to first 310 iterations.\n",
      "7 Fold Validation F1 score : 0.7827134621793027\n",
      "==================================================\n",
      "0:\tlearn: 0.8431517\ttest: 0.8664807\ttest1: 0.8762281\tbest: 0.8762281 (0)\ttotal: 74.6ms\tremaining: 1m 14s\n",
      "Stopped by overfitting detector  (200 iterations wait)\n",
      "\n",
      "bestTest = 0.9248898429\n",
      "bestIteration = 180\n",
      "\n",
      "Shrink model to first 181 iterations.\n",
      "8 Fold Validation F1 score : 0.780098834105778\n",
      "==================================================\n",
      "0:\tlearn: 0.8484698\ttest: 0.8725136\ttest1: 0.8732226\tbest: 0.8732226 (0)\ttotal: 75.2ms\tremaining: 1m 15s\n",
      "500:\tlearn: 0.9537466\ttest: 0.9590001\ttest1: 0.9264135\tbest: 0.9305863 (395)\ttotal: 17s\tremaining: 16.9s\n",
      "Stopped by overfitting detector  (200 iterations wait)\n",
      "\n",
      "bestTest = 0.9305863275\n",
      "bestIteration = 395\n",
      "\n",
      "Shrink model to first 396 iterations.\n",
      "9 Fold Validation F1 score : 0.7997616745880314\n",
      "==================================================\n",
      "0:\tlearn: 0.8308309\ttest: 0.8558623\ttest1: 0.8536344\tbest: 0.8536344 (0)\ttotal: 83.7ms\tremaining: 1m 23s\n",
      "Stopped by overfitting detector  (200 iterations wait)\n",
      "\n",
      "bestTest = 0.9148078676\n",
      "bestIteration = 288\n",
      "\n",
      "Shrink model to first 289 iterations.\n",
      "10 Fold Validation F1 score : 0.7844841438916534\n",
      "42 학습 완료\n",
      "==================================================\n",
      "0:\tlearn: 0.8446130\ttest: 0.8763117\ttest1: 0.8700987\tbest: 0.8700987 (0)\ttotal: 81ms\tremaining: 1m 20s\n",
      "500:\tlearn: 0.9524224\ttest: 0.9570193\ttest1: 0.9194673\tbest: 0.9275146 (311)\ttotal: 17s\tremaining: 16.9s\n",
      "Stopped by overfitting detector  (200 iterations wait)\n",
      "\n",
      "bestTest = 0.9275146391\n",
      "bestIteration = 311\n",
      "\n",
      "Shrink model to first 312 iterations.\n",
      "1 Fold Validation F1 score : 0.7852035843183596\n",
      "==================================================\n",
      "0:\tlearn: 0.8246575\ttest: 0.8772829\ttest1: 0.8572452\tbest: 0.8572452 (0)\ttotal: 79.7ms\tremaining: 1m 19s\n",
      "Stopped by overfitting detector  (200 iterations wait)\n",
      "\n",
      "bestTest = 0.9208695667\n",
      "bestIteration = 223\n",
      "\n",
      "Shrink model to first 224 iterations.\n",
      "2 Fold Validation F1 score : 0.783849582592536\n",
      "==================================================\n",
      "0:\tlearn: 0.8453625\ttest: 0.8678513\ttest1: 0.8556018\tbest: 0.8556018 (0)\ttotal: 78.6ms\tremaining: 1m 18s\n",
      "500:\tlearn: 0.9506980\ttest: 0.9554732\ttest1: 0.9291402\tbest: 0.9293112 (482)\ttotal: 16.2s\tremaining: 16.1s\n",
      "Stopped by overfitting detector  (200 iterations wait)\n",
      "\n",
      "bestTest = 0.9293111715\n",
      "bestIteration = 482\n",
      "\n",
      "Shrink model to first 483 iterations.\n",
      "3 Fold Validation F1 score : 0.7988885271746763\n",
      "==================================================\n",
      "0:\tlearn: 0.8263364\ttest: 0.8775708\ttest1: 0.8563936\tbest: 0.8563936 (0)\ttotal: 76.8ms\tremaining: 1m 16s\n",
      "Stopped by overfitting detector  (200 iterations wait)\n",
      "\n",
      "bestTest = 0.9128447756\n",
      "bestIteration = 278\n",
      "\n",
      "Shrink model to first 279 iterations.\n",
      "4 Fold Validation F1 score : 0.7886637096576568\n",
      "==================================================\n",
      "0:\tlearn: 0.8479450\ttest: 0.8749127\ttest1: 0.8501923\tbest: 0.8501923 (0)\ttotal: 78.3ms\tremaining: 1m 18s\n",
      "Stopped by overfitting detector  (200 iterations wait)\n",
      "\n",
      "bestTest = 0.9149476408\n",
      "bestIteration = 222\n",
      "\n",
      "Shrink model to first 223 iterations.\n",
      "5 Fold Validation F1 score : 0.7778599939553739\n",
      "==================================================\n",
      "0:\tlearn: 0.8346172\ttest: 0.8782663\ttest1: 0.8504668\tbest: 0.8504668 (0)\ttotal: 75.8ms\tremaining: 1m 15s\n",
      "500:\tlearn: 0.9531286\ttest: 0.9566779\ttest1: 0.9241929\tbest: 0.9253945 (304)\ttotal: 18.5s\tremaining: 18.5s\n",
      "Stopped by overfitting detector  (200 iterations wait)\n",
      "\n",
      "bestTest = 0.9253945479\n",
      "bestIteration = 304\n",
      "\n",
      "Shrink model to first 305 iterations.\n",
      "6 Fold Validation F1 score : 0.7852453832532255\n",
      "==================================================\n",
      "0:\tlearn: 0.8277724\ttest: 0.8768093\ttest1: 0.8611901\tbest: 0.8611901 (0)\ttotal: 77.2ms\tremaining: 1m 17s\n",
      "500:\tlearn: 0.9516630\ttest: 0.9562114\ttest1: 0.9265837\tbest: 0.9285423 (460)\ttotal: 16.4s\tremaining: 16.3s\n",
      "Stopped by overfitting detector  (200 iterations wait)\n",
      "\n",
      "bestTest = 0.9317241661\n",
      "bestIteration = 776\n",
      "\n",
      "Shrink model to first 777 iterations.\n",
      "7 Fold Validation F1 score : 0.8114527582467556\n",
      "==================================================\n",
      "0:\tlearn: 0.8298784\ttest: 0.8490043\ttest1: 0.8535241\tbest: 0.8535241 (0)\ttotal: 88ms\tremaining: 1m 27s\n",
      "500:\tlearn: 0.9525939\ttest: 0.9569304\ttest1: 0.9228741\tbest: 0.9245245 (378)\ttotal: 18s\tremaining: 17.9s\n",
      "Stopped by overfitting detector  (200 iterations wait)\n",
      "\n",
      "bestTest = 0.9245244864\n",
      "bestIteration = 378\n",
      "\n",
      "Shrink model to first 379 iterations.\n",
      "8 Fold Validation F1 score : 0.8003024208105125\n",
      "==================================================\n",
      "0:\tlearn: 0.8458855\ttest: 0.8664133\ttest1: 0.8521313\tbest: 0.8521313 (0)\ttotal: 71.3ms\tremaining: 1m 11s\n",
      "Stopped by overfitting detector  (200 iterations wait)\n",
      "\n",
      "bestTest = 0.9136293859\n",
      "bestIteration = 201\n",
      "\n",
      "Shrink model to first 202 iterations.\n",
      "9 Fold Validation F1 score : 0.7700515717995688\n",
      "==================================================\n",
      "0:\tlearn: 0.8335523\ttest: 0.8666518\ttest1: 0.8555026\tbest: 0.8555026 (0)\ttotal: 72.2ms\tremaining: 1m 12s\n",
      "500:\tlearn: 0.9544339\ttest: 0.9593466\ttest1: 0.9230715\tbest: 0.9240175 (471)\ttotal: 17s\tremaining: 16.9s\n",
      "Stopped by overfitting detector  (200 iterations wait)\n",
      "\n",
      "bestTest = 0.925213932\n",
      "bestIteration = 553\n",
      "\n",
      "Shrink model to first 554 iterations.\n",
      "10 Fold Validation F1 score : 0.7990281152947887\n",
      "18 학습 완료\n",
      "==================================================\n",
      "0:\tlearn: 0.8368790\ttest: 0.8715275\ttest1: 0.8658380\tbest: 0.8658380 (0)\ttotal: 63.3ms\tremaining: 1m 3s\n",
      "Stopped by overfitting detector  (200 iterations wait)\n",
      "\n",
      "bestTest = 0.9350445754\n",
      "bestIteration = 264\n",
      "\n",
      "Shrink model to first 265 iterations.\n",
      "1 Fold Validation F1 score : 0.7868076301148355\n",
      "==================================================\n",
      "0:\tlearn: 0.8471525\ttest: 0.8680005\ttest1: 0.8588732\tbest: 0.8588732 (0)\ttotal: 77.1ms\tremaining: 1m 17s\n",
      "Stopped by overfitting detector  (200 iterations wait)\n",
      "\n",
      "bestTest = 0.9207138292\n",
      "bestIteration = 218\n",
      "\n",
      "Shrink model to first 219 iterations.\n",
      "2 Fold Validation F1 score : 0.7798358273437807\n",
      "==================================================\n",
      "0:\tlearn: 0.8446841\ttest: 0.8641047\ttest1: 0.8510468\tbest: 0.8510468 (0)\ttotal: 74.8ms\tremaining: 1m 14s\n",
      "Stopped by overfitting detector  (200 iterations wait)\n",
      "\n",
      "bestTest = 0.9055968259\n",
      "bestIteration = 263\n",
      "\n",
      "Shrink model to first 264 iterations.\n",
      "3 Fold Validation F1 score : 0.774708231336013\n",
      "==================================================\n",
      "0:\tlearn: 0.8188781\ttest: 0.8500726\ttest1: 0.8432629\tbest: 0.8432629 (0)\ttotal: 80.2ms\tremaining: 1m 20s\n",
      "Stopped by overfitting detector  (200 iterations wait)\n",
      "\n",
      "bestTest = 0.9223228265\n",
      "bestIteration = 290\n",
      "\n",
      "Shrink model to first 291 iterations.\n",
      "4 Fold Validation F1 score : 0.7852849004967074\n",
      "==================================================\n",
      "0:\tlearn: 0.8438455\ttest: 0.8636695\ttest1: 0.8602753\tbest: 0.8602753 (0)\ttotal: 75.5ms\tremaining: 1m 15s\n",
      "500:\tlearn: 0.9521702\ttest: 0.9567530\ttest1: 0.9132386\tbest: 0.9206723 (384)\ttotal: 16.9s\tremaining: 16.9s\n",
      "Stopped by overfitting detector  (200 iterations wait)\n",
      "\n",
      "bestTest = 0.9206723209\n",
      "bestIteration = 384\n",
      "\n",
      "Shrink model to first 385 iterations.\n",
      "5 Fold Validation F1 score : 0.7903262265085574\n",
      "==================================================\n",
      "0:\tlearn: 0.8412321\ttest: 0.8658910\ttest1: 0.8422458\tbest: 0.8422458 (0)\ttotal: 76.3ms\tremaining: 1m 16s\n",
      "500:\tlearn: 0.9533091\ttest: 0.9567642\ttest1: 0.9152317\tbest: 0.9167955 (326)\ttotal: 16.5s\tremaining: 16.5s\n",
      "Stopped by overfitting detector  (200 iterations wait)\n",
      "\n",
      "bestTest = 0.9167954669\n",
      "bestIteration = 326\n",
      "\n",
      "Shrink model to first 327 iterations.\n",
      "6 Fold Validation F1 score : 0.7736619178128211\n",
      "==================================================\n",
      "0:\tlearn: 0.8414345\ttest: 0.8652848\ttest1: 0.8479761\tbest: 0.8479761 (0)\ttotal: 66.7ms\tremaining: 1m 6s\n",
      "500:\tlearn: 0.9522493\ttest: 0.9574553\ttest1: 0.9175954\tbest: 0.9211835 (372)\ttotal: 16.7s\tremaining: 16.7s\n",
      "Stopped by overfitting detector  (200 iterations wait)\n",
      "\n",
      "bestTest = 0.9211834698\n",
      "bestIteration = 372\n",
      "\n",
      "Shrink model to first 373 iterations.\n",
      "7 Fold Validation F1 score : 0.7921169513777362\n",
      "==================================================\n",
      "0:\tlearn: 0.8420595\ttest: 0.8641289\ttest1: 0.8492587\tbest: 0.8492587 (0)\ttotal: 75ms\tremaining: 1m 14s\n",
      "Stopped by overfitting detector  (200 iterations wait)\n",
      "\n",
      "bestTest = 0.9281802085\n",
      "bestIteration = 276\n",
      "\n",
      "Shrink model to first 277 iterations.\n",
      "8 Fold Validation F1 score : 0.7775614419300962\n",
      "==================================================\n",
      "0:\tlearn: 0.8571977\ttest: 0.8736934\ttest1: 0.8649592\tbest: 0.8649592 (0)\ttotal: 77.1ms\tremaining: 1m 17s\n",
      "500:\tlearn: 0.9534028\ttest: 0.9586706\ttest1: 0.9235910\tbest: 0.9238594 (395)\ttotal: 16.7s\tremaining: 16.7s\n",
      "Stopped by overfitting detector  (200 iterations wait)\n",
      "\n",
      "bestTest = 0.9238593781\n",
      "bestIteration = 395\n",
      "\n",
      "Shrink model to first 396 iterations.\n",
      "9 Fold Validation F1 score : 0.7870096258048065\n",
      "==================================================\n",
      "0:\tlearn: 0.8323605\ttest: 0.8405708\ttest1: 0.8011226\tbest: 0.8011226 (0)\ttotal: 75.8ms\tremaining: 1m 15s\n",
      "500:\tlearn: 0.9523045\ttest: 0.9568734\ttest1: 0.9143513\tbest: 0.9151779 (383)\ttotal: 16.6s\tremaining: 16.6s\n",
      "Stopped by overfitting detector  (200 iterations wait)\n",
      "\n",
      "bestTest = 0.9151778555\n",
      "bestIteration = 383\n",
      "\n",
      "Shrink model to first 384 iterations.\n",
      "10 Fold Validation F1 score : 0.7931575652746892\n",
      "19 학습 완료\n",
      "Validation : F1 scores for each fold: [0.8022055133849476, 0.7750656153144391, 0.7853788292599164, 0.7925103552345903, 0.7764551836097278, 0.7959814972407708, 0.7830397763222117, 0.7847616005111413, 0.8088960623155983, 0.8006452159107245, 0.7676166176416905, 0.7868389288205502, 0.7795350052600739, 0.7761296077619477, 0.777286463151403, 0.8017876761901787, 0.7908569086234756, 0.7911082535336644, 0.7889600485536024, 0.8099754441924725, 0.7764540399038079, 0.7789863228005358, 0.7848751199309993, 0.790264347511771, 0.7897513770662468, 0.8044447550539435, 0.7866765199159433, 0.7897703236386693, 0.7905763729654247, 0.7695279518622464, 0.7905170574159478, 0.7753409959080724, 0.776733387493026, 0.7964075877285128, 0.7818365798128004, 0.7923685798413558, 0.7827134621793027, 0.780098834105778, 0.7997616745880314, 0.7844841438916534, 0.7852035843183596, 0.783849582592536, 0.7988885271746763, 0.7886637096576568, 0.7778599939553739, 0.7852453832532255, 0.8114527582467556, 0.8003024208105125, 0.7700515717995688, 0.7990281152947887, 0.7868076301148355, 0.7798358273437807, 0.774708231336013, 0.7852849004967074, 0.7903262265085574, 0.7736619178128211, 0.7921169513777362, 0.7775614419300962, 0.7870096258048065, 0.7931575652746892]\n",
      "Validation : F1: 0.7872940000258449\n"
     ]
    }
   ],
   "source": [
    "# 경고 끄기\n",
    "pd.set_option('mode.chained_assignment', None)\n",
    "warnings.filterwarnings(action='ignore')\n",
    "from sklearn.model_selection import StratifiedGroupKFold\n",
    "\n",
    "is_holdout = False\n",
    "\n",
    "model_cat_without_idx = []\n",
    "f1_scores_without_idx = []\n",
    "n_split_list_without_idx = [10]\n",
    "for state in [0,5,11,42,18,19]:\n",
    "    for split in n_split_list_without_idx:\n",
    "        fold_idx = 1\n",
    "        cv = StratifiedKFold(n_splits=split, shuffle=True, random_state=state)\n",
    "        for train_index, valid_index in cv.split(X_without_idx,y_without_idx):\n",
    "            X_train, X_valid = X_without_idx.iloc[train_index], X_without_idx.iloc[valid_index]\n",
    "            Y_train, Y_valid = y_without_idx[train_index], y_without_idx[valid_index]\n",
    "            print(\"=\"*50)\n",
    "            pos_weight = len(Y_train)/sum(Y_train)\n",
    "\n",
    "            model = CatBoostClassifier(iterations=1000,\n",
    "                                   random_state=state,\n",
    "                                   task_type=\"CPU\",\n",
    "                                   depth = 5,\n",
    "                                   eval_metric=\"F1\",\n",
    "                                   #class_weights = {0: (0.1), 1: (1.1)},\n",
    "                                   scale_pos_weight=pos_weight,\n",
    "                                   bootstrap_type='Bayesian',  # Bayesian Bootstrap 사용\n",
    "                                   random_strength = 4,\n",
    "                                   cat_features=cat_features_without_idx,\n",
    "                                   l2_leaf_reg = 5,\n",
    "                                   bagging_temperature = 0.5,\n",
    "                                   one_hot_max_size=8,\n",
    "                                   grow_policy='Depthwise',\n",
    "                                   learning_rate=0.1\n",
    "                                      )   \n",
    "\n",
    "            model.fit(X_train, Y_train, \n",
    "                      eval_set=[(X_train, Y_train), (X_valid, Y_valid)], \n",
    "                      early_stopping_rounds=200, \n",
    "                      verbose=500)\n",
    "            \n",
    "            pred = model.predict_proba(X_valid)[:,1]\n",
    "            threshold = 0.5\n",
    "\n",
    "            pred = np.where(pred >= threshold , True, False)\n",
    "            score = f1_score(Y_valid, pred, labels=[True, False], average = 'macro')\n",
    "            print(fold_idx,\"Fold Validation F1 score :\", score)\n",
    "            f1_scores_without_idx.append(score)\n",
    "            model_cat_without_idx.append(model)\n",
    "            fold_idx += 1\n",
    "            \n",
    "            gc.collect()\n",
    "            \n",
    "            if is_holdout:\n",
    "                break \n",
    "    print(state,'학습 완료')\n",
    "    \n",
    "print(\"Validation : F1 scores for each fold:\", f1_scores_without_idx)\n",
    "print(\"Validation : F1:\", np.mean(f1_scores_without_idx))"
   ]
  },
  {
   "cell_type": "markdown",
   "id": "89c91ec8",
   "metadata": {},
   "source": [
    "---\n",
    "### ***😀CAT Boost without lead***"
   ]
  },
  {
   "cell_type": "code",
   "execution_count": 230,
   "id": "6bc09379",
   "metadata": {},
   "outputs": [],
   "source": [
    "X_without_lead = df_train.drop(columns = ['is_converted'])\n",
    "X_without_lead = X_without_lead.drop(columns = ['lead_owner'])\n",
    "y_without_lead = df_train['is_converted'].values"
   ]
  },
  {
   "cell_type": "code",
   "execution_count": 231,
   "id": "7110f791",
   "metadata": {},
   "outputs": [],
   "source": [
    "cat_features_without_lead = object_columns.copy()\n",
    "cat_features_without_lead.remove('lead_owner')"
   ]
  },
  {
   "cell_type": "code",
   "execution_count": 232,
   "id": "48518a82",
   "metadata": {
    "scrolled": true
   },
   "outputs": [
    {
     "name": "stdout",
     "output_type": "stream",
     "text": [
      "==================================================\n",
      "0:\tlearn: 0.8623842\ttest: 0.8961467\ttest1: 0.8489936\tbest: 0.8489936 (0)\ttotal: 81.9ms\tremaining: 1m 21s\n",
      "500:\tlearn: 0.9582387\ttest: 0.9833326\ttest1: 0.9050564\tbest: 0.9090292 (377)\ttotal: 16.9s\tremaining: 16.8s\n",
      "Stopped by overfitting detector  (200 iterations wait)\n",
      "\n",
      "bestTest = 0.9090291905\n",
      "bestIteration = 377\n",
      "\n",
      "Shrink model to first 378 iterations.\n",
      "1 Fold Validation F1 score : 0.8181786463489626\n",
      "==================================================\n",
      "0:\tlearn: 0.7298601\ttest: 0.7461465\ttest1: 0.7388935\tbest: 0.7388935 (0)\ttotal: 84.6ms\tremaining: 1m 24s\n",
      "500:\tlearn: 0.9581451\ttest: 0.9812403\ttest1: 0.9119314\tbest: 0.9183737 (353)\ttotal: 16.7s\tremaining: 16.6s\n",
      "Stopped by overfitting detector  (200 iterations wait)\n",
      "\n",
      "bestTest = 0.9183737044\n",
      "bestIteration = 353\n",
      "\n",
      "Shrink model to first 354 iterations.\n",
      "2 Fold Validation F1 score : 0.8169463706148248\n",
      "==================================================\n",
      "0:\tlearn: 0.8481638\ttest: 0.8922496\ttest1: 0.8506043\tbest: 0.8506043 (0)\ttotal: 78.5ms\tremaining: 1m 18s\n",
      "Stopped by overfitting detector  (200 iterations wait)\n",
      "\n",
      "bestTest = 0.9193796502\n",
      "bestIteration = 193\n",
      "\n",
      "Shrink model to first 194 iterations.\n",
      "3 Fold Validation F1 score : 0.8085197030987517\n",
      "==================================================\n",
      "0:\tlearn: 0.7474969\ttest: 0.7521678\ttest1: 0.7525760\tbest: 0.7525760 (0)\ttotal: 70.4ms\tremaining: 1m 10s\n",
      "Stopped by overfitting detector  (200 iterations wait)\n",
      "\n",
      "bestTest = 0.9196215075\n",
      "bestIteration = 216\n",
      "\n",
      "Shrink model to first 217 iterations.\n",
      "4 Fold Validation F1 score : 0.8134812741288252\n",
      "==================================================\n",
      "0:\tlearn: 0.8446624\ttest: 0.9005282\ttest1: 0.8442238\tbest: 0.8442238 (0)\ttotal: 74.9ms\tremaining: 1m 14s\n",
      "500:\tlearn: 0.9608270\ttest: 0.9842025\ttest1: 0.9024834\tbest: 0.9053366 (419)\ttotal: 17s\tremaining: 17s\n",
      "Stopped by overfitting detector  (200 iterations wait)\n",
      "\n",
      "bestTest = 0.9053366488\n",
      "bestIteration = 419\n",
      "\n",
      "Shrink model to first 420 iterations.\n",
      "5 Fold Validation F1 score : 0.8129251700680273\n",
      "==================================================\n",
      "0:\tlearn: 0.7626528\ttest: 0.7756555\ttest1: 0.7581868\tbest: 0.7581868 (0)\ttotal: 87.2ms\tremaining: 1m 27s\n",
      "500:\tlearn: 0.9585941\ttest: 0.9834429\ttest1: 0.9170068\tbest: 0.9188257 (314)\ttotal: 16.7s\tremaining: 16.7s\n",
      "Stopped by overfitting detector  (200 iterations wait)\n",
      "\n",
      "bestTest = 0.9188257296\n",
      "bestIteration = 314\n",
      "\n",
      "Shrink model to first 315 iterations.\n",
      "6 Fold Validation F1 score : 0.8142062475035171\n",
      "==================================================\n",
      "0:\tlearn: 0.8509898\ttest: 0.8945912\ttest1: 0.8429887\tbest: 0.8429887 (0)\ttotal: 80.9ms\tremaining: 1m 20s\n",
      "Stopped by overfitting detector  (200 iterations wait)\n",
      "\n",
      "bestTest = 0.9027753043\n",
      "bestIteration = 155\n",
      "\n",
      "Shrink model to first 156 iterations.\n",
      "7 Fold Validation F1 score : 0.8072992700729926\n",
      "==================================================\n",
      "0:\tlearn: 0.8447795\ttest: 0.8914571\ttest1: 0.8548311\tbest: 0.8548311 (0)\ttotal: 81.2ms\tremaining: 1m 21s\n",
      "Stopped by overfitting detector  (200 iterations wait)\n",
      "\n",
      "bestTest = 0.9193449164\n",
      "bestIteration = 279\n",
      "\n",
      "Shrink model to first 280 iterations.\n",
      "8 Fold Validation F1 score : 0.8165424880473491\n",
      "==================================================\n",
      "0:\tlearn: 0.8215744\ttest: 0.9334298\ttest1: 0.8246457\tbest: 0.8246457 (0)\ttotal: 76.2ms\tremaining: 1m 16s\n",
      "500:\tlearn: 0.9596630\ttest: 0.9823433\ttest1: 0.9255408\tbest: 0.9283182 (398)\ttotal: 16.6s\tremaining: 16.5s\n",
      "Stopped by overfitting detector  (200 iterations wait)\n",
      "\n",
      "bestTest = 0.9283182018\n",
      "bestIteration = 398\n",
      "\n",
      "Shrink model to first 399 iterations.\n",
      "9 Fold Validation F1 score : 0.8224278313197809\n",
      "==================================================\n",
      "0:\tlearn: 0.7913270\ttest: 0.8645732\ttest1: 0.7984428\tbest: 0.7984428 (0)\ttotal: 75.1ms\tremaining: 1m 14s\n",
      "Stopped by overfitting detector  (200 iterations wait)\n",
      "\n",
      "bestTest = 0.928665424\n",
      "bestIteration = 174\n",
      "\n",
      "Shrink model to first 175 iterations.\n",
      "10 Fold Validation F1 score : 0.8237884137334256\n",
      "0 학습 완료\n",
      "==================================================\n",
      "0:\tlearn: 0.8730221\ttest: 0.9047352\ttest1: 0.8736484\tbest: 0.8736484 (0)\ttotal: 75.9ms\tremaining: 1m 15s\n",
      "500:\tlearn: 0.9598731\ttest: 0.9836086\ttest1: 0.9084200\tbest: 0.9148659 (328)\ttotal: 17.1s\tremaining: 17s\n",
      "Stopped by overfitting detector  (200 iterations wait)\n",
      "\n",
      "bestTest = 0.9148658715\n",
      "bestIteration = 328\n",
      "\n",
      "Shrink model to first 329 iterations.\n",
      "1 Fold Validation F1 score : 0.8153994116909046\n",
      "==================================================\n",
      "0:\tlearn: 0.8522838\ttest: 0.9078517\ttest1: 0.8562268\tbest: 0.8562268 (0)\ttotal: 77.9ms\tremaining: 1m 17s\n",
      "Stopped by overfitting detector  (200 iterations wait)\n",
      "\n",
      "bestTest = 0.9124875201\n",
      "bestIteration = 233\n",
      "\n",
      "Shrink model to first 234 iterations.\n",
      "2 Fold Validation F1 score : 0.7988254139901223\n",
      "==================================================\n",
      "0:\tlearn: 0.8528090\ttest: 0.9088589\ttest1: 0.8614036\tbest: 0.8614036 (0)\ttotal: 79.8ms\tremaining: 1m 19s\n",
      "Stopped by overfitting detector  (200 iterations wait)\n",
      "\n",
      "bestTest = 0.9186239761\n",
      "bestIteration = 188\n",
      "\n",
      "Shrink model to first 189 iterations.\n",
      "3 Fold Validation F1 score : 0.8017806492925429\n",
      "==================================================\n",
      "0:\tlearn: 0.8603871\ttest: 0.9479760\ttest1: 0.8667512\tbest: 0.8667512 (0)\ttotal: 85.4ms\tremaining: 1m 25s\n",
      "500:\tlearn: 0.9582358\ttest: 0.9834729\ttest1: 0.9190306\tbest: 0.9214275 (371)\ttotal: 16.6s\tremaining: 16.5s\n",
      "Stopped by overfitting detector  (200 iterations wait)\n",
      "\n",
      "bestTest = 0.9214275446\n",
      "bestIteration = 371\n",
      "\n",
      "Shrink model to first 372 iterations.\n",
      "4 Fold Validation F1 score : 0.8247251542303987\n",
      "==================================================\n",
      "0:\tlearn: 0.8677256\ttest: 0.9020573\ttest1: 0.8882886\tbest: 0.8882886 (0)\ttotal: 73.6ms\tremaining: 1m 13s\n",
      "Stopped by overfitting detector  (200 iterations wait)\n",
      "\n",
      "bestTest = 0.9293459176\n",
      "bestIteration = 237\n",
      "\n",
      "Shrink model to first 238 iterations.\n",
      "5 Fold Validation F1 score : 0.8182500534755504\n",
      "==================================================\n",
      "0:\tlearn: 0.8001755\ttest: 0.8557725\ttest1: 0.8097256\tbest: 0.8097256 (0)\ttotal: 79.8ms\tremaining: 1m 19s\n",
      "Stopped by overfitting detector  (200 iterations wait)\n",
      "\n",
      "bestTest = 0.916066607\n",
      "bestIteration = 90\n",
      "\n",
      "Shrink model to first 91 iterations.\n",
      "6 Fold Validation F1 score : 0.8041193962637396\n",
      "==================================================\n",
      "0:\tlearn: 0.8722186\ttest: 0.9134458\ttest1: 0.8610945\tbest: 0.8610945 (0)\ttotal: 79.7ms\tremaining: 1m 19s\n",
      "500:\tlearn: 0.9599384\ttest: 0.9838356\ttest1: 0.8975542\tbest: 0.9042754 (442)\ttotal: 16.8s\tremaining: 16.7s\n",
      "Stopped by overfitting detector  (200 iterations wait)\n",
      "\n",
      "bestTest = 0.9042753555\n",
      "bestIteration = 442\n",
      "\n",
      "Shrink model to first 443 iterations.\n",
      "7 Fold Validation F1 score : 0.8174901657662412\n",
      "==================================================\n",
      "0:\tlearn: 0.7841606\ttest: 0.8976841\ttest1: 0.7840173\tbest: 0.7840173 (0)\ttotal: 81.2ms\tremaining: 1m 21s\n",
      "Stopped by overfitting detector  (200 iterations wait)\n",
      "\n",
      "bestTest = 0.9016177012\n",
      "bestIteration = 123\n",
      "\n",
      "Shrink model to first 124 iterations.\n",
      "8 Fold Validation F1 score : 0.8114075159210328\n",
      "==================================================\n",
      "0:\tlearn: 0.8451704\ttest: 0.9368326\ttest1: 0.8690432\tbest: 0.8690432 (0)\ttotal: 76.6ms\tremaining: 1m 16s\n",
      "Stopped by overfitting detector  (200 iterations wait)\n",
      "\n",
      "bestTest = 0.9288218509\n",
      "bestIteration = 142\n",
      "\n",
      "Shrink model to first 143 iterations.\n",
      "9 Fold Validation F1 score : 0.812273148492617\n",
      "==================================================\n",
      "0:\tlearn: 0.8362497\ttest: 0.9476566\ttest1: 0.8434260\tbest: 0.8434260 (0)\ttotal: 75.1ms\tremaining: 1m 15s\n",
      "500:\tlearn: 0.9582577\ttest: 0.9867260\ttest1: 0.9190495\tbest: 0.9240683 (339)\ttotal: 17.6s\tremaining: 17.5s\n",
      "Stopped by overfitting detector  (200 iterations wait)\n",
      "\n",
      "bestTest = 0.9240682898\n",
      "bestIteration = 339\n",
      "\n",
      "Shrink model to first 340 iterations.\n",
      "10 Fold Validation F1 score : 0.8182716518146429\n",
      "5 학습 완료\n",
      "==================================================\n",
      "0:\tlearn: 0.8414546\ttest: 0.9347522\ttest1: 0.8557634\tbest: 0.8557634 (0)\ttotal: 74.6ms\tremaining: 1m 14s\n",
      "500:\tlearn: 0.9599123\ttest: 0.9847954\ttest1: 0.9165844\tbest: 0.9213274 (336)\ttotal: 17.5s\tremaining: 17.4s\n",
      "Stopped by overfitting detector  (200 iterations wait)\n",
      "\n",
      "bestTest = 0.9213273634\n",
      "bestIteration = 336\n",
      "\n",
      "Shrink model to first 337 iterations.\n",
      "1 Fold Validation F1 score : 0.8325739311029843\n",
      "==================================================\n",
      "0:\tlearn: 0.8418641\ttest: 0.8799996\ttest1: 0.8474117\tbest: 0.8474117 (0)\ttotal: 84.1ms\tremaining: 1m 24s\n",
      "Stopped by overfitting detector  (200 iterations wait)\n",
      "\n",
      "bestTest = 0.9285574276\n",
      "bestIteration = 165\n",
      "\n",
      "Shrink model to first 166 iterations.\n",
      "2 Fold Validation F1 score : 0.8074144421303322\n",
      "==================================================\n",
      "0:\tlearn: 0.8499247\ttest: 0.9350425\ttest1: 0.8571675\tbest: 0.8571675 (0)\ttotal: 82.2ms\tremaining: 1m 22s\n",
      "Stopped by overfitting detector  (200 iterations wait)\n",
      "\n",
      "bestTest = 0.9120238045\n",
      "bestIteration = 225\n",
      "\n",
      "Shrink model to first 226 iterations.\n",
      "3 Fold Validation F1 score : 0.8010631680566047\n",
      "==================================================\n",
      "0:\tlearn: 0.8731811\ttest: 0.8979149\ttest1: 0.8663279\tbest: 0.8663279 (0)\ttotal: 75.6ms\tremaining: 1m 15s\n",
      "500:\tlearn: 0.9582729\ttest: 0.9838897\ttest1: 0.8997974\tbest: 0.9161630 (328)\ttotal: 19.4s\tremaining: 19.3s\n",
      "Stopped by overfitting detector  (200 iterations wait)\n",
      "\n",
      "bestTest = 0.9161630195\n",
      "bestIteration = 328\n",
      "\n",
      "Shrink model to first 329 iterations.\n",
      "4 Fold Validation F1 score : 0.8167453842851009\n",
      "==================================================\n",
      "0:\tlearn: 0.8428467\ttest: 0.9344760\ttest1: 0.8514030\tbest: 0.8514030 (0)\ttotal: 83.8ms\tremaining: 1m 23s\n",
      "Stopped by overfitting detector  (200 iterations wait)\n",
      "\n",
      "bestTest = 0.9173578796\n",
      "bestIteration = 275\n",
      "\n",
      "Shrink model to first 276 iterations.\n",
      "5 Fold Validation F1 score : 0.8089483141773081\n",
      "==================================================\n",
      "0:\tlearn: 0.8438211\ttest: 0.9346472\ttest1: 0.8381314\tbest: 0.8381314 (0)\ttotal: 67.3ms\tremaining: 1m 7s\n",
      "Stopped by overfitting detector  (200 iterations wait)\n",
      "\n",
      "bestTest = 0.9259771154\n",
      "bestIteration = 291\n",
      "\n",
      "Shrink model to first 292 iterations.\n",
      "6 Fold Validation F1 score : 0.8257653248395547\n",
      "==================================================\n",
      "0:\tlearn: 0.8743219\ttest: 0.9052427\ttest1: 0.8759913\tbest: 0.8759913 (0)\ttotal: 74.9ms\tremaining: 1m 14s\n",
      "Stopped by overfitting detector  (200 iterations wait)\n",
      "\n",
      "bestTest = 0.9125391598\n",
      "bestIteration = 278\n",
      "\n",
      "Shrink model to first 279 iterations.\n",
      "7 Fold Validation F1 score : 0.8029692082111437\n",
      "==================================================\n",
      "0:\tlearn: 0.8501683\ttest: 0.9346665\ttest1: 0.8635316\tbest: 0.8635316 (0)\ttotal: 75.2ms\tremaining: 1m 15s\n",
      "Stopped by overfitting detector  (200 iterations wait)\n",
      "\n",
      "bestTest = 0.9214149469\n",
      "bestIteration = 141\n",
      "\n",
      "Shrink model to first 142 iterations.\n",
      "8 Fold Validation F1 score : 0.8004155180309653\n",
      "==================================================\n",
      "0:\tlearn: 0.7306859\ttest: 0.7354065\ttest1: 0.7524757\tbest: 0.7524757 (0)\ttotal: 60.7ms\tremaining: 1m\n",
      "500:\tlearn: 0.9603632\ttest: 0.9845121\ttest1: 0.9105590\tbest: 0.9159996 (371)\ttotal: 17.4s\tremaining: 17.4s\n",
      "Stopped by overfitting detector  (200 iterations wait)\n",
      "\n",
      "bestTest = 0.915999634\n",
      "bestIteration = 371\n",
      "\n",
      "Shrink model to first 372 iterations.\n",
      "9 Fold Validation F1 score : 0.8291263342668127\n",
      "==================================================\n",
      "0:\tlearn: 0.7228813\ttest: 0.7358213\ttest1: 0.7338904\tbest: 0.7338904 (0)\ttotal: 82.2ms\tremaining: 1m 22s\n",
      "500:\tlearn: 0.9583302\ttest: 0.9834839\ttest1: 0.9100752\tbest: 0.9136501 (350)\ttotal: 16.6s\tremaining: 16.5s\n",
      "Stopped by overfitting detector  (200 iterations wait)\n",
      "\n",
      "bestTest = 0.91365006\n",
      "bestIteration = 350\n",
      "\n",
      "Shrink model to first 351 iterations.\n",
      "10 Fold Validation F1 score : 0.8196757425555832\n",
      "11 학습 완료\n",
      "==================================================\n",
      "0:\tlearn: 0.8466008\ttest: 0.9558771\ttest1: 0.8427111\tbest: 0.8427111 (0)\ttotal: 71.6ms\tremaining: 1m 11s\n",
      "500:\tlearn: 0.9589875\ttest: 0.9831075\ttest1: 0.9125744\tbest: 0.9202271 (335)\ttotal: 17.6s\tremaining: 17.6s\n",
      "Stopped by overfitting detector  (200 iterations wait)\n",
      "\n",
      "bestTest = 0.9202271133\n",
      "bestIteration = 335\n",
      "\n",
      "Shrink model to first 336 iterations.\n",
      "1 Fold Validation F1 score : 0.8195053356603412\n",
      "==================================================\n",
      "0:\tlearn: 0.8296385\ttest: 0.9407103\ttest1: 0.8454202\tbest: 0.8454202 (0)\ttotal: 121ms\tremaining: 2m\n",
      "Stopped by overfitting detector  (200 iterations wait)\n",
      "\n",
      "bestTest = 0.9188629804\n",
      "bestIteration = 157\n",
      "\n",
      "Shrink model to first 158 iterations.\n",
      "2 Fold Validation F1 score : 0.806586741261826\n",
      "==================================================\n",
      "0:\tlearn: 0.8285416\ttest: 0.9828763\ttest1: 0.8442808\tbest: 0.8442808 (0)\ttotal: 70.6ms\tremaining: 1m 10s\n",
      "Stopped by overfitting detector  (200 iterations wait)\n",
      "\n",
      "bestTest = 0.9130350022\n",
      "bestIteration = 191\n",
      "\n",
      "Shrink model to first 192 iterations.\n",
      "3 Fold Validation F1 score : 0.7969251014021157\n",
      "==================================================\n",
      "0:\tlearn: 0.8442984\ttest: 0.9550507\ttest1: 0.8531795\tbest: 0.8531795 (0)\ttotal: 73.5ms\tremaining: 1m 13s\n",
      "Stopped by overfitting detector  (200 iterations wait)\n",
      "\n",
      "bestTest = 0.9269312637\n",
      "bestIteration = 275\n",
      "\n",
      "Shrink model to first 276 iterations.\n",
      "4 Fold Validation F1 score : 0.8170631794291388\n",
      "==================================================\n",
      "0:\tlearn: 0.8321274\ttest: 0.8984928\ttest1: 0.8412097\tbest: 0.8412097 (0)\ttotal: 76.1ms\tremaining: 1m 16s\n",
      "Stopped by overfitting detector  (200 iterations wait)\n",
      "\n",
      "bestTest = 0.9201557452\n",
      "bestIteration = 244\n",
      "\n",
      "Shrink model to first 245 iterations.\n",
      "5 Fold Validation F1 score : 0.8114479731120103\n",
      "==================================================\n",
      "0:\tlearn: 0.8340145\ttest: 0.9712618\ttest1: 0.8612691\tbest: 0.8612691 (0)\ttotal: 73.4ms\tremaining: 1m 13s\n",
      "500:\tlearn: 0.9592200\ttest: 0.9822231\ttest1: 0.9280692\tbest: 0.9303952 (361)\ttotal: 17s\tremaining: 16.9s\n",
      "Stopped by overfitting detector  (200 iterations wait)\n",
      "\n",
      "bestTest = 0.9303952243\n",
      "bestIteration = 361\n",
      "\n",
      "Shrink model to first 362 iterations.\n",
      "6 Fold Validation F1 score : 0.826446928907219\n",
      "==================================================\n",
      "0:\tlearn: 0.8487839\ttest: 0.9527995\ttest1: 0.8393387\tbest: 0.8393387 (0)\ttotal: 77.9ms\tremaining: 1m 17s\n",
      "Stopped by overfitting detector  (200 iterations wait)\n",
      "\n",
      "bestTest = 0.9144926537\n",
      "bestIteration = 213\n",
      "\n",
      "Shrink model to first 214 iterations.\n",
      "7 Fold Validation F1 score : 0.8022536687631028\n",
      "==================================================\n",
      "0:\tlearn: 0.8382777\ttest: 0.9646942\ttest1: 0.8565763\tbest: 0.8565763 (0)\ttotal: 72.6ms\tremaining: 1m 12s\n",
      "Stopped by overfitting detector  (200 iterations wait)\n",
      "\n",
      "bestTest = 0.9233677386\n",
      "bestIteration = 270\n",
      "\n",
      "Shrink model to first 271 iterations.\n",
      "8 Fold Validation F1 score : 0.8196953177023278\n",
      "==================================================\n",
      "0:\tlearn: 0.8262934\ttest: 0.8277937\ttest1: 0.8255027\tbest: 0.8255027 (0)\ttotal: 79.8ms\tremaining: 1m 19s\n",
      "500:\tlearn: 0.9588809\ttest: 0.9857674\ttest1: 0.9145189\tbest: 0.9204006 (341)\ttotal: 16.7s\tremaining: 16.6s\n",
      "Stopped by overfitting detector  (200 iterations wait)\n",
      "\n",
      "bestTest = 0.9204005559\n",
      "bestIteration = 341\n",
      "\n",
      "Shrink model to first 342 iterations.\n",
      "9 Fold Validation F1 score : 0.8164705996827899\n",
      "==================================================\n",
      "0:\tlearn: 0.8571355\ttest: 0.9345388\ttest1: 0.8637695\tbest: 0.8637695 (0)\ttotal: 73.5ms\tremaining: 1m 13s\n",
      "Stopped by overfitting detector  (200 iterations wait)\n",
      "\n",
      "bestTest = 0.919345539\n",
      "bestIteration = 179\n",
      "\n",
      "Shrink model to first 180 iterations.\n",
      "10 Fold Validation F1 score : 0.8165382276927888\n",
      "42 학습 완료\n",
      "==================================================\n",
      "0:\tlearn: 0.8167803\ttest: 0.8548439\ttest1: 0.8228837\tbest: 0.8228837 (0)\ttotal: 80.8ms\tremaining: 1m 20s\n",
      "500:\tlearn: 0.9598017\ttest: 0.9836081\ttest1: 0.9107162\tbest: 0.9223393 (317)\ttotal: 16.7s\tremaining: 16.7s\n",
      "Stopped by overfitting detector  (200 iterations wait)\n",
      "\n",
      "bestTest = 0.922339285\n",
      "bestIteration = 317\n",
      "\n",
      "Shrink model to first 318 iterations.\n",
      "1 Fold Validation F1 score : 0.8152762340262619\n",
      "==================================================\n",
      "0:\tlearn: 0.7825102\ttest: 0.7868919\ttest1: 0.7791907\tbest: 0.7791907 (0)\ttotal: 71.6ms\tremaining: 1m 11s\n",
      "Stopped by overfitting detector  (200 iterations wait)\n",
      "\n",
      "bestTest = 0.9339878192\n",
      "bestIteration = 200\n",
      "\n",
      "Shrink model to first 201 iterations.\n",
      "2 Fold Validation F1 score : 0.8240524365916215\n",
      "==================================================\n",
      "0:\tlearn: 0.7628037\ttest: 0.7742747\ttest1: 0.7723763\tbest: 0.7723763 (0)\ttotal: 67.7ms\tremaining: 1m 7s\n",
      "Stopped by overfitting detector  (200 iterations wait)\n",
      "\n",
      "bestTest = 0.9252041717\n",
      "bestIteration = 155\n",
      "\n",
      "Shrink model to first 156 iterations.\n",
      "3 Fold Validation F1 score : 0.8105117702784428\n",
      "==================================================\n",
      "0:\tlearn: 0.7745387\ttest: 0.7846734\ttest1: 0.7626770\tbest: 0.7626770 (0)\ttotal: 83.3ms\tremaining: 1m 23s\n",
      "Stopped by overfitting detector  (200 iterations wait)\n",
      "\n",
      "bestTest = 0.9006022815\n",
      "bestIteration = 178\n",
      "\n",
      "Shrink model to first 179 iterations.\n",
      "4 Fold Validation F1 score : 0.7950347002365583\n",
      "==================================================\n",
      "0:\tlearn: 0.7826406\ttest: 0.7923258\ttest1: 0.7987576\tbest: 0.7987576 (0)\ttotal: 84.8ms\tremaining: 1m 24s\n",
      "500:\tlearn: 0.9602413\ttest: 0.9844315\ttest1: 0.9263248\tbest: 0.9275453 (480)\ttotal: 16.5s\tremaining: 16.5s\n",
      "Stopped by overfitting detector  (200 iterations wait)\n",
      "\n",
      "bestTest = 0.9275452737\n",
      "bestIteration = 480\n",
      "\n",
      "Shrink model to first 481 iterations.\n",
      "5 Fold Validation F1 score : 0.8320658663256402\n",
      "==================================================\n",
      "0:\tlearn: 0.7684360\ttest: 0.7767977\ttest1: 0.7787198\tbest: 0.7787198 (0)\ttotal: 90.7ms\tremaining: 1m 30s\n",
      "500:\tlearn: 0.9594255\ttest: 0.9811651\ttest1: 0.9296444\tbest: 0.9312656 (321)\ttotal: 17.4s\tremaining: 17.3s\n",
      "Stopped by overfitting detector  (200 iterations wait)\n",
      "\n",
      "bestTest = 0.9318279255\n",
      "bestIteration = 568\n",
      "\n",
      "Shrink model to first 569 iterations.\n",
      "6 Fold Validation F1 score : 0.8454075815317466\n",
      "==================================================\n",
      "0:\tlearn: 0.7569560\ttest: 0.7677863\ttest1: 0.7460076\tbest: 0.7460076 (0)\ttotal: 92.4ms\tremaining: 1m 32s\n",
      "Stopped by overfitting detector  (200 iterations wait)\n",
      "\n",
      "bestTest = 0.9192425897\n",
      "bestIteration = 138\n",
      "\n",
      "Shrink model to first 139 iterations.\n",
      "7 Fold Validation F1 score : 0.8001784319003381\n",
      "==================================================\n",
      "0:\tlearn: 0.7869380\ttest: 0.7885898\ttest1: 0.7708425\tbest: 0.7708425 (0)\ttotal: 80.9ms\tremaining: 1m 20s\n",
      "Stopped by overfitting detector  (200 iterations wait)\n",
      "\n",
      "bestTest = 0.9026890495\n",
      "bestIteration = 234\n",
      "\n",
      "Shrink model to first 235 iterations.\n",
      "8 Fold Validation F1 score : 0.8069690299872186\n",
      "==================================================\n",
      "0:\tlearn: 0.7728181\ttest: 0.8910407\ttest1: 0.7986459\tbest: 0.7986459 (0)\ttotal: 79.3ms\tremaining: 1m 19s\n",
      "Stopped by overfitting detector  (200 iterations wait)\n",
      "\n",
      "bestTest = 0.9113988714\n",
      "bestIteration = 220\n",
      "\n",
      "Shrink model to first 221 iterations.\n",
      "9 Fold Validation F1 score : 0.8109076873662248\n",
      "==================================================\n",
      "0:\tlearn: 0.8005244\ttest: 0.8487066\ttest1: 0.8026473\tbest: 0.8026473 (0)\ttotal: 78ms\tremaining: 1m 17s\n",
      "Stopped by overfitting detector  (200 iterations wait)\n",
      "\n",
      "bestTest = 0.9129365069\n",
      "bestIteration = 200\n",
      "\n",
      "Shrink model to first 201 iterations.\n",
      "10 Fold Validation F1 score : 0.8084984015859249\n",
      "18 학습 완료\n",
      "==================================================\n",
      "0:\tlearn: 0.7821492\ttest: 0.8369099\ttest1: 0.8119733\tbest: 0.8119733 (0)\ttotal: 76.2ms\tremaining: 1m 16s\n",
      "500:\tlearn: 0.9595056\ttest: 0.9824120\ttest1: 0.9216134\tbest: 0.9293396 (300)\ttotal: 16.2s\tremaining: 16.1s\n",
      "Stopped by overfitting detector  (200 iterations wait)\n",
      "\n",
      "bestTest = 0.9293396319\n",
      "bestIteration = 300\n",
      "\n",
      "Shrink model to first 301 iterations.\n",
      "1 Fold Validation F1 score : 0.8178463752921641\n",
      "==================================================\n",
      "0:\tlearn: 0.8011156\ttest: 0.8047442\ttest1: 0.8015850\tbest: 0.8015850 (0)\ttotal: 69.1ms\tremaining: 1m 8s\n",
      "Stopped by overfitting detector  (200 iterations wait)\n",
      "\n",
      "bestTest = 0.9204147348\n",
      "bestIteration = 231\n",
      "\n",
      "Shrink model to first 232 iterations.\n",
      "2 Fold Validation F1 score : 0.8124318675159523\n",
      "==================================================\n",
      "0:\tlearn: 0.8023134\ttest: 0.8074241\ttest1: 0.8027475\tbest: 0.8027475 (0)\ttotal: 79.7ms\tremaining: 1m 19s\n",
      "Stopped by overfitting detector  (200 iterations wait)\n",
      "\n",
      "bestTest = 0.9107379593\n",
      "bestIteration = 256\n",
      "\n",
      "Shrink model to first 257 iterations.\n",
      "3 Fold Validation F1 score : 0.7963623526900612\n",
      "==================================================\n",
      "0:\tlearn: 0.8176000\ttest: 0.8931057\ttest1: 0.8316000\tbest: 0.8316000 (0)\ttotal: 76.2ms\tremaining: 1m 16s\n",
      "500:\tlearn: 0.9599580\ttest: 0.9865479\ttest1: 0.9159469\tbest: 0.9227340 (302)\ttotal: 16.6s\tremaining: 16.6s\n",
      "Stopped by overfitting detector  (200 iterations wait)\n",
      "\n",
      "bestTest = 0.9227339855\n",
      "bestIteration = 302\n",
      "\n",
      "Shrink model to first 303 iterations.\n",
      "4 Fold Validation F1 score : 0.8299806437737473\n",
      "==================================================\n",
      "0:\tlearn: 0.8019707\ttest: 0.8050613\ttest1: 0.7954070\tbest: 0.7954070 (0)\ttotal: 83.6ms\tremaining: 1m 23s\n",
      "Stopped by overfitting detector  (200 iterations wait)\n",
      "\n",
      "bestTest = 0.9195878698\n",
      "bestIteration = 257\n",
      "\n",
      "Shrink model to first 258 iterations.\n",
      "5 Fold Validation F1 score : 0.8217029557570164\n",
      "==================================================\n",
      "0:\tlearn: 0.8072902\ttest: 0.8466402\ttest1: 0.7960636\tbest: 0.7960636 (0)\ttotal: 81.5ms\tremaining: 1m 21s\n",
      "500:\tlearn: 0.9584531\ttest: 0.9814428\ttest1: 0.9164230\tbest: 0.9197408 (318)\ttotal: 16.2s\tremaining: 16.1s\n",
      "Stopped by overfitting detector  (200 iterations wait)\n",
      "\n",
      "bestTest = 0.9197408249\n",
      "bestIteration = 318\n",
      "\n",
      "Shrink model to first 319 iterations.\n",
      "6 Fold Validation F1 score : 0.8058987624264556\n",
      "==================================================\n",
      "0:\tlearn: 0.8081561\ttest: 0.8611852\ttest1: 0.8442744\tbest: 0.8442744 (0)\ttotal: 79.4ms\tremaining: 1m 19s\n",
      "Stopped by overfitting detector  (200 iterations wait)\n",
      "\n",
      "bestTest = 0.9194142211\n",
      "bestIteration = 268\n",
      "\n",
      "Shrink model to first 269 iterations.\n",
      "7 Fold Validation F1 score : 0.821017786006845\n",
      "==================================================\n",
      "0:\tlearn: 0.8027664\ttest: 0.8060844\ttest1: 0.8009200\tbest: 0.8009200 (0)\ttotal: 73.5ms\tremaining: 1m 13s\n",
      "Stopped by overfitting detector  (200 iterations wait)\n",
      "\n",
      "bestTest = 0.9148646947\n",
      "bestIteration = 182\n",
      "\n",
      "Shrink model to first 183 iterations.\n",
      "8 Fold Validation F1 score : 0.7996968151158578\n",
      "==================================================\n",
      "0:\tlearn: 0.8405464\ttest: 0.8575408\ttest1: 0.8421011\tbest: 0.8421011 (0)\ttotal: 73.3ms\tremaining: 1m 13s\n",
      "500:\tlearn: 0.9611366\ttest: 0.9844697\ttest1: 0.9168571\tbest: 0.9205737 (455)\ttotal: 16.1s\tremaining: 16.1s\n",
      "Stopped by overfitting detector  (200 iterations wait)\n",
      "\n",
      "bestTest = 0.9205737144\n",
      "bestIteration = 455\n",
      "\n",
      "Shrink model to first 456 iterations.\n",
      "9 Fold Validation F1 score : 0.8171408435999163\n",
      "==================================================\n",
      "0:\tlearn: 0.8157740\ttest: 0.9538193\ttest1: 0.8153447\tbest: 0.8153447 (0)\ttotal: 73.1ms\tremaining: 1m 13s\n",
      "Stopped by overfitting detector  (200 iterations wait)\n",
      "\n",
      "bestTest = 0.9132815541\n",
      "bestIteration = 238\n",
      "\n",
      "Shrink model to first 239 iterations.\n",
      "10 Fold Validation F1 score : 0.8098092133945068\n",
      "19 학습 완료\n",
      "Validation : F1 scores for each fold: [0.8181786463489626, 0.8169463706148248, 0.8085197030987517, 0.8134812741288252, 0.8129251700680273, 0.8142062475035171, 0.8072992700729926, 0.8165424880473491, 0.8224278313197809, 0.8237884137334256, 0.8153994116909046, 0.7988254139901223, 0.8017806492925429, 0.8247251542303987, 0.8182500534755504, 0.8041193962637396, 0.8174901657662412, 0.8114075159210328, 0.812273148492617, 0.8182716518146429, 0.8325739311029843, 0.8074144421303322, 0.8010631680566047, 0.8167453842851009, 0.8089483141773081, 0.8257653248395547, 0.8029692082111437, 0.8004155180309653, 0.8291263342668127, 0.8196757425555832, 0.8195053356603412, 0.806586741261826, 0.7969251014021157, 0.8170631794291388, 0.8114479731120103, 0.826446928907219, 0.8022536687631028, 0.8196953177023278, 0.8164705996827899, 0.8165382276927888, 0.8152762340262619, 0.8240524365916215, 0.8105117702784428, 0.7950347002365583, 0.8320658663256402, 0.8454075815317466, 0.8001784319003381, 0.8069690299872186, 0.8109076873662248, 0.8084984015859249, 0.8178463752921641, 0.8124318675159523, 0.7963623526900612, 0.8299806437737473, 0.8217029557570164, 0.8058987624264556, 0.821017786006845, 0.7996968151158578, 0.8171408435999163, 0.8098092133945068]\n",
      "Validation : F1: 0.8139213028757801\n"
     ]
    }
   ],
   "source": [
    "# 경고 끄기\n",
    "pd.set_option('mode.chained_assignment', None)\n",
    "warnings.filterwarnings(action='ignore')\n",
    "from sklearn.model_selection import StratifiedGroupKFold\n",
    "\n",
    "is_holdout = False\n",
    "\n",
    "model_cat_without_lead = []\n",
    "f1_scores_without_lead = []\n",
    "n_split_list_without_lead = [10]\n",
    "for state in [0,5,11,42,18,19]:\n",
    "    for split in n_split_list_without_lead:\n",
    "        fold_idx = 1\n",
    "        cv = StratifiedKFold(n_splits=split, shuffle=True, random_state=state)\n",
    "        for train_index, valid_index in cv.split(X_without_lead,y_without_lead):\n",
    "            X_train, X_valid = X_without_lead.iloc[train_index], X_without_lead.iloc[valid_index]\n",
    "            Y_train, Y_valid = y_without_lead[train_index], y_without_lead[valid_index]\n",
    "            print(\"=\"*50)\n",
    "            pos_weight = len(Y_train)/sum(Y_train)\n",
    "\n",
    "            model = CatBoostClassifier(iterations=1000,\n",
    "                                   random_state=state,\n",
    "                                   task_type=\"CPU\",\n",
    "                                   depth = 5,\n",
    "                                   eval_metric=\"F1\",\n",
    "                                   #class_weights = {0: (0.1), 1: (1.1)},\n",
    "                                   scale_pos_weight=pos_weight,\n",
    "                                   bootstrap_type='Bayesian',  # Bayesian Bootstrap 사용\n",
    "                                   random_strength = 4,\n",
    "                                   cat_features=cat_features_without_lead,\n",
    "                                   l2_leaf_reg = 5,\n",
    "                                   bagging_temperature = 0.5,\n",
    "                                   one_hot_max_size=8,\n",
    "                                   grow_policy='Depthwise',\n",
    "                                   learning_rate=0.1\n",
    "                                      )   \n",
    "\n",
    "            model.fit(X_train, Y_train, \n",
    "                      eval_set=[(X_train, Y_train), (X_valid, Y_valid)], \n",
    "                      early_stopping_rounds=200, \n",
    "                      verbose=500)\n",
    "            \n",
    "            pred = model.predict_proba(X_valid)[:,1]\n",
    "            threshold = 0.5\n",
    "\n",
    "            pred = np.where(pred >= threshold , True, False)\n",
    "            score = f1_score(Y_valid, pred, labels=[True, False], average = 'macro')\n",
    "            print(fold_idx,\"Fold Validation F1 score :\", score)\n",
    "            f1_scores_without_lead.append(score)\n",
    "            model_cat_without_lead.append(model)\n",
    "            fold_idx += 1\n",
    "            \n",
    "            gc.collect()\n",
    "            \n",
    "            if is_holdout:\n",
    "                break \n",
    "    print(state,'학습 완료')        \n",
    "        \n",
    "print(\"Validation : F1 scores for each fold:\", f1_scores_without_lead)\n",
    "print(\"Validation : F1:\", np.mean(f1_scores_without_lead))"
   ]
  },
  {
   "cell_type": "markdown",
   "id": "071cae9d",
   "metadata": {},
   "source": [
    "---\n",
    "### ***😀CAT Boost without all***"
   ]
  },
  {
   "cell_type": "code",
   "execution_count": 233,
   "id": "7f09aabc",
   "metadata": {},
   "outputs": [],
   "source": [
    "X_without_all = df_train.drop(columns = ['is_converted'])\n",
    "X_without_all = X_without_all.drop(columns = ['customer_idx'])\n",
    "X_without_all = X_without_all.drop(columns = ['lead_owner'])\n",
    "y_without_all = df_train['is_converted'].values"
   ]
  },
  {
   "cell_type": "code",
   "execution_count": 234,
   "id": "ed395104",
   "metadata": {},
   "outputs": [],
   "source": [
    "cat_features_without_all = object_columns.copy()\n",
    "cat_features_without_all.remove('customer_idx')\n",
    "cat_features_without_all.remove('lead_owner')"
   ]
  },
  {
   "cell_type": "code",
   "execution_count": 235,
   "id": "aa77a3ee",
   "metadata": {
    "scrolled": true
   },
   "outputs": [
    {
     "name": "stdout",
     "output_type": "stream",
     "text": [
      "==================================================\n",
      "0:\tlearn: 0.7928277\ttest: 0.7925809\ttest1: 0.7915416\tbest: 0.7915416 (0)\ttotal: 75.4ms\tremaining: 1m 15s\n",
      "500:\tlearn: 0.9252787\ttest: 0.9278288\ttest1: 0.8730024\tbest: 0.8741581 (430)\ttotal: 16.2s\tremaining: 16.1s\n",
      "Stopped by overfitting detector  (200 iterations wait)\n",
      "\n",
      "bestTest = 0.8750933821\n",
      "bestIteration = 525\n",
      "\n",
      "Shrink model to first 526 iterations.\n",
      "1 Fold Validation F1 score : 0.7321229351961964\n",
      "==================================================\n",
      "0:\tlearn: 0.7904106\ttest: 0.7933373\ttest1: 0.8011683\tbest: 0.8011683 (0)\ttotal: 77.2ms\tremaining: 1m 17s\n",
      "Stopped by overfitting detector  (200 iterations wait)\n",
      "\n",
      "bestTest = 0.8796811006\n",
      "bestIteration = 202\n",
      "\n",
      "Shrink model to first 203 iterations.\n",
      "2 Fold Validation F1 score : 0.6983451536643026\n",
      "==================================================\n",
      "0:\tlearn: 0.7911910\ttest: 0.7922049\ttest1: 0.7992456\tbest: 0.7992456 (0)\ttotal: 76.8ms\tremaining: 1m 16s\n",
      "500:\tlearn: 0.9273089\ttest: 0.9262743\ttest1: 0.8715573\tbest: 0.8851425 (384)\ttotal: 16.4s\tremaining: 16.3s\n",
      "Stopped by overfitting detector  (200 iterations wait)\n",
      "\n",
      "bestTest = 0.8851424664\n",
      "bestIteration = 384\n",
      "\n",
      "Shrink model to first 385 iterations.\n",
      "3 Fold Validation F1 score : 0.7245999776211257\n",
      "==================================================\n",
      "0:\tlearn: 0.7973153\ttest: 0.8001420\ttest1: 0.7833397\tbest: 0.7833397 (0)\ttotal: 78ms\tremaining: 1m 17s\n",
      "500:\tlearn: 0.9270693\ttest: 0.9295549\ttest1: 0.8731934\tbest: 0.8796286 (475)\ttotal: 16.4s\tremaining: 16.3s\n",
      "Stopped by overfitting detector  (200 iterations wait)\n",
      "\n",
      "bestTest = 0.8796285609\n",
      "bestIteration = 475\n",
      "\n",
      "Shrink model to first 476 iterations.\n",
      "4 Fold Validation F1 score : 0.7333028909401262\n",
      "==================================================\n",
      "0:\tlearn: 0.7898196\ttest: 0.7914850\ttest1: 0.7849757\tbest: 0.7849757 (0)\ttotal: 74.5ms\tremaining: 1m 14s\n",
      "Stopped by overfitting detector  (200 iterations wait)\n",
      "\n",
      "bestTest = 0.8562356652\n",
      "bestIteration = 188\n",
      "\n",
      "Shrink model to first 189 iterations.\n",
      "5 Fold Validation F1 score : 0.6839346565939594\n",
      "==================================================\n",
      "0:\tlearn: 0.8010133\ttest: 0.8047495\ttest1: 0.7910042\tbest: 0.7910042 (0)\ttotal: 76.9ms\tremaining: 1m 16s\n",
      "Stopped by overfitting detector  (200 iterations wait)\n",
      "\n",
      "bestTest = 0.8814107514\n",
      "bestIteration = 290\n",
      "\n",
      "Shrink model to first 291 iterations.\n",
      "6 Fold Validation F1 score : 0.7134743659151966\n",
      "==================================================\n",
      "0:\tlearn: 0.7933954\ttest: 0.7919197\ttest1: 0.7933643\tbest: 0.7933643 (0)\ttotal: 79.4ms\tremaining: 1m 19s\n",
      "Stopped by overfitting detector  (200 iterations wait)\n",
      "\n",
      "bestTest = 0.8610748058\n",
      "bestIteration = 215\n",
      "\n",
      "Shrink model to first 216 iterations.\n",
      "7 Fold Validation F1 score : 0.7051832545322763\n",
      "==================================================\n",
      "0:\tlearn: 0.7924200\ttest: 0.7919609\ttest1: 0.7926005\tbest: 0.7926005 (0)\ttotal: 77.9ms\tremaining: 1m 17s\n",
      "500:\tlearn: 0.9249443\ttest: 0.9249351\ttest1: 0.8649018\tbest: 0.8716911 (420)\ttotal: 16.4s\tremaining: 16.3s\n",
      "Stopped by overfitting detector  (200 iterations wait)\n",
      "\n",
      "bestTest = 0.8716910671\n",
      "bestIteration = 420\n",
      "\n",
      "Shrink model to first 421 iterations.\n",
      "8 Fold Validation F1 score : 0.7227462946817785\n",
      "==================================================\n",
      "0:\tlearn: 0.7459704\ttest: 0.7501606\ttest1: 0.7237355\tbest: 0.7237355 (0)\ttotal: 70.4ms\tremaining: 1m 10s\n",
      "500:\tlearn: 0.9262939\ttest: 0.9296882\ttest1: 0.8706062\tbest: 0.8743523 (491)\ttotal: 16.4s\tremaining: 16.3s\n",
      "Stopped by overfitting detector  (200 iterations wait)\n",
      "\n",
      "bestTest = 0.8743522978\n",
      "bestIteration = 491\n",
      "\n",
      "Shrink model to first 492 iterations.\n",
      "9 Fold Validation F1 score : 0.7273032487670597\n",
      "==================================================\n",
      "0:\tlearn: 0.7792640\ttest: 0.7816189\ttest1: 0.7807455\tbest: 0.7807455 (0)\ttotal: 67.1ms\tremaining: 1m 7s\n",
      "Stopped by overfitting detector  (200 iterations wait)\n",
      "\n",
      "bestTest = 0.8887310191\n",
      "bestIteration = 209\n",
      "\n",
      "Shrink model to first 210 iterations.\n",
      "10 Fold Validation F1 score : 0.7112571269642609\n",
      "0 학습 완료\n",
      "==================================================\n",
      "0:\tlearn: 0.7994748\ttest: 0.8002952\ttest1: 0.7948831\tbest: 0.7948831 (0)\ttotal: 77.4ms\tremaining: 1m 17s\n",
      "500:\tlearn: 0.9279237\ttest: 0.9276570\ttest1: 0.8604380\tbest: 0.8663850 (385)\ttotal: 16.3s\tremaining: 16.3s\n",
      "Stopped by overfitting detector  (200 iterations wait)\n",
      "\n",
      "bestTest = 0.8663849515\n",
      "bestIteration = 385\n",
      "\n",
      "Shrink model to first 386 iterations.\n",
      "1 Fold Validation F1 score : 0.7163316563251039\n",
      "==================================================\n",
      "0:\tlearn: 0.8030148\ttest: 0.8053048\ttest1: 0.8105257\tbest: 0.8105257 (0)\ttotal: 75.8ms\tremaining: 1m 15s\n",
      "500:\tlearn: 0.9280759\ttest: 0.9301658\ttest1: 0.8704708\tbest: 0.8722812 (463)\ttotal: 16.2s\tremaining: 16.2s\n",
      "Stopped by overfitting detector  (200 iterations wait)\n",
      "\n",
      "bestTest = 0.8724880321\n",
      "bestIteration = 646\n",
      "\n",
      "Shrink model to first 647 iterations.\n",
      "2 Fold Validation F1 score : 0.7314211771866761\n",
      "==================================================\n",
      "0:\tlearn: 0.8116650\ttest: 0.8137744\ttest1: 0.7967476\tbest: 0.7967476 (0)\ttotal: 72.2ms\tremaining: 1m 12s\n",
      "500:\tlearn: 0.9267366\ttest: 0.9274748\ttest1: 0.8695207\tbest: 0.8748920 (480)\ttotal: 16.5s\tremaining: 16.5s\n",
      "Stopped by overfitting detector  (200 iterations wait)\n",
      "\n",
      "bestTest = 0.874892041\n",
      "bestIteration = 480\n",
      "\n",
      "Shrink model to first 481 iterations.\n",
      "3 Fold Validation F1 score : 0.7195924751318679\n",
      "==================================================\n",
      "0:\tlearn: 0.8108307\ttest: 0.8122515\ttest1: 0.8126585\tbest: 0.8126585 (0)\ttotal: 80.8ms\tremaining: 1m 20s\n",
      "Stopped by overfitting detector  (200 iterations wait)\n",
      "\n",
      "bestTest = 0.8678595628\n",
      "bestIteration = 262\n",
      "\n",
      "Shrink model to first 263 iterations.\n",
      "4 Fold Validation F1 score : 0.708962956397247\n",
      "==================================================\n",
      "0:\tlearn: 0.7943337\ttest: 0.7976393\ttest1: 0.8070207\tbest: 0.8070207 (0)\ttotal: 77.3ms\tremaining: 1m 17s\n",
      "500:\tlearn: 0.9282878\ttest: 0.9299825\ttest1: 0.8658403\tbest: 0.8784439 (326)\ttotal: 16.4s\tremaining: 16.3s\n",
      "Stopped by overfitting detector  (200 iterations wait)\n",
      "\n",
      "bestTest = 0.8784438916\n",
      "bestIteration = 326\n",
      "\n",
      "Shrink model to first 327 iterations.\n",
      "5 Fold Validation F1 score : 0.7117550169753605\n",
      "==================================================\n",
      "0:\tlearn: 0.7923895\ttest: 0.7940635\ttest1: 0.8100488\tbest: 0.8100488 (0)\ttotal: 76.9ms\tremaining: 1m 16s\n",
      "500:\tlearn: 0.9277542\ttest: 0.9295633\ttest1: 0.8835323\tbest: 0.8870590 (351)\ttotal: 16.3s\tremaining: 16.3s\n",
      "Stopped by overfitting detector  (200 iterations wait)\n",
      "\n",
      "bestTest = 0.8870590273\n",
      "bestIteration = 351\n",
      "\n",
      "Shrink model to first 352 iterations.\n",
      "6 Fold Validation F1 score : 0.7211380347194813\n",
      "==================================================\n",
      "0:\tlearn: 0.7937739\ttest: 0.7929432\ttest1: 0.7583305\tbest: 0.7583305 (0)\ttotal: 72.5ms\tremaining: 1m 12s\n",
      "500:\tlearn: 0.9278076\ttest: 0.9292753\ttest1: 0.8540851\tbest: 0.8554097 (494)\ttotal: 16.3s\tremaining: 16.3s\n",
      "Stopped by overfitting detector  (200 iterations wait)\n",
      "\n",
      "bestTest = 0.8574688137\n",
      "bestIteration = 530\n",
      "\n",
      "Shrink model to first 531 iterations.\n",
      "7 Fold Validation F1 score : 0.7296791722422084\n",
      "==================================================\n",
      "0:\tlearn: 0.7900951\ttest: 0.7926686\ttest1: 0.7858592\tbest: 0.7858592 (0)\ttotal: 73.1ms\tremaining: 1m 13s\n",
      "500:\tlearn: 0.9277891\ttest: 0.9299511\ttest1: 0.8666206\tbest: 0.8687141 (440)\ttotal: 16.3s\tremaining: 16.3s\n",
      "Stopped by overfitting detector  (200 iterations wait)\n",
      "\n",
      "bestTest = 0.8687141189\n",
      "bestIteration = 440\n",
      "\n",
      "Shrink model to first 441 iterations.\n",
      "8 Fold Validation F1 score : 0.7299819153754847\n",
      "==================================================\n",
      "0:\tlearn: 0.7636487\ttest: 0.7623933\ttest1: 0.7612189\tbest: 0.7612189 (0)\ttotal: 71.6ms\tremaining: 1m 11s\n",
      "Stopped by overfitting detector  (200 iterations wait)\n",
      "\n",
      "bestTest = 0.8784331521\n",
      "bestIteration = 207\n",
      "\n",
      "Shrink model to first 208 iterations.\n",
      "9 Fold Validation F1 score : 0.7060254791377143\n",
      "==================================================\n",
      "0:\tlearn: 0.7812056\ttest: 0.7798543\ttest1: 0.7599821\tbest: 0.7599821 (0)\ttotal: 77ms\tremaining: 1m 16s\n",
      "500:\tlearn: 0.9259703\ttest: 0.9290586\ttest1: 0.8673691\tbest: 0.8765968 (348)\ttotal: 16.5s\tremaining: 16.4s\n",
      "Stopped by overfitting detector  (200 iterations wait)\n",
      "\n",
      "bestTest = 0.8765968349\n",
      "bestIteration = 348\n",
      "\n",
      "Shrink model to first 349 iterations.\n",
      "10 Fold Validation F1 score : 0.7124612536064595\n",
      "5 학습 완료\n",
      "==================================================\n",
      "0:\tlearn: 0.7904807\ttest: 0.7929944\ttest1: 0.7843955\tbest: 0.7843955 (0)\ttotal: 68.4ms\tremaining: 1m 8s\n",
      "500:\tlearn: 0.9276911\ttest: 0.9311110\ttest1: 0.8609288\tbest: 0.8692249 (345)\ttotal: 16.6s\tremaining: 16.5s\n",
      "Stopped by overfitting detector  (200 iterations wait)\n",
      "\n",
      "bestTest = 0.8692249225\n",
      "bestIteration = 345\n",
      "\n",
      "Shrink model to first 346 iterations.\n",
      "1 Fold Validation F1 score : 0.7239944708184687\n",
      "==================================================\n",
      "0:\tlearn: 0.7532203\ttest: 0.7603973\ttest1: 0.7606553\tbest: 0.7606553 (0)\ttotal: 74.8ms\tremaining: 1m 14s\n",
      "Stopped by overfitting detector  (200 iterations wait)\n",
      "\n",
      "bestTest = 0.8857935094\n",
      "bestIteration = 285\n",
      "\n",
      "Shrink model to first 286 iterations.\n",
      "2 Fold Validation F1 score : 0.711898696829816\n",
      "==================================================\n",
      "0:\tlearn: 0.7808647\ttest: 0.7868256\ttest1: 0.7660259\tbest: 0.7660259 (0)\ttotal: 68.4ms\tremaining: 1m 8s\n",
      "500:\tlearn: 0.9279009\ttest: 0.9294073\ttest1: 0.8614927\tbest: 0.8629524 (458)\ttotal: 16.6s\tremaining: 16.5s\n",
      "Stopped by overfitting detector  (200 iterations wait)\n",
      "\n",
      "bestTest = 0.8629523885\n",
      "bestIteration = 458\n",
      "\n",
      "Shrink model to first 459 iterations.\n",
      "3 Fold Validation F1 score : 0.7227867705824274\n",
      "==================================================\n",
      "0:\tlearn: 0.7905700\ttest: 0.7932562\ttest1: 0.7753124\tbest: 0.7753124 (0)\ttotal: 76.3ms\tremaining: 1m 16s\n",
      "500:\tlearn: 0.9287068\ttest: 0.9288836\ttest1: 0.8722420\tbest: 0.8742239 (471)\ttotal: 16.5s\tremaining: 16.5s\n",
      "Stopped by overfitting detector  (200 iterations wait)\n",
      "\n",
      "bestTest = 0.8743423441\n",
      "bestIteration = 545\n",
      "\n",
      "Shrink model to first 546 iterations.\n",
      "4 Fold Validation F1 score : 0.7336912530546397\n",
      "==================================================\n",
      "0:\tlearn: 0.7892006\ttest: 0.7930467\ttest1: 0.8052177\tbest: 0.8052177 (0)\ttotal: 59.2ms\tremaining: 59.1s\n",
      "500:\tlearn: 0.9260435\ttest: 0.9287015\ttest1: 0.8732897\tbest: 0.8763964 (424)\ttotal: 16.3s\tremaining: 16.2s\n",
      "Stopped by overfitting detector  (200 iterations wait)\n",
      "\n",
      "bestTest = 0.8763964304\n",
      "bestIteration = 424\n",
      "\n",
      "Shrink model to first 425 iterations.\n",
      "5 Fold Validation F1 score : 0.720824923211935\n",
      "==================================================\n",
      "0:\tlearn: 0.7907075\ttest: 0.7925460\ttest1: 0.8020452\tbest: 0.8020452 (0)\ttotal: 67.5ms\tremaining: 1m 7s\n",
      "Stopped by overfitting detector  (200 iterations wait)\n",
      "\n",
      "bestTest = 0.8756281615\n",
      "bestIteration = 158\n",
      "\n",
      "Shrink model to first 159 iterations.\n",
      "6 Fold Validation F1 score : 0.7098174641233305\n",
      "==================================================\n",
      "0:\tlearn: 0.7917989\ttest: 0.7962827\ttest1: 0.7925309\tbest: 0.7925309 (0)\ttotal: 66.3ms\tremaining: 1m 6s\n",
      "500:\tlearn: 0.9266348\ttest: 0.9291728\ttest1: 0.8610001\tbest: 0.8689079 (353)\ttotal: 16.3s\tremaining: 16.2s\n",
      "Stopped by overfitting detector  (200 iterations wait)\n",
      "\n",
      "bestTest = 0.8689078922\n",
      "bestIteration = 353\n",
      "\n",
      "Shrink model to first 354 iterations.\n",
      "7 Fold Validation F1 score : 0.7118526203584845\n",
      "==================================================\n",
      "0:\tlearn: 0.7856495\ttest: 0.7879769\ttest1: 0.7984401\tbest: 0.7984401 (0)\ttotal: 61.6ms\tremaining: 1m 1s\n",
      "Stopped by overfitting detector  (200 iterations wait)\n",
      "\n",
      "bestTest = 0.8829823227\n",
      "bestIteration = 207\n",
      "\n",
      "Shrink model to first 208 iterations.\n",
      "8 Fold Validation F1 score : 0.7043331176882851\n",
      "==================================================\n",
      "0:\tlearn: 0.7963631\ttest: 0.8028570\ttest1: 0.8016622\tbest: 0.8016622 (0)\ttotal: 73.8ms\tremaining: 1m 13s\n",
      "500:\tlearn: 0.9268112\ttest: 0.9293259\ttest1: 0.8723756\tbest: 0.8828450 (366)\ttotal: 16.4s\tremaining: 16.3s\n",
      "Stopped by overfitting detector  (200 iterations wait)\n",
      "\n",
      "bestTest = 0.8828450123\n",
      "bestIteration = 366\n",
      "\n",
      "Shrink model to first 367 iterations.\n",
      "9 Fold Validation F1 score : 0.7208271663775859\n",
      "==================================================\n",
      "0:\tlearn: 0.7631566\ttest: 0.7827774\ttest1: 0.7739105\tbest: 0.7739105 (0)\ttotal: 66.2ms\tremaining: 1m 6s\n",
      "500:\tlearn: 0.9255918\ttest: 0.9282518\ttest1: 0.8575097\tbest: 0.8649372 (420)\ttotal: 16.3s\tremaining: 16.2s\n",
      "Stopped by overfitting detector  (200 iterations wait)\n",
      "\n",
      "bestTest = 0.8649372164\n",
      "bestIteration = 420\n",
      "\n",
      "Shrink model to first 421 iterations.\n",
      "10 Fold Validation F1 score : 0.7128264520940837\n",
      "11 학습 완료\n",
      "==================================================\n",
      "0:\tlearn: 0.6885369\ttest: 0.6979245\ttest1: 0.6620517\tbest: 0.6620517 (0)\ttotal: 75.9ms\tremaining: 1m 15s\n",
      "500:\tlearn: 0.9278681\ttest: 0.9296972\ttest1: 0.8674557\tbest: 0.8731485 (402)\ttotal: 16.5s\tremaining: 16.4s\n",
      "Stopped by overfitting detector  (200 iterations wait)\n",
      "\n",
      "bestTest = 0.8731485292\n",
      "bestIteration = 402\n",
      "\n",
      "Shrink model to first 403 iterations.\n",
      "1 Fold Validation F1 score : 0.7202016200860165\n",
      "==================================================\n",
      "0:\tlearn: 0.7704158\ttest: 0.7808253\ttest1: 0.7761268\tbest: 0.7761268 (0)\ttotal: 75.1ms\tremaining: 1m 14s\n",
      "500:\tlearn: 0.9274109\ttest: 0.9315432\ttest1: 0.8553554\tbest: 0.8734324 (360)\ttotal: 16.5s\tremaining: 16.4s\n",
      "Stopped by overfitting detector  (200 iterations wait)\n",
      "\n",
      "bestTest = 0.873432441\n",
      "bestIteration = 360\n",
      "\n",
      "Shrink model to first 361 iterations.\n",
      "2 Fold Validation F1 score : 0.7154891906014472\n",
      "==================================================\n",
      "0:\tlearn: 0.6978692\ttest: 0.6974431\ttest1: 0.7078867\tbest: 0.7078867 (0)\ttotal: 74.1ms\tremaining: 1m 13s\n",
      "Stopped by overfitting detector  (200 iterations wait)\n",
      "\n",
      "bestTest = 0.8649909178\n",
      "bestIteration = 192\n",
      "\n",
      "Shrink model to first 193 iterations.\n",
      "3 Fold Validation F1 score : 0.6875119339546014\n",
      "==================================================\n",
      "0:\tlearn: 0.7388987\ttest: 0.7618688\ttest1: 0.7471936\tbest: 0.7471936 (0)\ttotal: 79.6ms\tremaining: 1m 19s\n",
      "500:\tlearn: 0.9274492\ttest: 0.9281588\ttest1: 0.8711212\tbest: 0.8782715 (303)\ttotal: 16.4s\tremaining: 16.3s\n",
      "Stopped by overfitting detector  (200 iterations wait)\n",
      "\n",
      "bestTest = 0.8782714658\n",
      "bestIteration = 303\n",
      "\n",
      "Shrink model to first 304 iterations.\n",
      "4 Fold Validation F1 score : 0.7056040841032998\n",
      "==================================================\n",
      "0:\tlearn: 0.7502875\ttest: 0.7721791\ttest1: 0.7572442\tbest: 0.7572442 (0)\ttotal: 75ms\tremaining: 1m 14s\n",
      "Stopped by overfitting detector  (200 iterations wait)\n",
      "\n",
      "bestTest = 0.8662819288\n",
      "bestIteration = 284\n",
      "\n",
      "Shrink model to first 285 iterations.\n",
      "5 Fold Validation F1 score : 0.7105529058470235\n",
      "==================================================\n",
      "0:\tlearn: 0.7546772\ttest: 0.7688562\ttest1: 0.7671910\tbest: 0.7671910 (0)\ttotal: 74ms\tremaining: 1m 13s\n",
      "500:\tlearn: 0.9264408\ttest: 0.9296788\ttest1: 0.8914642\tbest: 0.8926981 (499)\ttotal: 16.6s\tremaining: 16.5s\n",
      "Stopped by overfitting detector  (200 iterations wait)\n",
      "\n",
      "bestTest = 0.8926980522\n",
      "bestIteration = 499\n",
      "\n",
      "Shrink model to first 500 iterations.\n",
      "6 Fold Validation F1 score : 0.7374004536644287\n",
      "==================================================\n",
      "0:\tlearn: 0.7369647\ttest: 0.7587054\ttest1: 0.7647356\tbest: 0.7647356 (0)\ttotal: 77.5ms\tremaining: 1m 17s\n",
      "500:\tlearn: 0.9279564\ttest: 0.9322985\ttest1: 0.8652722\tbest: 0.8780409 (307)\ttotal: 16.3s\tremaining: 16.3s\n",
      "Stopped by overfitting detector  (200 iterations wait)\n",
      "\n",
      "bestTest = 0.8780408538\n",
      "bestIteration = 307\n",
      "\n",
      "Shrink model to first 308 iterations.\n",
      "7 Fold Validation F1 score : 0.7104320451584889\n",
      "==================================================\n",
      "0:\tlearn: 0.7694058\ttest: 0.7769868\ttest1: 0.7698017\tbest: 0.7698017 (0)\ttotal: 76.3ms\tremaining: 1m 16s\n",
      "Stopped by overfitting detector  (200 iterations wait)\n",
      "\n",
      "bestTest = 0.8744660111\n",
      "bestIteration = 231\n",
      "\n",
      "Shrink model to first 232 iterations.\n",
      "8 Fold Validation F1 score : 0.7038274548082519\n",
      "==================================================\n",
      "0:\tlearn: 0.7573414\ttest: 0.7659007\ttest1: 0.7713968\tbest: 0.7713968 (0)\ttotal: 66.4ms\tremaining: 1m 6s\n",
      "Stopped by overfitting detector  (200 iterations wait)\n",
      "\n",
      "bestTest = 0.8755071353\n",
      "bestIteration = 263\n",
      "\n",
      "Shrink model to first 264 iterations.\n",
      "9 Fold Validation F1 score : 0.712374982695871\n",
      "==================================================\n",
      "0:\tlearn: 0.7918831\ttest: 0.7964086\ttest1: 0.7923582\tbest: 0.7923582 (0)\ttotal: 71.2ms\tremaining: 1m 11s\n",
      "500:\tlearn: 0.9262849\ttest: 0.9291390\ttest1: 0.8767688\tbest: 0.8805988 (347)\ttotal: 16.3s\tremaining: 16.2s\n",
      "Stopped by overfitting detector  (200 iterations wait)\n",
      "\n",
      "bestTest = 0.8805988213\n",
      "bestIteration = 347\n",
      "\n",
      "Shrink model to first 348 iterations.\n",
      "10 Fold Validation F1 score : 0.7206723973919723\n",
      "42 학습 완료\n",
      "==================================================\n",
      "0:\tlearn: 0.7523082\ttest: 0.7509880\ttest1: 0.7493814\tbest: 0.7493814 (0)\ttotal: 71.6ms\tremaining: 1m 11s\n",
      "500:\tlearn: 0.9272681\ttest: 0.9301956\ttest1: 0.8752958\tbest: 0.8825583 (391)\ttotal: 16.4s\tremaining: 16.3s\n",
      "Stopped by overfitting detector  (200 iterations wait)\n",
      "\n",
      "bestTest = 0.8825582914\n",
      "bestIteration = 391\n",
      "\n",
      "Shrink model to first 392 iterations.\n",
      "1 Fold Validation F1 score : 0.7288446237781314\n",
      "==================================================\n",
      "0:\tlearn: 0.7976083\ttest: 0.8033491\ttest1: 0.7944264\tbest: 0.7944264 (0)\ttotal: 70.2ms\tremaining: 1m 10s\n",
      "Stopped by overfitting detector  (200 iterations wait)\n",
      "\n",
      "bestTest = 0.8755115951\n",
      "bestIteration = 213\n",
      "\n",
      "Shrink model to first 214 iterations.\n",
      "2 Fold Validation F1 score : 0.7015468406290651\n",
      "==================================================\n",
      "0:\tlearn: 0.7810082\ttest: 0.7865068\ttest1: 0.7859698\tbest: 0.7859698 (0)\ttotal: 72.3ms\tremaining: 1m 12s\n",
      "500:\tlearn: 0.9257107\ttest: 0.9283923\ttest1: 0.8655156\tbest: 0.8688641 (313)\ttotal: 16.4s\tremaining: 16.3s\n",
      "Stopped by overfitting detector  (200 iterations wait)\n",
      "\n",
      "bestTest = 0.8688640739\n",
      "bestIteration = 313\n",
      "\n",
      "Shrink model to first 314 iterations.\n",
      "3 Fold Validation F1 score : 0.7058601842044591\n",
      "==================================================\n",
      "0:\tlearn: 0.7870506\ttest: 0.7897677\ttest1: 0.7787399\tbest: 0.7787399 (0)\ttotal: 73.6ms\tremaining: 1m 13s\n",
      "Stopped by overfitting detector  (200 iterations wait)\n",
      "\n",
      "bestTest = 0.8577728575\n",
      "bestIteration = 278\n",
      "\n",
      "Shrink model to first 279 iterations.\n",
      "4 Fold Validation F1 score : 0.7051024002486292\n",
      "==================================================\n",
      "0:\tlearn: 0.7670520\ttest: 0.7751141\ttest1: 0.7709477\tbest: 0.7709477 (0)\ttotal: 76.3ms\tremaining: 1m 16s\n",
      "Stopped by overfitting detector  (200 iterations wait)\n",
      "\n",
      "bestTest = 0.8704733475\n",
      "bestIteration = 268\n",
      "\n",
      "Shrink model to first 269 iterations.\n",
      "5 Fold Validation F1 score : 0.7102531350585135\n",
      "==================================================\n",
      "0:\tlearn: 0.7746364\ttest: 0.7788520\ttest1: 0.7856109\tbest: 0.7856109 (0)\ttotal: 72.9ms\tremaining: 1m 12s\n",
      "500:\tlearn: 0.9237399\ttest: 0.9283059\ttest1: 0.8780355\tbest: 0.8836356 (359)\ttotal: 16.5s\tremaining: 16.4s\n",
      "Stopped by overfitting detector  (200 iterations wait)\n",
      "\n",
      "bestTest = 0.883635647\n",
      "bestIteration = 359\n",
      "\n",
      "Shrink model to first 360 iterations.\n",
      "6 Fold Validation F1 score : 0.7263218731058203\n",
      "==================================================\n",
      "0:\tlearn: 0.7758105\ttest: 0.7840644\ttest1: 0.7911497\tbest: 0.7911497 (0)\ttotal: 72.6ms\tremaining: 1m 12s\n",
      "Stopped by overfitting detector  (200 iterations wait)\n",
      "\n",
      "bestTest = 0.8807649672\n",
      "bestIteration = 276\n",
      "\n",
      "Shrink model to first 277 iterations.\n",
      "7 Fold Validation F1 score : 0.712366461054739\n",
      "==================================================\n",
      "0:\tlearn: 0.7617641\ttest: 0.7761277\ttest1: 0.7563026\tbest: 0.7563026 (0)\ttotal: 70.7ms\tremaining: 1m 10s\n",
      "500:\tlearn: 0.9269302\ttest: 0.9295367\ttest1: 0.8594527\tbest: 0.8668328 (476)\ttotal: 16.5s\tremaining: 16.4s\n",
      "Stopped by overfitting detector  (200 iterations wait)\n",
      "\n",
      "bestTest = 0.8668328223\n",
      "bestIteration = 476\n",
      "\n",
      "Shrink model to first 477 iterations.\n",
      "8 Fold Validation F1 score : 0.7244600369600369\n",
      "==================================================\n",
      "0:\tlearn: 0.7617190\ttest: 0.7696813\ttest1: 0.7574101\tbest: 0.7574101 (0)\ttotal: 70.6ms\tremaining: 1m 10s\n",
      "500:\tlearn: 0.9264788\ttest: 0.9275267\ttest1: 0.8552750\tbest: 0.8620575 (436)\ttotal: 16.2s\tremaining: 16.2s\n",
      "Stopped by overfitting detector  (200 iterations wait)\n",
      "\n",
      "bestTest = 0.8620575487\n",
      "bestIteration = 436\n",
      "\n",
      "Shrink model to first 437 iterations.\n",
      "9 Fold Validation F1 score : 0.7201894204740265\n",
      "==================================================\n",
      "0:\tlearn: 0.7328918\ttest: 0.7514416\ttest1: 0.7181506\tbest: 0.7181506 (0)\ttotal: 67ms\tremaining: 1m 6s\n",
      "500:\tlearn: 0.9262570\ttest: 0.9268403\ttest1: 0.8676699\tbest: 0.8721812 (408)\ttotal: 16.3s\tremaining: 16.2s\n",
      "Stopped by overfitting detector  (200 iterations wait)\n",
      "\n",
      "bestTest = 0.8721812202\n",
      "bestIteration = 408\n",
      "\n",
      "Shrink model to first 409 iterations.\n",
      "10 Fold Validation F1 score : 0.7241467465299937\n",
      "18 학습 완료\n",
      "==================================================\n",
      "0:\tlearn: 0.7828613\ttest: 0.7913073\ttest1: 0.7993374\tbest: 0.7993374 (0)\ttotal: 77.2ms\tremaining: 1m 17s\n",
      "Stopped by overfitting detector  (200 iterations wait)\n",
      "\n",
      "bestTest = 0.890597438\n",
      "bestIteration = 285\n",
      "\n",
      "Shrink model to first 286 iterations.\n",
      "1 Fold Validation F1 score : 0.7161865064230497\n",
      "==================================================\n",
      "0:\tlearn: 0.7999925\ttest: 0.8022018\ttest1: 0.7875909\tbest: 0.7875909 (0)\ttotal: 72.2ms\tremaining: 1m 12s\n",
      "500:\tlearn: 0.9277432\ttest: 0.9304507\ttest1: 0.8657055\tbest: 0.8729470 (328)\ttotal: 16.5s\tremaining: 16.4s\n",
      "Stopped by overfitting detector  (200 iterations wait)\n",
      "\n",
      "bestTest = 0.8729469893\n",
      "bestIteration = 328\n",
      "\n",
      "Shrink model to first 329 iterations.\n",
      "2 Fold Validation F1 score : 0.7141364833411121\n",
      "==================================================\n",
      "0:\tlearn: 0.8005134\ttest: 0.8043383\ttest1: 0.8045901\tbest: 0.8045901 (0)\ttotal: 76.8ms\tremaining: 1m 16s\n",
      "Stopped by overfitting detector  (200 iterations wait)\n",
      "\n",
      "bestTest = 0.8589952096\n",
      "bestIteration = 214\n",
      "\n",
      "Shrink model to first 215 iterations.\n",
      "3 Fold Validation F1 score : 0.6966823130747066\n",
      "==================================================\n",
      "0:\tlearn: 0.7390340\ttest: 0.7389499\ttest1: 0.7105217\tbest: 0.7105217 (0)\ttotal: 68.9ms\tremaining: 1m 8s\n",
      "500:\tlearn: 0.9260986\ttest: 0.9292994\ttest1: 0.8736034\tbest: 0.8779797 (338)\ttotal: 16.4s\tremaining: 16.4s\n",
      "Stopped by overfitting detector  (200 iterations wait)\n",
      "\n",
      "bestTest = 0.8779796611\n",
      "bestIteration = 338\n",
      "\n",
      "Shrink model to first 339 iterations.\n",
      "4 Fold Validation F1 score : 0.7222916688792322\n",
      "==================================================\n",
      "0:\tlearn: 0.8036438\ttest: 0.8041326\ttest1: 0.7978946\tbest: 0.7978946 (0)\ttotal: 73.6ms\tremaining: 1m 13s\n",
      "Stopped by overfitting detector  (200 iterations wait)\n",
      "\n",
      "bestTest = 0.8607543694\n",
      "bestIteration = 259\n",
      "\n",
      "Shrink model to first 260 iterations.\n",
      "5 Fold Validation F1 score : 0.7072848943932294\n",
      "==================================================\n",
      "0:\tlearn: 0.8031479\ttest: 0.8102428\ttest1: 0.8053473\tbest: 0.8053473 (0)\ttotal: 75.7ms\tremaining: 1m 15s\n",
      "500:\tlearn: 0.9265241\ttest: 0.9291721\ttest1: 0.8650169\tbest: 0.8677600 (393)\ttotal: 16.3s\tremaining: 16.3s\n",
      "Stopped by overfitting detector  (200 iterations wait)\n",
      "\n",
      "bestTest = 0.8681412694\n",
      "bestIteration = 525\n",
      "\n",
      "Shrink model to first 526 iterations.\n",
      "6 Fold Validation F1 score : 0.7157354252712332\n",
      "==================================================\n",
      "0:\tlearn: 0.7935338\ttest: 0.7998049\ttest1: 0.8020713\tbest: 0.8020713 (0)\ttotal: 75.5ms\tremaining: 1m 15s\n",
      "Stopped by overfitting detector  (200 iterations wait)\n",
      "\n",
      "bestTest = 0.8747800992\n",
      "bestIteration = 253\n",
      "\n",
      "Shrink model to first 254 iterations.\n",
      "7 Fold Validation F1 score : 0.7103900395576911\n",
      "==================================================\n",
      "0:\tlearn: 0.8013713\ttest: 0.8044655\ttest1: 0.7894270\tbest: 0.7894270 (0)\ttotal: 73.2ms\tremaining: 1m 13s\n",
      "Stopped by overfitting detector  (200 iterations wait)\n",
      "\n",
      "bestTest = 0.8815972213\n",
      "bestIteration = 275\n",
      "\n",
      "Shrink model to first 276 iterations.\n",
      "8 Fold Validation F1 score : 0.7033941258076942\n",
      "==================================================\n",
      "0:\tlearn: 0.7586263\ttest: 0.7652349\ttest1: 0.7572046\tbest: 0.7572046 (0)\ttotal: 66.9ms\tremaining: 1m 6s\n",
      "500:\tlearn: 0.9259049\ttest: 0.9280274\ttest1: 0.8698470\tbest: 0.8726883 (470)\ttotal: 16.3s\tremaining: 16.2s\n",
      "Stopped by overfitting detector  (200 iterations wait)\n",
      "\n",
      "bestTest = 0.8737685173\n",
      "bestIteration = 648\n",
      "\n",
      "Shrink model to first 649 iterations.\n",
      "9 Fold Validation F1 score : 0.7319727911416345\n",
      "==================================================\n",
      "0:\tlearn: 0.7599831\ttest: 0.7630984\ttest1: 0.7696121\tbest: 0.7696121 (0)\ttotal: 73.8ms\tremaining: 1m 13s\n",
      "500:\tlearn: 0.9258870\ttest: 0.9273275\ttest1: 0.8720791\tbest: 0.8777452 (383)\ttotal: 16.3s\tremaining: 16.2s\n",
      "Stopped by overfitting detector  (200 iterations wait)\n",
      "\n",
      "bestTest = 0.8777452338\n",
      "bestIteration = 383\n",
      "\n",
      "Shrink model to first 384 iterations.\n",
      "10 Fold Validation F1 score : 0.7277653383978545\n",
      "19 학습 완료\n",
      "Validation : F1 scores for each fold: [0.7321229351961964, 0.6983451536643026, 0.7245999776211257, 0.7333028909401262, 0.6839346565939594, 0.7134743659151966, 0.7051832545322763, 0.7227462946817785, 0.7273032487670597, 0.7112571269642609, 0.7163316563251039, 0.7314211771866761, 0.7195924751318679, 0.708962956397247, 0.7117550169753605, 0.7211380347194813, 0.7296791722422084, 0.7299819153754847, 0.7060254791377143, 0.7124612536064595, 0.7239944708184687, 0.711898696829816, 0.7227867705824274, 0.7336912530546397, 0.720824923211935, 0.7098174641233305, 0.7118526203584845, 0.7043331176882851, 0.7208271663775859, 0.7128264520940837, 0.7202016200860165, 0.7154891906014472, 0.6875119339546014, 0.7056040841032998, 0.7105529058470235, 0.7374004536644287, 0.7104320451584889, 0.7038274548082519, 0.712374982695871, 0.7206723973919723, 0.7288446237781314, 0.7015468406290651, 0.7058601842044591, 0.7051024002486292, 0.7102531350585135, 0.7263218731058203, 0.712366461054739, 0.7244600369600369, 0.7201894204740265, 0.7241467465299937, 0.7161865064230497, 0.7141364833411121, 0.6966823130747066, 0.7222916688792322, 0.7072848943932294, 0.7157354252712332, 0.7103900395576911, 0.7033941258076942, 0.7319727911416345, 0.7277653383978545]\n",
      "Validation : F1: 0.7156911725625865\n"
     ]
    }
   ],
   "source": [
    "# 경고 끄기\n",
    "pd.set_option('mode.chained_assignment', None)\n",
    "warnings.filterwarnings(action='ignore')\n",
    "from sklearn.model_selection import StratifiedGroupKFold\n",
    "\n",
    "is_holdout = False\n",
    "\n",
    "model_cat_without_all = []\n",
    "f1_scores_without_all = []\n",
    "n_split_list_without_all = [10]\n",
    "for state in [0,5,11,42,18,19]:\n",
    "    for split in n_split_list_without_all:\n",
    "        fold_idx = 1\n",
    "        cv = StratifiedKFold(n_splits=split, shuffle=True, random_state=state)\n",
    "        for train_index, valid_index in cv.split(X_without_all,y_without_all):\n",
    "            X_train, X_valid = X_without_all.iloc[train_index], X_without_all.iloc[valid_index]\n",
    "            Y_train, Y_valid = y_without_all[train_index], y_without_all[valid_index]\n",
    "            print(\"=\"*50)\n",
    "            pos_weight = len(Y_train)/sum(Y_train)\n",
    "\n",
    "            model = CatBoostClassifier(iterations=1000,\n",
    "                                   random_state=state,\n",
    "                                   task_type=\"CPU\",\n",
    "                                   depth = 5,\n",
    "                                   eval_metric=\"F1\",\n",
    "                                   #class_weights = {0: (0.1), 1: (1.1)},\n",
    "                                   scale_pos_weight=pos_weight,\n",
    "                                   bootstrap_type='Bayesian',  # Bayesian Bootstrap 사용\n",
    "                                   random_strength = 4,\n",
    "                                   cat_features=cat_features_without_all,\n",
    "                                   l2_leaf_reg = 5,\n",
    "                                   bagging_temperature = 0.5,\n",
    "                                   one_hot_max_size=8,\n",
    "                                   grow_policy='Depthwise',\n",
    "                                   learning_rate=0.1\n",
    "                                      )   \n",
    "\n",
    "            model.fit(X_train, Y_train, \n",
    "                      eval_set=[(X_train, Y_train), (X_valid, Y_valid)], \n",
    "                      early_stopping_rounds=200, \n",
    "                      verbose=500)\n",
    "            \n",
    "            pred = model.predict_proba(X_valid)[:,1]\n",
    "            threshold = 0.5\n",
    "\n",
    "            pred = np.where(pred >= threshold , True, False)\n",
    "            score = f1_score(Y_valid, pred, labels=[True, False], average = 'macro')\n",
    "            print(fold_idx,\"Fold Validation F1 score :\", score)\n",
    "            f1_scores_without_all.append(score)\n",
    "            model_cat_without_all.append(model)\n",
    "            fold_idx += 1\n",
    "            \n",
    "            gc.collect()\n",
    "            \n",
    "            if is_holdout:\n",
    "                break \n",
    "    print(state,'학습 완료')\n",
    "    \n",
    "                \n",
    "print(\"Validation : F1 scores for each fold:\", f1_scores_without_all)\n",
    "print(\"Validation : F1:\", np.mean(f1_scores_without_all))"
   ]
  },
  {
   "cell_type": "markdown",
   "id": "18ee0e75",
   "metadata": {},
   "source": [
    "---\n",
    "### ***CATBOOST PREDICT***"
   ]
  },
  {
   "cell_type": "code",
   "execution_count": 236,
   "id": "c7895cab",
   "metadata": {},
   "outputs": [],
   "source": [
    "X_test = df_test.drop(columns = ['id','is_converted'])"
   ]
  },
  {
   "cell_type": "code",
   "execution_count": 237,
   "id": "85d65df8",
   "metadata": {},
   "outputs": [],
   "source": [
    "with_all_idx = X_test.loc[(X_test['customer_idx'].isin(df_train['customer_idx'].unique())) & (X_test['lead_owner'].isin(df_train['lead_owner'].unique()))].index\n",
    "without_idx_ldx = X_test.loc[(~X_test['customer_idx'].isin(df_train['customer_idx'].unique())) & (X_test['lead_owner'].isin(df_train['lead_owner'].unique()))].index\n",
    "without_lead_ldx = X_test.loc[(X_test['customer_idx'].isin(df_train['customer_idx'].unique())) & (~X_test['lead_owner'].isin(df_train['lead_owner'].unique()))].index\n",
    "without_all_ldx = X_test.loc[(~X_test['customer_idx'].isin(df_train['customer_idx'].unique())) & (~X_test['lead_owner'].isin(df_train['lead_owner'].unique()))].index"
   ]
  },
  {
   "cell_type": "code",
   "execution_count": 238,
   "id": "a15dd441",
   "metadata": {},
   "outputs": [
    {
     "name": "stdout",
     "output_type": "stream",
     "text": [
      "둘다 겹치는 것 :  1114 \n",
      "lead_owner만 겹치는 것 :  3711 \n",
      "customer_idx만 겹치는 것 :  84 \n",
      "둘다 안 겹치는 것 :  362\n"
     ]
    }
   ],
   "source": [
    "print('둘다 겹치는 것 : ', len(with_all_idx), '\\n'\\\n",
    "     'lead_owner만 겹치는 것 : ', len(without_idx_ldx), '\\n'\\\n",
    "     'customer_idx만 겹치는 것 : ', len(without_lead_ldx), '\\n'\\\n",
    "     '둘다 안 겹치는 것 : ', len(without_all_ldx))"
   ]
  },
  {
   "cell_type": "code",
   "execution_count": 239,
   "id": "80cfdedb",
   "metadata": {},
   "outputs": [
    {
     "name": "stdout",
     "output_type": "stream",
     "text": [
      "408 / 1114\n"
     ]
    }
   ],
   "source": [
    "test_pred_with_all_idx = []\n",
    "test_with_all_idx = X_test.loc[with_all_idx]\n",
    "for i in range(len(model_cat)):\n",
    "    pred = model_cat[i].predict_proba(test_with_all_idx)[:,1]\n",
    "    test_pred_with_all_idx.append(pred)\n",
    "\n",
    "    \n",
    "test_pred_with_all_idx = np.array(test_pred_with_all_idx)\n",
    "\n",
    "sorted_probs = np.sort(test_pred_with_all_idx, axis=0)\n",
    "mean_pred_probs = np.mean(sorted_probs[3:-3], axis=0)\n",
    "\n",
    "test_pred_final_with_all_idx = mean_pred_probs >= 0.5\n",
    "    \n",
    "print(sum(test_pred_final_with_all_idx) , '/' , len(test_with_all_idx))"
   ]
  },
  {
   "cell_type": "code",
   "execution_count": 240,
   "id": "1b5009ed",
   "metadata": {},
   "outputs": [
    {
     "name": "stdout",
     "output_type": "stream",
     "text": [
      "1183 / 3711\n"
     ]
    }
   ],
   "source": [
    "test_pred_without_idx = []\n",
    "X_test_without_idx = X_test.drop(columns=['customer_idx'])\n",
    "test_without_idx = X_test_without_idx.loc[without_idx_ldx]\n",
    "for i in range(len(model_cat_without_idx)):\n",
    "    pred = model_cat_without_idx[i].predict_proba(test_without_idx)[:,1]\n",
    "    test_pred_without_idx.append(pred)\n",
    "\n",
    "    \n",
    "test_pred_without_idx = np.array(test_pred_without_idx)\n",
    "\n",
    "sorted_probs = np.sort(test_pred_without_idx, axis=0)\n",
    "mean_pred_probs = np.mean(sorted_probs[3:-3], axis=0)\n",
    "\n",
    "test_pred_final_without_idx = mean_pred_probs >= 0.5\n",
    "    \n",
    "print(sum(test_pred_final_without_idx) , '/' , len(test_without_idx))"
   ]
  },
  {
   "cell_type": "code",
   "execution_count": 241,
   "id": "3fecb05c",
   "metadata": {},
   "outputs": [
    {
     "name": "stdout",
     "output_type": "stream",
     "text": [
      "33 / 84\n"
     ]
    }
   ],
   "source": [
    "test_pred_without_lead = []\n",
    "X_test_without_lead = X_test.drop(columns=['lead_owner'])\n",
    "test_without_lead = X_test_without_lead.loc[without_lead_ldx]\n",
    "for i in range(len(model_cat_without_lead)):\n",
    "    pred = model_cat_without_lead[i].predict_proba(test_without_lead)[:,1]\n",
    "    test_pred_without_lead.append(pred)\n",
    "\n",
    "    \n",
    "test_pred_without_lead = np.array(test_pred_without_lead)\n",
    "\n",
    "sorted_probs = np.sort(test_pred_without_lead, axis=0)\n",
    "mean_pred_probs = np.mean(sorted_probs[3:-3], axis=0)\n",
    "\n",
    "test_pred_final_without_lead = mean_pred_probs >= 0.5\n",
    "    \n",
    "print(sum(test_pred_final_without_lead) , '/' , len(test_without_lead))"
   ]
  },
  {
   "cell_type": "code",
   "execution_count": 242,
   "id": "0b3637db",
   "metadata": {},
   "outputs": [
    {
     "name": "stdout",
     "output_type": "stream",
     "text": [
      "122 / 362\n"
     ]
    }
   ],
   "source": [
    "test_pred_without_all = []\n",
    "X_test_without_all = X_test.drop(columns=['lead_owner'])\n",
    "X_test_without_all = X_test_without_all.drop(columns=['customer_idx'])\n",
    "test_without_all = X_test_without_all.loc[without_all_ldx]\n",
    "for i in range(len(model_cat_without_all)):\n",
    "    pred = model_cat_without_all[i].predict_proba(test_without_all)[:,1]\n",
    "    test_pred_without_all.append(pred)\n",
    "\n",
    "    \n",
    "test_pred_without_all = np.array(test_pred_without_all)\n",
    "\n",
    "sorted_probs = np.sort(test_pred_without_all, axis=0)\n",
    "mean_pred_probs = np.mean(sorted_probs[3:-3], axis=0)\n",
    "\n",
    "test_pred_final_without_all = mean_pred_probs >= 0.5\n",
    "    \n",
    "print(sum(test_pred_final_without_all) , '/' , len(test_without_all))"
   ]
  },
  {
   "cell_type": "markdown",
   "id": "eba3dd7e",
   "metadata": {},
   "source": [
    "***"
   ]
  },
  {
   "cell_type": "code",
   "execution_count": 243,
   "id": "4a3b39de",
   "metadata": {},
   "outputs": [],
   "source": [
    "# 제출 데이터 읽어오기 (df_test는 전처리된 데이터가 저장됨)\n",
    "df_sub_cat = pd.read_csv(\"submission.csv\")"
   ]
  },
  {
   "cell_type": "code",
   "execution_count": 244,
   "id": "6a2e1636",
   "metadata": {},
   "outputs": [],
   "source": [
    "df_sub_cat.loc[with_all_idx,'is_converted'] = test_pred_final_with_all_idx\n",
    "df_sub_cat.loc[without_idx_ldx,'is_converted'] = test_pred_final_without_idx\n",
    "df_sub_cat.loc[without_lead_ldx,'is_converted'] = test_pred_final_without_lead\n",
    "df_sub_cat.loc[without_all_ldx,'is_converted'] = test_pred_final_without_all"
   ]
  },
  {
   "cell_type": "code",
   "execution_count": 245,
   "id": "793ea66e",
   "metadata": {},
   "outputs": [
    {
     "data": {
      "text/plain": [
       "is_converted\n",
       "False    3525\n",
       "True     1746\n",
       "Name: count, dtype: int64"
      ]
     },
     "execution_count": 245,
     "metadata": {},
     "output_type": "execute_result"
    }
   ],
   "source": [
    "df_sub_cat['is_converted'].value_counts()"
   ]
  },
  {
   "cell_type": "markdown",
   "id": "5a2e6d0d",
   "metadata": {},
   "source": [
    "***"
   ]
  },
  {
   "cell_type": "markdown",
   "id": "60ae33f5",
   "metadata": {},
   "source": [
    "## ***제출***"
   ]
  },
  {
   "cell_type": "code",
   "execution_count": 253,
   "id": "0266b3c7",
   "metadata": {},
   "outputs": [],
   "source": [
    "# 제출 데이터 읽어오기 (df_test는 전처리된 데이터가 저장됨)\n",
    "df_sub = pd.read_csv(\"submission.csv\")"
   ]
  },
  {
   "cell_type": "code",
   "execution_count": 254,
   "id": "67951d36",
   "metadata": {},
   "outputs": [],
   "source": [
    "df_sub['is_converted'] = df_sub_cat['is_converted'].copy()"
   ]
  },
  {
   "cell_type": "code",
   "execution_count": 255,
   "id": "9f5c15b4",
   "metadata": {},
   "outputs": [
    {
     "data": {
      "text/plain": [
       "is_converted\n",
       "False    3525\n",
       "True     1746\n",
       "Name: count, dtype: int64"
      ]
     },
     "execution_count": 255,
     "metadata": {},
     "output_type": "execute_result"
    }
   ],
   "source": [
    "df_sub['is_converted'].value_counts()"
   ]
  },
  {
   "cell_type": "code",
   "execution_count": 256,
   "id": "d9b8b99f",
   "metadata": {},
   "outputs": [],
   "source": [
    "df_sub.to_csv(\"submission.csv\", index=False)"
   ]
  },
  {
   "cell_type": "markdown",
   "id": "c650fd0e",
   "metadata": {},
   "source": [
    "  "
   ]
  },
  {
   "cell_type": "markdown",
   "id": "f3708702",
   "metadata": {},
   "source": [
    "***"
   ]
  }
 ],
 "metadata": {
  "kernelspec": {
   "display_name": "Python 3 (ipykernel)",
   "language": "python",
   "name": "python3"
  },
  "language_info": {
   "codemirror_mode": {
    "name": "ipython",
    "version": 3
   },
   "file_extension": ".py",
   "mimetype": "text/x-python",
   "name": "python",
   "nbconvert_exporter": "python",
   "pygments_lexer": "ipython3",
   "version": "3.9.16"
  }
 },
 "nbformat": 4,
 "nbformat_minor": 5
}
